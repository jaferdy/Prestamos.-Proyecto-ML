{
 "cells": [
  {
   "attachments": {},
   "cell_type": "markdown",
   "metadata": {},
   "source": [
    "### Información sobre las columnas del DataFrame original"
   ]
  },
  {
   "attachments": {},
   "cell_type": "markdown",
   "metadata": {},
   "source": [
    "<span style=\"color: yellow;\">'Loan Amount'</span> se refiere al monto del préstamo, es decir, la cantidad de dinero que se solicita o se otorga en un préstamo.\n",
    "\n",
    "<span style=\"color: yellow;\">'Funded Amount'</span> se refiere al monto financiado, es decir, la cantidad de dinero que ha sido efectivamente proporcionada al prestatario por parte del prestamista.\n",
    "\n",
    "<span style=\"color: yellow;\">'Funded Amount Investor'</span> se refiere al monto financiado por el inversionista. En el contexto de préstamos, a veces hay inversores o prestamistas individuales que financian una parte del préstamo en lugar de que todo el monto sea proporcionado por una entidad bancaria. En este caso, 'Funded Amount Investor' se refiere a la cantidad específica financiada por un inversionista."
   ]
  },
  {
   "attachments": {},
   "cell_type": "markdown",
   "metadata": {},
   "source": [
    "<span style=\"color: yellow;\">'Term'</span> es el plazo del préstamo."
   ]
  },
  {
   "attachments": {},
   "cell_type": "markdown",
   "metadata": {},
   "source": [
    "<span style=\"color: yellow;\">\"Batch Enrolled\"</span> se refiere a un proceso en el ámbito bancario relacionado con la inscripción o inclusión de un conjunto de préstamos en un lote o grupo para su procesamiento conjunto.\n",
    "\n",
    "Cuando se manejan grandes volúmenes de préstamos, es común agruparlos en lotes para facilitar su administración y ejecutar operaciones o tareas específicas en ellos de manera eficiente. El término \"Batch Enrolled\" indica que los préstamos han sido incluidos o inscritos en un lote para su posterior procesamiento o seguimiento.\n",
    "\n",
    "Este proceso de agrupamiento en lotes puede tener diferentes finalidades, como la aplicación de ciertas políticas o condiciones a todos los préstamos en el lote, realizar análisis o evaluaciones conjuntas, llevar a cabo actividades de cobranza o seguimiento, entre otros."
   ]
  },
  {
   "attachments": {},
   "cell_type": "markdown",
   "metadata": {},
   "source": [
    "<span style=\"color: yellow;\">\"Interest Rate\"</span> es la tasa de interés del préstamo. Es común que las instituciones financieras ajusten la tasa de interés en función de la solvencia crediticia del prestatario, la duración del préstamo, las condiciones del mercado y otros factores relevantes. La tasa de interés es uno de los elementos clave a considerar al evaluar la viabilidad y la conveniencia de un préstamo."
   ]
  },
  {
   "attachments": {},
   "cell_type": "markdown",
   "metadata": {},
   "source": [
    "<span style=\"color: yellow;\">**\"Inquiries - six months\"**</span> se refiere a la cantidad de consultas o investigaciones que se han realizado sobre la información crediticia de una persona en los últimos seis meses. En el contexto del mundo bancario y los préstamos, las consultas se refieren a las veces que se ha solicitado información crediticia de un individuo a las agencias de crédito, como parte del proceso de evaluación para otorgar un préstamo.\n",
    "\n",
    "Cuando una persona solicita un préstamo o una nueva línea de crédito, el prestamista generalmente realiza una consulta a las agencias de crédito para evaluar el historial crediticio y determinar la solvencia del solicitante. Estas consultas se registran en el informe crediticio y pueden tener un impacto en la puntuación crediticia y la evaluación de riesgo.\n",
    "\n",
    "El término \"Inquiries - six months\" indica la cantidad de veces que se ha realizado esta consulta en los últimos seis meses. Es un factor que los prestamistas pueden tener en cuenta al evaluar la solicitud de préstamo, ya que un gran número de consultas en un período corto de tiempo puede indicar un mayor riesgo o la posibilidad de solicitar múltiples préstamos simultáneamente.\n",
    "\n",
    "En resumen, \"Inquiries - six months\" se refiere al número de consultas o investigaciones de la información crediticia de una persona en los últimos seis meses, y es relevante en el proceso de evaluación para otorgar préstamos y determinar la solvencia crediticia."
   ]
  },
  {
   "attachments": {},
   "cell_type": "markdown",
   "metadata": {},
   "source": [
    "<span style=\"color: yellow;\">Verification Status:</span> Los términos \"Source Verified\", \"Verified\" y \"Not Verified\" están relacionados con la verificación de información en el contexto de préstamos o transacciones financieras. \n",
    "\n",
    "<span style=\"color: yellow;\">\"Source Verified\"</span> significa que la información ha sido verificada directamente de la fuente, lo que implica un mayor grado de confianza en su autenticidad y precisión. \n",
    "\n",
    "<span style=\"color: yellow;\">\"Verified\"</span> indica que la información ha sido verificada, pero no se especifica si fue obtenida directamente de la fuente o a través de otros medios. \n",
    "\n",
    "<span style=\"color: yellow;\">\"Not Verified\"</span> significa que la información no ha sido verificada o que no se ha confirmado su exactitud.\n"
   ]
  },
  {
   "attachments": {},
   "cell_type": "markdown",
   "metadata": {},
   "source": [
    "<span style=\"color: yellow;\">\"Initial List Status\"</span> se refiere al estado único de listado inicial del préstamo. Los valores asociados con este campo son \"W\" (Waiting) y \"F\" (Forwarded).\n",
    "\n",
    "<span style=\"color: yellow;\">\"W\" (Waiting):</span> Indica que el préstamo se encuentra en espera y no ha sido activado ni procesado completamente. Esto significa que el préstamo ha sido presentado pero aún no está disponible para los inversionistas o prestamistas para financiamiento. Puede estar pendiente de verificación, revisión o aprobación antes de pasar a la siguiente etapa.\n",
    "\n",
    "<span style=\"color: yellow;\">\"F\" (Forwarded):</span> Indica que el préstamo ha sido enviado o transmitido a los inversionistas o prestamistas para su revisión y posible financiamiento. En este estado, el préstamo está disponible para que los inversionistas consideren invertir en él y puede estar en proceso de recibir ofertas de financiamiento."
   ]
  }
 ],
 "metadata": {
  "kernelspec": {
   "display_name": "Python 3",
   "language": "python",
   "name": "python3"
  },
  "language_info": {
   "name": "python",
   "version": "3.10.11"
  },
  "orig_nbformat": 4
 },
 "nbformat": 4,
 "nbformat_minor": 2
}
