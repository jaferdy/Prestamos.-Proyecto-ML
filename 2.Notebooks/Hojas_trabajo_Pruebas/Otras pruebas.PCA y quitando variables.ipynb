{
 "cells": [
  {
   "cell_type": "code",
   "execution_count": 18,
   "metadata": {},
   "outputs": [],
   "source": [
    "import pandas as pd\n",
    "import numpy as np\n",
    "import seaborn as sns\n",
    "from matplotlib import pyplot as plt\n",
    "from sklearn.preprocessing import StandardScaler\n",
    "from imblearn.under_sampling import RandomUnderSampler\n",
    "from imblearn.over_sampling import RandomOverSampler,SMOTE\n",
    "from sklearn.model_selection import train_test_split,GridSearchCV\n",
    "from sklearn.pipeline import Pipeline\n",
    "from sklearn.ensemble import RandomForestClassifier, GradientBoostingClassifier,AdaBoostClassifier,BaggingClassifier,GradientBoostingClassifier,RandomForestRegressor,GradientBoostingRegressor\n",
    "from sklearn.tree import DecisionTreeClassifier,DecisionTreeRegressor\n",
    "from sklearn.feature_selection import SelectKBest\n",
    "from sklearn.neighbors import KNeighborsClassifier,KNeighborsRegressor\n",
    "from sklearn.utils import class_weight\n",
    "from sklearn.metrics import accuracy_score, f1_score, precision_score, recall_score,\\\n",
    "                            roc_auc_score, roc_curve, precision_recall_curve, confusion_matrix,log_loss\n",
    "from sklearn.svm import SVC\n",
    "from sklearn.linear_model import LogisticRegression\n",
    "import pickle\n",
    "import yaml"
   ]
  },
  {
   "cell_type": "code",
   "execution_count": 19,
   "metadata": {},
   "outputs": [
    {
     "data": {
      "text/html": [
       "<div>\n",
       "<style scoped>\n",
       "    .dataframe tbody tr th:only-of-type {\n",
       "        vertical-align: middle;\n",
       "    }\n",
       "\n",
       "    .dataframe tbody tr th {\n",
       "        vertical-align: top;\n",
       "    }\n",
       "\n",
       "    .dataframe thead th {\n",
       "        text-align: right;\n",
       "    }\n",
       "</style>\n",
       "<table border=\"1\" class=\"dataframe\">\n",
       "  <thead>\n",
       "    <tr style=\"text-align: right;\">\n",
       "      <th></th>\n",
       "      <th>Loan Amount</th>\n",
       "      <th>Funded Amount</th>\n",
       "      <th>Funded Amount Investor</th>\n",
       "      <th>Term</th>\n",
       "      <th>Batch Enrolled</th>\n",
       "      <th>Interest Rate</th>\n",
       "      <th>Grade</th>\n",
       "      <th>Sub Grade</th>\n",
       "      <th>Home Ownership</th>\n",
       "      <th>Employment Duration</th>\n",
       "      <th>...</th>\n",
       "      <th>Eficacia pagos respecto financiación inicial</th>\n",
       "      <th>Proporción Morosidad según financiación</th>\n",
       "      <th>Proporción Morosidad según Batch Enrolled</th>\n",
       "      <th>Grado_interes</th>\n",
       "      <th>Grado_interes_ordered</th>\n",
       "      <th>Grade_ordered</th>\n",
       "      <th>SubGrade_ordered</th>\n",
       "      <th>verification_status_ordered</th>\n",
       "      <th>initial_list_status_ordered</th>\n",
       "      <th>application_type_ordered</th>\n",
       "    </tr>\n",
       "    <tr>\n",
       "      <th>ID</th>\n",
       "      <th></th>\n",
       "      <th></th>\n",
       "      <th></th>\n",
       "      <th></th>\n",
       "      <th></th>\n",
       "      <th></th>\n",
       "      <th></th>\n",
       "      <th></th>\n",
       "      <th></th>\n",
       "      <th></th>\n",
       "      <th></th>\n",
       "      <th></th>\n",
       "      <th></th>\n",
       "      <th></th>\n",
       "      <th></th>\n",
       "      <th></th>\n",
       "      <th></th>\n",
       "      <th></th>\n",
       "      <th></th>\n",
       "      <th></th>\n",
       "      <th></th>\n",
       "    </tr>\n",
       "  </thead>\n",
       "  <tbody>\n",
       "    <tr>\n",
       "      <th>65087372</th>\n",
       "      <td>10000</td>\n",
       "      <td>32236</td>\n",
       "      <td>12329.36286</td>\n",
       "      <td>59</td>\n",
       "      <td>BAT2522922</td>\n",
       "      <td>11.135007</td>\n",
       "      <td>B</td>\n",
       "      <td>C4</td>\n",
       "      <td>MORTGAGE</td>\n",
       "      <td>20.117115</td>\n",
       "      <td>...</td>\n",
       "      <td>0.090884</td>\n",
       "      <td>0.081828</td>\n",
       "      <td>0.095068</td>\n",
       "      <td>Interes medio</td>\n",
       "      <td>0.092253</td>\n",
       "      <td>0.087237</td>\n",
       "      <td>0.093538</td>\n",
       "      <td>0.088663</td>\n",
       "      <td>0.088901</td>\n",
       "      <td>0.092516</td>\n",
       "    </tr>\n",
       "    <tr>\n",
       "      <th>1450153</th>\n",
       "      <td>3609</td>\n",
       "      <td>11940</td>\n",
       "      <td>12191.99692</td>\n",
       "      <td>59</td>\n",
       "      <td>BAT1586599</td>\n",
       "      <td>12.237563</td>\n",
       "      <td>C</td>\n",
       "      <td>D3</td>\n",
       "      <td>RENT</td>\n",
       "      <td>4.544139</td>\n",
       "      <td>...</td>\n",
       "      <td>0.064724</td>\n",
       "      <td>0.090536</td>\n",
       "      <td>0.105029</td>\n",
       "      <td>Interes medio</td>\n",
       "      <td>0.092253</td>\n",
       "      <td>0.093896</td>\n",
       "      <td>0.089912</td>\n",
       "      <td>0.095694</td>\n",
       "      <td>0.096714</td>\n",
       "      <td>0.092516</td>\n",
       "    </tr>\n",
       "    <tr>\n",
       "      <th>1969101</th>\n",
       "      <td>28276</td>\n",
       "      <td>9311</td>\n",
       "      <td>21603.22455</td>\n",
       "      <td>59</td>\n",
       "      <td>BAT2136391</td>\n",
       "      <td>12.545884</td>\n",
       "      <td>F</td>\n",
       "      <td>D4</td>\n",
       "      <td>MORTGAGE</td>\n",
       "      <td>10.438819</td>\n",
       "      <td>...</td>\n",
       "      <td>0.094738</td>\n",
       "      <td>0.081828</td>\n",
       "      <td>0.092179</td>\n",
       "      <td>Interes medio</td>\n",
       "      <td>0.092253</td>\n",
       "      <td>0.103740</td>\n",
       "      <td>0.090244</td>\n",
       "      <td>0.088663</td>\n",
       "      <td>0.088901</td>\n",
       "      <td>0.092516</td>\n",
       "    </tr>\n",
       "    <tr>\n",
       "      <th>6651430</th>\n",
       "      <td>11170</td>\n",
       "      <td>6954</td>\n",
       "      <td>17877.15585</td>\n",
       "      <td>59</td>\n",
       "      <td>BAT2428731</td>\n",
       "      <td>16.731201</td>\n",
       "      <td>C</td>\n",
       "      <td>C3</td>\n",
       "      <td>MORTGAGE</td>\n",
       "      <td>12.353020</td>\n",
       "      <td>...</td>\n",
       "      <td>0.041446</td>\n",
       "      <td>0.090536</td>\n",
       "      <td>0.092275</td>\n",
       "      <td>Interes alto</td>\n",
       "      <td>0.093069</td>\n",
       "      <td>0.093896</td>\n",
       "      <td>0.094201</td>\n",
       "      <td>0.088663</td>\n",
       "      <td>0.088901</td>\n",
       "      <td>0.092516</td>\n",
       "    </tr>\n",
       "    <tr>\n",
       "      <th>14354669</th>\n",
       "      <td>16890</td>\n",
       "      <td>13226</td>\n",
       "      <td>13539.92667</td>\n",
       "      <td>59</td>\n",
       "      <td>BAT5341619</td>\n",
       "      <td>15.008300</td>\n",
       "      <td>C</td>\n",
       "      <td>D4</td>\n",
       "      <td>MORTGAGE</td>\n",
       "      <td>5.046181</td>\n",
       "      <td>...</td>\n",
       "      <td>0.011231</td>\n",
       "      <td>0.093986</td>\n",
       "      <td>0.087944</td>\n",
       "      <td>Interes alto</td>\n",
       "      <td>0.093069</td>\n",
       "      <td>0.093896</td>\n",
       "      <td>0.090244</td>\n",
       "      <td>0.088663</td>\n",
       "      <td>0.088901</td>\n",
       "      <td>0.092516</td>\n",
       "    </tr>\n",
       "    <tr>\n",
       "      <th>...</th>\n",
       "      <td>...</td>\n",
       "      <td>...</td>\n",
       "      <td>...</td>\n",
       "      <td>...</td>\n",
       "      <td>...</td>\n",
       "      <td>...</td>\n",
       "      <td>...</td>\n",
       "      <td>...</td>\n",
       "      <td>...</td>\n",
       "      <td>...</td>\n",
       "      <td>...</td>\n",
       "      <td>...</td>\n",
       "      <td>...</td>\n",
       "      <td>...</td>\n",
       "      <td>...</td>\n",
       "      <td>...</td>\n",
       "      <td>...</td>\n",
       "      <td>...</td>\n",
       "      <td>...</td>\n",
       "      <td>...</td>\n",
       "      <td>...</td>\n",
       "    </tr>\n",
       "    <tr>\n",
       "      <th>16164945</th>\n",
       "      <td>13601</td>\n",
       "      <td>6848</td>\n",
       "      <td>13175.28583</td>\n",
       "      <td>59</td>\n",
       "      <td>BAT3193689</td>\n",
       "      <td>9.408858</td>\n",
       "      <td>C</td>\n",
       "      <td>A4</td>\n",
       "      <td>MORTGAGE</td>\n",
       "      <td>9.578046</td>\n",
       "      <td>...</td>\n",
       "      <td>0.288985</td>\n",
       "      <td>0.093986</td>\n",
       "      <td>0.087446</td>\n",
       "      <td>Interes bajo</td>\n",
       "      <td>0.092216</td>\n",
       "      <td>0.093896</td>\n",
       "      <td>0.091431</td>\n",
       "      <td>0.088663</td>\n",
       "      <td>0.088901</td>\n",
       "      <td>0.092516</td>\n",
       "    </tr>\n",
       "    <tr>\n",
       "      <th>35182714</th>\n",
       "      <td>8323</td>\n",
       "      <td>11046</td>\n",
       "      <td>15637.46301</td>\n",
       "      <td>59</td>\n",
       "      <td>BAT1780517</td>\n",
       "      <td>9.972104</td>\n",
       "      <td>C</td>\n",
       "      <td>B3</td>\n",
       "      <td>RENT</td>\n",
       "      <td>7.471039</td>\n",
       "      <td>...</td>\n",
       "      <td>0.280720</td>\n",
       "      <td>0.093986</td>\n",
       "      <td>0.099459</td>\n",
       "      <td>Interes bajo</td>\n",
       "      <td>0.092216</td>\n",
       "      <td>0.093896</td>\n",
       "      <td>0.082521</td>\n",
       "      <td>0.095694</td>\n",
       "      <td>0.088901</td>\n",
       "      <td>0.092516</td>\n",
       "    </tr>\n",
       "    <tr>\n",
       "      <th>16435904</th>\n",
       "      <td>15897</td>\n",
       "      <td>32921</td>\n",
       "      <td>12329.45775</td>\n",
       "      <td>59</td>\n",
       "      <td>BAT1761981</td>\n",
       "      <td>19.650943</td>\n",
       "      <td>A</td>\n",
       "      <td>F3</td>\n",
       "      <td>MORTGAGE</td>\n",
       "      <td>3.971477</td>\n",
       "      <td>...</td>\n",
       "      <td>0.081772</td>\n",
       "      <td>0.153846</td>\n",
       "      <td>0.104027</td>\n",
       "      <td>Interes alto</td>\n",
       "      <td>0.093069</td>\n",
       "      <td>0.091248</td>\n",
       "      <td>0.098616</td>\n",
       "      <td>0.088663</td>\n",
       "      <td>0.088901</td>\n",
       "      <td>0.092516</td>\n",
       "    </tr>\n",
       "    <tr>\n",
       "      <th>5300325</th>\n",
       "      <td>16567</td>\n",
       "      <td>4975</td>\n",
       "      <td>21353.68465</td>\n",
       "      <td>59</td>\n",
       "      <td>BAT2333412</td>\n",
       "      <td>13.169095</td>\n",
       "      <td>D</td>\n",
       "      <td>E3</td>\n",
       "      <td>OWN</td>\n",
       "      <td>11.058503</td>\n",
       "      <td>...</td>\n",
       "      <td>0.735560</td>\n",
       "      <td>0.090536</td>\n",
       "      <td>0.085634</td>\n",
       "      <td>Interes alto</td>\n",
       "      <td>0.093069</td>\n",
       "      <td>0.096380</td>\n",
       "      <td>0.089326</td>\n",
       "      <td>0.101551</td>\n",
       "      <td>0.096714</td>\n",
       "      <td>0.092516</td>\n",
       "    </tr>\n",
       "    <tr>\n",
       "      <th>65443173</th>\n",
       "      <td>15353</td>\n",
       "      <td>29875</td>\n",
       "      <td>14207.44860</td>\n",
       "      <td>59</td>\n",
       "      <td>BAT1930365</td>\n",
       "      <td>16.034631</td>\n",
       "      <td>B</td>\n",
       "      <td>D1</td>\n",
       "      <td>MORTGAGE</td>\n",
       "      <td>11.992146</td>\n",
       "      <td>...</td>\n",
       "      <td>0.044327</td>\n",
       "      <td>0.090536</td>\n",
       "      <td>0.094902</td>\n",
       "      <td>Interes alto</td>\n",
       "      <td>0.093069</td>\n",
       "      <td>0.087237</td>\n",
       "      <td>0.093523</td>\n",
       "      <td>0.088663</td>\n",
       "      <td>0.096714</td>\n",
       "      <td>0.092516</td>\n",
       "    </tr>\n",
       "  </tbody>\n",
       "</table>\n",
       "<p>67463 rows × 48 columns</p>\n",
       "</div>"
      ],
      "text/plain": [
       "          Loan Amount  Funded Amount  Funded Amount Investor  Term  \\\n",
       "ID                                                                   \n",
       "65087372        10000          32236             12329.36286    59   \n",
       "1450153          3609          11940             12191.99692    59   \n",
       "1969101         28276           9311             21603.22455    59   \n",
       "6651430         11170           6954             17877.15585    59   \n",
       "14354669        16890          13226             13539.92667    59   \n",
       "...               ...            ...                     ...   ...   \n",
       "16164945        13601           6848             13175.28583    59   \n",
       "35182714         8323          11046             15637.46301    59   \n",
       "16435904        15897          32921             12329.45775    59   \n",
       "5300325         16567           4975             21353.68465    59   \n",
       "65443173        15353          29875             14207.44860    59   \n",
       "\n",
       "         Batch Enrolled  Interest Rate Grade Sub Grade Home Ownership  \\\n",
       "ID                                                                      \n",
       "65087372     BAT2522922      11.135007     B        C4       MORTGAGE   \n",
       "1450153      BAT1586599      12.237563     C        D3           RENT   \n",
       "1969101      BAT2136391      12.545884     F        D4       MORTGAGE   \n",
       "6651430      BAT2428731      16.731201     C        C3       MORTGAGE   \n",
       "14354669     BAT5341619      15.008300     C        D4       MORTGAGE   \n",
       "...                 ...            ...   ...       ...            ...   \n",
       "16164945     BAT3193689       9.408858     C        A4       MORTGAGE   \n",
       "35182714     BAT1780517       9.972104     C        B3           RENT   \n",
       "16435904     BAT1761981      19.650943     A        F3       MORTGAGE   \n",
       "5300325      BAT2333412      13.169095     D        E3            OWN   \n",
       "65443173     BAT1930365      16.034631     B        D1       MORTGAGE   \n",
       "\n",
       "          Employment Duration  ...  \\\n",
       "ID                             ...   \n",
       "65087372            20.117115  ...   \n",
       "1450153              4.544139  ...   \n",
       "1969101             10.438819  ...   \n",
       "6651430             12.353020  ...   \n",
       "14354669             5.046181  ...   \n",
       "...                       ...  ...   \n",
       "16164945             9.578046  ...   \n",
       "35182714             7.471039  ...   \n",
       "16435904             3.971477  ...   \n",
       "5300325             11.058503  ...   \n",
       "65443173            11.992146  ...   \n",
       "\n",
       "         Eficacia pagos respecto financiación inicial  \\\n",
       "ID                                                      \n",
       "65087372                                     0.090884   \n",
       "1450153                                      0.064724   \n",
       "1969101                                      0.094738   \n",
       "6651430                                      0.041446   \n",
       "14354669                                     0.011231   \n",
       "...                                               ...   \n",
       "16164945                                     0.288985   \n",
       "35182714                                     0.280720   \n",
       "16435904                                     0.081772   \n",
       "5300325                                      0.735560   \n",
       "65443173                                     0.044327   \n",
       "\n",
       "         Proporción Morosidad según financiación  \\\n",
       "ID                                                 \n",
       "65087372                                0.081828   \n",
       "1450153                                 0.090536   \n",
       "1969101                                 0.081828   \n",
       "6651430                                 0.090536   \n",
       "14354669                                0.093986   \n",
       "...                                          ...   \n",
       "16164945                                0.093986   \n",
       "35182714                                0.093986   \n",
       "16435904                                0.153846   \n",
       "5300325                                 0.090536   \n",
       "65443173                                0.090536   \n",
       "\n",
       "          Proporción Morosidad según Batch Enrolled  Grado_interes  \\\n",
       "ID                                                                   \n",
       "65087372                                   0.095068  Interes medio   \n",
       "1450153                                    0.105029  Interes medio   \n",
       "1969101                                    0.092179  Interes medio   \n",
       "6651430                                    0.092275   Interes alto   \n",
       "14354669                                   0.087944   Interes alto   \n",
       "...                                             ...            ...   \n",
       "16164945                                   0.087446   Interes bajo   \n",
       "35182714                                   0.099459   Interes bajo   \n",
       "16435904                                   0.104027   Interes alto   \n",
       "5300325                                    0.085634   Interes alto   \n",
       "65443173                                   0.094902   Interes alto   \n",
       "\n",
       "          Grado_interes_ordered  Grade_ordered  SubGrade_ordered  \\\n",
       "ID                                                                 \n",
       "65087372               0.092253       0.087237          0.093538   \n",
       "1450153                0.092253       0.093896          0.089912   \n",
       "1969101                0.092253       0.103740          0.090244   \n",
       "6651430                0.093069       0.093896          0.094201   \n",
       "14354669               0.093069       0.093896          0.090244   \n",
       "...                         ...            ...               ...   \n",
       "16164945               0.092216       0.093896          0.091431   \n",
       "35182714               0.092216       0.093896          0.082521   \n",
       "16435904               0.093069       0.091248          0.098616   \n",
       "5300325                0.093069       0.096380          0.089326   \n",
       "65443173               0.093069       0.087237          0.093523   \n",
       "\n",
       "          verification_status_ordered  initial_list_status_ordered  \\\n",
       "ID                                                                   \n",
       "65087372                     0.088663                     0.088901   \n",
       "1450153                      0.095694                     0.096714   \n",
       "1969101                      0.088663                     0.088901   \n",
       "6651430                      0.088663                     0.088901   \n",
       "14354669                     0.088663                     0.088901   \n",
       "...                               ...                          ...   \n",
       "16164945                     0.088663                     0.088901   \n",
       "35182714                     0.095694                     0.088901   \n",
       "16435904                     0.088663                     0.088901   \n",
       "5300325                      0.101551                     0.096714   \n",
       "65443173                     0.088663                     0.096714   \n",
       "\n",
       "          application_type_ordered  \n",
       "ID                                  \n",
       "65087372                  0.092516  \n",
       "1450153                   0.092516  \n",
       "1969101                   0.092516  \n",
       "6651430                   0.092516  \n",
       "14354669                  0.092516  \n",
       "...                            ...  \n",
       "16164945                  0.092516  \n",
       "35182714                  0.092516  \n",
       "16435904                  0.092516  \n",
       "5300325                   0.092516  \n",
       "65443173                  0.092516  \n",
       "\n",
       "[67463 rows x 48 columns]"
      ]
     },
     "execution_count": 19,
     "metadata": {},
     "output_type": "execute_result"
    }
   ],
   "source": [
    "df = pd.read_csv(\"../1.Data/2.Processed/processed2.csv\",index_col=0)\n",
    "df"
   ]
  },
  {
   "cell_type": "code",
   "execution_count": 20,
   "metadata": {},
   "outputs": [
    {
     "name": "stdout",
     "output_type": "stream",
     "text": [
      "<class 'pandas.core.frame.DataFrame'>\n",
      "Int64Index: 67463 entries, 65087372 to 65443173\n",
      "Data columns (total 48 columns):\n",
      " #   Column                                            Non-Null Count  Dtype  \n",
      "---  ------                                            --------------  -----  \n",
      " 0   Loan Amount                                       67463 non-null  int64  \n",
      " 1   Funded Amount                                     67463 non-null  int64  \n",
      " 2   Funded Amount Investor                            67463 non-null  float64\n",
      " 3   Term                                              67463 non-null  int64  \n",
      " 4   Batch Enrolled                                    67463 non-null  object \n",
      " 5   Interest Rate                                     67463 non-null  float64\n",
      " 6   Grade                                             67463 non-null  object \n",
      " 7   Sub Grade                                         67463 non-null  object \n",
      " 8   Home Ownership                                    67463 non-null  object \n",
      " 9   Employment Duration                               67463 non-null  float64\n",
      " 10  Verification Status                               67463 non-null  object \n",
      " 11  Loan Title                                        67463 non-null  object \n",
      " 12  Debit to Income                                   67463 non-null  float64\n",
      " 13  Delinquency - two years                           67463 non-null  int64  \n",
      " 14  Inquires - six months                             67463 non-null  int64  \n",
      " 15  Open Account                                      67463 non-null  int64  \n",
      " 16  Public Record                                     67463 non-null  int64  \n",
      " 17  Revolving Balance                                 67463 non-null  int64  \n",
      " 18  Revolving Utilities                               67463 non-null  float64\n",
      " 19  Total Accounts                                    67463 non-null  int64  \n",
      " 20  Initial List Status                               67463 non-null  object \n",
      " 21  Total Received Interest                           67463 non-null  float64\n",
      " 22  Total Received Late Fee                           67463 non-null  float64\n",
      " 23  Recoveries                                        67463 non-null  float64\n",
      " 24  Collection Recovery Fee                           67463 non-null  float64\n",
      " 25  Collection 12 months Medical                      67463 non-null  int64  \n",
      " 26  Application Type                                  67463 non-null  object \n",
      " 27  Last week Pay                                     67463 non-null  int64  \n",
      " 28  Total Collection Amount                           67463 non-null  int64  \n",
      " 29  Total Current Balance                             67463 non-null  int64  \n",
      " 30  Total Revolving Credit Limit                      67463 non-null  int64  \n",
      " 31  Loan Status                                       67463 non-null  int64  \n",
      " 32  Funded Amount/Interest Rate                       67463 non-null  float64\n",
      " 33  Funded Amount / Debit to Income                   67463 non-null  float64\n",
      " 34  Inquires - six months / Open Account              67463 non-null  float64\n",
      " 35  Revolving Balance / Total Revolving Credit Limit  67463 non-null  float64\n",
      " 36  Delinquency - two years / Total Accounts          67463 non-null  float64\n",
      " 37  cuentas públicas prestatario                      67463 non-null  int64  \n",
      " 38  Eficacia pagos respecto financiación inicial      67463 non-null  float64\n",
      " 39  Proporción Morosidad según financiación           67463 non-null  float64\n",
      " 40  Proporción Morosidad según Batch Enrolled         67463 non-null  float64\n",
      " 41  Grado_interes                                     67463 non-null  object \n",
      " 42  Grado_interes_ordered                             67463 non-null  float64\n",
      " 43  Grade_ordered                                     67463 non-null  float64\n",
      " 44  SubGrade_ordered                                  67463 non-null  float64\n",
      " 45  verification_status_ordered                       67463 non-null  float64\n",
      " 46  initial_list_status_ordered                       67463 non-null  float64\n",
      " 47  application_type_ordered                          67463 non-null  float64\n",
      "dtypes: float64(23), int64(16), object(9)\n",
      "memory usage: 25.2+ MB\n"
     ]
    }
   ],
   "source": [
    "df.info()"
   ]
  },
  {
   "cell_type": "code",
   "execution_count": 21,
   "metadata": {},
   "outputs": [
    {
     "data": {
      "text/html": [
       "<div>\n",
       "<style scoped>\n",
       "    .dataframe tbody tr th:only-of-type {\n",
       "        vertical-align: middle;\n",
       "    }\n",
       "\n",
       "    .dataframe tbody tr th {\n",
       "        vertical-align: top;\n",
       "    }\n",
       "\n",
       "    .dataframe thead th {\n",
       "        text-align: right;\n",
       "    }\n",
       "</style>\n",
       "<table border=\"1\" class=\"dataframe\">\n",
       "  <thead>\n",
       "    <tr style=\"text-align: right;\">\n",
       "      <th></th>\n",
       "      <th>Loan Amount</th>\n",
       "      <th>Funded Amount</th>\n",
       "      <th>Funded Amount Investor</th>\n",
       "      <th>Term</th>\n",
       "      <th>Interest Rate</th>\n",
       "      <th>Employment Duration</th>\n",
       "      <th>Debit to Income</th>\n",
       "      <th>Delinquency - two years</th>\n",
       "      <th>Inquires - six months</th>\n",
       "      <th>Open Account</th>\n",
       "    </tr>\n",
       "  </thead>\n",
       "  <tbody>\n",
       "    <tr>\n",
       "      <th>count</th>\n",
       "      <td>67463.000000</td>\n",
       "      <td>67463.000000</td>\n",
       "      <td>67463.000000</td>\n",
       "      <td>67463.000000</td>\n",
       "      <td>67463.000000</td>\n",
       "      <td>67463.000000</td>\n",
       "      <td>67463.000000</td>\n",
       "      <td>67463.000000</td>\n",
       "      <td>67463.000000</td>\n",
       "      <td>67463.000000</td>\n",
       "    </tr>\n",
       "    <tr>\n",
       "      <th>mean</th>\n",
       "      <td>16848.902776</td>\n",
       "      <td>15770.599114</td>\n",
       "      <td>14621.799323</td>\n",
       "      <td>58.173814</td>\n",
       "      <td>11.846258</td>\n",
       "      <td>9.187942</td>\n",
       "      <td>23.299241</td>\n",
       "      <td>0.327127</td>\n",
       "      <td>0.145754</td>\n",
       "      <td>14.266561</td>\n",
       "    </tr>\n",
       "    <tr>\n",
       "      <th>std</th>\n",
       "      <td>8367.865726</td>\n",
       "      <td>8150.992662</td>\n",
       "      <td>6785.345170</td>\n",
       "      <td>3.327441</td>\n",
       "      <td>3.718629</td>\n",
       "      <td>5.136792</td>\n",
       "      <td>8.451824</td>\n",
       "      <td>0.800888</td>\n",
       "      <td>0.473291</td>\n",
       "      <td>6.225060</td>\n",
       "    </tr>\n",
       "    <tr>\n",
       "      <th>min</th>\n",
       "      <td>1014.000000</td>\n",
       "      <td>1014.000000</td>\n",
       "      <td>1114.590204</td>\n",
       "      <td>36.000000</td>\n",
       "      <td>5.320006</td>\n",
       "      <td>1.662507</td>\n",
       "      <td>0.675299</td>\n",
       "      <td>0.000000</td>\n",
       "      <td>0.000000</td>\n",
       "      <td>2.000000</td>\n",
       "    </tr>\n",
       "    <tr>\n",
       "      <th>25%</th>\n",
       "      <td>10012.000000</td>\n",
       "      <td>9266.500000</td>\n",
       "      <td>9831.684984</td>\n",
       "      <td>58.000000</td>\n",
       "      <td>9.297147</td>\n",
       "      <td>5.896628</td>\n",
       "      <td>16.756416</td>\n",
       "      <td>0.000000</td>\n",
       "      <td>0.000000</td>\n",
       "      <td>10.000000</td>\n",
       "    </tr>\n",
       "    <tr>\n",
       "      <th>50%</th>\n",
       "      <td>16073.000000</td>\n",
       "      <td>13042.000000</td>\n",
       "      <td>12793.682170</td>\n",
       "      <td>59.000000</td>\n",
       "      <td>11.377696</td>\n",
       "      <td>7.909632</td>\n",
       "      <td>22.656658</td>\n",
       "      <td>0.000000</td>\n",
       "      <td>0.000000</td>\n",
       "      <td>13.000000</td>\n",
       "    </tr>\n",
       "    <tr>\n",
       "      <th>75%</th>\n",
       "      <td>22106.000000</td>\n",
       "      <td>21793.000000</td>\n",
       "      <td>17807.594120</td>\n",
       "      <td>59.000000</td>\n",
       "      <td>14.193533</td>\n",
       "      <td>10.794356</td>\n",
       "      <td>30.048400</td>\n",
       "      <td>0.000000</td>\n",
       "      <td>0.000000</td>\n",
       "      <td>16.000000</td>\n",
       "    </tr>\n",
       "    <tr>\n",
       "      <th>max</th>\n",
       "      <td>35000.000000</td>\n",
       "      <td>34999.000000</td>\n",
       "      <td>34999.746430</td>\n",
       "      <td>59.000000</td>\n",
       "      <td>27.182348</td>\n",
       "      <td>46.379368</td>\n",
       "      <td>39.629862</td>\n",
       "      <td>8.000000</td>\n",
       "      <td>5.000000</td>\n",
       "      <td>37.000000</td>\n",
       "    </tr>\n",
       "  </tbody>\n",
       "</table>\n",
       "</div>"
      ],
      "text/plain": [
       "        Loan Amount  Funded Amount  Funded Amount Investor          Term  \\\n",
       "count  67463.000000   67463.000000            67463.000000  67463.000000   \n",
       "mean   16848.902776   15770.599114            14621.799323     58.173814   \n",
       "std     8367.865726    8150.992662             6785.345170      3.327441   \n",
       "min     1014.000000    1014.000000             1114.590204     36.000000   \n",
       "25%    10012.000000    9266.500000             9831.684984     58.000000   \n",
       "50%    16073.000000   13042.000000            12793.682170     59.000000   \n",
       "75%    22106.000000   21793.000000            17807.594120     59.000000   \n",
       "max    35000.000000   34999.000000            34999.746430     59.000000   \n",
       "\n",
       "       Interest Rate  Employment Duration  Debit to Income  \\\n",
       "count   67463.000000         67463.000000     67463.000000   \n",
       "mean       11.846258             9.187942        23.299241   \n",
       "std         3.718629             5.136792         8.451824   \n",
       "min         5.320006             1.662507         0.675299   \n",
       "25%         9.297147             5.896628        16.756416   \n",
       "50%        11.377696             7.909632        22.656658   \n",
       "75%        14.193533            10.794356        30.048400   \n",
       "max        27.182348            46.379368        39.629862   \n",
       "\n",
       "       Delinquency - two years  Inquires - six months  Open Account  \n",
       "count             67463.000000           67463.000000  67463.000000  \n",
       "mean                  0.327127               0.145754     14.266561  \n",
       "std                   0.800888               0.473291      6.225060  \n",
       "min                   0.000000               0.000000      2.000000  \n",
       "25%                   0.000000               0.000000     10.000000  \n",
       "50%                   0.000000               0.000000     13.000000  \n",
       "75%                   0.000000               0.000000     16.000000  \n",
       "max                   8.000000               5.000000     37.000000  "
      ]
     },
     "execution_count": 21,
     "metadata": {},
     "output_type": "execute_result"
    }
   ],
   "source": [
    "df.loc[:,:\"Open Account\"].describe()"
   ]
  },
  {
   "cell_type": "code",
   "execution_count": 22,
   "metadata": {},
   "outputs": [
    {
     "data": {
      "text/html": [
       "<div>\n",
       "<style scoped>\n",
       "    .dataframe tbody tr th:only-of-type {\n",
       "        vertical-align: middle;\n",
       "    }\n",
       "\n",
       "    .dataframe tbody tr th {\n",
       "        vertical-align: top;\n",
       "    }\n",
       "\n",
       "    .dataframe thead th {\n",
       "        text-align: right;\n",
       "    }\n",
       "</style>\n",
       "<table border=\"1\" class=\"dataframe\">\n",
       "  <thead>\n",
       "    <tr style=\"text-align: right;\">\n",
       "      <th></th>\n",
       "      <th>Public Record</th>\n",
       "      <th>Revolving Balance</th>\n",
       "      <th>Revolving Utilities</th>\n",
       "      <th>Total Accounts</th>\n",
       "      <th>Total Received Interest</th>\n",
       "      <th>Total Received Late Fee</th>\n",
       "      <th>Recoveries</th>\n",
       "      <th>Collection Recovery Fee</th>\n",
       "      <th>Collection 12 months Medical</th>\n",
       "      <th>Last week Pay</th>\n",
       "    </tr>\n",
       "  </thead>\n",
       "  <tbody>\n",
       "    <tr>\n",
       "      <th>count</th>\n",
       "      <td>67463.000000</td>\n",
       "      <td>67463.000000</td>\n",
       "      <td>67463.000000</td>\n",
       "      <td>67463.000000</td>\n",
       "      <td>67463.000000</td>\n",
       "      <td>67463.000000</td>\n",
       "      <td>67463.000000</td>\n",
       "      <td>67463.000000</td>\n",
       "      <td>67463.000000</td>\n",
       "      <td>67463.000000</td>\n",
       "    </tr>\n",
       "    <tr>\n",
       "      <th>mean</th>\n",
       "      <td>0.081437</td>\n",
       "      <td>7699.342425</td>\n",
       "      <td>52.889443</td>\n",
       "      <td>18.627929</td>\n",
       "      <td>2068.992542</td>\n",
       "      <td>1.143969</td>\n",
       "      <td>59.691578</td>\n",
       "      <td>1.125141</td>\n",
       "      <td>0.021301</td>\n",
       "      <td>71.163260</td>\n",
       "    </tr>\n",
       "    <tr>\n",
       "      <th>std</th>\n",
       "      <td>0.346606</td>\n",
       "      <td>7836.148190</td>\n",
       "      <td>22.539450</td>\n",
       "      <td>8.319246</td>\n",
       "      <td>2221.918745</td>\n",
       "      <td>5.244365</td>\n",
       "      <td>357.026346</td>\n",
       "      <td>3.489885</td>\n",
       "      <td>0.144385</td>\n",
       "      <td>43.315845</td>\n",
       "    </tr>\n",
       "    <tr>\n",
       "      <th>min</th>\n",
       "      <td>0.000000</td>\n",
       "      <td>0.000000</td>\n",
       "      <td>0.005172</td>\n",
       "      <td>4.000000</td>\n",
       "      <td>4.736746</td>\n",
       "      <td>0.000003</td>\n",
       "      <td>0.000036</td>\n",
       "      <td>0.000036</td>\n",
       "      <td>0.000000</td>\n",
       "      <td>0.000000</td>\n",
       "    </tr>\n",
       "    <tr>\n",
       "      <th>25%</th>\n",
       "      <td>0.000000</td>\n",
       "      <td>2557.000000</td>\n",
       "      <td>38.658825</td>\n",
       "      <td>13.000000</td>\n",
       "      <td>570.903814</td>\n",
       "      <td>0.021114</td>\n",
       "      <td>1.629818</td>\n",
       "      <td>0.476259</td>\n",
       "      <td>0.000000</td>\n",
       "      <td>35.000000</td>\n",
       "    </tr>\n",
       "    <tr>\n",
       "      <th>50%</th>\n",
       "      <td>0.000000</td>\n",
       "      <td>5516.000000</td>\n",
       "      <td>54.082334</td>\n",
       "      <td>18.000000</td>\n",
       "      <td>1330.842771</td>\n",
       "      <td>0.043398</td>\n",
       "      <td>3.344524</td>\n",
       "      <td>0.780141</td>\n",
       "      <td>0.000000</td>\n",
       "      <td>68.000000</td>\n",
       "    </tr>\n",
       "    <tr>\n",
       "      <th>75%</th>\n",
       "      <td>0.000000</td>\n",
       "      <td>10184.500000</td>\n",
       "      <td>69.177117</td>\n",
       "      <td>23.000000</td>\n",
       "      <td>2656.956837</td>\n",
       "      <td>0.071884</td>\n",
       "      <td>5.453727</td>\n",
       "      <td>1.070566</td>\n",
       "      <td>0.000000</td>\n",
       "      <td>105.000000</td>\n",
       "    </tr>\n",
       "    <tr>\n",
       "      <th>max</th>\n",
       "      <td>4.000000</td>\n",
       "      <td>116933.000000</td>\n",
       "      <td>100.880050</td>\n",
       "      <td>72.000000</td>\n",
       "      <td>14301.368310</td>\n",
       "      <td>42.618882</td>\n",
       "      <td>4354.467419</td>\n",
       "      <td>166.833000</td>\n",
       "      <td>1.000000</td>\n",
       "      <td>161.000000</td>\n",
       "    </tr>\n",
       "  </tbody>\n",
       "</table>\n",
       "</div>"
      ],
      "text/plain": [
       "       Public Record  Revolving Balance  Revolving Utilities  Total Accounts  \\\n",
       "count   67463.000000       67463.000000         67463.000000    67463.000000   \n",
       "mean        0.081437        7699.342425            52.889443       18.627929   \n",
       "std         0.346606        7836.148190            22.539450        8.319246   \n",
       "min         0.000000           0.000000             0.005172        4.000000   \n",
       "25%         0.000000        2557.000000            38.658825       13.000000   \n",
       "50%         0.000000        5516.000000            54.082334       18.000000   \n",
       "75%         0.000000       10184.500000            69.177117       23.000000   \n",
       "max         4.000000      116933.000000           100.880050       72.000000   \n",
       "\n",
       "       Total Received Interest  Total Received Late Fee    Recoveries  \\\n",
       "count             67463.000000             67463.000000  67463.000000   \n",
       "mean               2068.992542                 1.143969     59.691578   \n",
       "std                2221.918745                 5.244365    357.026346   \n",
       "min                   4.736746                 0.000003      0.000036   \n",
       "25%                 570.903814                 0.021114      1.629818   \n",
       "50%                1330.842771                 0.043398      3.344524   \n",
       "75%                2656.956837                 0.071884      5.453727   \n",
       "max               14301.368310                42.618882   4354.467419   \n",
       "\n",
       "       Collection Recovery Fee  Collection 12 months Medical  Last week Pay  \n",
       "count             67463.000000                  67463.000000   67463.000000  \n",
       "mean                  1.125141                      0.021301      71.163260  \n",
       "std                   3.489885                      0.144385      43.315845  \n",
       "min                   0.000036                      0.000000       0.000000  \n",
       "25%                   0.476259                      0.000000      35.000000  \n",
       "50%                   0.780141                      0.000000      68.000000  \n",
       "75%                   1.070566                      0.000000     105.000000  \n",
       "max                 166.833000                      1.000000     161.000000  "
      ]
     },
     "execution_count": 22,
     "metadata": {},
     "output_type": "execute_result"
    }
   ],
   "source": [
    "df.loc[:,\"Public Record\":\"Last week Pay\"].describe()"
   ]
  },
  {
   "cell_type": "code",
   "execution_count": 23,
   "metadata": {},
   "outputs": [
    {
     "data": {
      "text/html": [
       "<div>\n",
       "<style scoped>\n",
       "    .dataframe tbody tr th:only-of-type {\n",
       "        vertical-align: middle;\n",
       "    }\n",
       "\n",
       "    .dataframe tbody tr th {\n",
       "        vertical-align: top;\n",
       "    }\n",
       "\n",
       "    .dataframe thead th {\n",
       "        text-align: right;\n",
       "    }\n",
       "</style>\n",
       "<table border=\"1\" class=\"dataframe\">\n",
       "  <thead>\n",
       "    <tr style=\"text-align: right;\">\n",
       "      <th></th>\n",
       "      <th>Last week Pay</th>\n",
       "      <th>Total Collection Amount</th>\n",
       "      <th>Total Current Balance</th>\n",
       "      <th>Total Revolving Credit Limit</th>\n",
       "      <th>Loan Status</th>\n",
       "      <th>Funded Amount/Interest Rate</th>\n",
       "      <th>Funded Amount / Debit to Income</th>\n",
       "      <th>Inquires - six months / Open Account</th>\n",
       "      <th>Revolving Balance / Total Revolving Credit Limit</th>\n",
       "      <th>Delinquency - two years / Total Accounts</th>\n",
       "      <th>cuentas públicas prestatario</th>\n",
       "      <th>Eficacia pagos respecto financiación inicial</th>\n",
       "    </tr>\n",
       "  </thead>\n",
       "  <tbody>\n",
       "    <tr>\n",
       "      <th>count</th>\n",
       "      <td>67463.000000</td>\n",
       "      <td>67463.000000</td>\n",
       "      <td>6.746300e+04</td>\n",
       "      <td>67463.000000</td>\n",
       "      <td>67463.000000</td>\n",
       "      <td>67463.000000</td>\n",
       "      <td>67463.000000</td>\n",
       "      <td>67463.000000</td>\n",
       "      <td>67463.000000</td>\n",
       "      <td>67463.000000</td>\n",
       "      <td>67463.000000</td>\n",
       "      <td>67463.000000</td>\n",
       "    </tr>\n",
       "    <tr>\n",
       "      <th>mean</th>\n",
       "      <td>71.163260</td>\n",
       "      <td>146.467990</td>\n",
       "      <td>1.595739e+05</td>\n",
       "      <td>23123.005544</td>\n",
       "      <td>0.092510</td>\n",
       "      <td>1474.849009</td>\n",
       "      <td>807.193076</td>\n",
       "      <td>0.011914</td>\n",
       "      <td>0.795545</td>\n",
       "      <td>0.022713</td>\n",
       "      <td>0.102738</td>\n",
       "      <td>0.173749</td>\n",
       "    </tr>\n",
       "    <tr>\n",
       "      <th>std</th>\n",
       "      <td>43.315845</td>\n",
       "      <td>744.382233</td>\n",
       "      <td>1.390332e+05</td>\n",
       "      <td>20916.699999</td>\n",
       "      <td>0.289747</td>\n",
       "      <td>947.189719</td>\n",
       "      <td>663.834935</td>\n",
       "      <td>0.041687</td>\n",
       "      <td>1.582962</td>\n",
       "      <td>0.067641</td>\n",
       "      <td>0.376658</td>\n",
       "      <td>0.239998</td>\n",
       "    </tr>\n",
       "    <tr>\n",
       "      <th>min</th>\n",
       "      <td>0.000000</td>\n",
       "      <td>1.000000</td>\n",
       "      <td>6.170000e+02</td>\n",
       "      <td>1000.000000</td>\n",
       "      <td>0.000000</td>\n",
       "      <td>65.494750</td>\n",
       "      <td>29.076308</td>\n",
       "      <td>0.000000</td>\n",
       "      <td>0.000000</td>\n",
       "      <td>0.000000</td>\n",
       "      <td>0.000000</td>\n",
       "      <td>0.000164</td>\n",
       "    </tr>\n",
       "    <tr>\n",
       "      <th>25%</th>\n",
       "      <td>35.000000</td>\n",
       "      <td>24.000000</td>\n",
       "      <td>5.037900e+04</td>\n",
       "      <td>8155.500000</td>\n",
       "      <td>0.000000</td>\n",
       "      <td>774.270563</td>\n",
       "      <td>388.529612</td>\n",
       "      <td>0.000000</td>\n",
       "      <td>0.121485</td>\n",
       "      <td>0.000000</td>\n",
       "      <td>0.000000</td>\n",
       "      <td>0.038919</td>\n",
       "    </tr>\n",
       "    <tr>\n",
       "      <th>50%</th>\n",
       "      <td>68.000000</td>\n",
       "      <td>36.000000</td>\n",
       "      <td>1.183690e+05</td>\n",
       "      <td>16733.000000</td>\n",
       "      <td>0.000000</td>\n",
       "      <td>1213.625096</td>\n",
       "      <td>631.189539</td>\n",
       "      <td>0.000000</td>\n",
       "      <td>0.317982</td>\n",
       "      <td>0.000000</td>\n",
       "      <td>0.000000</td>\n",
       "      <td>0.094562</td>\n",
       "    </tr>\n",
       "    <tr>\n",
       "      <th>75%</th>\n",
       "      <td>105.000000</td>\n",
       "      <td>46.000000</td>\n",
       "      <td>2.283750e+05</td>\n",
       "      <td>32146.500000</td>\n",
       "      <td>0.000000</td>\n",
       "      <td>1938.685276</td>\n",
       "      <td>1014.249464</td>\n",
       "      <td>0.000000</td>\n",
       "      <td>0.809357</td>\n",
       "      <td>0.000000</td>\n",
       "      <td>0.000000</td>\n",
       "      <td>0.212829</td>\n",
       "    </tr>\n",
       "    <tr>\n",
       "      <th>max</th>\n",
       "      <td>161.000000</td>\n",
       "      <td>16421.000000</td>\n",
       "      <td>1.177412e+06</td>\n",
       "      <td>201169.000000</td>\n",
       "      <td>1.000000</td>\n",
       "      <td>6491.829342</td>\n",
       "      <td>27329.355315</td>\n",
       "      <td>1.000000</td>\n",
       "      <td>58.966197</td>\n",
       "      <td>2.000000</td>\n",
       "      <td>5.000000</td>\n",
       "      <td>8.898065</td>\n",
       "    </tr>\n",
       "  </tbody>\n",
       "</table>\n",
       "</div>"
      ],
      "text/plain": [
       "       Last week Pay  Total Collection Amount  Total Current Balance  \\\n",
       "count   67463.000000             67463.000000           6.746300e+04   \n",
       "mean       71.163260               146.467990           1.595739e+05   \n",
       "std        43.315845               744.382233           1.390332e+05   \n",
       "min         0.000000                 1.000000           6.170000e+02   \n",
       "25%        35.000000                24.000000           5.037900e+04   \n",
       "50%        68.000000                36.000000           1.183690e+05   \n",
       "75%       105.000000                46.000000           2.283750e+05   \n",
       "max       161.000000             16421.000000           1.177412e+06   \n",
       "\n",
       "       Total Revolving Credit Limit   Loan Status  \\\n",
       "count                  67463.000000  67463.000000   \n",
       "mean                   23123.005544      0.092510   \n",
       "std                    20916.699999      0.289747   \n",
       "min                     1000.000000      0.000000   \n",
       "25%                     8155.500000      0.000000   \n",
       "50%                    16733.000000      0.000000   \n",
       "75%                    32146.500000      0.000000   \n",
       "max                   201169.000000      1.000000   \n",
       "\n",
       "       Funded Amount/Interest Rate  Funded Amount / Debit to Income  \\\n",
       "count                 67463.000000                     67463.000000   \n",
       "mean                   1474.849009                       807.193076   \n",
       "std                     947.189719                       663.834935   \n",
       "min                      65.494750                        29.076308   \n",
       "25%                     774.270563                       388.529612   \n",
       "50%                    1213.625096                       631.189539   \n",
       "75%                    1938.685276                      1014.249464   \n",
       "max                    6491.829342                     27329.355315   \n",
       "\n",
       "       Inquires - six months / Open Account  \\\n",
       "count                          67463.000000   \n",
       "mean                               0.011914   \n",
       "std                                0.041687   \n",
       "min                                0.000000   \n",
       "25%                                0.000000   \n",
       "50%                                0.000000   \n",
       "75%                                0.000000   \n",
       "max                                1.000000   \n",
       "\n",
       "       Revolving Balance / Total Revolving Credit Limit  \\\n",
       "count                                      67463.000000   \n",
       "mean                                           0.795545   \n",
       "std                                            1.582962   \n",
       "min                                            0.000000   \n",
       "25%                                            0.121485   \n",
       "50%                                            0.317982   \n",
       "75%                                            0.809357   \n",
       "max                                           58.966197   \n",
       "\n",
       "       Delinquency - two years / Total Accounts  cuentas públicas prestatario  \\\n",
       "count                              67463.000000                  67463.000000   \n",
       "mean                                   0.022713                      0.102738   \n",
       "std                                    0.067641                      0.376658   \n",
       "min                                    0.000000                      0.000000   \n",
       "25%                                    0.000000                      0.000000   \n",
       "50%                                    0.000000                      0.000000   \n",
       "75%                                    0.000000                      0.000000   \n",
       "max                                    2.000000                      5.000000   \n",
       "\n",
       "       Eficacia pagos respecto financiación inicial  \n",
       "count                                  67463.000000  \n",
       "mean                                       0.173749  \n",
       "std                                        0.239998  \n",
       "min                                        0.000164  \n",
       "25%                                        0.038919  \n",
       "50%                                        0.094562  \n",
       "75%                                        0.212829  \n",
       "max                                        8.898065  "
      ]
     },
     "execution_count": 23,
     "metadata": {},
     "output_type": "execute_result"
    }
   ],
   "source": [
    "df.loc[:,\"Last week Pay\":\"Eficacia pagos respecto financiación inicial\"].describe()"
   ]
  },
  {
   "cell_type": "code",
   "execution_count": 24,
   "metadata": {},
   "outputs": [
    {
     "data": {
      "text/html": [
       "<div>\n",
       "<style scoped>\n",
       "    .dataframe tbody tr th:only-of-type {\n",
       "        vertical-align: middle;\n",
       "    }\n",
       "\n",
       "    .dataframe tbody tr th {\n",
       "        vertical-align: top;\n",
       "    }\n",
       "\n",
       "    .dataframe thead th {\n",
       "        text-align: right;\n",
       "    }\n",
       "</style>\n",
       "<table border=\"1\" class=\"dataframe\">\n",
       "  <thead>\n",
       "    <tr style=\"text-align: right;\">\n",
       "      <th></th>\n",
       "      <th>Proporción Morosidad según financiación</th>\n",
       "      <th>Proporción Morosidad según Batch Enrolled</th>\n",
       "      <th>Grado_interes_ordered</th>\n",
       "      <th>Grade_ordered</th>\n",
       "      <th>SubGrade_ordered</th>\n",
       "      <th>verification_status_ordered</th>\n",
       "      <th>initial_list_status_ordered</th>\n",
       "      <th>application_type_ordered</th>\n",
       "    </tr>\n",
       "  </thead>\n",
       "  <tbody>\n",
       "    <tr>\n",
       "      <th>count</th>\n",
       "      <td>67463.000000</td>\n",
       "      <td>67463.000000</td>\n",
       "      <td>67463.000000</td>\n",
       "      <td>67463.000000</td>\n",
       "      <td>67463.000000</td>\n",
       "      <td>67463.000000</td>\n",
       "      <td>67463.000000</td>\n",
       "      <td>67463.000000</td>\n",
       "    </tr>\n",
       "    <tr>\n",
       "      <th>mean</th>\n",
       "      <td>0.092510</td>\n",
       "      <td>0.092510</td>\n",
       "      <td>0.092510</td>\n",
       "      <td>0.092510</td>\n",
       "      <td>0.092510</td>\n",
       "      <td>0.092510</td>\n",
       "      <td>0.092510</td>\n",
       "      <td>0.092510</td>\n",
       "    </tr>\n",
       "    <tr>\n",
       "      <th>std</th>\n",
       "      <td>0.012567</td>\n",
       "      <td>0.007085</td>\n",
       "      <td>0.000393</td>\n",
       "      <td>0.004178</td>\n",
       "      <td>0.006430</td>\n",
       "      <td>0.004476</td>\n",
       "      <td>0.003896</td>\n",
       "      <td>0.000132</td>\n",
       "    </tr>\n",
       "    <tr>\n",
       "      <th>min</th>\n",
       "      <td>0.000000</td>\n",
       "      <td>0.078297</td>\n",
       "      <td>0.092216</td>\n",
       "      <td>0.087237</td>\n",
       "      <td>0.078558</td>\n",
       "      <td>0.088663</td>\n",
       "      <td>0.088901</td>\n",
       "      <td>0.089431</td>\n",
       "    </tr>\n",
       "    <tr>\n",
       "      <th>25%</th>\n",
       "      <td>0.090536</td>\n",
       "      <td>0.087446</td>\n",
       "      <td>0.092216</td>\n",
       "      <td>0.087237</td>\n",
       "      <td>0.089912</td>\n",
       "      <td>0.088663</td>\n",
       "      <td>0.088901</td>\n",
       "      <td>0.092516</td>\n",
       "    </tr>\n",
       "    <tr>\n",
       "      <th>50%</th>\n",
       "      <td>0.093986</td>\n",
       "      <td>0.093750</td>\n",
       "      <td>0.092253</td>\n",
       "      <td>0.093896</td>\n",
       "      <td>0.093538</td>\n",
       "      <td>0.088663</td>\n",
       "      <td>0.088901</td>\n",
       "      <td>0.092516</td>\n",
       "    </tr>\n",
       "    <tr>\n",
       "      <th>75%</th>\n",
       "      <td>0.093986</td>\n",
       "      <td>0.096085</td>\n",
       "      <td>0.093069</td>\n",
       "      <td>0.095873</td>\n",
       "      <td>0.095657</td>\n",
       "      <td>0.095694</td>\n",
       "      <td>0.096714</td>\n",
       "      <td>0.092516</td>\n",
       "    </tr>\n",
       "    <tr>\n",
       "      <th>max</th>\n",
       "      <td>0.500000</td>\n",
       "      <td>0.125000</td>\n",
       "      <td>0.093069</td>\n",
       "      <td>0.106349</td>\n",
       "      <td>0.130081</td>\n",
       "      <td>0.101551</td>\n",
       "      <td>0.096714</td>\n",
       "      <td>0.092516</td>\n",
       "    </tr>\n",
       "  </tbody>\n",
       "</table>\n",
       "</div>"
      ],
      "text/plain": [
       "       Proporción Morosidad según financiación  \\\n",
       "count                             67463.000000   \n",
       "mean                                  0.092510   \n",
       "std                                   0.012567   \n",
       "min                                   0.000000   \n",
       "25%                                   0.090536   \n",
       "50%                                   0.093986   \n",
       "75%                                   0.093986   \n",
       "max                                   0.500000   \n",
       "\n",
       "       Proporción Morosidad según Batch Enrolled  Grado_interes_ordered  \\\n",
       "count                               67463.000000           67463.000000   \n",
       "mean                                    0.092510               0.092510   \n",
       "std                                     0.007085               0.000393   \n",
       "min                                     0.078297               0.092216   \n",
       "25%                                     0.087446               0.092216   \n",
       "50%                                     0.093750               0.092253   \n",
       "75%                                     0.096085               0.093069   \n",
       "max                                     0.125000               0.093069   \n",
       "\n",
       "       Grade_ordered  SubGrade_ordered  verification_status_ordered  \\\n",
       "count   67463.000000      67463.000000                 67463.000000   \n",
       "mean        0.092510          0.092510                     0.092510   \n",
       "std         0.004178          0.006430                     0.004476   \n",
       "min         0.087237          0.078558                     0.088663   \n",
       "25%         0.087237          0.089912                     0.088663   \n",
       "50%         0.093896          0.093538                     0.088663   \n",
       "75%         0.095873          0.095657                     0.095694   \n",
       "max         0.106349          0.130081                     0.101551   \n",
       "\n",
       "       initial_list_status_ordered  application_type_ordered  \n",
       "count                 67463.000000              67463.000000  \n",
       "mean                      0.092510                  0.092510  \n",
       "std                       0.003896                  0.000132  \n",
       "min                       0.088901                  0.089431  \n",
       "25%                       0.088901                  0.092516  \n",
       "50%                       0.088901                  0.092516  \n",
       "75%                       0.096714                  0.092516  \n",
       "max                       0.096714                  0.092516  "
      ]
     },
     "execution_count": 24,
     "metadata": {},
     "output_type": "execute_result"
    }
   ],
   "source": [
    "df.loc[:,\"Proporción Morosidad según financiación\":].describe()"
   ]
  },
  {
   "cell_type": "code",
   "execution_count": 25,
   "metadata": {},
   "outputs": [
    {
     "data": {
      "text/html": [
       "<div>\n",
       "<style scoped>\n",
       "    .dataframe tbody tr th:only-of-type {\n",
       "        vertical-align: middle;\n",
       "    }\n",
       "\n",
       "    .dataframe tbody tr th {\n",
       "        vertical-align: top;\n",
       "    }\n",
       "\n",
       "    .dataframe thead th {\n",
       "        text-align: right;\n",
       "    }\n",
       "</style>\n",
       "<table border=\"1\" class=\"dataframe\">\n",
       "  <thead>\n",
       "    <tr style=\"text-align: right;\">\n",
       "      <th></th>\n",
       "      <th>Loan Amount</th>\n",
       "      <th>Funded Amount</th>\n",
       "      <th>Funded Amount Investor</th>\n",
       "      <th>Term</th>\n",
       "      <th>Interest Rate</th>\n",
       "      <th>Employment Duration</th>\n",
       "      <th>Debit to Income</th>\n",
       "      <th>Delinquency - two years</th>\n",
       "      <th>Inquires - six months</th>\n",
       "      <th>Open Account</th>\n",
       "      <th>...</th>\n",
       "      <th>cuentas públicas prestatario</th>\n",
       "      <th>Eficacia pagos respecto financiación inicial</th>\n",
       "      <th>Proporción Morosidad según financiación</th>\n",
       "      <th>Proporción Morosidad según Batch Enrolled</th>\n",
       "      <th>Grado_interes_ordered</th>\n",
       "      <th>Grade_ordered</th>\n",
       "      <th>SubGrade_ordered</th>\n",
       "      <th>verification_status_ordered</th>\n",
       "      <th>initial_list_status_ordered</th>\n",
       "      <th>application_type_ordered</th>\n",
       "    </tr>\n",
       "    <tr>\n",
       "      <th>ID</th>\n",
       "      <th></th>\n",
       "      <th></th>\n",
       "      <th></th>\n",
       "      <th></th>\n",
       "      <th></th>\n",
       "      <th></th>\n",
       "      <th></th>\n",
       "      <th></th>\n",
       "      <th></th>\n",
       "      <th></th>\n",
       "      <th></th>\n",
       "      <th></th>\n",
       "      <th></th>\n",
       "      <th></th>\n",
       "      <th></th>\n",
       "      <th></th>\n",
       "      <th></th>\n",
       "      <th></th>\n",
       "      <th></th>\n",
       "      <th></th>\n",
       "      <th></th>\n",
       "    </tr>\n",
       "  </thead>\n",
       "  <tbody>\n",
       "    <tr>\n",
       "      <th>65087372</th>\n",
       "      <td>10000</td>\n",
       "      <td>32236</td>\n",
       "      <td>12329.36286</td>\n",
       "      <td>59</td>\n",
       "      <td>11.135007</td>\n",
       "      <td>20.117115</td>\n",
       "      <td>16.284758</td>\n",
       "      <td>1</td>\n",
       "      <td>0</td>\n",
       "      <td>13</td>\n",
       "      <td>...</td>\n",
       "      <td>0</td>\n",
       "      <td>0.090884</td>\n",
       "      <td>0.081828</td>\n",
       "      <td>0.095068</td>\n",
       "      <td>0.092253</td>\n",
       "      <td>0.087237</td>\n",
       "      <td>0.093538</td>\n",
       "      <td>0.088663</td>\n",
       "      <td>0.088901</td>\n",
       "      <td>0.092516</td>\n",
       "    </tr>\n",
       "    <tr>\n",
       "      <th>1450153</th>\n",
       "      <td>3609</td>\n",
       "      <td>11940</td>\n",
       "      <td>12191.99692</td>\n",
       "      <td>59</td>\n",
       "      <td>12.237563</td>\n",
       "      <td>4.544139</td>\n",
       "      <td>15.412409</td>\n",
       "      <td>0</td>\n",
       "      <td>0</td>\n",
       "      <td>12</td>\n",
       "      <td>...</td>\n",
       "      <td>0</td>\n",
       "      <td>0.064724</td>\n",
       "      <td>0.090536</td>\n",
       "      <td>0.105029</td>\n",
       "      <td>0.092253</td>\n",
       "      <td>0.093896</td>\n",
       "      <td>0.089912</td>\n",
       "      <td>0.095694</td>\n",
       "      <td>0.096714</td>\n",
       "      <td>0.092516</td>\n",
       "    </tr>\n",
       "    <tr>\n",
       "      <th>1969101</th>\n",
       "      <td>28276</td>\n",
       "      <td>9311</td>\n",
       "      <td>21603.22455</td>\n",
       "      <td>59</td>\n",
       "      <td>12.545884</td>\n",
       "      <td>10.438819</td>\n",
       "      <td>28.137619</td>\n",
       "      <td>0</td>\n",
       "      <td>0</td>\n",
       "      <td>14</td>\n",
       "      <td>...</td>\n",
       "      <td>0</td>\n",
       "      <td>0.094738</td>\n",
       "      <td>0.081828</td>\n",
       "      <td>0.092179</td>\n",
       "      <td>0.092253</td>\n",
       "      <td>0.103740</td>\n",
       "      <td>0.090244</td>\n",
       "      <td>0.088663</td>\n",
       "      <td>0.088901</td>\n",
       "      <td>0.092516</td>\n",
       "    </tr>\n",
       "    <tr>\n",
       "      <th>6651430</th>\n",
       "      <td>11170</td>\n",
       "      <td>6954</td>\n",
       "      <td>17877.15585</td>\n",
       "      <td>59</td>\n",
       "      <td>16.731201</td>\n",
       "      <td>12.353020</td>\n",
       "      <td>18.043730</td>\n",
       "      <td>1</td>\n",
       "      <td>0</td>\n",
       "      <td>7</td>\n",
       "      <td>...</td>\n",
       "      <td>0</td>\n",
       "      <td>0.041446</td>\n",
       "      <td>0.090536</td>\n",
       "      <td>0.092275</td>\n",
       "      <td>0.093069</td>\n",
       "      <td>0.093896</td>\n",
       "      <td>0.094201</td>\n",
       "      <td>0.088663</td>\n",
       "      <td>0.088901</td>\n",
       "      <td>0.092516</td>\n",
       "    </tr>\n",
       "    <tr>\n",
       "      <th>14354669</th>\n",
       "      <td>16890</td>\n",
       "      <td>13226</td>\n",
       "      <td>13539.92667</td>\n",
       "      <td>59</td>\n",
       "      <td>15.008300</td>\n",
       "      <td>5.046181</td>\n",
       "      <td>17.209886</td>\n",
       "      <td>1</td>\n",
       "      <td>3</td>\n",
       "      <td>13</td>\n",
       "      <td>...</td>\n",
       "      <td>1</td>\n",
       "      <td>0.011231</td>\n",
       "      <td>0.093986</td>\n",
       "      <td>0.087944</td>\n",
       "      <td>0.093069</td>\n",
       "      <td>0.093896</td>\n",
       "      <td>0.090244</td>\n",
       "      <td>0.088663</td>\n",
       "      <td>0.088901</td>\n",
       "      <td>0.092516</td>\n",
       "    </tr>\n",
       "    <tr>\n",
       "      <th>...</th>\n",
       "      <td>...</td>\n",
       "      <td>...</td>\n",
       "      <td>...</td>\n",
       "      <td>...</td>\n",
       "      <td>...</td>\n",
       "      <td>...</td>\n",
       "      <td>...</td>\n",
       "      <td>...</td>\n",
       "      <td>...</td>\n",
       "      <td>...</td>\n",
       "      <td>...</td>\n",
       "      <td>...</td>\n",
       "      <td>...</td>\n",
       "      <td>...</td>\n",
       "      <td>...</td>\n",
       "      <td>...</td>\n",
       "      <td>...</td>\n",
       "      <td>...</td>\n",
       "      <td>...</td>\n",
       "      <td>...</td>\n",
       "      <td>...</td>\n",
       "    </tr>\n",
       "    <tr>\n",
       "      <th>16164945</th>\n",
       "      <td>13601</td>\n",
       "      <td>6848</td>\n",
       "      <td>13175.28583</td>\n",
       "      <td>59</td>\n",
       "      <td>9.408858</td>\n",
       "      <td>9.578046</td>\n",
       "      <td>28.105127</td>\n",
       "      <td>1</td>\n",
       "      <td>0</td>\n",
       "      <td>13</td>\n",
       "      <td>...</td>\n",
       "      <td>0</td>\n",
       "      <td>0.288985</td>\n",
       "      <td>0.093986</td>\n",
       "      <td>0.087446</td>\n",
       "      <td>0.092216</td>\n",
       "      <td>0.093896</td>\n",
       "      <td>0.091431</td>\n",
       "      <td>0.088663</td>\n",
       "      <td>0.088901</td>\n",
       "      <td>0.092516</td>\n",
       "    </tr>\n",
       "    <tr>\n",
       "      <th>35182714</th>\n",
       "      <td>8323</td>\n",
       "      <td>11046</td>\n",
       "      <td>15637.46301</td>\n",
       "      <td>59</td>\n",
       "      <td>9.972104</td>\n",
       "      <td>7.471039</td>\n",
       "      <td>17.694279</td>\n",
       "      <td>0</td>\n",
       "      <td>0</td>\n",
       "      <td>12</td>\n",
       "      <td>...</td>\n",
       "      <td>0</td>\n",
       "      <td>0.280720</td>\n",
       "      <td>0.093986</td>\n",
       "      <td>0.099459</td>\n",
       "      <td>0.092216</td>\n",
       "      <td>0.093896</td>\n",
       "      <td>0.082521</td>\n",
       "      <td>0.095694</td>\n",
       "      <td>0.088901</td>\n",
       "      <td>0.092516</td>\n",
       "    </tr>\n",
       "    <tr>\n",
       "      <th>16435904</th>\n",
       "      <td>15897</td>\n",
       "      <td>32921</td>\n",
       "      <td>12329.45775</td>\n",
       "      <td>59</td>\n",
       "      <td>19.650943</td>\n",
       "      <td>3.971477</td>\n",
       "      <td>10.295774</td>\n",
       "      <td>0</td>\n",
       "      <td>0</td>\n",
       "      <td>7</td>\n",
       "      <td>...</td>\n",
       "      <td>1</td>\n",
       "      <td>0.081772</td>\n",
       "      <td>0.153846</td>\n",
       "      <td>0.104027</td>\n",
       "      <td>0.093069</td>\n",
       "      <td>0.091248</td>\n",
       "      <td>0.098616</td>\n",
       "      <td>0.088663</td>\n",
       "      <td>0.088901</td>\n",
       "      <td>0.092516</td>\n",
       "    </tr>\n",
       "    <tr>\n",
       "      <th>5300325</th>\n",
       "      <td>16567</td>\n",
       "      <td>4975</td>\n",
       "      <td>21353.68465</td>\n",
       "      <td>59</td>\n",
       "      <td>13.169095</td>\n",
       "      <td>11.058503</td>\n",
       "      <td>7.614624</td>\n",
       "      <td>0</td>\n",
       "      <td>0</td>\n",
       "      <td>14</td>\n",
       "      <td>...</td>\n",
       "      <td>0</td>\n",
       "      <td>0.735560</td>\n",
       "      <td>0.090536</td>\n",
       "      <td>0.085634</td>\n",
       "      <td>0.093069</td>\n",
       "      <td>0.096380</td>\n",
       "      <td>0.089326</td>\n",
       "      <td>0.101551</td>\n",
       "      <td>0.096714</td>\n",
       "      <td>0.092516</td>\n",
       "    </tr>\n",
       "    <tr>\n",
       "      <th>65443173</th>\n",
       "      <td>15353</td>\n",
       "      <td>29875</td>\n",
       "      <td>14207.44860</td>\n",
       "      <td>59</td>\n",
       "      <td>16.034631</td>\n",
       "      <td>11.992146</td>\n",
       "      <td>16.052112</td>\n",
       "      <td>0</td>\n",
       "      <td>0</td>\n",
       "      <td>30</td>\n",
       "      <td>...</td>\n",
       "      <td>0</td>\n",
       "      <td>0.044327</td>\n",
       "      <td>0.090536</td>\n",
       "      <td>0.094902</td>\n",
       "      <td>0.093069</td>\n",
       "      <td>0.087237</td>\n",
       "      <td>0.093523</td>\n",
       "      <td>0.088663</td>\n",
       "      <td>0.096714</td>\n",
       "      <td>0.092516</td>\n",
       "    </tr>\n",
       "  </tbody>\n",
       "</table>\n",
       "<p>67463 rows × 39 columns</p>\n",
       "</div>"
      ],
      "text/plain": [
       "          Loan Amount  Funded Amount  Funded Amount Investor  Term  \\\n",
       "ID                                                                   \n",
       "65087372        10000          32236             12329.36286    59   \n",
       "1450153          3609          11940             12191.99692    59   \n",
       "1969101         28276           9311             21603.22455    59   \n",
       "6651430         11170           6954             17877.15585    59   \n",
       "14354669        16890          13226             13539.92667    59   \n",
       "...               ...            ...                     ...   ...   \n",
       "16164945        13601           6848             13175.28583    59   \n",
       "35182714         8323          11046             15637.46301    59   \n",
       "16435904        15897          32921             12329.45775    59   \n",
       "5300325         16567           4975             21353.68465    59   \n",
       "65443173        15353          29875             14207.44860    59   \n",
       "\n",
       "          Interest Rate  Employment Duration  Debit to Income  \\\n",
       "ID                                                              \n",
       "65087372      11.135007            20.117115        16.284758   \n",
       "1450153       12.237563             4.544139        15.412409   \n",
       "1969101       12.545884            10.438819        28.137619   \n",
       "6651430       16.731201            12.353020        18.043730   \n",
       "14354669      15.008300             5.046181        17.209886   \n",
       "...                 ...                  ...              ...   \n",
       "16164945       9.408858             9.578046        28.105127   \n",
       "35182714       9.972104             7.471039        17.694279   \n",
       "16435904      19.650943             3.971477        10.295774   \n",
       "5300325       13.169095            11.058503         7.614624   \n",
       "65443173      16.034631            11.992146        16.052112   \n",
       "\n",
       "          Delinquency - two years  Inquires - six months  Open Account  ...  \\\n",
       "ID                                                                      ...   \n",
       "65087372                        1                      0            13  ...   \n",
       "1450153                         0                      0            12  ...   \n",
       "1969101                         0                      0            14  ...   \n",
       "6651430                         1                      0             7  ...   \n",
       "14354669                        1                      3            13  ...   \n",
       "...                           ...                    ...           ...  ...   \n",
       "16164945                        1                      0            13  ...   \n",
       "35182714                        0                      0            12  ...   \n",
       "16435904                        0                      0             7  ...   \n",
       "5300325                         0                      0            14  ...   \n",
       "65443173                        0                      0            30  ...   \n",
       "\n",
       "          cuentas públicas prestatario  \\\n",
       "ID                                       \n",
       "65087372                             0   \n",
       "1450153                              0   \n",
       "1969101                              0   \n",
       "6651430                              0   \n",
       "14354669                             1   \n",
       "...                                ...   \n",
       "16164945                             0   \n",
       "35182714                             0   \n",
       "16435904                             1   \n",
       "5300325                              0   \n",
       "65443173                             0   \n",
       "\n",
       "          Eficacia pagos respecto financiación inicial  \\\n",
       "ID                                                       \n",
       "65087372                                      0.090884   \n",
       "1450153                                       0.064724   \n",
       "1969101                                       0.094738   \n",
       "6651430                                       0.041446   \n",
       "14354669                                      0.011231   \n",
       "...                                                ...   \n",
       "16164945                                      0.288985   \n",
       "35182714                                      0.280720   \n",
       "16435904                                      0.081772   \n",
       "5300325                                       0.735560   \n",
       "65443173                                      0.044327   \n",
       "\n",
       "          Proporción Morosidad según financiación  \\\n",
       "ID                                                  \n",
       "65087372                                 0.081828   \n",
       "1450153                                  0.090536   \n",
       "1969101                                  0.081828   \n",
       "6651430                                  0.090536   \n",
       "14354669                                 0.093986   \n",
       "...                                           ...   \n",
       "16164945                                 0.093986   \n",
       "35182714                                 0.093986   \n",
       "16435904                                 0.153846   \n",
       "5300325                                  0.090536   \n",
       "65443173                                 0.090536   \n",
       "\n",
       "          Proporción Morosidad según Batch Enrolled  Grado_interes_ordered  \\\n",
       "ID                                                                           \n",
       "65087372                                   0.095068               0.092253   \n",
       "1450153                                    0.105029               0.092253   \n",
       "1969101                                    0.092179               0.092253   \n",
       "6651430                                    0.092275               0.093069   \n",
       "14354669                                   0.087944               0.093069   \n",
       "...                                             ...                    ...   \n",
       "16164945                                   0.087446               0.092216   \n",
       "35182714                                   0.099459               0.092216   \n",
       "16435904                                   0.104027               0.093069   \n",
       "5300325                                    0.085634               0.093069   \n",
       "65443173                                   0.094902               0.093069   \n",
       "\n",
       "          Grade_ordered  SubGrade_ordered  verification_status_ordered  \\\n",
       "ID                                                                       \n",
       "65087372       0.087237          0.093538                     0.088663   \n",
       "1450153        0.093896          0.089912                     0.095694   \n",
       "1969101        0.103740          0.090244                     0.088663   \n",
       "6651430        0.093896          0.094201                     0.088663   \n",
       "14354669       0.093896          0.090244                     0.088663   \n",
       "...                 ...               ...                          ...   \n",
       "16164945       0.093896          0.091431                     0.088663   \n",
       "35182714       0.093896          0.082521                     0.095694   \n",
       "16435904       0.091248          0.098616                     0.088663   \n",
       "5300325        0.096380          0.089326                     0.101551   \n",
       "65443173       0.087237          0.093523                     0.088663   \n",
       "\n",
       "          initial_list_status_ordered  application_type_ordered  \n",
       "ID                                                               \n",
       "65087372                     0.088901                  0.092516  \n",
       "1450153                      0.096714                  0.092516  \n",
       "1969101                      0.088901                  0.092516  \n",
       "6651430                      0.088901                  0.092516  \n",
       "14354669                     0.088901                  0.092516  \n",
       "...                               ...                       ...  \n",
       "16164945                     0.088901                  0.092516  \n",
       "35182714                     0.088901                  0.092516  \n",
       "16435904                     0.088901                  0.092516  \n",
       "5300325                      0.096714                  0.092516  \n",
       "65443173                     0.096714                  0.092516  \n",
       "\n",
       "[67463 rows x 39 columns]"
      ]
     },
     "execution_count": 25,
     "metadata": {},
     "output_type": "execute_result"
    }
   ],
   "source": [
    "df.drop([\"Batch Enrolled\",\"Grade\",\"Sub Grade\",\"Home Ownership\",\"Verification Status\",\"Loan Title\",\"Initial List Status\",\"Application Type\",\"Grado_interes\"],axis=1,inplace=True)\n",
    "df"
   ]
  },
  {
   "cell_type": "code",
   "execution_count": 26,
   "metadata": {},
   "outputs": [
    {
     "data": {
      "text/html": [
       "<div>\n",
       "<style scoped>\n",
       "    .dataframe tbody tr th:only-of-type {\n",
       "        vertical-align: middle;\n",
       "    }\n",
       "\n",
       "    .dataframe tbody tr th {\n",
       "        vertical-align: top;\n",
       "    }\n",
       "\n",
       "    .dataframe thead th {\n",
       "        text-align: right;\n",
       "    }\n",
       "</style>\n",
       "<table border=\"1\" class=\"dataframe\">\n",
       "  <thead>\n",
       "    <tr style=\"text-align: right;\">\n",
       "      <th></th>\n",
       "      <th>Loan Amount</th>\n",
       "      <th>Funded Amount</th>\n",
       "      <th>Funded Amount Investor</th>\n",
       "      <th>Term</th>\n",
       "      <th>Interest Rate</th>\n",
       "      <th>Employment Duration</th>\n",
       "      <th>Debit to Income</th>\n",
       "      <th>Delinquency - two years</th>\n",
       "      <th>Inquires - six months</th>\n",
       "      <th>Open Account</th>\n",
       "      <th>...</th>\n",
       "      <th>cuentas públicas prestatario</th>\n",
       "      <th>Eficacia pagos respecto financiación inicial</th>\n",
       "      <th>Proporción Morosidad según financiación</th>\n",
       "      <th>Proporción Morosidad según Batch Enrolled</th>\n",
       "      <th>Grado_interes_ordered</th>\n",
       "      <th>Grade_ordered</th>\n",
       "      <th>SubGrade_ordered</th>\n",
       "      <th>verification_status_ordered</th>\n",
       "      <th>initial_list_status_ordered</th>\n",
       "      <th>application_type_ordered</th>\n",
       "    </tr>\n",
       "  </thead>\n",
       "  <tbody>\n",
       "    <tr>\n",
       "      <th>count</th>\n",
       "      <td>67463.000000</td>\n",
       "      <td>67463.000000</td>\n",
       "      <td>67463.000000</td>\n",
       "      <td>67463.000000</td>\n",
       "      <td>67463.000000</td>\n",
       "      <td>67463.000000</td>\n",
       "      <td>67463.000000</td>\n",
       "      <td>67463.000000</td>\n",
       "      <td>67463.000000</td>\n",
       "      <td>67463.000000</td>\n",
       "      <td>...</td>\n",
       "      <td>67463.000000</td>\n",
       "      <td>67463.000000</td>\n",
       "      <td>67463.000000</td>\n",
       "      <td>67463.000000</td>\n",
       "      <td>67463.000000</td>\n",
       "      <td>67463.000000</td>\n",
       "      <td>67463.000000</td>\n",
       "      <td>67463.000000</td>\n",
       "      <td>67463.000000</td>\n",
       "      <td>67463.000000</td>\n",
       "    </tr>\n",
       "    <tr>\n",
       "      <th>mean</th>\n",
       "      <td>16848.902776</td>\n",
       "      <td>15770.599114</td>\n",
       "      <td>14621.799323</td>\n",
       "      <td>58.173814</td>\n",
       "      <td>11.846258</td>\n",
       "      <td>9.187942</td>\n",
       "      <td>23.299241</td>\n",
       "      <td>0.327127</td>\n",
       "      <td>0.145754</td>\n",
       "      <td>14.266561</td>\n",
       "      <td>...</td>\n",
       "      <td>0.102738</td>\n",
       "      <td>0.173749</td>\n",
       "      <td>0.092510</td>\n",
       "      <td>0.092510</td>\n",
       "      <td>0.092510</td>\n",
       "      <td>0.092510</td>\n",
       "      <td>0.092510</td>\n",
       "      <td>0.092510</td>\n",
       "      <td>0.092510</td>\n",
       "      <td>0.092510</td>\n",
       "    </tr>\n",
       "    <tr>\n",
       "      <th>std</th>\n",
       "      <td>8367.865726</td>\n",
       "      <td>8150.992662</td>\n",
       "      <td>6785.345170</td>\n",
       "      <td>3.327441</td>\n",
       "      <td>3.718629</td>\n",
       "      <td>5.136792</td>\n",
       "      <td>8.451824</td>\n",
       "      <td>0.800888</td>\n",
       "      <td>0.473291</td>\n",
       "      <td>6.225060</td>\n",
       "      <td>...</td>\n",
       "      <td>0.376658</td>\n",
       "      <td>0.239998</td>\n",
       "      <td>0.012567</td>\n",
       "      <td>0.007085</td>\n",
       "      <td>0.000393</td>\n",
       "      <td>0.004178</td>\n",
       "      <td>0.006430</td>\n",
       "      <td>0.004476</td>\n",
       "      <td>0.003896</td>\n",
       "      <td>0.000132</td>\n",
       "    </tr>\n",
       "    <tr>\n",
       "      <th>min</th>\n",
       "      <td>1014.000000</td>\n",
       "      <td>1014.000000</td>\n",
       "      <td>1114.590204</td>\n",
       "      <td>36.000000</td>\n",
       "      <td>5.320006</td>\n",
       "      <td>1.662507</td>\n",
       "      <td>0.675299</td>\n",
       "      <td>0.000000</td>\n",
       "      <td>0.000000</td>\n",
       "      <td>2.000000</td>\n",
       "      <td>...</td>\n",
       "      <td>0.000000</td>\n",
       "      <td>0.000164</td>\n",
       "      <td>0.000000</td>\n",
       "      <td>0.078297</td>\n",
       "      <td>0.092216</td>\n",
       "      <td>0.087237</td>\n",
       "      <td>0.078558</td>\n",
       "      <td>0.088663</td>\n",
       "      <td>0.088901</td>\n",
       "      <td>0.089431</td>\n",
       "    </tr>\n",
       "    <tr>\n",
       "      <th>25%</th>\n",
       "      <td>10012.000000</td>\n",
       "      <td>9266.500000</td>\n",
       "      <td>9831.684984</td>\n",
       "      <td>58.000000</td>\n",
       "      <td>9.297147</td>\n",
       "      <td>5.896628</td>\n",
       "      <td>16.756416</td>\n",
       "      <td>0.000000</td>\n",
       "      <td>0.000000</td>\n",
       "      <td>10.000000</td>\n",
       "      <td>...</td>\n",
       "      <td>0.000000</td>\n",
       "      <td>0.038919</td>\n",
       "      <td>0.090536</td>\n",
       "      <td>0.087446</td>\n",
       "      <td>0.092216</td>\n",
       "      <td>0.087237</td>\n",
       "      <td>0.089912</td>\n",
       "      <td>0.088663</td>\n",
       "      <td>0.088901</td>\n",
       "      <td>0.092516</td>\n",
       "    </tr>\n",
       "    <tr>\n",
       "      <th>50%</th>\n",
       "      <td>16073.000000</td>\n",
       "      <td>13042.000000</td>\n",
       "      <td>12793.682170</td>\n",
       "      <td>59.000000</td>\n",
       "      <td>11.377696</td>\n",
       "      <td>7.909632</td>\n",
       "      <td>22.656658</td>\n",
       "      <td>0.000000</td>\n",
       "      <td>0.000000</td>\n",
       "      <td>13.000000</td>\n",
       "      <td>...</td>\n",
       "      <td>0.000000</td>\n",
       "      <td>0.094562</td>\n",
       "      <td>0.093986</td>\n",
       "      <td>0.093750</td>\n",
       "      <td>0.092253</td>\n",
       "      <td>0.093896</td>\n",
       "      <td>0.093538</td>\n",
       "      <td>0.088663</td>\n",
       "      <td>0.088901</td>\n",
       "      <td>0.092516</td>\n",
       "    </tr>\n",
       "    <tr>\n",
       "      <th>75%</th>\n",
       "      <td>22106.000000</td>\n",
       "      <td>21793.000000</td>\n",
       "      <td>17807.594120</td>\n",
       "      <td>59.000000</td>\n",
       "      <td>14.193533</td>\n",
       "      <td>10.794356</td>\n",
       "      <td>30.048400</td>\n",
       "      <td>0.000000</td>\n",
       "      <td>0.000000</td>\n",
       "      <td>16.000000</td>\n",
       "      <td>...</td>\n",
       "      <td>0.000000</td>\n",
       "      <td>0.212829</td>\n",
       "      <td>0.093986</td>\n",
       "      <td>0.096085</td>\n",
       "      <td>0.093069</td>\n",
       "      <td>0.095873</td>\n",
       "      <td>0.095657</td>\n",
       "      <td>0.095694</td>\n",
       "      <td>0.096714</td>\n",
       "      <td>0.092516</td>\n",
       "    </tr>\n",
       "    <tr>\n",
       "      <th>max</th>\n",
       "      <td>35000.000000</td>\n",
       "      <td>34999.000000</td>\n",
       "      <td>34999.746430</td>\n",
       "      <td>59.000000</td>\n",
       "      <td>27.182348</td>\n",
       "      <td>46.379368</td>\n",
       "      <td>39.629862</td>\n",
       "      <td>8.000000</td>\n",
       "      <td>5.000000</td>\n",
       "      <td>37.000000</td>\n",
       "      <td>...</td>\n",
       "      <td>5.000000</td>\n",
       "      <td>8.898065</td>\n",
       "      <td>0.500000</td>\n",
       "      <td>0.125000</td>\n",
       "      <td>0.093069</td>\n",
       "      <td>0.106349</td>\n",
       "      <td>0.130081</td>\n",
       "      <td>0.101551</td>\n",
       "      <td>0.096714</td>\n",
       "      <td>0.092516</td>\n",
       "    </tr>\n",
       "  </tbody>\n",
       "</table>\n",
       "<p>8 rows × 39 columns</p>\n",
       "</div>"
      ],
      "text/plain": [
       "        Loan Amount  Funded Amount  Funded Amount Investor          Term  \\\n",
       "count  67463.000000   67463.000000            67463.000000  67463.000000   \n",
       "mean   16848.902776   15770.599114            14621.799323     58.173814   \n",
       "std     8367.865726    8150.992662             6785.345170      3.327441   \n",
       "min     1014.000000    1014.000000             1114.590204     36.000000   \n",
       "25%    10012.000000    9266.500000             9831.684984     58.000000   \n",
       "50%    16073.000000   13042.000000            12793.682170     59.000000   \n",
       "75%    22106.000000   21793.000000            17807.594120     59.000000   \n",
       "max    35000.000000   34999.000000            34999.746430     59.000000   \n",
       "\n",
       "       Interest Rate  Employment Duration  Debit to Income  \\\n",
       "count   67463.000000         67463.000000     67463.000000   \n",
       "mean       11.846258             9.187942        23.299241   \n",
       "std         3.718629             5.136792         8.451824   \n",
       "min         5.320006             1.662507         0.675299   \n",
       "25%         9.297147             5.896628        16.756416   \n",
       "50%        11.377696             7.909632        22.656658   \n",
       "75%        14.193533            10.794356        30.048400   \n",
       "max        27.182348            46.379368        39.629862   \n",
       "\n",
       "       Delinquency - two years  Inquires - six months  Open Account  ...  \\\n",
       "count             67463.000000           67463.000000  67463.000000  ...   \n",
       "mean                  0.327127               0.145754     14.266561  ...   \n",
       "std                   0.800888               0.473291      6.225060  ...   \n",
       "min                   0.000000               0.000000      2.000000  ...   \n",
       "25%                   0.000000               0.000000     10.000000  ...   \n",
       "50%                   0.000000               0.000000     13.000000  ...   \n",
       "75%                   0.000000               0.000000     16.000000  ...   \n",
       "max                   8.000000               5.000000     37.000000  ...   \n",
       "\n",
       "       cuentas públicas prestatario  \\\n",
       "count                  67463.000000   \n",
       "mean                       0.102738   \n",
       "std                        0.376658   \n",
       "min                        0.000000   \n",
       "25%                        0.000000   \n",
       "50%                        0.000000   \n",
       "75%                        0.000000   \n",
       "max                        5.000000   \n",
       "\n",
       "       Eficacia pagos respecto financiación inicial  \\\n",
       "count                                  67463.000000   \n",
       "mean                                       0.173749   \n",
       "std                                        0.239998   \n",
       "min                                        0.000164   \n",
       "25%                                        0.038919   \n",
       "50%                                        0.094562   \n",
       "75%                                        0.212829   \n",
       "max                                        8.898065   \n",
       "\n",
       "       Proporción Morosidad según financiación  \\\n",
       "count                             67463.000000   \n",
       "mean                                  0.092510   \n",
       "std                                   0.012567   \n",
       "min                                   0.000000   \n",
       "25%                                   0.090536   \n",
       "50%                                   0.093986   \n",
       "75%                                   0.093986   \n",
       "max                                   0.500000   \n",
       "\n",
       "       Proporción Morosidad según Batch Enrolled  Grado_interes_ordered  \\\n",
       "count                               67463.000000           67463.000000   \n",
       "mean                                    0.092510               0.092510   \n",
       "std                                     0.007085               0.000393   \n",
       "min                                     0.078297               0.092216   \n",
       "25%                                     0.087446               0.092216   \n",
       "50%                                     0.093750               0.092253   \n",
       "75%                                     0.096085               0.093069   \n",
       "max                                     0.125000               0.093069   \n",
       "\n",
       "       Grade_ordered  SubGrade_ordered  verification_status_ordered  \\\n",
       "count   67463.000000      67463.000000                 67463.000000   \n",
       "mean        0.092510          0.092510                     0.092510   \n",
       "std         0.004178          0.006430                     0.004476   \n",
       "min         0.087237          0.078558                     0.088663   \n",
       "25%         0.087237          0.089912                     0.088663   \n",
       "50%         0.093896          0.093538                     0.088663   \n",
       "75%         0.095873          0.095657                     0.095694   \n",
       "max         0.106349          0.130081                     0.101551   \n",
       "\n",
       "       initial_list_status_ordered  application_type_ordered  \n",
       "count                 67463.000000              67463.000000  \n",
       "mean                      0.092510                  0.092510  \n",
       "std                       0.003896                  0.000132  \n",
       "min                       0.088901                  0.089431  \n",
       "25%                       0.088901                  0.092516  \n",
       "50%                       0.088901                  0.092516  \n",
       "75%                       0.096714                  0.092516  \n",
       "max                       0.096714                  0.092516  \n",
       "\n",
       "[8 rows x 39 columns]"
      ]
     },
     "execution_count": 26,
     "metadata": {},
     "output_type": "execute_result"
    }
   ],
   "source": [
    "df.describe()"
   ]
  },
  {
   "cell_type": "code",
   "execution_count": 27,
   "metadata": {},
   "outputs": [
    {
     "data": {
      "text/html": [
       "<div>\n",
       "<style scoped>\n",
       "    .dataframe tbody tr th:only-of-type {\n",
       "        vertical-align: middle;\n",
       "    }\n",
       "\n",
       "    .dataframe tbody tr th {\n",
       "        vertical-align: top;\n",
       "    }\n",
       "\n",
       "    .dataframe thead th {\n",
       "        text-align: right;\n",
       "    }\n",
       "</style>\n",
       "<table border=\"1\" class=\"dataframe\">\n",
       "  <thead>\n",
       "    <tr style=\"text-align: right;\">\n",
       "      <th></th>\n",
       "      <th>Total Collection Amount</th>\n",
       "      <th>Total Current Balance</th>\n",
       "      <th>Total Revolving Credit Limit</th>\n",
       "      <th>Loan Status</th>\n",
       "      <th>Funded Amount/Interest Rate</th>\n",
       "      <th>Funded Amount / Debit to Income</th>\n",
       "      <th>Inquires - six months / Open Account</th>\n",
       "      <th>Revolving Balance / Total Revolving Credit Limit</th>\n",
       "      <th>Delinquency - two years / Total Accounts</th>\n",
       "      <th>cuentas públicas prestatario</th>\n",
       "    </tr>\n",
       "  </thead>\n",
       "  <tbody>\n",
       "    <tr>\n",
       "      <th>count</th>\n",
       "      <td>67463.000000</td>\n",
       "      <td>6.746300e+04</td>\n",
       "      <td>67463.000000</td>\n",
       "      <td>67463.000000</td>\n",
       "      <td>67463.000000</td>\n",
       "      <td>67463.000000</td>\n",
       "      <td>67463.000000</td>\n",
       "      <td>67463.000000</td>\n",
       "      <td>67463.000000</td>\n",
       "      <td>67463.000000</td>\n",
       "    </tr>\n",
       "    <tr>\n",
       "      <th>mean</th>\n",
       "      <td>146.467990</td>\n",
       "      <td>1.595739e+05</td>\n",
       "      <td>23123.005544</td>\n",
       "      <td>0.092510</td>\n",
       "      <td>1474.849009</td>\n",
       "      <td>807.193076</td>\n",
       "      <td>0.011914</td>\n",
       "      <td>0.795545</td>\n",
       "      <td>0.022713</td>\n",
       "      <td>0.102738</td>\n",
       "    </tr>\n",
       "    <tr>\n",
       "      <th>std</th>\n",
       "      <td>744.382233</td>\n",
       "      <td>1.390332e+05</td>\n",
       "      <td>20916.699999</td>\n",
       "      <td>0.289747</td>\n",
       "      <td>947.189719</td>\n",
       "      <td>663.834935</td>\n",
       "      <td>0.041687</td>\n",
       "      <td>1.582962</td>\n",
       "      <td>0.067641</td>\n",
       "      <td>0.376658</td>\n",
       "    </tr>\n",
       "    <tr>\n",
       "      <th>min</th>\n",
       "      <td>1.000000</td>\n",
       "      <td>6.170000e+02</td>\n",
       "      <td>1000.000000</td>\n",
       "      <td>0.000000</td>\n",
       "      <td>65.494750</td>\n",
       "      <td>29.076308</td>\n",
       "      <td>0.000000</td>\n",
       "      <td>0.000000</td>\n",
       "      <td>0.000000</td>\n",
       "      <td>0.000000</td>\n",
       "    </tr>\n",
       "    <tr>\n",
       "      <th>25%</th>\n",
       "      <td>24.000000</td>\n",
       "      <td>5.037900e+04</td>\n",
       "      <td>8155.500000</td>\n",
       "      <td>0.000000</td>\n",
       "      <td>774.270563</td>\n",
       "      <td>388.529612</td>\n",
       "      <td>0.000000</td>\n",
       "      <td>0.121485</td>\n",
       "      <td>0.000000</td>\n",
       "      <td>0.000000</td>\n",
       "    </tr>\n",
       "    <tr>\n",
       "      <th>50%</th>\n",
       "      <td>36.000000</td>\n",
       "      <td>1.183690e+05</td>\n",
       "      <td>16733.000000</td>\n",
       "      <td>0.000000</td>\n",
       "      <td>1213.625096</td>\n",
       "      <td>631.189539</td>\n",
       "      <td>0.000000</td>\n",
       "      <td>0.317982</td>\n",
       "      <td>0.000000</td>\n",
       "      <td>0.000000</td>\n",
       "    </tr>\n",
       "    <tr>\n",
       "      <th>75%</th>\n",
       "      <td>46.000000</td>\n",
       "      <td>2.283750e+05</td>\n",
       "      <td>32146.500000</td>\n",
       "      <td>0.000000</td>\n",
       "      <td>1938.685276</td>\n",
       "      <td>1014.249464</td>\n",
       "      <td>0.000000</td>\n",
       "      <td>0.809357</td>\n",
       "      <td>0.000000</td>\n",
       "      <td>0.000000</td>\n",
       "    </tr>\n",
       "    <tr>\n",
       "      <th>max</th>\n",
       "      <td>16421.000000</td>\n",
       "      <td>1.177412e+06</td>\n",
       "      <td>201169.000000</td>\n",
       "      <td>1.000000</td>\n",
       "      <td>6491.829342</td>\n",
       "      <td>27329.355315</td>\n",
       "      <td>1.000000</td>\n",
       "      <td>58.966197</td>\n",
       "      <td>2.000000</td>\n",
       "      <td>5.000000</td>\n",
       "    </tr>\n",
       "  </tbody>\n",
       "</table>\n",
       "</div>"
      ],
      "text/plain": [
       "       Total Collection Amount  Total Current Balance  \\\n",
       "count             67463.000000           6.746300e+04   \n",
       "mean                146.467990           1.595739e+05   \n",
       "std                 744.382233           1.390332e+05   \n",
       "min                   1.000000           6.170000e+02   \n",
       "25%                  24.000000           5.037900e+04   \n",
       "50%                  36.000000           1.183690e+05   \n",
       "75%                  46.000000           2.283750e+05   \n",
       "max               16421.000000           1.177412e+06   \n",
       "\n",
       "       Total Revolving Credit Limit   Loan Status  \\\n",
       "count                  67463.000000  67463.000000   \n",
       "mean                   23123.005544      0.092510   \n",
       "std                    20916.699999      0.289747   \n",
       "min                     1000.000000      0.000000   \n",
       "25%                     8155.500000      0.000000   \n",
       "50%                    16733.000000      0.000000   \n",
       "75%                    32146.500000      0.000000   \n",
       "max                   201169.000000      1.000000   \n",
       "\n",
       "       Funded Amount/Interest Rate  Funded Amount / Debit to Income  \\\n",
       "count                 67463.000000                     67463.000000   \n",
       "mean                   1474.849009                       807.193076   \n",
       "std                     947.189719                       663.834935   \n",
       "min                      65.494750                        29.076308   \n",
       "25%                     774.270563                       388.529612   \n",
       "50%                    1213.625096                       631.189539   \n",
       "75%                    1938.685276                      1014.249464   \n",
       "max                    6491.829342                     27329.355315   \n",
       "\n",
       "       Inquires - six months / Open Account  \\\n",
       "count                          67463.000000   \n",
       "mean                               0.011914   \n",
       "std                                0.041687   \n",
       "min                                0.000000   \n",
       "25%                                0.000000   \n",
       "50%                                0.000000   \n",
       "75%                                0.000000   \n",
       "max                                1.000000   \n",
       "\n",
       "       Revolving Balance / Total Revolving Credit Limit  \\\n",
       "count                                      67463.000000   \n",
       "mean                                           0.795545   \n",
       "std                                            1.582962   \n",
       "min                                            0.000000   \n",
       "25%                                            0.121485   \n",
       "50%                                            0.317982   \n",
       "75%                                            0.809357   \n",
       "max                                           58.966197   \n",
       "\n",
       "       Delinquency - two years / Total Accounts  cuentas públicas prestatario  \n",
       "count                              67463.000000                  67463.000000  \n",
       "mean                                   0.022713                      0.102738  \n",
       "std                                    0.067641                      0.376658  \n",
       "min                                    0.000000                      0.000000  \n",
       "25%                                    0.000000                      0.000000  \n",
       "50%                                    0.000000                      0.000000  \n",
       "75%                                    0.000000                      0.000000  \n",
       "max                                    2.000000                      5.000000  "
      ]
     },
     "execution_count": 27,
     "metadata": {},
     "output_type": "execute_result"
    }
   ],
   "source": [
    "df.iloc[:,20:30].describe()"
   ]
  },
  {
   "cell_type": "code",
   "execution_count": 28,
   "metadata": {},
   "outputs": [
    {
     "data": {
      "text/plain": [
       "Index(['Loan Amount', 'Funded Amount', 'Funded Amount Investor', 'Term',\n",
       "       'Interest Rate', 'Employment Duration', 'Debit to Income',\n",
       "       'Delinquency - two years', 'Inquires - six months', 'Open Account',\n",
       "       'Public Record', 'Revolving Balance', 'Revolving Utilities',\n",
       "       'Total Accounts', 'Total Received Interest', 'Total Received Late Fee',\n",
       "       'Recoveries', 'Collection Recovery Fee', 'Collection 12 months Medical',\n",
       "       'Last week Pay', 'Total Collection Amount', 'Total Current Balance',\n",
       "       'Total Revolving Credit Limit', 'Loan Status',\n",
       "       'Funded Amount/Interest Rate', 'Funded Amount / Debit to Income',\n",
       "       'Inquires - six months / Open Account',\n",
       "       'Revolving Balance / Total Revolving Credit Limit',\n",
       "       'Delinquency - two years / Total Accounts',\n",
       "       'cuentas públicas prestatario',\n",
       "       'Eficacia pagos respecto financiación inicial',\n",
       "       'Proporción Morosidad según financiación',\n",
       "       'Proporción Morosidad según Batch Enrolled', 'Grado_interes_ordered',\n",
       "       'Grade_ordered', 'SubGrade_ordered', 'verification_status_ordered',\n",
       "       'initial_list_status_ordered', 'application_type_ordered'],\n",
       "      dtype='object')"
      ]
     },
     "execution_count": 28,
     "metadata": {},
     "output_type": "execute_result"
    }
   ],
   "source": [
    "df.columns"
   ]
  },
  {
   "cell_type": "code",
   "execution_count": 29,
   "metadata": {},
   "outputs": [],
   "source": [
    "X = df.drop([\"Delinquency - two years\",\"Open Account\",\"Inquires - six months\",\"Public Record\",\"Collection 12 months Medical\",\"Total Accounts\",\n",
    "             \"verification_status_ordered\",\"initial_list_status_ordered\",\"Loan Status\",\n",
    "       'Delinquency - two years / Total Accounts',\n",
    "       'cuentas públicas prestatario',\n",
    "       'Eficacia pagos respecto financiación inicial'\n",
    "       ],axis=1)\n",
    "y = df[\"Loan Status\"]"
   ]
  },
  {
   "cell_type": "code",
   "execution_count": 30,
   "metadata": {},
   "outputs": [
    {
     "name": "stdout",
     "output_type": "stream",
     "text": [
      "<class 'pandas.core.frame.DataFrame'>\n",
      "Int64Index: 67463 entries, 65087372 to 65443173\n",
      "Data columns (total 27 columns):\n",
      " #   Column                                            Non-Null Count  Dtype  \n",
      "---  ------                                            --------------  -----  \n",
      " 0   Loan Amount                                       67463 non-null  int64  \n",
      " 1   Funded Amount                                     67463 non-null  int64  \n",
      " 2   Funded Amount Investor                            67463 non-null  float64\n",
      " 3   Term                                              67463 non-null  int64  \n",
      " 4   Interest Rate                                     67463 non-null  float64\n",
      " 5   Employment Duration                               67463 non-null  float64\n",
      " 6   Debit to Income                                   67463 non-null  float64\n",
      " 7   Revolving Balance                                 67463 non-null  int64  \n",
      " 8   Revolving Utilities                               67463 non-null  float64\n",
      " 9   Total Received Interest                           67463 non-null  float64\n",
      " 10  Total Received Late Fee                           67463 non-null  float64\n",
      " 11  Recoveries                                        67463 non-null  float64\n",
      " 12  Collection Recovery Fee                           67463 non-null  float64\n",
      " 13  Last week Pay                                     67463 non-null  int64  \n",
      " 14  Total Collection Amount                           67463 non-null  int64  \n",
      " 15  Total Current Balance                             67463 non-null  int64  \n",
      " 16  Total Revolving Credit Limit                      67463 non-null  int64  \n",
      " 17  Funded Amount/Interest Rate                       67463 non-null  float64\n",
      " 18  Funded Amount / Debit to Income                   67463 non-null  float64\n",
      " 19  Inquires - six months / Open Account              67463 non-null  float64\n",
      " 20  Revolving Balance / Total Revolving Credit Limit  67463 non-null  float64\n",
      " 21  Proporción Morosidad según financiación           67463 non-null  float64\n",
      " 22  Proporción Morosidad según Batch Enrolled         67463 non-null  float64\n",
      " 23  Grado_interes_ordered                             67463 non-null  float64\n",
      " 24  Grade_ordered                                     67463 non-null  float64\n",
      " 25  SubGrade_ordered                                  67463 non-null  float64\n",
      " 26  application_type_ordered                          67463 non-null  float64\n",
      "dtypes: float64(19), int64(8)\n",
      "memory usage: 14.4 MB\n"
     ]
    }
   ],
   "source": [
    "X.info()"
   ]
  },
  {
   "cell_type": "code",
   "execution_count": 31,
   "metadata": {},
   "outputs": [
    {
     "name": "stdout",
     "output_type": "stream",
     "text": [
      "(53970, 27)\n",
      "(53970,)\n",
      "(13493, 27)\n",
      "(13493,)\n"
     ]
    }
   ],
   "source": [
    "X_train, X_test, y_train, y_test = train_test_split(X,y,test_size=0.2,random_state=42,stratify=y)\n",
    "print(X_train.shape)\n",
    "print(y_train.shape)\n",
    "print(X_test.shape)\n",
    "print(y_test.shape)"
   ]
  },
  {
   "cell_type": "code",
   "execution_count": 32,
   "metadata": {},
   "outputs": [],
   "source": [
    "under_sampler = RandomUnderSampler(random_state=42)\n",
    "X_under, y_under = under_sampler.fit_resample(X_train,y_train)"
   ]
  },
  {
   "cell_type": "code",
   "execution_count": 33,
   "metadata": {},
   "outputs": [],
   "source": [
    "df_undersampled = pd.concat([X_under,y_under],axis=1)"
   ]
  },
  {
   "cell_type": "code",
   "execution_count": 34,
   "metadata": {},
   "outputs": [
    {
     "data": {
      "text/html": [
       "<div>\n",
       "<style scoped>\n",
       "    .dataframe tbody tr th:only-of-type {\n",
       "        vertical-align: middle;\n",
       "    }\n",
       "\n",
       "    .dataframe tbody tr th {\n",
       "        vertical-align: top;\n",
       "    }\n",
       "\n",
       "    .dataframe thead th {\n",
       "        text-align: right;\n",
       "    }\n",
       "</style>\n",
       "<table border=\"1\" class=\"dataframe\">\n",
       "  <thead>\n",
       "    <tr style=\"text-align: right;\">\n",
       "      <th></th>\n",
       "      <th>Loan Amount</th>\n",
       "      <th>Funded Amount</th>\n",
       "      <th>Funded Amount Investor</th>\n",
       "      <th>Term</th>\n",
       "      <th>Interest Rate</th>\n",
       "      <th>Employment Duration</th>\n",
       "      <th>Debit to Income</th>\n",
       "      <th>Revolving Balance</th>\n",
       "      <th>Revolving Utilities</th>\n",
       "      <th>Total Received Interest</th>\n",
       "      <th>...</th>\n",
       "      <th>Funded Amount / Debit to Income</th>\n",
       "      <th>Inquires - six months / Open Account</th>\n",
       "      <th>Revolving Balance / Total Revolving Credit Limit</th>\n",
       "      <th>Proporción Morosidad según financiación</th>\n",
       "      <th>Proporción Morosidad según Batch Enrolled</th>\n",
       "      <th>Grado_interes_ordered</th>\n",
       "      <th>Grade_ordered</th>\n",
       "      <th>SubGrade_ordered</th>\n",
       "      <th>application_type_ordered</th>\n",
       "      <th>Loan Status</th>\n",
       "    </tr>\n",
       "  </thead>\n",
       "  <tbody>\n",
       "    <tr>\n",
       "      <th>0</th>\n",
       "      <td>3640</td>\n",
       "      <td>30194</td>\n",
       "      <td>10276.241020</td>\n",
       "      <td>58</td>\n",
       "      <td>13.794734</td>\n",
       "      <td>5.534813</td>\n",
       "      <td>16.908712</td>\n",
       "      <td>11369</td>\n",
       "      <td>62.986912</td>\n",
       "      <td>1295.135286</td>\n",
       "      <td>...</td>\n",
       "      <td>1785.706648</td>\n",
       "      <td>0.000000</td>\n",
       "      <td>6.919659</td>\n",
       "      <td>0.093986</td>\n",
       "      <td>0.105029</td>\n",
       "      <td>0.093069</td>\n",
       "      <td>0.093896</td>\n",
       "      <td>0.088920</td>\n",
       "      <td>0.092516</td>\n",
       "      <td>0</td>\n",
       "    </tr>\n",
       "    <tr>\n",
       "      <th>1</th>\n",
       "      <td>13395</td>\n",
       "      <td>26144</td>\n",
       "      <td>11512.703630</td>\n",
       "      <td>36</td>\n",
       "      <td>20.474885</td>\n",
       "      <td>15.599605</td>\n",
       "      <td>22.919477</td>\n",
       "      <td>31665</td>\n",
       "      <td>46.380954</td>\n",
       "      <td>7811.891353</td>\n",
       "      <td>...</td>\n",
       "      <td>1140.689183</td>\n",
       "      <td>0.000000</td>\n",
       "      <td>1.042160</td>\n",
       "      <td>0.090536</td>\n",
       "      <td>0.095772</td>\n",
       "      <td>0.093069</td>\n",
       "      <td>0.096380</td>\n",
       "      <td>0.094201</td>\n",
       "      <td>0.092516</td>\n",
       "      <td>0</td>\n",
       "    </tr>\n",
       "    <tr>\n",
       "      <th>2</th>\n",
       "      <td>17251</td>\n",
       "      <td>16588</td>\n",
       "      <td>12002.733890</td>\n",
       "      <td>58</td>\n",
       "      <td>10.137259</td>\n",
       "      <td>8.912036</td>\n",
       "      <td>11.190306</td>\n",
       "      <td>7434</td>\n",
       "      <td>79.150124</td>\n",
       "      <td>943.057467</td>\n",
       "      <td>...</td>\n",
       "      <td>1482.354421</td>\n",
       "      <td>0.200000</td>\n",
       "      <td>1.531205</td>\n",
       "      <td>0.093986</td>\n",
       "      <td>0.099800</td>\n",
       "      <td>0.092253</td>\n",
       "      <td>0.087237</td>\n",
       "      <td>0.091887</td>\n",
       "      <td>0.092516</td>\n",
       "      <td>0</td>\n",
       "    </tr>\n",
       "    <tr>\n",
       "      <th>3</th>\n",
       "      <td>7250</td>\n",
       "      <td>11376</td>\n",
       "      <td>4555.069608</td>\n",
       "      <td>59</td>\n",
       "      <td>15.604402</td>\n",
       "      <td>8.197414</td>\n",
       "      <td>22.663237</td>\n",
       "      <td>9116</td>\n",
       "      <td>33.668754</td>\n",
       "      <td>13775.764630</td>\n",
       "      <td>...</td>\n",
       "      <td>501.958313</td>\n",
       "      <td>0.000000</td>\n",
       "      <td>0.230598</td>\n",
       "      <td>0.090020</td>\n",
       "      <td>0.092179</td>\n",
       "      <td>0.093069</td>\n",
       "      <td>0.093896</td>\n",
       "      <td>0.093538</td>\n",
       "      <td>0.092516</td>\n",
       "      <td>0</td>\n",
       "    </tr>\n",
       "    <tr>\n",
       "      <th>4</th>\n",
       "      <td>23318</td>\n",
       "      <td>8863</td>\n",
       "      <td>12772.527100</td>\n",
       "      <td>58</td>\n",
       "      <td>12.020738</td>\n",
       "      <td>5.707629</td>\n",
       "      <td>38.894170</td>\n",
       "      <td>2210</td>\n",
       "      <td>54.925690</td>\n",
       "      <td>2685.206071</td>\n",
       "      <td>...</td>\n",
       "      <td>227.874769</td>\n",
       "      <td>0.000000</td>\n",
       "      <td>0.093470</td>\n",
       "      <td>0.093986</td>\n",
       "      <td>0.079772</td>\n",
       "      <td>0.092253</td>\n",
       "      <td>0.087237</td>\n",
       "      <td>0.093538</td>\n",
       "      <td>0.092516</td>\n",
       "      <td>0</td>\n",
       "    </tr>\n",
       "    <tr>\n",
       "      <th>...</th>\n",
       "      <td>...</td>\n",
       "      <td>...</td>\n",
       "      <td>...</td>\n",
       "      <td>...</td>\n",
       "      <td>...</td>\n",
       "      <td>...</td>\n",
       "      <td>...</td>\n",
       "      <td>...</td>\n",
       "      <td>...</td>\n",
       "      <td>...</td>\n",
       "      <td>...</td>\n",
       "      <td>...</td>\n",
       "      <td>...</td>\n",
       "      <td>...</td>\n",
       "      <td>...</td>\n",
       "      <td>...</td>\n",
       "      <td>...</td>\n",
       "      <td>...</td>\n",
       "      <td>...</td>\n",
       "      <td>...</td>\n",
       "      <td>...</td>\n",
       "    </tr>\n",
       "    <tr>\n",
       "      <th>9981</th>\n",
       "      <td>13922</td>\n",
       "      <td>21594</td>\n",
       "      <td>21715.279110</td>\n",
       "      <td>58</td>\n",
       "      <td>9.162720</td>\n",
       "      <td>6.121827</td>\n",
       "      <td>24.322952</td>\n",
       "      <td>8071</td>\n",
       "      <td>72.441386</td>\n",
       "      <td>1370.398592</td>\n",
       "      <td>...</td>\n",
       "      <td>887.803407</td>\n",
       "      <td>0.000000</td>\n",
       "      <td>0.557005</td>\n",
       "      <td>0.090536</td>\n",
       "      <td>0.099800</td>\n",
       "      <td>0.092216</td>\n",
       "      <td>0.093896</td>\n",
       "      <td>0.095657</td>\n",
       "      <td>0.092516</td>\n",
       "      <td>1</td>\n",
       "    </tr>\n",
       "    <tr>\n",
       "      <th>9982</th>\n",
       "      <td>18337</td>\n",
       "      <td>12646</td>\n",
       "      <td>12266.135290</td>\n",
       "      <td>59</td>\n",
       "      <td>15.716451</td>\n",
       "      <td>14.454891</td>\n",
       "      <td>21.216554</td>\n",
       "      <td>9561</td>\n",
       "      <td>71.855070</td>\n",
       "      <td>291.897445</td>\n",
       "      <td>...</td>\n",
       "      <td>596.044012</td>\n",
       "      <td>0.000000</td>\n",
       "      <td>2.426034</td>\n",
       "      <td>0.093986</td>\n",
       "      <td>0.087944</td>\n",
       "      <td>0.093069</td>\n",
       "      <td>0.095873</td>\n",
       "      <td>0.091887</td>\n",
       "      <td>0.092516</td>\n",
       "      <td>1</td>\n",
       "    </tr>\n",
       "    <tr>\n",
       "      <th>9983</th>\n",
       "      <td>33611</td>\n",
       "      <td>16618</td>\n",
       "      <td>7848.023464</td>\n",
       "      <td>58</td>\n",
       "      <td>15.700817</td>\n",
       "      <td>6.033638</td>\n",
       "      <td>5.412259</td>\n",
       "      <td>10047</td>\n",
       "      <td>48.298430</td>\n",
       "      <td>654.904422</td>\n",
       "      <td>...</td>\n",
       "      <td>3070.436917</td>\n",
       "      <td>0.090909</td>\n",
       "      <td>0.360910</td>\n",
       "      <td>0.090020</td>\n",
       "      <td>0.095772</td>\n",
       "      <td>0.093069</td>\n",
       "      <td>0.087237</td>\n",
       "      <td>0.090244</td>\n",
       "      <td>0.092516</td>\n",
       "      <td>1</td>\n",
       "    </tr>\n",
       "    <tr>\n",
       "      <th>9984</th>\n",
       "      <td>6032</td>\n",
       "      <td>23141</td>\n",
       "      <td>16097.304840</td>\n",
       "      <td>59</td>\n",
       "      <td>8.006096</td>\n",
       "      <td>3.578595</td>\n",
       "      <td>31.541609</td>\n",
       "      <td>6332</td>\n",
       "      <td>86.960416</td>\n",
       "      <td>573.685977</td>\n",
       "      <td>...</td>\n",
       "      <td>733.665796</td>\n",
       "      <td>0.000000</td>\n",
       "      <td>0.387373</td>\n",
       "      <td>0.093986</td>\n",
       "      <td>0.091867</td>\n",
       "      <td>0.092216</td>\n",
       "      <td>0.095873</td>\n",
       "      <td>0.097986</td>\n",
       "      <td>0.092516</td>\n",
       "      <td>1</td>\n",
       "    </tr>\n",
       "    <tr>\n",
       "      <th>9985</th>\n",
       "      <td>15784</td>\n",
       "      <td>5883</td>\n",
       "      <td>8372.322579</td>\n",
       "      <td>58</td>\n",
       "      <td>19.033650</td>\n",
       "      <td>8.358352</td>\n",
       "      <td>32.058929</td>\n",
       "      <td>4060</td>\n",
       "      <td>68.910149</td>\n",
       "      <td>358.605318</td>\n",
       "      <td>...</td>\n",
       "      <td>183.505819</td>\n",
       "      <td>0.000000</td>\n",
       "      <td>0.082950</td>\n",
       "      <td>0.095432</td>\n",
       "      <td>0.092179</td>\n",
       "      <td>0.093069</td>\n",
       "      <td>0.096380</td>\n",
       "      <td>0.097809</td>\n",
       "      <td>0.092516</td>\n",
       "      <td>1</td>\n",
       "    </tr>\n",
       "  </tbody>\n",
       "</table>\n",
       "<p>9986 rows × 28 columns</p>\n",
       "</div>"
      ],
      "text/plain": [
       "      Loan Amount  Funded Amount  Funded Amount Investor  Term  Interest Rate  \\\n",
       "0            3640          30194            10276.241020    58      13.794734   \n",
       "1           13395          26144            11512.703630    36      20.474885   \n",
       "2           17251          16588            12002.733890    58      10.137259   \n",
       "3            7250          11376             4555.069608    59      15.604402   \n",
       "4           23318           8863            12772.527100    58      12.020738   \n",
       "...           ...            ...                     ...   ...            ...   \n",
       "9981        13922          21594            21715.279110    58       9.162720   \n",
       "9982        18337          12646            12266.135290    59      15.716451   \n",
       "9983        33611          16618             7848.023464    58      15.700817   \n",
       "9984         6032          23141            16097.304840    59       8.006096   \n",
       "9985        15784           5883             8372.322579    58      19.033650   \n",
       "\n",
       "      Employment Duration  Debit to Income  Revolving Balance  \\\n",
       "0                5.534813        16.908712              11369   \n",
       "1               15.599605        22.919477              31665   \n",
       "2                8.912036        11.190306               7434   \n",
       "3                8.197414        22.663237               9116   \n",
       "4                5.707629        38.894170               2210   \n",
       "...                   ...              ...                ...   \n",
       "9981             6.121827        24.322952               8071   \n",
       "9982            14.454891        21.216554               9561   \n",
       "9983             6.033638         5.412259              10047   \n",
       "9984             3.578595        31.541609               6332   \n",
       "9985             8.358352        32.058929               4060   \n",
       "\n",
       "      Revolving Utilities  Total Received Interest  ...  \\\n",
       "0               62.986912              1295.135286  ...   \n",
       "1               46.380954              7811.891353  ...   \n",
       "2               79.150124               943.057467  ...   \n",
       "3               33.668754             13775.764630  ...   \n",
       "4               54.925690              2685.206071  ...   \n",
       "...                   ...                      ...  ...   \n",
       "9981            72.441386              1370.398592  ...   \n",
       "9982            71.855070               291.897445  ...   \n",
       "9983            48.298430               654.904422  ...   \n",
       "9984            86.960416               573.685977  ...   \n",
       "9985            68.910149               358.605318  ...   \n",
       "\n",
       "      Funded Amount / Debit to Income  Inquires - six months / Open Account  \\\n",
       "0                         1785.706648                              0.000000   \n",
       "1                         1140.689183                              0.000000   \n",
       "2                         1482.354421                              0.200000   \n",
       "3                          501.958313                              0.000000   \n",
       "4                          227.874769                              0.000000   \n",
       "...                               ...                                   ...   \n",
       "9981                       887.803407                              0.000000   \n",
       "9982                       596.044012                              0.000000   \n",
       "9983                      3070.436917                              0.090909   \n",
       "9984                       733.665796                              0.000000   \n",
       "9985                       183.505819                              0.000000   \n",
       "\n",
       "      Revolving Balance / Total Revolving Credit Limit  \\\n",
       "0                                             6.919659   \n",
       "1                                             1.042160   \n",
       "2                                             1.531205   \n",
       "3                                             0.230598   \n",
       "4                                             0.093470   \n",
       "...                                                ...   \n",
       "9981                                          0.557005   \n",
       "9982                                          2.426034   \n",
       "9983                                          0.360910   \n",
       "9984                                          0.387373   \n",
       "9985                                          0.082950   \n",
       "\n",
       "      Proporción Morosidad según financiación  \\\n",
       "0                                    0.093986   \n",
       "1                                    0.090536   \n",
       "2                                    0.093986   \n",
       "3                                    0.090020   \n",
       "4                                    0.093986   \n",
       "...                                       ...   \n",
       "9981                                 0.090536   \n",
       "9982                                 0.093986   \n",
       "9983                                 0.090020   \n",
       "9984                                 0.093986   \n",
       "9985                                 0.095432   \n",
       "\n",
       "      Proporción Morosidad según Batch Enrolled  Grado_interes_ordered  \\\n",
       "0                                      0.105029               0.093069   \n",
       "1                                      0.095772               0.093069   \n",
       "2                                      0.099800               0.092253   \n",
       "3                                      0.092179               0.093069   \n",
       "4                                      0.079772               0.092253   \n",
       "...                                         ...                    ...   \n",
       "9981                                   0.099800               0.092216   \n",
       "9982                                   0.087944               0.093069   \n",
       "9983                                   0.095772               0.093069   \n",
       "9984                                   0.091867               0.092216   \n",
       "9985                                   0.092179               0.093069   \n",
       "\n",
       "      Grade_ordered  SubGrade_ordered  application_type_ordered  Loan Status  \n",
       "0          0.093896          0.088920                  0.092516            0  \n",
       "1          0.096380          0.094201                  0.092516            0  \n",
       "2          0.087237          0.091887                  0.092516            0  \n",
       "3          0.093896          0.093538                  0.092516            0  \n",
       "4          0.087237          0.093538                  0.092516            0  \n",
       "...             ...               ...                       ...          ...  \n",
       "9981       0.093896          0.095657                  0.092516            1  \n",
       "9982       0.095873          0.091887                  0.092516            1  \n",
       "9983       0.087237          0.090244                  0.092516            1  \n",
       "9984       0.095873          0.097986                  0.092516            1  \n",
       "9985       0.096380          0.097809                  0.092516            1  \n",
       "\n",
       "[9986 rows x 28 columns]"
      ]
     },
     "execution_count": 34,
     "metadata": {},
     "output_type": "execute_result"
    }
   ],
   "source": [
    "df_undersampled"
   ]
  },
  {
   "cell_type": "code",
   "execution_count": 35,
   "metadata": {},
   "outputs": [
    {
     "data": {
      "text/plain": [
       "<Axes: >"
      ]
     },
     "execution_count": 35,
     "metadata": {},
     "output_type": "execute_result"
    },
    {
     "data": {
      "image/png": "[encoded data removed]",
      "text/plain": [
       "<Figure size 3000x1500 with 2 Axes>"
      ]
     },
     "metadata": {},
     "output_type": "display_data"
    }
   ],
   "source": [
    "plt.figure(figsize=(30,15))\n",
    "sns.heatmap(df_undersampled.corr(numeric_only=True),annot=True)"
   ]
  },
  {
   "cell_type": "code",
   "execution_count": 36,
   "metadata": {},
   "outputs": [
    {
     "name": "stdout",
     "output_type": "stream",
     "text": [
      "(7988, 27)\n",
      "(7988,)\n",
      "(1998, 27)\n",
      "(1998,)\n"
     ]
    }
   ],
   "source": [
    "X_train_under, X_test_under, y_train_under, y_test_under = train_test_split(X_under,y_under,test_size=0.2,random_state=42)\n",
    "print(X_train_under.shape)\n",
    "print(y_train_under.shape)\n",
    "print(X_test_under.shape)\n",
    "print(y_test_under.shape)"
   ]
  },
  {
   "attachments": {},
   "cell_type": "markdown",
   "metadata": {},
   "source": [
    "Gradient Boosting"
   ]
  },
  {
   "cell_type": "code",
   "execution_count": 37,
   "metadata": {},
   "outputs": [],
   "source": [
    "pipegb = Pipeline(steps=[\n",
    "    (\"scaler\", StandardScaler()),\n",
    "    (\"selectkbest\", SelectKBest()),\n",
    "    (\"classifier\", GradientBoostingClassifier())\n",
    "])\n",
    "\n",
    "gb_params = {\n",
    "\"classifier__n_estimators\": [100,150],\n",
    "'scaler' : [StandardScaler(), None],\n",
    "'selectkbest__k' : np.arange(5,16),\n",
    "'classifier__max_features': [4,5,6,7],\n",
    "'classifier__max_depth': [4,5,6,7],\n",
    "'classifier__min_samples_split': [2,3,4,5,6]} "
   ]
  },
  {
   "cell_type": "code",
   "execution_count": 38,
   "metadata": {},
   "outputs": [],
   "source": [
    "modelgb = GridSearchCV(estimator = pipegb, param_grid = gb_params, cv=5, scoring=\"recall\",n_jobs=-1)"
   ]
  },
  {
   "cell_type": "code",
   "execution_count": 39,
   "metadata": {},
   "outputs": [
    {
     "data": {
      "text/html": [
       "<style>#sk-container-id-1 {color: black;background-color: white;}#sk-container-id-1 pre{padding: 0;}#sk-container-id-1 div.sk-toggleable {background-color: white;}#sk-container-id-1 label.sk-toggleable__label {cursor: pointer;display: block;width: 100%;margin-bottom: 0;padding: 0.3em;box-sizing: border-box;text-align: center;}#sk-container-id-1 label.sk-toggleable__label-arrow:before {content: \"▸\";float: left;margin-right: 0.25em;color: #696969;}#sk-container-id-1 label.sk-toggleable__label-arrow:hover:before {color: black;}#sk-container-id-1 div.sk-estimator:hover label.sk-toggleable__label-arrow:before {color: black;}#sk-container-id-1 div.sk-toggleable__content {max-height: 0;max-width: 0;overflow: hidden;text-align: left;background-color: #f0f8ff;}#sk-container-id-1 div.sk-toggleable__content pre {margin: 0.2em;color: black;border-radius: 0.25em;background-color: #f0f8ff;}#sk-container-id-1 input.sk-toggleable__control:checked~div.sk-toggleable__content {max-height: 200px;max-width: 100%;overflow: auto;}#sk-container-id-1 input.sk-toggleable__control:checked~label.sk-toggleable__label-arrow:before {content: \"▾\";}#sk-container-id-1 div.sk-estimator input.sk-toggleable__control:checked~label.sk-toggleable__label {background-color: #d4ebff;}#sk-container-id-1 div.sk-label input.sk-toggleable__control:checked~label.sk-toggleable__label {background-color: #d4ebff;}#sk-container-id-1 input.sk-hidden--visually {border: 0;clip: rect(1px 1px 1px 1px);clip: rect(1px, 1px, 1px, 1px);height: 1px;margin: -1px;overflow: hidden;padding: 0;position: absolute;width: 1px;}#sk-container-id-1 div.sk-estimator {font-family: monospace;background-color: #f0f8ff;border: 1px dotted black;border-radius: 0.25em;box-sizing: border-box;margin-bottom: 0.5em;}#sk-container-id-1 div.sk-estimator:hover {background-color: #d4ebff;}#sk-container-id-1 div.sk-parallel-item::after {content: \"\";width: 100%;border-bottom: 1px solid gray;flex-grow: 1;}#sk-container-id-1 div.sk-label:hover label.sk-toggleable__label {background-color: #d4ebff;}#sk-container-id-1 div.sk-serial::before {content: \"\";position: absolute;border-left: 1px solid gray;box-sizing: border-box;top: 0;bottom: 0;left: 50%;z-index: 0;}#sk-container-id-1 div.sk-serial {display: flex;flex-direction: column;align-items: center;background-color: white;padding-right: 0.2em;padding-left: 0.2em;position: relative;}#sk-container-id-1 div.sk-item {position: relative;z-index: 1;}#sk-container-id-1 div.sk-parallel {display: flex;align-items: stretch;justify-content: center;background-color: white;position: relative;}#sk-container-id-1 div.sk-item::before, #sk-container-id-1 div.sk-parallel-item::before {content: \"\";position: absolute;border-left: 1px solid gray;box-sizing: border-box;top: 0;bottom: 0;left: 50%;z-index: -1;}#sk-container-id-1 div.sk-parallel-item {display: flex;flex-direction: column;z-index: 1;position: relative;background-color: white;}#sk-container-id-1 div.sk-parallel-item:first-child::after {align-self: flex-end;width: 50%;}#sk-container-id-1 div.sk-parallel-item:last-child::after {align-self: flex-start;width: 50%;}#sk-container-id-1 div.sk-parallel-item:only-child::after {width: 0;}#sk-container-id-1 div.sk-dashed-wrapped {border: 1px dashed gray;margin: 0 0.4em 0.5em 0.4em;box-sizing: border-box;padding-bottom: 0.4em;background-color: white;}#sk-container-id-1 div.sk-label label {font-family: monospace;font-weight: bold;display: inline-block;line-height: 1.2em;}#sk-container-id-1 div.sk-label-container {text-align: center;}#sk-container-id-1 div.sk-container {/* jupyter's `normalize.less` sets `[hidden] { display: none; }` but bootstrap.min.css set `[hidden] { display: none !important; }` so we also need the `!important` here to be able to override the default hidden behavior on the sphinx rendered scikit-learn.org. See: https://github.com/scikit-learn/scikit-learn/issues/21755 */display: inline-block !important;position: relative;}#sk-container-id-1 div.sk-text-repr-fallback {display: none;}</style><div id=\"sk-container-id-1\" class=\"sk-top-container\"><div class=\"sk-text-repr-fallback\"><pre>GridSearchCV(cv=5,\n",
       "             estimator=Pipeline(steps=[(&#x27;scaler&#x27;, StandardScaler()),\n",
       "                                       (&#x27;selectkbest&#x27;, SelectKBest()),\n",
       "                                       (&#x27;classifier&#x27;,\n",
       "                                        GradientBoostingClassifier())]),\n",
       "             n_jobs=-1,\n",
       "             param_grid={&#x27;classifier__max_depth&#x27;: [4, 5, 6, 7],\n",
       "                         &#x27;classifier__max_features&#x27;: [4, 5, 6, 7],\n",
       "                         &#x27;classifier__min_samples_split&#x27;: [2, 3, 4, 5, 6],\n",
       "                         &#x27;classifier__n_estimators&#x27;: [100, 150],\n",
       "                         &#x27;scaler&#x27;: [StandardScaler(), None],\n",
       "                         &#x27;selectkbest__k&#x27;: array([ 5,  6,  7,  8,  9, 10, 11, 12, 13, 14, 15])},\n",
       "             scoring=&#x27;recall&#x27;)</pre><b>In a Jupyter environment, please rerun this cell to show the HTML representation or trust the notebook. <br />On GitHub, the HTML representation is unable to render, please try loading this page with nbviewer.org.</b></div><div class=\"sk-container\" hidden><div class=\"sk-item sk-dashed-wrapped\"><div class=\"sk-label-container\"><div class=\"sk-label sk-toggleable\"><input class=\"sk-toggleable__control sk-hidden--visually\" id=\"sk-estimator-id-1\" type=\"checkbox\" ><label for=\"sk-estimator-id-1\" class=\"sk-toggleable__label sk-toggleable__label-arrow\">GridSearchCV</label><div class=\"sk-toggleable__content\"><pre>GridSearchCV(cv=5,\n",
       "             estimator=Pipeline(steps=[(&#x27;scaler&#x27;, StandardScaler()),\n",
       "                                       (&#x27;selectkbest&#x27;, SelectKBest()),\n",
       "                                       (&#x27;classifier&#x27;,\n",
       "                                        GradientBoostingClassifier())]),\n",
       "             n_jobs=-1,\n",
       "             param_grid={&#x27;classifier__max_depth&#x27;: [4, 5, 6, 7],\n",
       "                         &#x27;classifier__max_features&#x27;: [4, 5, 6, 7],\n",
       "                         &#x27;classifier__min_samples_split&#x27;: [2, 3, 4, 5, 6],\n",
       "                         &#x27;classifier__n_estimators&#x27;: [100, 150],\n",
       "                         &#x27;scaler&#x27;: [StandardScaler(), None],\n",
       "                         &#x27;selectkbest__k&#x27;: array([ 5,  6,  7,  8,  9, 10, 11, 12, 13, 14, 15])},\n",
       "             scoring=&#x27;recall&#x27;)</pre></div></div></div><div class=\"sk-parallel\"><div class=\"sk-parallel-item\"><div class=\"sk-item\"><div class=\"sk-label-container\"><div class=\"sk-label sk-toggleable\"><input class=\"sk-toggleable__control sk-hidden--visually\" id=\"sk-estimator-id-2\" type=\"checkbox\" ><label for=\"sk-estimator-id-2\" class=\"sk-toggleable__label sk-toggleable__label-arrow\">estimator: Pipeline</label><div class=\"sk-toggleable__content\"><pre>Pipeline(steps=[(&#x27;scaler&#x27;, StandardScaler()), (&#x27;selectkbest&#x27;, SelectKBest()),\n",
       "                (&#x27;classifier&#x27;, GradientBoostingClassifier())])</pre></div></div></div><div class=\"sk-serial\"><div class=\"sk-item\"><div class=\"sk-serial\"><div class=\"sk-item\"><div class=\"sk-estimator sk-toggleable\"><input class=\"sk-toggleable__control sk-hidden--visually\" id=\"sk-estimator-id-3\" type=\"checkbox\" ><label for=\"sk-estimator-id-3\" class=\"sk-toggleable__label sk-toggleable__label-arrow\">StandardScaler</label><div class=\"sk-toggleable__content\"><pre>StandardScaler()</pre></div></div></div><div class=\"sk-item\"><div class=\"sk-estimator sk-toggleable\"><input class=\"sk-toggleable__control sk-hidden--visually\" id=\"sk-estimator-id-4\" type=\"checkbox\" ><label for=\"sk-estimator-id-4\" class=\"sk-toggleable__label sk-toggleable__label-arrow\">SelectKBest</label><div class=\"sk-toggleable__content\"><pre>SelectKBest()</pre></div></div></div><div class=\"sk-item\"><div class=\"sk-estimator sk-toggleable\"><input class=\"sk-toggleable__control sk-hidden--visually\" id=\"sk-estimator-id-5\" type=\"checkbox\" ><label for=\"sk-estimator-id-5\" class=\"sk-toggleable__label sk-toggleable__label-arrow\">GradientBoostingClassifier</label><div class=\"sk-toggleable__content\"><pre>GradientBoostingClassifier()</pre></div></div></div></div></div></div></div></div></div></div></div></div>"
      ],
      "text/plain": [
       "GridSearchCV(cv=5,\n",
       "             estimator=Pipeline(steps=[('scaler', StandardScaler()),\n",
       "                                       ('selectkbest', SelectKBest()),\n",
       "                                       ('classifier',\n",
       "                                        GradientBoostingClassifier())]),\n",
       "             n_jobs=-1,\n",
       "             param_grid={'classifier__max_depth': [4, 5, 6, 7],\n",
       "                         'classifier__max_features': [4, 5, 6, 7],\n",
       "                         'classifier__min_samples_split': [2, 3, 4, 5, 6],\n",
       "                         'classifier__n_estimators': [100, 150],\n",
       "                         'scaler': [StandardScaler(), None],\n",
       "                         'selectkbest__k': array([ 5,  6,  7,  8,  9, 10, 11, 12, 13, 14, 15])},\n",
       "             scoring='recall')"
      ]
     },
     "execution_count": 39,
     "metadata": {},
     "output_type": "execute_result"
    }
   ],
   "source": [
    "modelgb.fit(X_train_under, y_train_under)"
   ]
  },
  {
   "cell_type": "code",
   "execution_count": 40,
   "metadata": {},
   "outputs": [
    {
     "name": "stdout",
     "output_type": "stream",
     "text": [
      "modelgb best score: 0.5318570536828964\n",
      "modelgb best score: {'classifier__max_depth': 4, 'classifier__max_features': 7, 'classifier__min_samples_split': 3, 'classifier__n_estimators': 100, 'scaler': None, 'selectkbest__k': 14}\n",
      "modelgb best score: Pipeline(steps=[('scaler', None), ('selectkbest', SelectKBest(k=14)),\n",
      "                ('classifier',\n",
      "                 GradientBoostingClassifier(max_depth=4, max_features=7,\n",
      "                                            min_samples_split=3))])\n"
     ]
    }
   ],
   "source": [
    "print(\"modelgb best score:\",modelgb.best_score_ )\n",
    "print(\"modelgb best score:\",modelgb.best_params_ )\n",
    "print(\"modelgb best score:\",modelgb.best_estimator_ )"
   ]
  },
  {
   "cell_type": "code",
   "execution_count": 41,
   "metadata": {},
   "outputs": [],
   "source": [
    "\n",
    "y_pred_under_gb = modelgb.best_estimator_.predict(X_test_under)"
   ]
  },
  {
   "cell_type": "code",
   "execution_count": 42,
   "metadata": {},
   "outputs": [
    {
     "name": "stdout",
     "output_type": "stream",
     "text": [
      "modelgb train recall score 0.5050403225806451\n",
      "modelgb train precision_score 0.5191709844559586\n",
      "modelgb train accuracy_score 0.522022022022022\n",
      "modelgb train f1_score 0.512008175779254\n",
      "modelgb train log_loss 17.22807256586931\n"
     ]
    }
   ],
   "source": [
    "print(\"modelgb train recall score\", recall_score(y_test_under, y_pred_under_gb))\n",
    "print(\"modelgb train precision_score\", precision_score(y_test_under, y_pred_under_gb))\n",
    "print(\"modelgb train accuracy_score\", accuracy_score(y_test_under, y_pred_under_gb))\n",
    "print(\"modelgb train f1_score\", f1_score(y_test_under, y_pred_under_gb))\n",
    "print(\"modelgb train log_loss\", log_loss(y_test_under, y_pred_under_gb))\n"
   ]
  },
  {
   "cell_type": "code",
   "execution_count": 43,
   "metadata": {},
   "outputs": [
    {
     "name": "stdout",
     "output_type": "stream",
     "text": [
      "modelgb train confusion matrix\n"
     ]
    },
    {
     "data": {
      "text/plain": [
       "array([[542, 464],\n",
       "       [491, 501]], dtype=int64)"
      ]
     },
     "execution_count": 43,
     "metadata": {},
     "output_type": "execute_result"
    }
   ],
   "source": [
    "print(\"modelgb train confusion matrix\")\n",
    "confusion_matrix(y_test_under, y_pred_under_gb)"
   ]
  },
  {
   "cell_type": "code",
   "execution_count": 44,
   "metadata": {},
   "outputs": [
    {
     "name": "stdout",
     "output_type": "stream",
     "text": [
      "modelgb train confusion matrix\n"
     ]
    },
    {
     "data": {
      "text/plain": [
       "array([[0.5387674 , 0.4612326 ],\n",
       "       [0.49495968, 0.50504032]])"
      ]
     },
     "execution_count": 44,
     "metadata": {},
     "output_type": "execute_result"
    }
   ],
   "source": [
    "print(\"modelgb train confusion matrix\")\n",
    "confusion_matrix(y_test_under, y_pred_under_gb,normalize=\"true\")"
   ]
  },
  {
   "cell_type": "code",
   "execution_count": 45,
   "metadata": {},
   "outputs": [],
   "source": [
    "y_pred_gb = modelgb.best_estimator_.predict(X_test)"
   ]
  },
  {
   "cell_type": "code",
   "execution_count": 46,
   "metadata": {},
   "outputs": [
    {
     "name": "stdout",
     "output_type": "stream",
     "text": [
      "modelgb test recall score 0.5480769230769231\n",
      "modelgb test precision_score 0.10344827586206896\n",
      "modelgb test accuracy_score 0.5188616319573112\n",
      "modelgb test f1_score 0.17404580152671756\n",
      "modelgb test log_loss 17.341984569936155\n"
     ]
    }
   ],
   "source": [
    "print(\"modelgb test recall score\", recall_score(y_test, y_pred_gb))\n",
    "print(\"modelgb test precision_score\", precision_score(y_test, y_pred_gb))\n",
    "print(\"modelgb test accuracy_score\", accuracy_score(y_test, y_pred_gb))\n",
    "print(\"modelgb test f1_score\", f1_score(y_test, y_pred_gb))\n",
    "print(\"modelgb test log_loss\", log_loss(y_test, y_pred_gb))\n"
   ]
  },
  {
   "cell_type": "code",
   "execution_count": 47,
   "metadata": {},
   "outputs": [
    {
     "name": "stdout",
     "output_type": "stream",
     "text": [
      "modelgb test confusion matrix\n"
     ]
    },
    {
     "data": {
      "text/plain": [
       "array([[6317, 5928],\n",
       "       [ 564,  684]], dtype=int64)"
      ]
     },
     "execution_count": 47,
     "metadata": {},
     "output_type": "execute_result"
    }
   ],
   "source": [
    "print(\"modelgb test confusion matrix\")\n",
    "confusion_matrix(y_test, y_pred_gb)"
   ]
  },
  {
   "cell_type": "code",
   "execution_count": 48,
   "metadata": {},
   "outputs": [
    {
     "name": "stdout",
     "output_type": "stream",
     "text": [
      "modelgb test confusion matrix\n"
     ]
    },
    {
     "data": {
      "text/plain": [
       "array([[0.51588403, 0.48411597],\n",
       "       [0.45192308, 0.54807692]])"
      ]
     },
     "execution_count": 48,
     "metadata": {},
     "output_type": "execute_result"
    }
   ],
   "source": [
    "print(\"modelgb test confusion matrix\")\n",
    "confusion_matrix(y_test, y_pred_gb,normalize=\"true\")"
   ]
  },
  {
   "cell_type": "code",
   "execution_count": 49,
   "metadata": {},
   "outputs": [],
   "source": [
    "with open(\"ModeloGB.pkl\", 'wb') as archivo_salida:\n",
    "    pickle.dump(modelgb.best_estimator_, archivo_salida)"
   ]
  },
  {
   "cell_type": "code",
   "execution_count": 50,
   "metadata": {},
   "outputs": [],
   "source": [
    "with open(\"ModeloGB.yaml\", \"w\") as f:\n",
    "    yaml.dump(modelgb.best_params_, f)"
   ]
  },
  {
   "attachments": {},
   "cell_type": "markdown",
   "metadata": {},
   "source": [
    "Random Forest"
   ]
  },
  {
   "cell_type": "code",
   "execution_count": 51,
   "metadata": {},
   "outputs": [],
   "source": [
    "piperf = Pipeline(steps=[\n",
    "    (\"scaler\", StandardScaler()),\n",
    "    (\"selectkbest\", SelectKBest()),\n",
    "    (\"classifier\", RandomForestClassifier())\n",
    "])\n",
    "rf_params = {\n",
    "'scaler' : [StandardScaler(), None],\n",
    "'selectkbest__k' : np.arange(5,15),\n",
    "'classifier__max_features': [3,5,6,7],\n",
    "'classifier__max_depth': [2,3,4,5,6],\n",
    "'classifier__min_samples_split': [2,3,4,5,6]\n",
    "}"
   ]
  },
  {
   "cell_type": "code",
   "execution_count": 52,
   "metadata": {},
   "outputs": [],
   "source": [
    "modelrf = GridSearchCV(estimator = piperf, param_grid = rf_params, cv=5, scoring=\"recall\",n_jobs=-1)"
   ]
  },
  {
   "cell_type": "code",
   "execution_count": 53,
   "metadata": {},
   "outputs": [
    {
     "data": {
      "text/html": [
       "<style>#sk-container-id-2 {color: black;background-color: white;}#sk-container-id-2 pre{padding: 0;}#sk-container-id-2 div.sk-toggleable {background-color: white;}#sk-container-id-2 label.sk-toggleable__label {cursor: pointer;display: block;width: 100%;margin-bottom: 0;padding: 0.3em;box-sizing: border-box;text-align: center;}#sk-container-id-2 label.sk-toggleable__label-arrow:before {content: \"▸\";float: left;margin-right: 0.25em;color: #696969;}#sk-container-id-2 label.sk-toggleable__label-arrow:hover:before {color: black;}#sk-container-id-2 div.sk-estimator:hover label.sk-toggleable__label-arrow:before {color: black;}#sk-container-id-2 div.sk-toggleable__content {max-height: 0;max-width: 0;overflow: hidden;text-align: left;background-color: #f0f8ff;}#sk-container-id-2 div.sk-toggleable__content pre {margin: 0.2em;color: black;border-radius: 0.25em;background-color: #f0f8ff;}#sk-container-id-2 input.sk-toggleable__control:checked~div.sk-toggleable__content {max-height: 200px;max-width: 100%;overflow: auto;}#sk-container-id-2 input.sk-toggleable__control:checked~label.sk-toggleable__label-arrow:before {content: \"▾\";}#sk-container-id-2 div.sk-estimator input.sk-toggleable__control:checked~label.sk-toggleable__label {background-color: #d4ebff;}#sk-container-id-2 div.sk-label input.sk-toggleable__control:checked~label.sk-toggleable__label {background-color: #d4ebff;}#sk-container-id-2 input.sk-hidden--visually {border: 0;clip: rect(1px 1px 1px 1px);clip: rect(1px, 1px, 1px, 1px);height: 1px;margin: -1px;overflow: hidden;padding: 0;position: absolute;width: 1px;}#sk-container-id-2 div.sk-estimator {font-family: monospace;background-color: #f0f8ff;border: 1px dotted black;border-radius: 0.25em;box-sizing: border-box;margin-bottom: 0.5em;}#sk-container-id-2 div.sk-estimator:hover {background-color: #d4ebff;}#sk-container-id-2 div.sk-parallel-item::after {content: \"\";width: 100%;border-bottom: 1px solid gray;flex-grow: 1;}#sk-container-id-2 div.sk-label:hover label.sk-toggleable__label {background-color: #d4ebff;}#sk-container-id-2 div.sk-serial::before {content: \"\";position: absolute;border-left: 1px solid gray;box-sizing: border-box;top: 0;bottom: 0;left: 50%;z-index: 0;}#sk-container-id-2 div.sk-serial {display: flex;flex-direction: column;align-items: center;background-color: white;padding-right: 0.2em;padding-left: 0.2em;position: relative;}#sk-container-id-2 div.sk-item {position: relative;z-index: 1;}#sk-container-id-2 div.sk-parallel {display: flex;align-items: stretch;justify-content: center;background-color: white;position: relative;}#sk-container-id-2 div.sk-item::before, #sk-container-id-2 div.sk-parallel-item::before {content: \"\";position: absolute;border-left: 1px solid gray;box-sizing: border-box;top: 0;bottom: 0;left: 50%;z-index: -1;}#sk-container-id-2 div.sk-parallel-item {display: flex;flex-direction: column;z-index: 1;position: relative;background-color: white;}#sk-container-id-2 div.sk-parallel-item:first-child::after {align-self: flex-end;width: 50%;}#sk-container-id-2 div.sk-parallel-item:last-child::after {align-self: flex-start;width: 50%;}#sk-container-id-2 div.sk-parallel-item:only-child::after {width: 0;}#sk-container-id-2 div.sk-dashed-wrapped {border: 1px dashed gray;margin: 0 0.4em 0.5em 0.4em;box-sizing: border-box;padding-bottom: 0.4em;background-color: white;}#sk-container-id-2 div.sk-label label {font-family: monospace;font-weight: bold;display: inline-block;line-height: 1.2em;}#sk-container-id-2 div.sk-label-container {text-align: center;}#sk-container-id-2 div.sk-container {/* jupyter's `normalize.less` sets `[hidden] { display: none; }` but bootstrap.min.css set `[hidden] { display: none !important; }` so we also need the `!important` here to be able to override the default hidden behavior on the sphinx rendered scikit-learn.org. See: https://github.com/scikit-learn/scikit-learn/issues/21755 */display: inline-block !important;position: relative;}#sk-container-id-2 div.sk-text-repr-fallback {display: none;}</style><div id=\"sk-container-id-2\" class=\"sk-top-container\"><div class=\"sk-text-repr-fallback\"><pre>GridSearchCV(cv=5,\n",
       "             estimator=Pipeline(steps=[(&#x27;scaler&#x27;, StandardScaler()),\n",
       "                                       (&#x27;selectkbest&#x27;, SelectKBest()),\n",
       "                                       (&#x27;classifier&#x27;,\n",
       "                                        RandomForestClassifier())]),\n",
       "             n_jobs=-1,\n",
       "             param_grid={&#x27;classifier__max_depth&#x27;: [2, 3, 4, 5, 6],\n",
       "                         &#x27;classifier__max_features&#x27;: [3, 5, 6, 7],\n",
       "                         &#x27;classifier__min_samples_split&#x27;: [2, 3, 4, 5, 6],\n",
       "                         &#x27;scaler&#x27;: [StandardScaler(), None],\n",
       "                         &#x27;selectkbest__k&#x27;: array([ 5,  6,  7,  8,  9, 10, 11, 12, 13, 14])},\n",
       "             scoring=&#x27;recall&#x27;)</pre><b>In a Jupyter environment, please rerun this cell to show the HTML representation or trust the notebook. <br />On GitHub, the HTML representation is unable to render, please try loading this page with nbviewer.org.</b></div><div class=\"sk-container\" hidden><div class=\"sk-item sk-dashed-wrapped\"><div class=\"sk-label-container\"><div class=\"sk-label sk-toggleable\"><input class=\"sk-toggleable__control sk-hidden--visually\" id=\"sk-estimator-id-6\" type=\"checkbox\" ><label for=\"sk-estimator-id-6\" class=\"sk-toggleable__label sk-toggleable__label-arrow\">GridSearchCV</label><div class=\"sk-toggleable__content\"><pre>GridSearchCV(cv=5,\n",
       "             estimator=Pipeline(steps=[(&#x27;scaler&#x27;, StandardScaler()),\n",
       "                                       (&#x27;selectkbest&#x27;, SelectKBest()),\n",
       "                                       (&#x27;classifier&#x27;,\n",
       "                                        RandomForestClassifier())]),\n",
       "             n_jobs=-1,\n",
       "             param_grid={&#x27;classifier__max_depth&#x27;: [2, 3, 4, 5, 6],\n",
       "                         &#x27;classifier__max_features&#x27;: [3, 5, 6, 7],\n",
       "                         &#x27;classifier__min_samples_split&#x27;: [2, 3, 4, 5, 6],\n",
       "                         &#x27;scaler&#x27;: [StandardScaler(), None],\n",
       "                         &#x27;selectkbest__k&#x27;: array([ 5,  6,  7,  8,  9, 10, 11, 12, 13, 14])},\n",
       "             scoring=&#x27;recall&#x27;)</pre></div></div></div><div class=\"sk-parallel\"><div class=\"sk-parallel-item\"><div class=\"sk-item\"><div class=\"sk-label-container\"><div class=\"sk-label sk-toggleable\"><input class=\"sk-toggleable__control sk-hidden--visually\" id=\"sk-estimator-id-7\" type=\"checkbox\" ><label for=\"sk-estimator-id-7\" class=\"sk-toggleable__label sk-toggleable__label-arrow\">estimator: Pipeline</label><div class=\"sk-toggleable__content\"><pre>Pipeline(steps=[(&#x27;scaler&#x27;, StandardScaler()), (&#x27;selectkbest&#x27;, SelectKBest()),\n",
       "                (&#x27;classifier&#x27;, RandomForestClassifier())])</pre></div></div></div><div class=\"sk-serial\"><div class=\"sk-item\"><div class=\"sk-serial\"><div class=\"sk-item\"><div class=\"sk-estimator sk-toggleable\"><input class=\"sk-toggleable__control sk-hidden--visually\" id=\"sk-estimator-id-8\" type=\"checkbox\" ><label for=\"sk-estimator-id-8\" class=\"sk-toggleable__label sk-toggleable__label-arrow\">StandardScaler</label><div class=\"sk-toggleable__content\"><pre>StandardScaler()</pre></div></div></div><div class=\"sk-item\"><div class=\"sk-estimator sk-toggleable\"><input class=\"sk-toggleable__control sk-hidden--visually\" id=\"sk-estimator-id-9\" type=\"checkbox\" ><label for=\"sk-estimator-id-9\" class=\"sk-toggleable__label sk-toggleable__label-arrow\">SelectKBest</label><div class=\"sk-toggleable__content\"><pre>SelectKBest()</pre></div></div></div><div class=\"sk-item\"><div class=\"sk-estimator sk-toggleable\"><input class=\"sk-toggleable__control sk-hidden--visually\" id=\"sk-estimator-id-10\" type=\"checkbox\" ><label for=\"sk-estimator-id-10\" class=\"sk-toggleable__label sk-toggleable__label-arrow\">RandomForestClassifier</label><div class=\"sk-toggleable__content\"><pre>RandomForestClassifier()</pre></div></div></div></div></div></div></div></div></div></div></div></div>"
      ],
      "text/plain": [
       "GridSearchCV(cv=5,\n",
       "             estimator=Pipeline(steps=[('scaler', StandardScaler()),\n",
       "                                       ('selectkbest', SelectKBest()),\n",
       "                                       ('classifier',\n",
       "                                        RandomForestClassifier())]),\n",
       "             n_jobs=-1,\n",
       "             param_grid={'classifier__max_depth': [2, 3, 4, 5, 6],\n",
       "                         'classifier__max_features': [3, 5, 6, 7],\n",
       "                         'classifier__min_samples_split': [2, 3, 4, 5, 6],\n",
       "                         'scaler': [StandardScaler(), None],\n",
       "                         'selectkbest__k': array([ 5,  6,  7,  8,  9, 10, 11, 12, 13, 14])},\n",
       "             scoring='recall')"
      ]
     },
     "execution_count": 53,
     "metadata": {},
     "output_type": "execute_result"
    }
   ],
   "source": [
    "modelrf.fit(X_train_under, y_train_under)"
   ]
  },
  {
   "cell_type": "code",
   "execution_count": 54,
   "metadata": {},
   "outputs": [
    {
     "name": "stdout",
     "output_type": "stream",
     "text": [
      "modelrf best score: 0.618334581772784\n",
      "modelrf best score: {'classifier__max_depth': 2, 'classifier__max_features': 5, 'classifier__min_samples_split': 5, 'scaler': StandardScaler(), 'selectkbest__k': 8}\n",
      "modelrf best score: Pipeline(steps=[('scaler', StandardScaler()), ('selectkbest', SelectKBest(k=8)),\n",
      "                ('classifier',\n",
      "                 RandomForestClassifier(max_depth=2, max_features=5,\n",
      "                                        min_samples_split=5))])\n"
     ]
    }
   ],
   "source": [
    "print(\"modelrf best score:\",modelrf.best_score_ )\n",
    "print(\"modelrf best score:\",modelrf.best_params_ )\n",
    "print(\"modelrf best score:\",modelrf.best_estimator_ )"
   ]
  },
  {
   "cell_type": "code",
   "execution_count": 55,
   "metadata": {},
   "outputs": [],
   "source": [
    "y_pred_under_rf = modelrf.best_estimator_.predict(X_test_under)"
   ]
  },
  {
   "cell_type": "code",
   "execution_count": 56,
   "metadata": {},
   "outputs": [
    {
     "name": "stdout",
     "output_type": "stream",
     "text": [
      "modelrf train recall score 0.7086693548387096\n",
      "modelrf train precision_score 0.5169117647058824\n",
      "modelrf train accuracy_score 0.5265265265265265\n",
      "modelrf train f1_score 0.5977891156462585\n",
      "modelrf train log_loss 17.065713766819233\n"
     ]
    }
   ],
   "source": [
    "print(\"modelrf train recall score\", recall_score(y_test_under, y_pred_under_rf))\n",
    "print(\"modelrf train precision_score\", precision_score(y_test_under, y_pred_under_rf))\n",
    "print(\"modelrf train accuracy_score\", accuracy_score(y_test_under, y_pred_under_rf))\n",
    "print(\"modelrf train f1_score\", f1_score(y_test_under, y_pred_under_rf))\n",
    "print(\"modelrf train log_loss\", log_loss(y_test_under, y_pred_under_rf))\n"
   ]
  },
  {
   "cell_type": "code",
   "execution_count": 57,
   "metadata": {},
   "outputs": [
    {
     "name": "stdout",
     "output_type": "stream",
     "text": [
      "modelrf train confusion matrix\n"
     ]
    },
    {
     "data": {
      "text/plain": [
       "array([[349, 657],\n",
       "       [289, 703]], dtype=int64)"
      ]
     },
     "execution_count": 57,
     "metadata": {},
     "output_type": "execute_result"
    }
   ],
   "source": [
    "print(\"modelrf train confusion matrix\")\n",
    "confusion_matrix(y_test_under, y_pred_under_rf)\n"
   ]
  },
  {
   "cell_type": "code",
   "execution_count": 58,
   "metadata": {},
   "outputs": [
    {
     "name": "stdout",
     "output_type": "stream",
     "text": [
      "modelrf train confusion matrix\n"
     ]
    },
    {
     "data": {
      "text/plain": [
       "array([[0.34691849, 0.65308151],\n",
       "       [0.29133065, 0.70866935]])"
      ]
     },
     "execution_count": 58,
     "metadata": {},
     "output_type": "execute_result"
    }
   ],
   "source": [
    "print(\"modelrf train confusion matrix\")\n",
    "confusion_matrix(y_test_under, y_pred_under_rf,normalize=\"true\")"
   ]
  },
  {
   "cell_type": "code",
   "execution_count": 59,
   "metadata": {},
   "outputs": [],
   "source": [
    "y_pred_rf = modelrf.best_estimator_.predict(X_test)"
   ]
  },
  {
   "cell_type": "code",
   "execution_count": 60,
   "metadata": {},
   "outputs": [
    {
     "name": "stdout",
     "output_type": "stream",
     "text": [
      "modelrf test recall score 0.7139423076923077\n",
      "modelrf test precision_score 0.09823594266813672\n",
      "modelrf test accuracy_score 0.36737567627658785\n",
      "modelrf test f1_score 0.17270788912579957\n",
      "modelrf test log_loss 22.80209184981131\n"
     ]
    }
   ],
   "source": [
    "print(\"modelrf test recall score\", recall_score(y_test, y_pred_rf))\n",
    "print(\"modelrf test precision_score\", precision_score(y_test, y_pred_rf))\n",
    "print(\"modelrf test accuracy_score\", accuracy_score(y_test, y_pred_rf))\n",
    "print(\"modelrf test f1_score\", f1_score(y_test, y_pred_rf))\n",
    "print(\"modelrf test log_loss\", log_loss(y_test, y_pred_rf))\n"
   ]
  },
  {
   "cell_type": "code",
   "execution_count": 61,
   "metadata": {},
   "outputs": [
    {
     "name": "stdout",
     "output_type": "stream",
     "text": [
      "modelrf test confusion matrix\n"
     ]
    },
    {
     "data": {
      "text/plain": [
       "array([[4066, 8179],\n",
       "       [ 357,  891]], dtype=int64)"
      ]
     },
     "execution_count": 61,
     "metadata": {},
     "output_type": "execute_result"
    }
   ],
   "source": [
    "print(\"modelrf test confusion matrix\")\n",
    "confusion_matrix(y_test, y_pred_rf)\n"
   ]
  },
  {
   "cell_type": "code",
   "execution_count": 62,
   "metadata": {},
   "outputs": [
    {
     "name": "stdout",
     "output_type": "stream",
     "text": [
      "modelrf test confusion matrix\n"
     ]
    },
    {
     "data": {
      "text/plain": [
       "array([[0.3320539 , 0.6679461 ],\n",
       "       [0.28605769, 0.71394231]])"
      ]
     },
     "execution_count": 62,
     "metadata": {},
     "output_type": "execute_result"
    }
   ],
   "source": [
    "print(\"modelrf test confusion matrix\")\n",
    "confusion_matrix(y_test, y_pred_rf,normalize=\"true\")"
   ]
  },
  {
   "cell_type": "code",
   "execution_count": 63,
   "metadata": {},
   "outputs": [],
   "source": [
    "with open(\"ModeloRF.pkl\", 'wb') as archivo_salida:\n",
    "    pickle.dump(modelrf.best_estimator_, archivo_salida)\n",
    "with open(\"ModeloRF.yaml\", \"w\") as f:\n",
    "    yaml.dump(modelrf.best_params_, f)"
   ]
  },
  {
   "attachments": {},
   "cell_type": "markdown",
   "metadata": {},
   "source": [
    "BaggingClassifier"
   ]
  },
  {
   "cell_type": "code",
   "execution_count": 64,
   "metadata": {},
   "outputs": [],
   "source": [
    "pipebc = Pipeline(steps=[\n",
    "    (\"scaler\", StandardScaler()),\n",
    "    (\"selectkbest\", SelectKBest()),\n",
    "    (\"classifier\", BaggingClassifier())\n",
    "])\n",
    "bc_params = {\n",
    "'scaler' : [StandardScaler(), None],\n",
    "'selectkbest__k' : np.arange(5,15),\n",
    "'classifier__max_features': [3,4,5,6,7],\n",
    "'classifier__n_estimators': [100,125,150],\n",
    "'classifier__max_samples': [0.1,0.5,0.7]}"
   ]
  },
  {
   "cell_type": "code",
   "execution_count": 65,
   "metadata": {},
   "outputs": [],
   "source": [
    "modelBC = GridSearchCV(estimator = pipebc, param_grid = bc_params, cv=5, scoring=\"recall\",n_jobs=-1)"
   ]
  },
  {
   "cell_type": "code",
   "execution_count": 66,
   "metadata": {},
   "outputs": [
    {
     "name": "stderr",
     "output_type": "stream",
     "text": [
      "c:\\Users\\User\\AppData\\Local\\Programs\\Python\\Python310\\lib\\site-packages\\sklearn\\model_selection\\_validation.py:378: FitFailedWarning: \n",
      "270 fits failed out of a total of 4500.\n",
      "The score on these train-test partitions for these parameters will be set to nan.\n",
      "If these failures are not expected, you can try to debug them by setting error_score='raise'.\n",
      "\n",
      "Below are more details about the failures:\n",
      "--------------------------------------------------------------------------------\n",
      "270 fits failed with the following error:\n",
      "Traceback (most recent call last):\n",
      "  File \"c:\\Users\\User\\AppData\\Local\\Programs\\Python\\Python310\\lib\\site-packages\\sklearn\\model_selection\\_validation.py\", line 686, in _fit_and_score\n",
      "    estimator.fit(X_train, y_train, **fit_params)\n",
      "  File \"c:\\Users\\User\\AppData\\Local\\Programs\\Python\\Python310\\lib\\site-packages\\sklearn\\pipeline.py\", line 405, in fit\n",
      "    self._final_estimator.fit(Xt, y, **fit_params_last_step)\n",
      "  File \"c:\\Users\\User\\AppData\\Local\\Programs\\Python\\Python310\\lib\\site-packages\\sklearn\\ensemble\\_bagging.py\", line 337, in fit\n",
      "    return self._fit(X, y, self.max_samples, sample_weight=sample_weight)\n",
      "  File \"c:\\Users\\User\\AppData\\Local\\Programs\\Python\\Python310\\lib\\site-packages\\sklearn\\ensemble\\_bagging.py\", line 420, in _fit\n",
      "    raise ValueError(\"max_features must be <= n_features\")\n",
      "ValueError: max_features must be <= n_features\n",
      "\n",
      "  warnings.warn(some_fits_failed_message, FitFailedWarning)\n",
      "c:\\Users\\User\\AppData\\Local\\Programs\\Python\\Python310\\lib\\site-packages\\sklearn\\model_selection\\_search.py:952: UserWarning: One or more of the test scores are non-finite: [0.49587578 0.4971236  0.50712297 0.50762828 0.50886954 0.51286798\n",
      " 0.50936704 0.49713577 0.5373711  0.51236236 0.51662391 0.52461579\n",
      " 0.49262141 0.51162203 0.50486392 0.51311548 0.49387047 0.5158736\n",
      " 0.5243736  0.52062984 0.51612266 0.50612422 0.50236735 0.51136891\n",
      " 0.50086579 0.49787921 0.54035424 0.51686486 0.48488265 0.50861267\n",
      " 0.50462484 0.51061423 0.50887141 0.49787297 0.50137797 0.51036642\n",
      " 0.51161205 0.50837235 0.50362328 0.50262172 0.50711548 0.51761548\n",
      " 0.51911923 0.50412578 0.48937609 0.52411767 0.50812016 0.48962578\n",
      " 0.49986829 0.51612422 0.49812547 0.51337016 0.49038046 0.5003814\n",
      " 0.50312016 0.5098661  0.49287203 0.49287484 0.50161673 0.52512703\n",
      " 0.4991289  0.51211891 0.5026264  0.50487328 0.49936891 0.51462297\n",
      " 0.51461891 0.51211767 0.50637079 0.50237953 0.49637453 0.50912547\n",
      " 0.51362141 0.50512266 0.5078686  0.50887297 0.49712921 0.50511985\n",
      " 0.49512141 0.49637016 0.5071264  0.52361985 0.51762047 0.50437391\n",
      " 0.50637016 0.52386673 0.51837703 0.5136236  0.51861767 0.50863046\n",
      " 0.49887828 0.51112141 0.50212609 0.4998764  0.50987547 0.52161673\n",
      " 0.50887266 0.51061985 0.51337484 0.50987141 0.50587859 0.51062797\n",
      " 0.5146211  0.50262578 0.51012016 0.5073686  0.51287297 0.51313109\n",
      " 0.51011829 0.51587391 0.51012203 0.50962547 0.50712328 0.51211985\n",
      " 0.51311891 0.52636767 0.50388046 0.51262203 0.50536735 0.50986704\n",
      " 0.50862516 0.51137453 0.5041289  0.50961798 0.50986454 0.51087328\n",
      " 0.51161454 0.50288015 0.49837765 0.51212734 0.51162079 0.51787235\n",
      " 0.5056264  0.51462172 0.50961267 0.5173711  0.50387297 0.50462016\n",
      " 0.49513015 0.49612703 0.50362516 0.52287328 0.50737765 0.51136923\n",
      " 0.50062453 0.5121186  0.50337422 0.51337484 0.48462797 0.51862203\n",
      " 0.50637609 0.50687765 0.50087203 0.51486642 0.50836454 0.52012453\n",
      " 0.51712422 0.51312484 0.51561923 0.51262266 0.50012453 0.51337765\n",
      " 0.50412328 0.5113686  0.51012172 0.51712453 0.50936985 0.51261891\n",
      " 0.5021211  0.51262047 0.51062578 0.51512297 0.49937797 0.50812453\n",
      " 0.52136985 0.51836891 0.50861454 0.51512235 0.50436673 0.4998736\n",
      " 0.48387734 0.49913015 0.47313046 0.48562828 0.48837797 0.49413202\n",
      " 0.52137484 0.47812703 0.49862578 0.47763077 0.49112391 0.50238296\n",
      " 0.49587079 0.48913171 0.50537453 0.50862172 0.50186298 0.49637734\n",
      " 0.47887828 0.4868711  0.49887391 0.5113711  0.50862547 0.48612578\n",
      " 0.50661704 0.49387609 0.4983839  0.50287235 0.49811392 0.49687672\n",
      " 0.50587547 0.5176289  0.5126186  0.48237765 0.50637797 0.51187578\n",
      " 0.50886704 0.51261923 0.49337328 0.5193764  0.4938814  0.50062797\n",
      " 0.5021264  0.5043711  0.50113015 0.50512266 0.49487547 0.47663702\n",
      " 0.4851289  0.48938046 0.48488109 0.51312765 0.49012016 0.48312921\n",
      " 0.49437984 0.50262484 0.48612203 0.50786642 0.50413046 0.50711923\n",
      " 0.4893789  0.49687516 0.49587859 0.50361767 0.49687141 0.4921289\n",
      " 0.48812828 0.50012266 0.50062141 0.48912672 0.49037859 0.50687453\n",
      " 0.50462453 0.49986954 0.49886954 0.50312203 0.5028711  0.50611673\n",
      " 0.48113015 0.51211891 0.50037016 0.51087172 0.5001236  0.50711767\n",
      " 0.50162172 0.50987079 0.49986673 0.49788015 0.49586767 0.50212391\n",
      " 0.50312547 0.52236642 0.50362328 0.49662047 0.51162235 0.51212516\n",
      " 0.49338046 0.51061767 0.50062047 0.48662765 0.4976236  0.49937703\n",
      " 0.51537141 0.50387547 0.48936579 0.50036891 0.50487609 0.49262484\n",
      " 0.48862765 0.50361829 0.49612453 0.49812547 0.5021264  0.50511954\n",
      " 0.50062203 0.49311923 0.51186704 0.50837547 0.49037422 0.49437734\n",
      " 0.4933736  0.51487391 0.48912984 0.50187484 0.49561954 0.50262547\n",
      " 0.49837828 0.50787703 0.49286767 0.48938452 0.49962703 0.50962703\n",
      " 0.50187328 0.49987391 0.49237235 0.50412391 0.50062953 0.4998764\n",
      " 0.49237235 0.48163483 0.50237828 0.50962203 0.50837578 0.50412609\n",
      " 0.50012172 0.50937047 0.50487484 0.50212516 0.49687141 0.48912391\n",
      " 0.49612391 0.51312141 0.50837453 0.5108711  0.49962328 0.52186017\n",
      " 0.50060893 0.50836548 0.49912266 0.50911923 0.49562203 0.5083711\n",
      " 0.50037172 0.49487609 0.49461517 0.49712235 0.50587391 0.49862734\n",
      " 0.5126236  0.49712828 0.49962578 0.50787516 0.50586985 0.49436985\n",
      " 0.49637297 0.50662079 0.50187953 0.49862297 0.48887266 0.50986985\n",
      " 0.48162765 0.49537734 0.47713452 0.49462828 0.4733789  0.49063327\n",
      " 0.50238327 0.48062547 0.48387859 0.47513109 0.47438483 0.49263265\n",
      " 0.47863202 0.48338358 0.47287828 0.47713327 0.47512734 0.48287578\n",
      " 0.46837765 0.48036704 0.51862047 0.51261673 0.50161985 0.51761798\n",
      " 0.50012328 0.52411985 0.50136642 0.50512079 0.51162328 0.51986798\n",
      " 0.50162734 0.50012953 0.52186486 0.51962203 0.49961923 0.5093633\n",
      " 0.50787016 0.51136548 0.51186517 0.51336454 0.50512203 0.49187422\n",
      " 0.48237921 0.49687734 0.4956236  0.47938795 0.49861735 0.47787516\n",
      " 0.5018736  0.49237578 0.49087797 0.49137921 0.49312734 0.4761367\n",
      " 0.47513015 0.50237765 0.47862422 0.49563764 0.4873736  0.49712235\n",
      " 0.50587391 0.49537453 0.49037921 0.49112921 0.49286517 0.48612422\n",
      " 0.47962016 0.47812047 0.47437453 0.48487453 0.48387921 0.49562797\n",
      " 0.50336704 0.49187547 0.48787547 0.48488327 0.50187422 0.48338109\n",
      " 0.4638764  0.46763265 0.5086186  0.52286704 0.50512391 0.51536829\n",
      " 0.50561704 0.5046211  0.51261486 0.50961548 0.50686954 0.51711392\n",
      " 0.50962172 0.5093686  0.51411642 0.50962047 0.50686704 0.51561673\n",
      " 0.51861423 0.50862141 0.49812235 0.5211133  0.50087734 0.51037079\n",
      " 0.49937047 0.49787079 0.48737172 0.49537141 0.48837672 0.48237734\n",
      " 0.48262703 0.4836289  0.49737297 0.50162047 0.48762828 0.4978711\n",
      " 0.49612047 0.48436704 0.48562172 0.48012453 0.47537391 0.49037516\n",
      " 0.4956211  0.50662422 0.48937797 0.49812672 0.48162547 0.47687578\n",
      " 0.48787235 0.48937797 0.47812422 0.48737453 0.50411673 0.50587516\n",
      " 0.48812953 0.49462921 0.49337235 0.46937765 0.47313421 0.47562453\n",
      " 0.48012672 0.48587734 0.5036236  0.5088711  0.51012453 0.51061829\n",
      " 0.51186767 0.50736267 0.48912609 0.50861891 0.49687734 0.52986923\n",
      " 0.50837703 0.50762266 0.51062609 0.49961954 0.51036361 0.5041083\n",
      " 0.50437016 0.49811891 0.49637547 0.51437328 0.50737672 0.50312297\n",
      " 0.50237391 0.50012609 0.49062828 0.49512453 0.49561548 0.49512266\n",
      " 0.49837516 0.4856289  0.50737391 0.50337609 0.4951236  0.49287484\n",
      " 0.49512016 0.48386923 0.4883764  0.48987297 0.47762422 0.49587141\n",
      "        nan 0.47862484 0.48837953 0.49112484 0.4793892  0.48137516\n",
      " 0.48487703 0.49986767 0.48087921 0.48512172        nan 0.48187297\n",
      " 0.48512859 0.46513577 0.4983736  0.49611985 0.47738077 0.47262453\n",
      " 0.48738702 0.49038514        nan 0.51637016 0.52312422 0.51686017\n",
      " 0.51686361 0.49612079 0.51460955 0.5113661  0.51411579 0.50611985\n",
      "        nan 0.50736704 0.51287516 0.49736829 0.50161423 0.53111642\n",
      " 0.50961735 0.50637328 0.50361236 0.50211704        nan 0.50061642\n",
      " 0.4976236  0.50311985 0.47837422 0.49112547 0.48162235 0.46587765\n",
      " 0.47587703 0.48962703        nan 0.5106236  0.48713483 0.49012797\n",
      " 0.48612297 0.49312797 0.49611486 0.47663421 0.47037797 0.48462297\n",
      "        nan 0.50037235 0.49263077 0.48987765 0.47512391 0.47762765\n",
      " 0.47787391 0.47712578 0.46988233 0.48337578        nan 0.50087079\n",
      " 0.48412516 0.48962047 0.48112921 0.4806289  0.47312921 0.47112328\n",
      " 0.47062609 0.48362266        nan 0.51536704 0.5123736  0.5051186\n",
      " 0.51136423 0.50086829 0.50061298 0.50636923 0.50036954 0.51087172\n",
      "        nan 0.51587203 0.51237141 0.50261891 0.49737453 0.51262172\n",
      " 0.49912235 0.51786767 0.49862079 0.5158608         nan 0.50362141\n",
      " 0.49612453 0.48912453 0.48487297 0.49011798 0.48387547 0.48162266\n",
      " 0.4913736  0.48612609        nan 0.50412484 0.49137516 0.50187235\n",
      " 0.4866264  0.48836829 0.47562453 0.47887328 0.47562297 0.49263202\n",
      "        nan 0.4998736  0.49337484 0.48612578 0.48312079 0.48362203\n",
      " 0.48587297 0.46488109 0.48837578 0.47937797        nan 0.49987734\n",
      " 0.48937609 0.49286985 0.47912734 0.47987203 0.48262172 0.47888452\n",
      " 0.48536579 0.4851236         nan 0.51612172 0.5083686  0.50437391\n",
      " 0.50111767 0.50686829 0.50312391 0.51011798 0.50312141 0.49287422\n",
      "        nan 0.51161642 0.50962578 0.51036642 0.49837266 0.50536205\n",
      " 0.50586205 0.50487266 0.50162203 0.51086579        nan 0.50561673\n",
      " 0.49662797 0.48412141 0.48187297 0.49362172 0.48387016 0.47836642\n",
      " 0.48062672 0.48487672        nan 0.50262297 0.50387203 0.50037297\n",
      " 0.47936891 0.49161954 0.47612859 0.48787297 0.47463077 0.49387547\n",
      "        nan        nan 0.4933661  0.48887203 0.46388233 0.45863109\n",
      " 0.48263077 0.46788046 0.44214139 0.47013296        nan        nan\n",
      " 0.48162391 0.48537453 0.47262297 0.48212203 0.48861704 0.47661735\n",
      " 0.45338171 0.45612609        nan        nan 0.51736392 0.49587516\n",
      " 0.51711423 0.49162328 0.49263296 0.50112172 0.50562484 0.50711891\n",
      "        nan        nan 0.50336642 0.51786486 0.49737765 0.49737203\n",
      " 0.50311517 0.5038633  0.50411735 0.52635986        nan        nan\n",
      " 0.50237391 0.49811985 0.46637859 0.47288202 0.4958711  0.48811985\n",
      " 0.47687921 0.4801211         nan        nan 0.5033711  0.49636829\n",
      " 0.47511798 0.47112516 0.48463233 0.47862203 0.48113046 0.48312672\n",
      "        nan        nan 0.48462672 0.48937422 0.48062703 0.48587172\n",
      " 0.46588233 0.46712453 0.4866236  0.47812453        nan        nan\n",
      " 0.48187672 0.48762047 0.47862047 0.48712266 0.47387828 0.4641314\n",
      " 0.47337203 0.47812984        nan        nan 0.5116186  0.51261673\n",
      " 0.50461954 0.51186423 0.51560643 0.50136704 0.4941186  0.50837235\n",
      "        nan        nan 0.50712047 0.51461704 0.4936161  0.49811704\n",
      " 0.50911579 0.50486954 0.51761174 0.51362016        nan        nan\n",
      " 0.4866236  0.48737921 0.47162484 0.48136985 0.47887266 0.48937484\n",
      " 0.49086954 0.49012609        nan        nan 0.49762609 0.49412578\n",
      " 0.48737141 0.47862484 0.48336486 0.4841211  0.49411798 0.48662453\n",
      "        nan        nan 0.4986236  0.49012297 0.4931236  0.48112266\n",
      " 0.46888109 0.47787734 0.47188109 0.48987328        nan        nan\n",
      " 0.48637765 0.47962547 0.48712297 0.47862141 0.48037297 0.47112297\n",
      " 0.47762703 0.47762672        nan        nan 0.52062016 0.51686579\n",
      " 0.5121133  0.51136642 0.51336267 0.49811954 0.50961642 0.49986798\n",
      "        nan        nan 0.51811923 0.51136829 0.50286735 0.50061673\n",
      " 0.51060955 0.50462141 0.50136579 0.50637297        nan        nan\n",
      " 0.50112797 0.49337266 0.48461954 0.48961798 0.48662765 0.4763764\n",
      " 0.46838764 0.50187141        nan        nan 0.50062203 0.50236891\n",
      " 0.48062203 0.48037765 0.4843686  0.47962734 0.48612797 0.49387141]\n",
      "  warnings.warn(\n"
     ]
    },
    {
     "data": {
      "text/html": [
       "<style>#sk-container-id-3 {color: black;background-color: white;}#sk-container-id-3 pre{padding: 0;}#sk-container-id-3 div.sk-toggleable {background-color: white;}#sk-container-id-3 label.sk-toggleable__label {cursor: pointer;display: block;width: 100%;margin-bottom: 0;padding: 0.3em;box-sizing: border-box;text-align: center;}#sk-container-id-3 label.sk-toggleable__label-arrow:before {content: \"▸\";float: left;margin-right: 0.25em;color: #696969;}#sk-container-id-3 label.sk-toggleable__label-arrow:hover:before {color: black;}#sk-container-id-3 div.sk-estimator:hover label.sk-toggleable__label-arrow:before {color: black;}#sk-container-id-3 div.sk-toggleable__content {max-height: 0;max-width: 0;overflow: hidden;text-align: left;background-color: #f0f8ff;}#sk-container-id-3 div.sk-toggleable__content pre {margin: 0.2em;color: black;border-radius: 0.25em;background-color: #f0f8ff;}#sk-container-id-3 input.sk-toggleable__control:checked~div.sk-toggleable__content {max-height: 200px;max-width: 100%;overflow: auto;}#sk-container-id-3 input.sk-toggleable__control:checked~label.sk-toggleable__label-arrow:before {content: \"▾\";}#sk-container-id-3 div.sk-estimator input.sk-toggleable__control:checked~label.sk-toggleable__label {background-color: #d4ebff;}#sk-container-id-3 div.sk-label input.sk-toggleable__control:checked~label.sk-toggleable__label {background-color: #d4ebff;}#sk-container-id-3 input.sk-hidden--visually {border: 0;clip: rect(1px 1px 1px 1px);clip: rect(1px, 1px, 1px, 1px);height: 1px;margin: -1px;overflow: hidden;padding: 0;position: absolute;width: 1px;}#sk-container-id-3 div.sk-estimator {font-family: monospace;background-color: #f0f8ff;border: 1px dotted black;border-radius: 0.25em;box-sizing: border-box;margin-bottom: 0.5em;}#sk-container-id-3 div.sk-estimator:hover {background-color: #d4ebff;}#sk-container-id-3 div.sk-parallel-item::after {content: \"\";width: 100%;border-bottom: 1px solid gray;flex-grow: 1;}#sk-container-id-3 div.sk-label:hover label.sk-toggleable__label {background-color: #d4ebff;}#sk-container-id-3 div.sk-serial::before {content: \"\";position: absolute;border-left: 1px solid gray;box-sizing: border-box;top: 0;bottom: 0;left: 50%;z-index: 0;}#sk-container-id-3 div.sk-serial {display: flex;flex-direction: column;align-items: center;background-color: white;padding-right: 0.2em;padding-left: 0.2em;position: relative;}#sk-container-id-3 div.sk-item {position: relative;z-index: 1;}#sk-container-id-3 div.sk-parallel {display: flex;align-items: stretch;justify-content: center;background-color: white;position: relative;}#sk-container-id-3 div.sk-item::before, #sk-container-id-3 div.sk-parallel-item::before {content: \"\";position: absolute;border-left: 1px solid gray;box-sizing: border-box;top: 0;bottom: 0;left: 50%;z-index: -1;}#sk-container-id-3 div.sk-parallel-item {display: flex;flex-direction: column;z-index: 1;position: relative;background-color: white;}#sk-container-id-3 div.sk-parallel-item:first-child::after {align-self: flex-end;width: 50%;}#sk-container-id-3 div.sk-parallel-item:last-child::after {align-self: flex-start;width: 50%;}#sk-container-id-3 div.sk-parallel-item:only-child::after {width: 0;}#sk-container-id-3 div.sk-dashed-wrapped {border: 1px dashed gray;margin: 0 0.4em 0.5em 0.4em;box-sizing: border-box;padding-bottom: 0.4em;background-color: white;}#sk-container-id-3 div.sk-label label {font-family: monospace;font-weight: bold;display: inline-block;line-height: 1.2em;}#sk-container-id-3 div.sk-label-container {text-align: center;}#sk-container-id-3 div.sk-container {/* jupyter's `normalize.less` sets `[hidden] { display: none; }` but bootstrap.min.css set `[hidden] { display: none !important; }` so we also need the `!important` here to be able to override the default hidden behavior on the sphinx rendered scikit-learn.org. See: https://github.com/scikit-learn/scikit-learn/issues/21755 */display: inline-block !important;position: relative;}#sk-container-id-3 div.sk-text-repr-fallback {display: none;}</style><div id=\"sk-container-id-3\" class=\"sk-top-container\"><div class=\"sk-text-repr-fallback\"><pre>GridSearchCV(cv=5,\n",
       "             estimator=Pipeline(steps=[(&#x27;scaler&#x27;, StandardScaler()),\n",
       "                                       (&#x27;selectkbest&#x27;, SelectKBest()),\n",
       "                                       (&#x27;classifier&#x27;, BaggingClassifier())]),\n",
       "             n_jobs=-1,\n",
       "             param_grid={&#x27;classifier__max_features&#x27;: [3, 4, 5, 6, 7],\n",
       "                         &#x27;classifier__max_samples&#x27;: [0.1, 0.5, 0.7],\n",
       "                         &#x27;classifier__n_estimators&#x27;: [100, 125, 150],\n",
       "                         &#x27;scaler&#x27;: [StandardScaler(), None],\n",
       "                         &#x27;selectkbest__k&#x27;: array([ 5,  6,  7,  8,  9, 10, 11, 12, 13, 14])},\n",
       "             scoring=&#x27;recall&#x27;)</pre><b>In a Jupyter environment, please rerun this cell to show the HTML representation or trust the notebook. <br />On GitHub, the HTML representation is unable to render, please try loading this page with nbviewer.org.</b></div><div class=\"sk-container\" hidden><div class=\"sk-item sk-dashed-wrapped\"><div class=\"sk-label-container\"><div class=\"sk-label sk-toggleable\"><input class=\"sk-toggleable__control sk-hidden--visually\" id=\"sk-estimator-id-11\" type=\"checkbox\" ><label for=\"sk-estimator-id-11\" class=\"sk-toggleable__label sk-toggleable__label-arrow\">GridSearchCV</label><div class=\"sk-toggleable__content\"><pre>GridSearchCV(cv=5,\n",
       "             estimator=Pipeline(steps=[(&#x27;scaler&#x27;, StandardScaler()),\n",
       "                                       (&#x27;selectkbest&#x27;, SelectKBest()),\n",
       "                                       (&#x27;classifier&#x27;, BaggingClassifier())]),\n",
       "             n_jobs=-1,\n",
       "             param_grid={&#x27;classifier__max_features&#x27;: [3, 4, 5, 6, 7],\n",
       "                         &#x27;classifier__max_samples&#x27;: [0.1, 0.5, 0.7],\n",
       "                         &#x27;classifier__n_estimators&#x27;: [100, 125, 150],\n",
       "                         &#x27;scaler&#x27;: [StandardScaler(), None],\n",
       "                         &#x27;selectkbest__k&#x27;: array([ 5,  6,  7,  8,  9, 10, 11, 12, 13, 14])},\n",
       "             scoring=&#x27;recall&#x27;)</pre></div></div></div><div class=\"sk-parallel\"><div class=\"sk-parallel-item\"><div class=\"sk-item\"><div class=\"sk-label-container\"><div class=\"sk-label sk-toggleable\"><input class=\"sk-toggleable__control sk-hidden--visually\" id=\"sk-estimator-id-12\" type=\"checkbox\" ><label for=\"sk-estimator-id-12\" class=\"sk-toggleable__label sk-toggleable__label-arrow\">estimator: Pipeline</label><div class=\"sk-toggleable__content\"><pre>Pipeline(steps=[(&#x27;scaler&#x27;, StandardScaler()), (&#x27;selectkbest&#x27;, SelectKBest()),\n",
       "                (&#x27;classifier&#x27;, BaggingClassifier())])</pre></div></div></div><div class=\"sk-serial\"><div class=\"sk-item\"><div class=\"sk-serial\"><div class=\"sk-item\"><div class=\"sk-estimator sk-toggleable\"><input class=\"sk-toggleable__control sk-hidden--visually\" id=\"sk-estimator-id-13\" type=\"checkbox\" ><label for=\"sk-estimator-id-13\" class=\"sk-toggleable__label sk-toggleable__label-arrow\">StandardScaler</label><div class=\"sk-toggleable__content\"><pre>StandardScaler()</pre></div></div></div><div class=\"sk-item\"><div class=\"sk-estimator sk-toggleable\"><input class=\"sk-toggleable__control sk-hidden--visually\" id=\"sk-estimator-id-14\" type=\"checkbox\" ><label for=\"sk-estimator-id-14\" class=\"sk-toggleable__label sk-toggleable__label-arrow\">SelectKBest</label><div class=\"sk-toggleable__content\"><pre>SelectKBest()</pre></div></div></div><div class=\"sk-item\"><div class=\"sk-estimator sk-toggleable\"><input class=\"sk-toggleable__control sk-hidden--visually\" id=\"sk-estimator-id-15\" type=\"checkbox\" ><label for=\"sk-estimator-id-15\" class=\"sk-toggleable__label sk-toggleable__label-arrow\">BaggingClassifier</label><div class=\"sk-toggleable__content\"><pre>BaggingClassifier()</pre></div></div></div></div></div></div></div></div></div></div></div></div>"
      ],
      "text/plain": [
       "GridSearchCV(cv=5,\n",
       "             estimator=Pipeline(steps=[('scaler', StandardScaler()),\n",
       "                                       ('selectkbest', SelectKBest()),\n",
       "                                       ('classifier', BaggingClassifier())]),\n",
       "             n_jobs=-1,\n",
       "             param_grid={'classifier__max_features': [3, 4, 5, 6, 7],\n",
       "                         'classifier__max_samples': [0.1, 0.5, 0.7],\n",
       "                         'classifier__n_estimators': [100, 125, 150],\n",
       "                         'scaler': [StandardScaler(), None],\n",
       "                         'selectkbest__k': array([ 5,  6,  7,  8,  9, 10, 11, 12, 13, 14])},\n",
       "             scoring='recall')"
      ]
     },
     "execution_count": 66,
     "metadata": {},
     "output_type": "execute_result"
    }
   ],
   "source": [
    "modelBC.fit(X_train_under, y_train_under)"
   ]
  },
  {
   "cell_type": "code",
   "execution_count": 67,
   "metadata": {},
   "outputs": [
    {
     "name": "stdout",
     "output_type": "stream",
     "text": [
      "modelBC best score: 0.5403542446941324\n",
      "modelBC best score: {'classifier__max_features': 3, 'classifier__max_samples': 0.1, 'classifier__n_estimators': 125, 'scaler': StandardScaler(), 'selectkbest__k': 11}\n",
      "modelBC best score: Pipeline(steps=[('scaler', StandardScaler()),\n",
      "                ('selectkbest', SelectKBest(k=11)),\n",
      "                ('classifier',\n",
      "                 BaggingClassifier(max_features=3, max_samples=0.1,\n",
      "                                   n_estimators=125))])\n"
     ]
    }
   ],
   "source": [
    "print(\"modelBC best score:\",modelBC.best_score_ )\n",
    "print(\"modelBC best score:\",modelBC.best_params_ )\n",
    "print(\"modelBC best score:\",modelBC.best_estimator_ )"
   ]
  },
  {
   "cell_type": "code",
   "execution_count": 68,
   "metadata": {},
   "outputs": [],
   "source": [
    "y_pred_under_bc = modelBC.best_estimator_.predict(X_test_under)"
   ]
  },
  {
   "cell_type": "code",
   "execution_count": 69,
   "metadata": {},
   "outputs": [
    {
     "name": "stdout",
     "output_type": "stream",
     "text": [
      "modelBC train recall score 0.4939516129032258\n",
      "modelBC train precision_score 0.49949031600407745\n",
      "modelBC train accuracy_score 0.503003003003003\n",
      "modelBC train f1_score 0.496705524581855\n",
      "modelBC train log_loss 17.913587495191855\n"
     ]
    }
   ],
   "source": [
    "print(\"modelBC train recall score\", recall_score(y_test_under, y_pred_under_bc))\n",
    "print(\"modelBC train precision_score\", precision_score(y_test_under, y_pred_under_bc))\n",
    "print(\"modelBC train accuracy_score\", accuracy_score(y_test_under, y_pred_under_bc))\n",
    "print(\"modelBC train f1_score\", f1_score(y_test_under, y_pred_under_bc))\n",
    "print(\"modelBC train log_loss\", log_loss(y_test_under, y_pred_under_bc))"
   ]
  },
  {
   "cell_type": "code",
   "execution_count": 70,
   "metadata": {},
   "outputs": [
    {
     "name": "stdout",
     "output_type": "stream",
     "text": [
      "modelBC train confusion matrix\n"
     ]
    },
    {
     "data": {
      "text/plain": [
       "array([[515, 491],\n",
       "       [502, 490]], dtype=int64)"
      ]
     },
     "execution_count": 70,
     "metadata": {},
     "output_type": "execute_result"
    }
   ],
   "source": [
    "print(\"modelBC train confusion matrix\")\n",
    "confusion_matrix(y_test_under, y_pred_under_bc)\n"
   ]
  },
  {
   "cell_type": "code",
   "execution_count": 71,
   "metadata": {},
   "outputs": [
    {
     "name": "stdout",
     "output_type": "stream",
     "text": [
      "modelBC train confusion matrix\n"
     ]
    },
    {
     "data": {
      "text/plain": [
       "array([[0.51192843, 0.48807157],\n",
       "       [0.50604839, 0.49395161]])"
      ]
     },
     "execution_count": 71,
     "metadata": {},
     "output_type": "execute_result"
    }
   ],
   "source": [
    "print(\"modelBC train confusion matrix\")\n",
    "confusion_matrix(y_test_under, y_pred_under_bc,normalize=\"true\")"
   ]
  },
  {
   "cell_type": "code",
   "execution_count": 72,
   "metadata": {},
   "outputs": [],
   "source": [
    "y_pred_bc = modelBC.best_estimator_.predict(X_test)"
   ]
  },
  {
   "cell_type": "code",
   "execution_count": 73,
   "metadata": {},
   "outputs": [
    {
     "name": "stdout",
     "output_type": "stream",
     "text": [
      "modelBC test recall score 0.5064102564102564\n",
      "modelBC test precision_score 0.09266862170087976\n",
      "modelBC test accuracy_score 0.4957385310901949\n",
      "modelBC test f1_score 0.15666831928606842\n",
      "modelBC test log_loss 18.17542560287209\n"
     ]
    }
   ],
   "source": [
    "print(\"modelBC test recall score\", recall_score(y_test, y_pred_bc))\n",
    "print(\"modelBC test precision_score\", precision_score(y_test, y_pred_bc))\n",
    "print(\"modelBC test accuracy_score\", accuracy_score(y_test, y_pred_bc))\n",
    "print(\"modelBC test f1_score\", f1_score(y_test, y_pred_bc))\n",
    "print(\"modelBC test log_loss\", log_loss(y_test, y_pred_bc))\n"
   ]
  },
  {
   "cell_type": "code",
   "execution_count": 74,
   "metadata": {},
   "outputs": [
    {
     "name": "stdout",
     "output_type": "stream",
     "text": [
      "modelBC test confusion matrix\n"
     ]
    },
    {
     "data": {
      "text/plain": [
       "array([[6057, 6188],\n",
       "       [ 616,  632]], dtype=int64)"
      ]
     },
     "execution_count": 74,
     "metadata": {},
     "output_type": "execute_result"
    }
   ],
   "source": [
    "print(\"modelBC test confusion matrix\")\n",
    "confusion_matrix(y_test, y_pred_bc)\n"
   ]
  },
  {
   "cell_type": "code",
   "execution_count": 75,
   "metadata": {},
   "outputs": [
    {
     "name": "stdout",
     "output_type": "stream",
     "text": [
      "modelBC test confusion matrix\n"
     ]
    },
    {
     "data": {
      "text/plain": [
       "array([[0.49465088, 0.50534912],\n",
       "       [0.49358974, 0.50641026]])"
      ]
     },
     "execution_count": 75,
     "metadata": {},
     "output_type": "execute_result"
    }
   ],
   "source": [
    "print(\"modelBC test confusion matrix\")\n",
    "confusion_matrix(y_test, y_pred_bc,normalize=\"true\")"
   ]
  },
  {
   "cell_type": "code",
   "execution_count": 76,
   "metadata": {},
   "outputs": [],
   "source": [
    "with open(\"modelBC.pkl\", 'wb') as archivo_salida:\n",
    "    pickle.dump(modelBC.best_estimator_, archivo_salida)\n",
    "with open(\"modelBC.yaml\", \"w\") as f:\n",
    "    yaml.dump(modelBC.best_params_, f)"
   ]
  },
  {
   "attachments": {},
   "cell_type": "markdown",
   "metadata": {},
   "source": [
    "AdaBoost"
   ]
  },
  {
   "cell_type": "code",
   "execution_count": 77,
   "metadata": {},
   "outputs": [],
   "source": [
    "pipeab = Pipeline(steps=[\n",
    "    (\"scaler\", StandardScaler()),\n",
    "    (\"selectkbest\", SelectKBest()),\n",
    "    (\"classifier\", AdaBoostClassifier())\n",
    "])\n",
    "ab_params = {\n",
    "'scaler' : [StandardScaler(), None],\n",
    "'selectkbest__k' : np.arange(5,15),\n",
    "'classifier__learning_rate': [0.1,0.3,0.5,1],\n",
    "'classifier__n_estimators': [100,125,150]}"
   ]
  },
  {
   "cell_type": "code",
   "execution_count": 78,
   "metadata": {},
   "outputs": [],
   "source": [
    "modelAB = GridSearchCV(estimator = pipeab, param_grid = ab_params, cv=5, scoring=\"recall\",n_jobs=-1)"
   ]
  },
  {
   "cell_type": "code",
   "execution_count": 79,
   "metadata": {},
   "outputs": [
    {
     "data": {
      "text/html": [
       "<style>#sk-container-id-4 {color: black;background-color: white;}#sk-container-id-4 pre{padding: 0;}#sk-container-id-4 div.sk-toggleable {background-color: white;}#sk-container-id-4 label.sk-toggleable__label {cursor: pointer;display: block;width: 100%;margin-bottom: 0;padding: 0.3em;box-sizing: border-box;text-align: center;}#sk-container-id-4 label.sk-toggleable__label-arrow:before {content: \"▸\";float: left;margin-right: 0.25em;color: #696969;}#sk-container-id-4 label.sk-toggleable__label-arrow:hover:before {color: black;}#sk-container-id-4 div.sk-estimator:hover label.sk-toggleable__label-arrow:before {color: black;}#sk-container-id-4 div.sk-toggleable__content {max-height: 0;max-width: 0;overflow: hidden;text-align: left;background-color: #f0f8ff;}#sk-container-id-4 div.sk-toggleable__content pre {margin: 0.2em;color: black;border-radius: 0.25em;background-color: #f0f8ff;}#sk-container-id-4 input.sk-toggleable__control:checked~div.sk-toggleable__content {max-height: 200px;max-width: 100%;overflow: auto;}#sk-container-id-4 input.sk-toggleable__control:checked~label.sk-toggleable__label-arrow:before {content: \"▾\";}#sk-container-id-4 div.sk-estimator input.sk-toggleable__control:checked~label.sk-toggleable__label {background-color: #d4ebff;}#sk-container-id-4 div.sk-label input.sk-toggleable__control:checked~label.sk-toggleable__label {background-color: #d4ebff;}#sk-container-id-4 input.sk-hidden--visually {border: 0;clip: rect(1px 1px 1px 1px);clip: rect(1px, 1px, 1px, 1px);height: 1px;margin: -1px;overflow: hidden;padding: 0;position: absolute;width: 1px;}#sk-container-id-4 div.sk-estimator {font-family: monospace;background-color: #f0f8ff;border: 1px dotted black;border-radius: 0.25em;box-sizing: border-box;margin-bottom: 0.5em;}#sk-container-id-4 div.sk-estimator:hover {background-color: #d4ebff;}#sk-container-id-4 div.sk-parallel-item::after {content: \"\";width: 100%;border-bottom: 1px solid gray;flex-grow: 1;}#sk-container-id-4 div.sk-label:hover label.sk-toggleable__label {background-color: #d4ebff;}#sk-container-id-4 div.sk-serial::before {content: \"\";position: absolute;border-left: 1px solid gray;box-sizing: border-box;top: 0;bottom: 0;left: 50%;z-index: 0;}#sk-container-id-4 div.sk-serial {display: flex;flex-direction: column;align-items: center;background-color: white;padding-right: 0.2em;padding-left: 0.2em;position: relative;}#sk-container-id-4 div.sk-item {position: relative;z-index: 1;}#sk-container-id-4 div.sk-parallel {display: flex;align-items: stretch;justify-content: center;background-color: white;position: relative;}#sk-container-id-4 div.sk-item::before, #sk-container-id-4 div.sk-parallel-item::before {content: \"\";position: absolute;border-left: 1px solid gray;box-sizing: border-box;top: 0;bottom: 0;left: 50%;z-index: -1;}#sk-container-id-4 div.sk-parallel-item {display: flex;flex-direction: column;z-index: 1;position: relative;background-color: white;}#sk-container-id-4 div.sk-parallel-item:first-child::after {align-self: flex-end;width: 50%;}#sk-container-id-4 div.sk-parallel-item:last-child::after {align-self: flex-start;width: 50%;}#sk-container-id-4 div.sk-parallel-item:only-child::after {width: 0;}#sk-container-id-4 div.sk-dashed-wrapped {border: 1px dashed gray;margin: 0 0.4em 0.5em 0.4em;box-sizing: border-box;padding-bottom: 0.4em;background-color: white;}#sk-container-id-4 div.sk-label label {font-family: monospace;font-weight: bold;display: inline-block;line-height: 1.2em;}#sk-container-id-4 div.sk-label-container {text-align: center;}#sk-container-id-4 div.sk-container {/* jupyter's `normalize.less` sets `[hidden] { display: none; }` but bootstrap.min.css set `[hidden] { display: none !important; }` so we also need the `!important` here to be able to override the default hidden behavior on the sphinx rendered scikit-learn.org. See: https://github.com/scikit-learn/scikit-learn/issues/21755 */display: inline-block !important;position: relative;}#sk-container-id-4 div.sk-text-repr-fallback {display: none;}</style><div id=\"sk-container-id-4\" class=\"sk-top-container\"><div class=\"sk-text-repr-fallback\"><pre>GridSearchCV(cv=5,\n",
       "             estimator=Pipeline(steps=[(&#x27;scaler&#x27;, StandardScaler()),\n",
       "                                       (&#x27;selectkbest&#x27;, SelectKBest()),\n",
       "                                       (&#x27;classifier&#x27;, AdaBoostClassifier())]),\n",
       "             n_jobs=-1,\n",
       "             param_grid={&#x27;classifier__learning_rate&#x27;: [0.1, 0.3, 0.5, 1],\n",
       "                         &#x27;classifier__n_estimators&#x27;: [100, 125, 150],\n",
       "                         &#x27;scaler&#x27;: [StandardScaler(), None],\n",
       "                         &#x27;selectkbest__k&#x27;: array([ 5,  6,  7,  8,  9, 10, 11, 12, 13, 14])},\n",
       "             scoring=&#x27;recall&#x27;)</pre><b>In a Jupyter environment, please rerun this cell to show the HTML representation or trust the notebook. <br />On GitHub, the HTML representation is unable to render, please try loading this page with nbviewer.org.</b></div><div class=\"sk-container\" hidden><div class=\"sk-item sk-dashed-wrapped\"><div class=\"sk-label-container\"><div class=\"sk-label sk-toggleable\"><input class=\"sk-toggleable__control sk-hidden--visually\" id=\"sk-estimator-id-16\" type=\"checkbox\" ><label for=\"sk-estimator-id-16\" class=\"sk-toggleable__label sk-toggleable__label-arrow\">GridSearchCV</label><div class=\"sk-toggleable__content\"><pre>GridSearchCV(cv=5,\n",
       "             estimator=Pipeline(steps=[(&#x27;scaler&#x27;, StandardScaler()),\n",
       "                                       (&#x27;selectkbest&#x27;, SelectKBest()),\n",
       "                                       (&#x27;classifier&#x27;, AdaBoostClassifier())]),\n",
       "             n_jobs=-1,\n",
       "             param_grid={&#x27;classifier__learning_rate&#x27;: [0.1, 0.3, 0.5, 1],\n",
       "                         &#x27;classifier__n_estimators&#x27;: [100, 125, 150],\n",
       "                         &#x27;scaler&#x27;: [StandardScaler(), None],\n",
       "                         &#x27;selectkbest__k&#x27;: array([ 5,  6,  7,  8,  9, 10, 11, 12, 13, 14])},\n",
       "             scoring=&#x27;recall&#x27;)</pre></div></div></div><div class=\"sk-parallel\"><div class=\"sk-parallel-item\"><div class=\"sk-item\"><div class=\"sk-label-container\"><div class=\"sk-label sk-toggleable\"><input class=\"sk-toggleable__control sk-hidden--visually\" id=\"sk-estimator-id-17\" type=\"checkbox\" ><label for=\"sk-estimator-id-17\" class=\"sk-toggleable__label sk-toggleable__label-arrow\">estimator: Pipeline</label><div class=\"sk-toggleable__content\"><pre>Pipeline(steps=[(&#x27;scaler&#x27;, StandardScaler()), (&#x27;selectkbest&#x27;, SelectKBest()),\n",
       "                (&#x27;classifier&#x27;, AdaBoostClassifier())])</pre></div></div></div><div class=\"sk-serial\"><div class=\"sk-item\"><div class=\"sk-serial\"><div class=\"sk-item\"><div class=\"sk-estimator sk-toggleable\"><input class=\"sk-toggleable__control sk-hidden--visually\" id=\"sk-estimator-id-18\" type=\"checkbox\" ><label for=\"sk-estimator-id-18\" class=\"sk-toggleable__label sk-toggleable__label-arrow\">StandardScaler</label><div class=\"sk-toggleable__content\"><pre>StandardScaler()</pre></div></div></div><div class=\"sk-item\"><div class=\"sk-estimator sk-toggleable\"><input class=\"sk-toggleable__control sk-hidden--visually\" id=\"sk-estimator-id-19\" type=\"checkbox\" ><label for=\"sk-estimator-id-19\" class=\"sk-toggleable__label sk-toggleable__label-arrow\">SelectKBest</label><div class=\"sk-toggleable__content\"><pre>SelectKBest()</pre></div></div></div><div class=\"sk-item\"><div class=\"sk-estimator sk-toggleable\"><input class=\"sk-toggleable__control sk-hidden--visually\" id=\"sk-estimator-id-20\" type=\"checkbox\" ><label for=\"sk-estimator-id-20\" class=\"sk-toggleable__label sk-toggleable__label-arrow\">AdaBoostClassifier</label><div class=\"sk-toggleable__content\"><pre>AdaBoostClassifier()</pre></div></div></div></div></div></div></div></div></div></div></div></div>"
      ],
      "text/plain": [
       "GridSearchCV(cv=5,\n",
       "             estimator=Pipeline(steps=[('scaler', StandardScaler()),\n",
       "                                       ('selectkbest', SelectKBest()),\n",
       "                                       ('classifier', AdaBoostClassifier())]),\n",
       "             n_jobs=-1,\n",
       "             param_grid={'classifier__learning_rate': [0.1, 0.3, 0.5, 1],\n",
       "                         'classifier__n_estimators': [100, 125, 150],\n",
       "                         'scaler': [StandardScaler(), None],\n",
       "                         'selectkbest__k': array([ 5,  6,  7,  8,  9, 10, 11, 12, 13, 14])},\n",
       "             scoring='recall')"
      ]
     },
     "execution_count": 79,
     "metadata": {},
     "output_type": "execute_result"
    }
   ],
   "source": [
    "modelAB.fit(X_train_under, y_train_under)"
   ]
  },
  {
   "cell_type": "code",
   "execution_count": 80,
   "metadata": {},
   "outputs": [
    {
     "name": "stdout",
     "output_type": "stream",
     "text": [
      "modelAB best score: 0.5506067415730336\n",
      "modelAB best score: {'classifier__learning_rate': 0.1, 'classifier__n_estimators': 100, 'scaler': StandardScaler(), 'selectkbest__k': 14}\n",
      "modelAB best score: Pipeline(steps=[('scaler', StandardScaler()),\n",
      "                ('selectkbest', SelectKBest(k=14)),\n",
      "                ('classifier',\n",
      "                 AdaBoostClassifier(learning_rate=0.1, n_estimators=100))])\n"
     ]
    }
   ],
   "source": [
    "print(\"modelAB best score:\",modelAB.best_score_ )\n",
    "print(\"modelAB best score:\",modelAB.best_params_ )\n",
    "print(\"modelAB best score:\",modelAB.best_estimator_ )"
   ]
  },
  {
   "cell_type": "code",
   "execution_count": 81,
   "metadata": {},
   "outputs": [],
   "source": [
    "y_pred_under_ab = modelAB.best_estimator_.predict(X_test_under)"
   ]
  },
  {
   "cell_type": "code",
   "execution_count": 82,
   "metadata": {},
   "outputs": [
    {
     "name": "stdout",
     "output_type": "stream",
     "text": [
      "modelAB train recall score 0.5725806451612904\n",
      "modelAB train precision_score 0.5225390984360626\n",
      "modelAB train accuracy_score 0.5280280280280281\n",
      "modelAB train f1_score 0.5464165464165465\n",
      "modelAB train log_loss 17.011594167135872\n"
     ]
    }
   ],
   "source": [
    "print(\"modelAB train recall score\", recall_score(y_test_under, y_pred_under_ab))\n",
    "print(\"modelAB train precision_score\", precision_score(y_test_under, y_pred_under_ab))\n",
    "print(\"modelAB train accuracy_score\", accuracy_score(y_test_under, y_pred_under_ab))\n",
    "print(\"modelAB train f1_score\", f1_score(y_test_under, y_pred_under_ab))\n",
    "print(\"modelAB train log_loss\", log_loss(y_test_under, y_pred_under_ab))"
   ]
  },
  {
   "cell_type": "code",
   "execution_count": 83,
   "metadata": {},
   "outputs": [
    {
     "name": "stdout",
     "output_type": "stream",
     "text": [
      "modelAB train confusion matrix\n"
     ]
    },
    {
     "data": {
      "text/plain": [
       "array([[487, 519],\n",
       "       [424, 568]], dtype=int64)"
      ]
     },
     "execution_count": 83,
     "metadata": {},
     "output_type": "execute_result"
    }
   ],
   "source": [
    "print(\"modelAB train confusion matrix\")\n",
    "confusion_matrix(y_test_under, y_pred_under_ab)\n"
   ]
  },
  {
   "cell_type": "code",
   "execution_count": 84,
   "metadata": {},
   "outputs": [
    {
     "name": "stdout",
     "output_type": "stream",
     "text": [
      "modelAB train confusion matrix\n"
     ]
    },
    {
     "data": {
      "text/plain": [
       "array([[0.48409543, 0.51590457],\n",
       "       [0.42741935, 0.57258065]])"
      ]
     },
     "execution_count": 84,
     "metadata": {},
     "output_type": "execute_result"
    }
   ],
   "source": [
    "print(\"modelAB train confusion matrix\")\n",
    "confusion_matrix(y_test_under, y_pred_under_ab,normalize=\"true\")"
   ]
  },
  {
   "cell_type": "code",
   "execution_count": 85,
   "metadata": {},
   "outputs": [],
   "source": [
    "y_pred_ab = modelAB.best_estimator_.predict(X_test)"
   ]
  },
  {
   "cell_type": "code",
   "execution_count": 86,
   "metadata": {},
   "outputs": [
    {
     "name": "stdout",
     "output_type": "stream",
     "text": [
      "modelAB test recall score 0.5873397435897436\n",
      "modelAB test precision_score 0.10306524184476941\n",
      "modelAB test accuracy_score 0.4890684058400652\n",
      "modelAB test f1_score 0.17535885167464116\n",
      "modelAB test log_loss 18.415841285449762\n"
     ]
    }
   ],
   "source": [
    "print(\"modelAB test recall score\", recall_score(y_test, y_pred_ab))\n",
    "print(\"modelAB test precision_score\", precision_score(y_test, y_pred_ab))\n",
    "print(\"modelAB test accuracy_score\", accuracy_score(y_test, y_pred_ab))\n",
    "print(\"modelAB test f1_score\", f1_score(y_test, y_pred_ab))\n",
    "print(\"modelAB test log_loss\", log_loss(y_test, y_pred_ab))\n"
   ]
  },
  {
   "cell_type": "code",
   "execution_count": 87,
   "metadata": {},
   "outputs": [
    {
     "name": "stdout",
     "output_type": "stream",
     "text": [
      "modelAB test confusion matrix\n"
     ]
    },
    {
     "data": {
      "text/plain": [
       "array([[5866, 6379],\n",
       "       [ 515,  733]], dtype=int64)"
      ]
     },
     "execution_count": 87,
     "metadata": {},
     "output_type": "execute_result"
    }
   ],
   "source": [
    "print(\"modelAB test confusion matrix\")\n",
    "confusion_matrix(y_test, y_pred_ab)\n"
   ]
  },
  {
   "cell_type": "code",
   "execution_count": 88,
   "metadata": {},
   "outputs": [
    {
     "name": "stdout",
     "output_type": "stream",
     "text": [
      "modelAB test confusion matrix\n"
     ]
    },
    {
     "data": {
      "text/plain": [
       "array([[0.47905267, 0.52094733],\n",
       "       [0.41266026, 0.58733974]])"
      ]
     },
     "execution_count": 88,
     "metadata": {},
     "output_type": "execute_result"
    }
   ],
   "source": [
    "print(\"modelAB test confusion matrix\")\n",
    "confusion_matrix(y_test, y_pred_ab,normalize=\"true\")"
   ]
  },
  {
   "cell_type": "code",
   "execution_count": 89,
   "metadata": {},
   "outputs": [],
   "source": [
    "with open(\"modelAB.pkl\", 'wb') as archivo_salida:\n",
    "    pickle.dump(modelAB.best_estimator_, archivo_salida)\n",
    "with open(\"modelAB.yaml\", \"w\") as f:\n",
    "    yaml.dump(modelAB.best_params_, f)"
   ]
  },
  {
   "attachments": {},
   "cell_type": "markdown",
   "metadata": {},
   "source": [
    "KNeighborsClassifier"
   ]
  },
  {
   "cell_type": "code",
   "execution_count": 90,
   "metadata": {},
   "outputs": [],
   "source": [
    "pipeknn = Pipeline(steps=[\n",
    "    (\"scaler\", StandardScaler()),\n",
    "    (\"selectkbest\", SelectKBest()),\n",
    "    (\"classifier\", KNeighborsClassifier())\n",
    "])\n",
    "knn_params = {\n",
    "'scaler' : [StandardScaler(), None],\n",
    "'selectkbest__k' : np.arange(5,15),\n",
    "\"classifier__n_neighbors\": np.arange(3,20),\n",
    "'classifier__weights': ['uniform', 'distance'],\n",
    "'classifier__p': [1, 2]}"
   ]
  },
  {
   "cell_type": "code",
   "execution_count": 91,
   "metadata": {},
   "outputs": [],
   "source": [
    "modelknn = GridSearchCV(estimator = pipeknn, param_grid = knn_params, cv=5, scoring=\"recall\",n_jobs=-1)"
   ]
  },
  {
   "cell_type": "code",
   "execution_count": 92,
   "metadata": {},
   "outputs": [
    {
     "data": {
      "text/html": [
       "<style>#sk-container-id-5 {color: black;background-color: white;}#sk-container-id-5 pre{padding: 0;}#sk-container-id-5 div.sk-toggleable {background-color: white;}#sk-container-id-5 label.sk-toggleable__label {cursor: pointer;display: block;width: 100%;margin-bottom: 0;padding: 0.3em;box-sizing: border-box;text-align: center;}#sk-container-id-5 label.sk-toggleable__label-arrow:before {content: \"▸\";float: left;margin-right: 0.25em;color: #696969;}#sk-container-id-5 label.sk-toggleable__label-arrow:hover:before {color: black;}#sk-container-id-5 div.sk-estimator:hover label.sk-toggleable__label-arrow:before {color: black;}#sk-container-id-5 div.sk-toggleable__content {max-height: 0;max-width: 0;overflow: hidden;text-align: left;background-color: #f0f8ff;}#sk-container-id-5 div.sk-toggleable__content pre {margin: 0.2em;color: black;border-radius: 0.25em;background-color: #f0f8ff;}#sk-container-id-5 input.sk-toggleable__control:checked~div.sk-toggleable__content {max-height: 200px;max-width: 100%;overflow: auto;}#sk-container-id-5 input.sk-toggleable__control:checked~label.sk-toggleable__label-arrow:before {content: \"▾\";}#sk-container-id-5 div.sk-estimator input.sk-toggleable__control:checked~label.sk-toggleable__label {background-color: #d4ebff;}#sk-container-id-5 div.sk-label input.sk-toggleable__control:checked~label.sk-toggleable__label {background-color: #d4ebff;}#sk-container-id-5 input.sk-hidden--visually {border: 0;clip: rect(1px 1px 1px 1px);clip: rect(1px, 1px, 1px, 1px);height: 1px;margin: -1px;overflow: hidden;padding: 0;position: absolute;width: 1px;}#sk-container-id-5 div.sk-estimator {font-family: monospace;background-color: #f0f8ff;border: 1px dotted black;border-radius: 0.25em;box-sizing: border-box;margin-bottom: 0.5em;}#sk-container-id-5 div.sk-estimator:hover {background-color: #d4ebff;}#sk-container-id-5 div.sk-parallel-item::after {content: \"\";width: 100%;border-bottom: 1px solid gray;flex-grow: 1;}#sk-container-id-5 div.sk-label:hover label.sk-toggleable__label {background-color: #d4ebff;}#sk-container-id-5 div.sk-serial::before {content: \"\";position: absolute;border-left: 1px solid gray;box-sizing: border-box;top: 0;bottom: 0;left: 50%;z-index: 0;}#sk-container-id-5 div.sk-serial {display: flex;flex-direction: column;align-items: center;background-color: white;padding-right: 0.2em;padding-left: 0.2em;position: relative;}#sk-container-id-5 div.sk-item {position: relative;z-index: 1;}#sk-container-id-5 div.sk-parallel {display: flex;align-items: stretch;justify-content: center;background-color: white;position: relative;}#sk-container-id-5 div.sk-item::before, #sk-container-id-5 div.sk-parallel-item::before {content: \"\";position: absolute;border-left: 1px solid gray;box-sizing: border-box;top: 0;bottom: 0;left: 50%;z-index: -1;}#sk-container-id-5 div.sk-parallel-item {display: flex;flex-direction: column;z-index: 1;position: relative;background-color: white;}#sk-container-id-5 div.sk-parallel-item:first-child::after {align-self: flex-end;width: 50%;}#sk-container-id-5 div.sk-parallel-item:last-child::after {align-self: flex-start;width: 50%;}#sk-container-id-5 div.sk-parallel-item:only-child::after {width: 0;}#sk-container-id-5 div.sk-dashed-wrapped {border: 1px dashed gray;margin: 0 0.4em 0.5em 0.4em;box-sizing: border-box;padding-bottom: 0.4em;background-color: white;}#sk-container-id-5 div.sk-label label {font-family: monospace;font-weight: bold;display: inline-block;line-height: 1.2em;}#sk-container-id-5 div.sk-label-container {text-align: center;}#sk-container-id-5 div.sk-container {/* jupyter's `normalize.less` sets `[hidden] { display: none; }` but bootstrap.min.css set `[hidden] { display: none !important; }` so we also need the `!important` here to be able to override the default hidden behavior on the sphinx rendered scikit-learn.org. See: https://github.com/scikit-learn/scikit-learn/issues/21755 */display: inline-block !important;position: relative;}#sk-container-id-5 div.sk-text-repr-fallback {display: none;}</style><div id=\"sk-container-id-5\" class=\"sk-top-container\"><div class=\"sk-text-repr-fallback\"><pre>GridSearchCV(cv=5,\n",
       "             estimator=Pipeline(steps=[(&#x27;scaler&#x27;, StandardScaler()),\n",
       "                                       (&#x27;selectkbest&#x27;, SelectKBest()),\n",
       "                                       (&#x27;classifier&#x27;, KNeighborsClassifier())]),\n",
       "             n_jobs=-1,\n",
       "             param_grid={&#x27;classifier__n_neighbors&#x27;: array([ 3,  4,  5,  6,  7,  8,  9, 10, 11, 12, 13, 14, 15, 16, 17, 18, 19]),\n",
       "                         &#x27;classifier__p&#x27;: [1, 2],\n",
       "                         &#x27;classifier__weights&#x27;: [&#x27;uniform&#x27;, &#x27;distance&#x27;],\n",
       "                         &#x27;scaler&#x27;: [StandardScaler(), None],\n",
       "                         &#x27;selectkbest__k&#x27;: array([ 5,  6,  7,  8,  9, 10, 11, 12, 13, 14])},\n",
       "             scoring=&#x27;recall&#x27;)</pre><b>In a Jupyter environment, please rerun this cell to show the HTML representation or trust the notebook. <br />On GitHub, the HTML representation is unable to render, please try loading this page with nbviewer.org.</b></div><div class=\"sk-container\" hidden><div class=\"sk-item sk-dashed-wrapped\"><div class=\"sk-label-container\"><div class=\"sk-label sk-toggleable\"><input class=\"sk-toggleable__control sk-hidden--visually\" id=\"sk-estimator-id-21\" type=\"checkbox\" ><label for=\"sk-estimator-id-21\" class=\"sk-toggleable__label sk-toggleable__label-arrow\">GridSearchCV</label><div class=\"sk-toggleable__content\"><pre>GridSearchCV(cv=5,\n",
       "             estimator=Pipeline(steps=[(&#x27;scaler&#x27;, StandardScaler()),\n",
       "                                       (&#x27;selectkbest&#x27;, SelectKBest()),\n",
       "                                       (&#x27;classifier&#x27;, KNeighborsClassifier())]),\n",
       "             n_jobs=-1,\n",
       "             param_grid={&#x27;classifier__n_neighbors&#x27;: array([ 3,  4,  5,  6,  7,  8,  9, 10, 11, 12, 13, 14, 15, 16, 17, 18, 19]),\n",
       "                         &#x27;classifier__p&#x27;: [1, 2],\n",
       "                         &#x27;classifier__weights&#x27;: [&#x27;uniform&#x27;, &#x27;distance&#x27;],\n",
       "                         &#x27;scaler&#x27;: [StandardScaler(), None],\n",
       "                         &#x27;selectkbest__k&#x27;: array([ 5,  6,  7,  8,  9, 10, 11, 12, 13, 14])},\n",
       "             scoring=&#x27;recall&#x27;)</pre></div></div></div><div class=\"sk-parallel\"><div class=\"sk-parallel-item\"><div class=\"sk-item\"><div class=\"sk-label-container\"><div class=\"sk-label sk-toggleable\"><input class=\"sk-toggleable__control sk-hidden--visually\" id=\"sk-estimator-id-22\" type=\"checkbox\" ><label for=\"sk-estimator-id-22\" class=\"sk-toggleable__label sk-toggleable__label-arrow\">estimator: Pipeline</label><div class=\"sk-toggleable__content\"><pre>Pipeline(steps=[(&#x27;scaler&#x27;, StandardScaler()), (&#x27;selectkbest&#x27;, SelectKBest()),\n",
       "                (&#x27;classifier&#x27;, KNeighborsClassifier())])</pre></div></div></div><div class=\"sk-serial\"><div class=\"sk-item\"><div class=\"sk-serial\"><div class=\"sk-item\"><div class=\"sk-estimator sk-toggleable\"><input class=\"sk-toggleable__control sk-hidden--visually\" id=\"sk-estimator-id-23\" type=\"checkbox\" ><label for=\"sk-estimator-id-23\" class=\"sk-toggleable__label sk-toggleable__label-arrow\">StandardScaler</label><div class=\"sk-toggleable__content\"><pre>StandardScaler()</pre></div></div></div><div class=\"sk-item\"><div class=\"sk-estimator sk-toggleable\"><input class=\"sk-toggleable__control sk-hidden--visually\" id=\"sk-estimator-id-24\" type=\"checkbox\" ><label for=\"sk-estimator-id-24\" class=\"sk-toggleable__label sk-toggleable__label-arrow\">SelectKBest</label><div class=\"sk-toggleable__content\"><pre>SelectKBest()</pre></div></div></div><div class=\"sk-item\"><div class=\"sk-estimator sk-toggleable\"><input class=\"sk-toggleable__control sk-hidden--visually\" id=\"sk-estimator-id-25\" type=\"checkbox\" ><label for=\"sk-estimator-id-25\" class=\"sk-toggleable__label sk-toggleable__label-arrow\">KNeighborsClassifier</label><div class=\"sk-toggleable__content\"><pre>KNeighborsClassifier()</pre></div></div></div></div></div></div></div></div></div></div></div></div>"
      ],
      "text/plain": [
       "GridSearchCV(cv=5,\n",
       "             estimator=Pipeline(steps=[('scaler', StandardScaler()),\n",
       "                                       ('selectkbest', SelectKBest()),\n",
       "                                       ('classifier', KNeighborsClassifier())]),\n",
       "             n_jobs=-1,\n",
       "             param_grid={'classifier__n_neighbors': array([ 3,  4,  5,  6,  7,  8,  9, 10, 11, 12, 13, 14, 15, 16, 17, 18, 19]),\n",
       "                         'classifier__p': [1, 2],\n",
       "                         'classifier__weights': ['uniform', 'distance'],\n",
       "                         'scaler': [StandardScaler(), None],\n",
       "                         'selectkbest__k': array([ 5,  6,  7,  8,  9, 10, 11, 12, 13, 14])},\n",
       "             scoring='recall')"
      ]
     },
     "execution_count": 92,
     "metadata": {},
     "output_type": "execute_result"
    }
   ],
   "source": [
    "modelknn.fit(X_train_under, y_train_under)"
   ]
  },
  {
   "cell_type": "code",
   "execution_count": 93,
   "metadata": {},
   "outputs": [
    {
     "name": "stdout",
     "output_type": "stream",
     "text": [
      "modelknn best score: 0.5268651685393259\n",
      "modelknn best score: {'classifier__n_neighbors': 11, 'classifier__p': 1, 'classifier__weights': 'distance', 'scaler': StandardScaler(), 'selectkbest__k': 6}\n",
      "modelknn best score: Pipeline(steps=[('scaler', StandardScaler()), ('selectkbest', SelectKBest(k=6)),\n",
      "                ('classifier',\n",
      "                 KNeighborsClassifier(n_neighbors=11, p=1,\n",
      "                                      weights='distance'))])\n"
     ]
    }
   ],
   "source": [
    "print(\"modelknn best score:\",modelknn.best_score_ )\n",
    "print(\"modelknn best score:\",modelknn.best_params_ )\n",
    "print(\"modelknn best score:\",modelknn.best_estimator_ )"
   ]
  },
  {
   "cell_type": "code",
   "execution_count": 94,
   "metadata": {},
   "outputs": [],
   "source": [
    "y_pred_under_knn = modelknn.best_estimator_.predict(X_test_under)"
   ]
  },
  {
   "cell_type": "code",
   "execution_count": 95,
   "metadata": {},
   "outputs": [
    {
     "name": "stdout",
     "output_type": "stream",
     "text": [
      "modelknn train recall score 0.5110887096774194\n",
      "modelknn train precision_score 0.5059880239520959\n",
      "modelknn train accuracy_score 0.5095095095095095\n",
      "modelknn train f1_score 0.5085255767301906\n",
      "modelknn train log_loss 17.6790692298973\n"
     ]
    }
   ],
   "source": [
    "print(\"modelknn train recall score\", recall_score(y_test_under, y_pred_under_knn))\n",
    "print(\"modelknn train precision_score\", precision_score(y_test_under, y_pred_under_knn))\n",
    "print(\"modelknn train accuracy_score\", accuracy_score(y_test_under, y_pred_under_knn))\n",
    "print(\"modelknn train f1_score\", f1_score(y_test_under, y_pred_under_knn))\n",
    "print(\"modelknn train log_loss\", log_loss(y_test_under, y_pred_under_knn))"
   ]
  },
  {
   "cell_type": "code",
   "execution_count": 96,
   "metadata": {},
   "outputs": [
    {
     "name": "stdout",
     "output_type": "stream",
     "text": [
      "modelknn train confusion matrix\n"
     ]
    },
    {
     "data": {
      "text/plain": [
       "array([[511, 495],\n",
       "       [485, 507]], dtype=int64)"
      ]
     },
     "execution_count": 96,
     "metadata": {},
     "output_type": "execute_result"
    }
   ],
   "source": [
    "print(\"modelknn train confusion matrix\")\n",
    "confusion_matrix(y_test_under, y_pred_under_knn)\n"
   ]
  },
  {
   "cell_type": "code",
   "execution_count": 97,
   "metadata": {},
   "outputs": [
    {
     "name": "stdout",
     "output_type": "stream",
     "text": [
      "modelknn train confusion matrix\n"
     ]
    },
    {
     "data": {
      "text/plain": [
       "array([[0.50795229, 0.49204771],\n",
       "       [0.48891129, 0.51108871]])"
      ]
     },
     "execution_count": 97,
     "metadata": {},
     "output_type": "execute_result"
    }
   ],
   "source": [
    "print(\"modelknn train confusion matrix\")\n",
    "confusion_matrix(y_test_under, y_pred_under_knn,normalize=\"true\")"
   ]
  },
  {
   "cell_type": "code",
   "execution_count": 98,
   "metadata": {},
   "outputs": [],
   "source": [
    "y_pred_knn = modelknn.best_estimator_.predict(X_test)"
   ]
  },
  {
   "cell_type": "code",
   "execution_count": 99,
   "metadata": {},
   "outputs": [
    {
     "name": "stdout",
     "output_type": "stream",
     "text": [
      "modelknn test recall score 0.5136217948717948\n",
      "modelknn test precision_score 0.09617404351087772\n",
      "modelknn test accuracy_score 0.5085599940709998\n",
      "modelknn test f1_score 0.16201187918614937\n",
      "modelknn test log_loss 17.71329323525056\n"
     ]
    }
   ],
   "source": [
    "print(\"modelknn test recall score\", recall_score(y_test, y_pred_knn))\n",
    "print(\"modelknn test precision_score\", precision_score(y_test, y_pred_knn))\n",
    "print(\"modelknn test accuracy_score\", accuracy_score(y_test, y_pred_knn))\n",
    "print(\"modelknn test f1_score\", f1_score(y_test, y_pred_knn))\n",
    "print(\"modelknn test log_loss\", log_loss(y_test, y_pred_knn))\n"
   ]
  },
  {
   "cell_type": "code",
   "execution_count": 100,
   "metadata": {},
   "outputs": [
    {
     "name": "stdout",
     "output_type": "stream",
     "text": [
      "modelknn test confusion matrix\n"
     ]
    },
    {
     "data": {
      "text/plain": [
       "array([[6221, 6024],\n",
       "       [ 607,  641]], dtype=int64)"
      ]
     },
     "execution_count": 100,
     "metadata": {},
     "output_type": "execute_result"
    }
   ],
   "source": [
    "print(\"modelknn test confusion matrix\")\n",
    "confusion_matrix(y_test, y_pred_knn)"
   ]
  },
  {
   "cell_type": "code",
   "execution_count": 101,
   "metadata": {},
   "outputs": [
    {
     "name": "stdout",
     "output_type": "stream",
     "text": [
      "modelknn test confusion matrix\n"
     ]
    },
    {
     "data": {
      "text/plain": [
       "array([[0.5080441 , 0.4919559 ],\n",
       "       [0.48637821, 0.51362179]])"
      ]
     },
     "execution_count": 101,
     "metadata": {},
     "output_type": "execute_result"
    }
   ],
   "source": [
    "print(\"modelknn test confusion matrix\")\n",
    "confusion_matrix(y_test, y_pred_knn,normalize=\"true\")"
   ]
  },
  {
   "cell_type": "code",
   "execution_count": 102,
   "metadata": {},
   "outputs": [],
   "source": [
    "with open(\"modelknn.pkl\", 'wb') as archivo_salida:\n",
    "    pickle.dump(modelknn.best_estimator_, archivo_salida)\n",
    "with open(\"modelknn.yaml\", \"w\") as f:\n",
    "    yaml.dump(modelknn.best_params_, f)"
   ]
  },
  {
   "cell_type": "code",
   "execution_count": 103,
   "metadata": {},
   "outputs": [],
   "source": [
    "from sklearn.decomposition import PCA\n",
    "from sklearn.pipeline import make_pipeline"
   ]
  },
  {
   "cell_type": "code",
   "execution_count": 104,
   "metadata": {},
   "outputs": [],
   "source": [
    "pipe_pca = Pipeline(steps=[\n",
    "    ('scaler', StandardScaler()),\n",
    "    ('pca', PCA()),\n",
    "    ('classifier', RandomForestClassifier())\n",
    "])\n",
    "\n",
    "params= {\n",
    "    'scaler': [StandardScaler(), None],\n",
    "    'pca__n_components': [5,6,7,8],\n",
    "    'classifier__max_depth': np.arange(3,8),\n",
    "    'classifier__min_samples_leaf': [2,3,4,5]\n",
    "}"
   ]
  },
  {
   "cell_type": "code",
   "execution_count": 105,
   "metadata": {},
   "outputs": [],
   "source": [
    "modelpca = GridSearchCV(pipe_pca, params, cv=5, scoring='recall')"
   ]
  },
  {
   "cell_type": "code",
   "execution_count": 106,
   "metadata": {},
   "outputs": [
    {
     "data": {
      "text/html": [
       "<style>#sk-container-id-6 {color: black;background-color: white;}#sk-container-id-6 pre{padding: 0;}#sk-container-id-6 div.sk-toggleable {background-color: white;}#sk-container-id-6 label.sk-toggleable__label {cursor: pointer;display: block;width: 100%;margin-bottom: 0;padding: 0.3em;box-sizing: border-box;text-align: center;}#sk-container-id-6 label.sk-toggleable__label-arrow:before {content: \"▸\";float: left;margin-right: 0.25em;color: #696969;}#sk-container-id-6 label.sk-toggleable__label-arrow:hover:before {color: black;}#sk-container-id-6 div.sk-estimator:hover label.sk-toggleable__label-arrow:before {color: black;}#sk-container-id-6 div.sk-toggleable__content {max-height: 0;max-width: 0;overflow: hidden;text-align: left;background-color: #f0f8ff;}#sk-container-id-6 div.sk-toggleable__content pre {margin: 0.2em;color: black;border-radius: 0.25em;background-color: #f0f8ff;}#sk-container-id-6 input.sk-toggleable__control:checked~div.sk-toggleable__content {max-height: 200px;max-width: 100%;overflow: auto;}#sk-container-id-6 input.sk-toggleable__control:checked~label.sk-toggleable__label-arrow:before {content: \"▾\";}#sk-container-id-6 div.sk-estimator input.sk-toggleable__control:checked~label.sk-toggleable__label {background-color: #d4ebff;}#sk-container-id-6 div.sk-label input.sk-toggleable__control:checked~label.sk-toggleable__label {background-color: #d4ebff;}#sk-container-id-6 input.sk-hidden--visually {border: 0;clip: rect(1px 1px 1px 1px);clip: rect(1px, 1px, 1px, 1px);height: 1px;margin: -1px;overflow: hidden;padding: 0;position: absolute;width: 1px;}#sk-container-id-6 div.sk-estimator {font-family: monospace;background-color: #f0f8ff;border: 1px dotted black;border-radius: 0.25em;box-sizing: border-box;margin-bottom: 0.5em;}#sk-container-id-6 div.sk-estimator:hover {background-color: #d4ebff;}#sk-container-id-6 div.sk-parallel-item::after {content: \"\";width: 100%;border-bottom: 1px solid gray;flex-grow: 1;}#sk-container-id-6 div.sk-label:hover label.sk-toggleable__label {background-color: #d4ebff;}#sk-container-id-6 div.sk-serial::before {content: \"\";position: absolute;border-left: 1px solid gray;box-sizing: border-box;top: 0;bottom: 0;left: 50%;z-index: 0;}#sk-container-id-6 div.sk-serial {display: flex;flex-direction: column;align-items: center;background-color: white;padding-right: 0.2em;padding-left: 0.2em;position: relative;}#sk-container-id-6 div.sk-item {position: relative;z-index: 1;}#sk-container-id-6 div.sk-parallel {display: flex;align-items: stretch;justify-content: center;background-color: white;position: relative;}#sk-container-id-6 div.sk-item::before, #sk-container-id-6 div.sk-parallel-item::before {content: \"\";position: absolute;border-left: 1px solid gray;box-sizing: border-box;top: 0;bottom: 0;left: 50%;z-index: -1;}#sk-container-id-6 div.sk-parallel-item {display: flex;flex-direction: column;z-index: 1;position: relative;background-color: white;}#sk-container-id-6 div.sk-parallel-item:first-child::after {align-self: flex-end;width: 50%;}#sk-container-id-6 div.sk-parallel-item:last-child::after {align-self: flex-start;width: 50%;}#sk-container-id-6 div.sk-parallel-item:only-child::after {width: 0;}#sk-container-id-6 div.sk-dashed-wrapped {border: 1px dashed gray;margin: 0 0.4em 0.5em 0.4em;box-sizing: border-box;padding-bottom: 0.4em;background-color: white;}#sk-container-id-6 div.sk-label label {font-family: monospace;font-weight: bold;display: inline-block;line-height: 1.2em;}#sk-container-id-6 div.sk-label-container {text-align: center;}#sk-container-id-6 div.sk-container {/* jupyter's `normalize.less` sets `[hidden] { display: none; }` but bootstrap.min.css set `[hidden] { display: none !important; }` so we also need the `!important` here to be able to override the default hidden behavior on the sphinx rendered scikit-learn.org. See: https://github.com/scikit-learn/scikit-learn/issues/21755 */display: inline-block !important;position: relative;}#sk-container-id-6 div.sk-text-repr-fallback {display: none;}</style><div id=\"sk-container-id-6\" class=\"sk-top-container\"><div class=\"sk-text-repr-fallback\"><pre>GridSearchCV(cv=5,\n",
       "             estimator=Pipeline(steps=[(&#x27;scaler&#x27;, StandardScaler()),\n",
       "                                       (&#x27;pca&#x27;, PCA()),\n",
       "                                       (&#x27;classifier&#x27;,\n",
       "                                        RandomForestClassifier())]),\n",
       "             param_grid={&#x27;classifier__max_depth&#x27;: array([3, 4, 5, 6, 7]),\n",
       "                         &#x27;classifier__min_samples_leaf&#x27;: [2, 3, 4, 5],\n",
       "                         &#x27;pca__n_components&#x27;: [5, 6, 7, 8],\n",
       "                         &#x27;scaler&#x27;: [StandardScaler(), None]},\n",
       "             scoring=&#x27;recall&#x27;)</pre><b>In a Jupyter environment, please rerun this cell to show the HTML representation or trust the notebook. <br />On GitHub, the HTML representation is unable to render, please try loading this page with nbviewer.org.</b></div><div class=\"sk-container\" hidden><div class=\"sk-item sk-dashed-wrapped\"><div class=\"sk-label-container\"><div class=\"sk-label sk-toggleable\"><input class=\"sk-toggleable__control sk-hidden--visually\" id=\"sk-estimator-id-26\" type=\"checkbox\" ><label for=\"sk-estimator-id-26\" class=\"sk-toggleable__label sk-toggleable__label-arrow\">GridSearchCV</label><div class=\"sk-toggleable__content\"><pre>GridSearchCV(cv=5,\n",
       "             estimator=Pipeline(steps=[(&#x27;scaler&#x27;, StandardScaler()),\n",
       "                                       (&#x27;pca&#x27;, PCA()),\n",
       "                                       (&#x27;classifier&#x27;,\n",
       "                                        RandomForestClassifier())]),\n",
       "             param_grid={&#x27;classifier__max_depth&#x27;: array([3, 4, 5, 6, 7]),\n",
       "                         &#x27;classifier__min_samples_leaf&#x27;: [2, 3, 4, 5],\n",
       "                         &#x27;pca__n_components&#x27;: [5, 6, 7, 8],\n",
       "                         &#x27;scaler&#x27;: [StandardScaler(), None]},\n",
       "             scoring=&#x27;recall&#x27;)</pre></div></div></div><div class=\"sk-parallel\"><div class=\"sk-parallel-item\"><div class=\"sk-item\"><div class=\"sk-label-container\"><div class=\"sk-label sk-toggleable\"><input class=\"sk-toggleable__control sk-hidden--visually\" id=\"sk-estimator-id-27\" type=\"checkbox\" ><label for=\"sk-estimator-id-27\" class=\"sk-toggleable__label sk-toggleable__label-arrow\">estimator: Pipeline</label><div class=\"sk-toggleable__content\"><pre>Pipeline(steps=[(&#x27;scaler&#x27;, StandardScaler()), (&#x27;pca&#x27;, PCA()),\n",
       "                (&#x27;classifier&#x27;, RandomForestClassifier())])</pre></div></div></div><div class=\"sk-serial\"><div class=\"sk-item\"><div class=\"sk-serial\"><div class=\"sk-item\"><div class=\"sk-estimator sk-toggleable\"><input class=\"sk-toggleable__control sk-hidden--visually\" id=\"sk-estimator-id-28\" type=\"checkbox\" ><label for=\"sk-estimator-id-28\" class=\"sk-toggleable__label sk-toggleable__label-arrow\">StandardScaler</label><div class=\"sk-toggleable__content\"><pre>StandardScaler()</pre></div></div></div><div class=\"sk-item\"><div class=\"sk-estimator sk-toggleable\"><input class=\"sk-toggleable__control sk-hidden--visually\" id=\"sk-estimator-id-29\" type=\"checkbox\" ><label for=\"sk-estimator-id-29\" class=\"sk-toggleable__label sk-toggleable__label-arrow\">PCA</label><div class=\"sk-toggleable__content\"><pre>PCA()</pre></div></div></div><div class=\"sk-item\"><div class=\"sk-estimator sk-toggleable\"><input class=\"sk-toggleable__control sk-hidden--visually\" id=\"sk-estimator-id-30\" type=\"checkbox\" ><label for=\"sk-estimator-id-30\" class=\"sk-toggleable__label sk-toggleable__label-arrow\">RandomForestClassifier</label><div class=\"sk-toggleable__content\"><pre>RandomForestClassifier()</pre></div></div></div></div></div></div></div></div></div></div></div></div>"
      ],
      "text/plain": [
       "GridSearchCV(cv=5,\n",
       "             estimator=Pipeline(steps=[('scaler', StandardScaler()),\n",
       "                                       ('pca', PCA()),\n",
       "                                       ('classifier',\n",
       "                                        RandomForestClassifier())]),\n",
       "             param_grid={'classifier__max_depth': array([3, 4, 5, 6, 7]),\n",
       "                         'classifier__min_samples_leaf': [2, 3, 4, 5],\n",
       "                         'pca__n_components': [5, 6, 7, 8],\n",
       "                         'scaler': [StandardScaler(), None]},\n",
       "             scoring='recall')"
      ]
     },
     "execution_count": 106,
     "metadata": {},
     "output_type": "execute_result"
    }
   ],
   "source": [
    "modelpca.fit(X_train, y_train)"
   ]
  },
  {
   "cell_type": "code",
   "execution_count": 107,
   "metadata": {},
   "outputs": [
    {
     "name": "stdout",
     "output_type": "stream",
     "text": [
      "modelpca best score 0.00040080160320641277\n",
      "modelpca best params {'classifier__max_depth': 7, 'classifier__min_samples_leaf': 5, 'pca__n_components': 5, 'scaler': StandardScaler()}\n",
      "modelpca best estimator Pipeline(steps=[('scaler', StandardScaler()), ('pca', PCA(n_components=5)),\n",
      "                ('classifier',\n",
      "                 RandomForestClassifier(max_depth=7, min_samples_leaf=5))])\n"
     ]
    }
   ],
   "source": [
    "print(\"modelpca best score\",modelpca.best_score_)\n",
    "print(\"modelpca best params\",modelpca.best_params_)\n",
    "print(\"modelpca best estimator\",modelpca.best_estimator_)"
   ]
  },
  {
   "cell_type": "code",
   "execution_count": 108,
   "metadata": {},
   "outputs": [],
   "source": [
    "y_pred_train = modelpca.best_estimator_.predict(X_train)"
   ]
  },
  {
   "cell_type": "code",
   "execution_count": 109,
   "metadata": {},
   "outputs": [
    {
     "name": "stdout",
     "output_type": "stream",
     "text": [
      "modelpca train recall score 0.0\n",
      "modelpca train precision_score 0.0\n",
      "modelpca train accuracy_score 0.9074856401704651\n",
      "modelpca train f1_score 0.0\n",
      "modelpca train log_loss 3.3345555192118206\n"
     ]
    },
    {
     "name": "stderr",
     "output_type": "stream",
     "text": [
      "c:\\Users\\User\\AppData\\Local\\Programs\\Python\\Python310\\lib\\site-packages\\sklearn\\metrics\\_classification.py:1344: UndefinedMetricWarning: Precision is ill-defined and being set to 0.0 due to no predicted samples. Use `zero_division` parameter to control this behavior.\n",
      "  _warn_prf(average, modifier, msg_start, len(result))\n"
     ]
    }
   ],
   "source": [
    "print(\"modelpca train recall score\", recall_score(y_train, y_pred_train))\n",
    "print(\"modelpca train precision_score\", precision_score(y_train, y_pred_train))\n",
    "print(\"modelpca train accuracy_score\", accuracy_score(y_train, y_pred_train))\n",
    "print(\"modelpca train f1_score\", f1_score(y_train, y_pred_train))\n",
    "print(\"modelpca train log_loss\", log_loss(y_train, y_pred_train))"
   ]
  },
  {
   "cell_type": "code",
   "execution_count": 110,
   "metadata": {},
   "outputs": [
    {
     "name": "stdout",
     "output_type": "stream",
     "text": [
      "modelpca train confusion matrix\n"
     ]
    },
    {
     "data": {
      "text/plain": [
       "array([[48977,     0],\n",
       "       [ 4993,     0]], dtype=int64)"
      ]
     },
     "execution_count": 110,
     "metadata": {},
     "output_type": "execute_result"
    }
   ],
   "source": [
    "print(\"modelpca train confusion matrix\")\n",
    "confusion_matrix(y_train, y_pred_train)"
   ]
  },
  {
   "cell_type": "code",
   "execution_count": 111,
   "metadata": {},
   "outputs": [
    {
     "name": "stdout",
     "output_type": "stream",
     "text": [
      "modelpca train confusion matrix\n"
     ]
    },
    {
     "data": {
      "text/plain": [
       "array([[1., 0.],\n",
       "       [1., 0.]])"
      ]
     },
     "execution_count": 111,
     "metadata": {},
     "output_type": "execute_result"
    }
   ],
   "source": [
    "print(\"modelpca train confusion matrix\")\n",
    "confusion_matrix(y_train, y_pred_train,normalize=\"true\")"
   ]
  },
  {
   "cell_type": "code",
   "execution_count": 112,
   "metadata": {},
   "outputs": [],
   "source": [
    "y_pred_pca = modelpca.best_estimator_.predict(X_test)"
   ]
  },
  {
   "cell_type": "code",
   "execution_count": 113,
   "metadata": {},
   "outputs": [
    {
     "name": "stdout",
     "output_type": "stream",
     "text": [
      "modelpca test recall score 0.0\n",
      "modelpca test precision_score 0.0\n",
      "modelpca test accuracy_score 0.9075075965315349\n",
      "modelpca test f1_score 0.0\n",
      "modelpca test log_loss 3.3337641317437345\n"
     ]
    },
    {
     "name": "stderr",
     "output_type": "stream",
     "text": [
      "c:\\Users\\User\\AppData\\Local\\Programs\\Python\\Python310\\lib\\site-packages\\sklearn\\metrics\\_classification.py:1344: UndefinedMetricWarning: Precision is ill-defined and being set to 0.0 due to no predicted samples. Use `zero_division` parameter to control this behavior.\n",
      "  _warn_prf(average, modifier, msg_start, len(result))\n"
     ]
    }
   ],
   "source": [
    "print(\"modelpca test recall score\", recall_score(y_test, y_pred_pca))\n",
    "print(\"modelpca test precision_score\", precision_score(y_test, y_pred_pca))\n",
    "print(\"modelpca test accuracy_score\", accuracy_score(y_test, y_pred_pca))\n",
    "print(\"modelpca test f1_score\", f1_score(y_test, y_pred_pca))\n",
    "print(\"modelpca test log_loss\", log_loss(y_test, y_pred_pca))"
   ]
  },
  {
   "cell_type": "code",
   "execution_count": 114,
   "metadata": {},
   "outputs": [
    {
     "name": "stdout",
     "output_type": "stream",
     "text": [
      "modelpca test confusion matrix\n"
     ]
    },
    {
     "data": {
      "text/plain": [
       "array([[12245,     0],\n",
       "       [ 1248,     0]], dtype=int64)"
      ]
     },
     "execution_count": 114,
     "metadata": {},
     "output_type": "execute_result"
    }
   ],
   "source": [
    "print(\"modelpca test confusion matrix\")\n",
    "confusion_matrix(y_test, y_pred_pca)"
   ]
  },
  {
   "cell_type": "code",
   "execution_count": 115,
   "metadata": {},
   "outputs": [
    {
     "name": "stdout",
     "output_type": "stream",
     "text": [
      "modelpca test confusion matrix\n"
     ]
    },
    {
     "data": {
      "text/plain": [
       "array([[1., 0.],\n",
       "       [1., 0.]])"
      ]
     },
     "execution_count": 115,
     "metadata": {},
     "output_type": "execute_result"
    }
   ],
   "source": [
    "print(\"modelpca test confusion matrix\")\n",
    "confusion_matrix(y_test, y_pred_pca,normalize=\"true\")"
   ]
  },
  {
   "cell_type": "code",
   "execution_count": 116,
   "metadata": {},
   "outputs": [],
   "source": [
    "with open(\"modelpca.pkl\", 'wb') as archivo_salida:\n",
    "    pickle.dump(modelpca.best_estimator_, archivo_salida)\n",
    "with open(\"modelpca.yaml\", \"w\") as f:\n",
    "    yaml.dump(modelpca.best_params_, f)"
   ]
  }
 ],
 "metadata": {
  "kernelspec": {
   "display_name": "Python 3",
   "language": "python",
   "name": "python3"
  },
  "language_info": {
   "codemirror_mode": {
    "name": "ipython",
    "version": 3
   },
   "file_extension": ".py",
   "mimetype": "text/x-python",
   "name": "python",
   "nbconvert_exporter": "python",
   "pygments_lexer": "ipython3",
   "version": "3.10.11"
  },
  "orig_nbformat": 4
 },
 "nbformat": 4,
 "nbformat_minor": 2
}
