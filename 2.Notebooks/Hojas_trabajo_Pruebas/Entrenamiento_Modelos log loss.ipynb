{
 "cells": [
  {
   "cell_type": "code",
   "execution_count": 1,
   "metadata": {},
   "outputs": [],
   "source": [
    "import pandas as pd\n",
    "import numpy as np\n",
    "import seaborn as sns\n",
    "from matplotlib import pyplot as plt\n",
    "from sklearn.preprocessing import StandardScaler\n",
    "from imblearn.under_sampling import RandomUnderSampler\n",
    "from imblearn.over_sampling import RandomOverSampler,SMOTE\n",
    "from sklearn.model_selection import train_test_split,GridSearchCV\n",
    "from sklearn.pipeline import Pipeline\n",
    "from sklearn.ensemble import RandomForestClassifier, GradientBoostingClassifier,AdaBoostClassifier,BaggingClassifier,GradientBoostingClassifier,RandomForestRegressor,GradientBoostingRegressor\n",
    "from sklearn.tree import DecisionTreeClassifier,DecisionTreeRegressor\n",
    "from sklearn.feature_selection import SelectKBest\n",
    "from sklearn.neighbors import KNeighborsClassifier,KNeighborsRegressor\n",
    "from sklearn.utils import class_weight\n",
    "from sklearn.metrics import accuracy_score, f1_score, precision_score, recall_score,\\\n",
    "                            roc_auc_score, roc_curve, precision_recall_curve, confusion_matrix,log_loss, get_scorer_names\n",
    "from sklearn.svm import SVC\n",
    "from sklearn.linear_model import LogisticRegression\n",
    "import pickle\n",
    "import yaml"
   ]
  },
  {
   "cell_type": "code",
   "execution_count": 2,
   "metadata": {},
   "outputs": [
    {
     "data": {
      "text/html": [
       "<div>\n",
       "<style scoped>\n",
       "    .dataframe tbody tr th:only-of-type {\n",
       "        vertical-align: middle;\n",
       "    }\n",
       "\n",
       "    .dataframe tbody tr th {\n",
       "        vertical-align: top;\n",
       "    }\n",
       "\n",
       "    .dataframe thead th {\n",
       "        text-align: right;\n",
       "    }\n",
       "</style>\n",
       "<table border=\"1\" class=\"dataframe\">\n",
       "  <thead>\n",
       "    <tr style=\"text-align: right;\">\n",
       "      <th></th>\n",
       "      <th>Loan Amount</th>\n",
       "      <th>Funded Amount</th>\n",
       "      <th>Funded Amount Investor</th>\n",
       "      <th>Term</th>\n",
       "      <th>Batch Enrolled</th>\n",
       "      <th>Interest Rate</th>\n",
       "      <th>Grade</th>\n",
       "      <th>Sub Grade</th>\n",
       "      <th>Home Ownership</th>\n",
       "      <th>Employment Duration</th>\n",
       "      <th>...</th>\n",
       "      <th>Eficacia pagos respecto financiación inicial</th>\n",
       "      <th>Proporción Morosidad según financiación</th>\n",
       "      <th>Proporción Morosidad según Batch Enrolled</th>\n",
       "      <th>Grado_interes</th>\n",
       "      <th>Grado_interes_ordered</th>\n",
       "      <th>Grade_ordered</th>\n",
       "      <th>SubGrade_ordered</th>\n",
       "      <th>verification_status_ordered</th>\n",
       "      <th>initial_list_status_ordered</th>\n",
       "      <th>application_type_ordered</th>\n",
       "    </tr>\n",
       "    <tr>\n",
       "      <th>ID</th>\n",
       "      <th></th>\n",
       "      <th></th>\n",
       "      <th></th>\n",
       "      <th></th>\n",
       "      <th></th>\n",
       "      <th></th>\n",
       "      <th></th>\n",
       "      <th></th>\n",
       "      <th></th>\n",
       "      <th></th>\n",
       "      <th></th>\n",
       "      <th></th>\n",
       "      <th></th>\n",
       "      <th></th>\n",
       "      <th></th>\n",
       "      <th></th>\n",
       "      <th></th>\n",
       "      <th></th>\n",
       "      <th></th>\n",
       "      <th></th>\n",
       "      <th></th>\n",
       "    </tr>\n",
       "  </thead>\n",
       "  <tbody>\n",
       "    <tr>\n",
       "      <th>65087372</th>\n",
       "      <td>10000</td>\n",
       "      <td>32236</td>\n",
       "      <td>12329.36286</td>\n",
       "      <td>59</td>\n",
       "      <td>BAT2522922</td>\n",
       "      <td>11.135007</td>\n",
       "      <td>B</td>\n",
       "      <td>C4</td>\n",
       "      <td>MORTGAGE</td>\n",
       "      <td>20.117115</td>\n",
       "      <td>...</td>\n",
       "      <td>0.090884</td>\n",
       "      <td>0.081828</td>\n",
       "      <td>0.095068</td>\n",
       "      <td>Interes medio</td>\n",
       "      <td>0.092253</td>\n",
       "      <td>0.087237</td>\n",
       "      <td>0.093538</td>\n",
       "      <td>0.088663</td>\n",
       "      <td>0.088901</td>\n",
       "      <td>0.092516</td>\n",
       "    </tr>\n",
       "    <tr>\n",
       "      <th>1450153</th>\n",
       "      <td>3609</td>\n",
       "      <td>11940</td>\n",
       "      <td>12191.99692</td>\n",
       "      <td>59</td>\n",
       "      <td>BAT1586599</td>\n",
       "      <td>12.237563</td>\n",
       "      <td>C</td>\n",
       "      <td>D3</td>\n",
       "      <td>RENT</td>\n",
       "      <td>4.544139</td>\n",
       "      <td>...</td>\n",
       "      <td>0.064724</td>\n",
       "      <td>0.090536</td>\n",
       "      <td>0.105029</td>\n",
       "      <td>Interes medio</td>\n",
       "      <td>0.092253</td>\n",
       "      <td>0.093896</td>\n",
       "      <td>0.089912</td>\n",
       "      <td>0.095694</td>\n",
       "      <td>0.096714</td>\n",
       "      <td>0.092516</td>\n",
       "    </tr>\n",
       "    <tr>\n",
       "      <th>1969101</th>\n",
       "      <td>28276</td>\n",
       "      <td>9311</td>\n",
       "      <td>21603.22455</td>\n",
       "      <td>59</td>\n",
       "      <td>BAT2136391</td>\n",
       "      <td>12.545884</td>\n",
       "      <td>F</td>\n",
       "      <td>D4</td>\n",
       "      <td>MORTGAGE</td>\n",
       "      <td>10.438819</td>\n",
       "      <td>...</td>\n",
       "      <td>0.094738</td>\n",
       "      <td>0.081828</td>\n",
       "      <td>0.092179</td>\n",
       "      <td>Interes medio</td>\n",
       "      <td>0.092253</td>\n",
       "      <td>0.103740</td>\n",
       "      <td>0.090244</td>\n",
       "      <td>0.088663</td>\n",
       "      <td>0.088901</td>\n",
       "      <td>0.092516</td>\n",
       "    </tr>\n",
       "    <tr>\n",
       "      <th>6651430</th>\n",
       "      <td>11170</td>\n",
       "      <td>6954</td>\n",
       "      <td>17877.15585</td>\n",
       "      <td>59</td>\n",
       "      <td>BAT2428731</td>\n",
       "      <td>16.731201</td>\n",
       "      <td>C</td>\n",
       "      <td>C3</td>\n",
       "      <td>MORTGAGE</td>\n",
       "      <td>12.353020</td>\n",
       "      <td>...</td>\n",
       "      <td>0.041446</td>\n",
       "      <td>0.090536</td>\n",
       "      <td>0.092275</td>\n",
       "      <td>Interes alto</td>\n",
       "      <td>0.093069</td>\n",
       "      <td>0.093896</td>\n",
       "      <td>0.094201</td>\n",
       "      <td>0.088663</td>\n",
       "      <td>0.088901</td>\n",
       "      <td>0.092516</td>\n",
       "    </tr>\n",
       "    <tr>\n",
       "      <th>14354669</th>\n",
       "      <td>16890</td>\n",
       "      <td>13226</td>\n",
       "      <td>13539.92667</td>\n",
       "      <td>59</td>\n",
       "      <td>BAT5341619</td>\n",
       "      <td>15.008300</td>\n",
       "      <td>C</td>\n",
       "      <td>D4</td>\n",
       "      <td>MORTGAGE</td>\n",
       "      <td>5.046181</td>\n",
       "      <td>...</td>\n",
       "      <td>0.011231</td>\n",
       "      <td>0.093986</td>\n",
       "      <td>0.087944</td>\n",
       "      <td>Interes alto</td>\n",
       "      <td>0.093069</td>\n",
       "      <td>0.093896</td>\n",
       "      <td>0.090244</td>\n",
       "      <td>0.088663</td>\n",
       "      <td>0.088901</td>\n",
       "      <td>0.092516</td>\n",
       "    </tr>\n",
       "    <tr>\n",
       "      <th>...</th>\n",
       "      <td>...</td>\n",
       "      <td>...</td>\n",
       "      <td>...</td>\n",
       "      <td>...</td>\n",
       "      <td>...</td>\n",
       "      <td>...</td>\n",
       "      <td>...</td>\n",
       "      <td>...</td>\n",
       "      <td>...</td>\n",
       "      <td>...</td>\n",
       "      <td>...</td>\n",
       "      <td>...</td>\n",
       "      <td>...</td>\n",
       "      <td>...</td>\n",
       "      <td>...</td>\n",
       "      <td>...</td>\n",
       "      <td>...</td>\n",
       "      <td>...</td>\n",
       "      <td>...</td>\n",
       "      <td>...</td>\n",
       "      <td>...</td>\n",
       "    </tr>\n",
       "    <tr>\n",
       "      <th>16164945</th>\n",
       "      <td>13601</td>\n",
       "      <td>6848</td>\n",
       "      <td>13175.28583</td>\n",
       "      <td>59</td>\n",
       "      <td>BAT3193689</td>\n",
       "      <td>9.408858</td>\n",
       "      <td>C</td>\n",
       "      <td>A4</td>\n",
       "      <td>MORTGAGE</td>\n",
       "      <td>9.578046</td>\n",
       "      <td>...</td>\n",
       "      <td>0.288985</td>\n",
       "      <td>0.093986</td>\n",
       "      <td>0.087446</td>\n",
       "      <td>Interes bajo</td>\n",
       "      <td>0.092216</td>\n",
       "      <td>0.093896</td>\n",
       "      <td>0.091431</td>\n",
       "      <td>0.088663</td>\n",
       "      <td>0.088901</td>\n",
       "      <td>0.092516</td>\n",
       "    </tr>\n",
       "    <tr>\n",
       "      <th>35182714</th>\n",
       "      <td>8323</td>\n",
       "      <td>11046</td>\n",
       "      <td>15637.46301</td>\n",
       "      <td>59</td>\n",
       "      <td>BAT1780517</td>\n",
       "      <td>9.972104</td>\n",
       "      <td>C</td>\n",
       "      <td>B3</td>\n",
       "      <td>RENT</td>\n",
       "      <td>7.471039</td>\n",
       "      <td>...</td>\n",
       "      <td>0.280720</td>\n",
       "      <td>0.093986</td>\n",
       "      <td>0.099459</td>\n",
       "      <td>Interes bajo</td>\n",
       "      <td>0.092216</td>\n",
       "      <td>0.093896</td>\n",
       "      <td>0.082521</td>\n",
       "      <td>0.095694</td>\n",
       "      <td>0.088901</td>\n",
       "      <td>0.092516</td>\n",
       "    </tr>\n",
       "    <tr>\n",
       "      <th>16435904</th>\n",
       "      <td>15897</td>\n",
       "      <td>32921</td>\n",
       "      <td>12329.45775</td>\n",
       "      <td>59</td>\n",
       "      <td>BAT1761981</td>\n",
       "      <td>19.650943</td>\n",
       "      <td>A</td>\n",
       "      <td>F3</td>\n",
       "      <td>MORTGAGE</td>\n",
       "      <td>3.971477</td>\n",
       "      <td>...</td>\n",
       "      <td>0.081772</td>\n",
       "      <td>0.153846</td>\n",
       "      <td>0.104027</td>\n",
       "      <td>Interes alto</td>\n",
       "      <td>0.093069</td>\n",
       "      <td>0.091248</td>\n",
       "      <td>0.098616</td>\n",
       "      <td>0.088663</td>\n",
       "      <td>0.088901</td>\n",
       "      <td>0.092516</td>\n",
       "    </tr>\n",
       "    <tr>\n",
       "      <th>5300325</th>\n",
       "      <td>16567</td>\n",
       "      <td>4975</td>\n",
       "      <td>21353.68465</td>\n",
       "      <td>59</td>\n",
       "      <td>BAT2333412</td>\n",
       "      <td>13.169095</td>\n",
       "      <td>D</td>\n",
       "      <td>E3</td>\n",
       "      <td>OWN</td>\n",
       "      <td>11.058503</td>\n",
       "      <td>...</td>\n",
       "      <td>0.735560</td>\n",
       "      <td>0.090536</td>\n",
       "      <td>0.085634</td>\n",
       "      <td>Interes alto</td>\n",
       "      <td>0.093069</td>\n",
       "      <td>0.096380</td>\n",
       "      <td>0.089326</td>\n",
       "      <td>0.101551</td>\n",
       "      <td>0.096714</td>\n",
       "      <td>0.092516</td>\n",
       "    </tr>\n",
       "    <tr>\n",
       "      <th>65443173</th>\n",
       "      <td>15353</td>\n",
       "      <td>29875</td>\n",
       "      <td>14207.44860</td>\n",
       "      <td>59</td>\n",
       "      <td>BAT1930365</td>\n",
       "      <td>16.034631</td>\n",
       "      <td>B</td>\n",
       "      <td>D1</td>\n",
       "      <td>MORTGAGE</td>\n",
       "      <td>11.992146</td>\n",
       "      <td>...</td>\n",
       "      <td>0.044327</td>\n",
       "      <td>0.090536</td>\n",
       "      <td>0.094902</td>\n",
       "      <td>Interes alto</td>\n",
       "      <td>0.093069</td>\n",
       "      <td>0.087237</td>\n",
       "      <td>0.093523</td>\n",
       "      <td>0.088663</td>\n",
       "      <td>0.096714</td>\n",
       "      <td>0.092516</td>\n",
       "    </tr>\n",
       "  </tbody>\n",
       "</table>\n",
       "<p>67463 rows × 48 columns</p>\n",
       "</div>"
      ],
      "text/plain": [
       "          Loan Amount  Funded Amount  Funded Amount Investor  Term  \\\n",
       "ID                                                                   \n",
       "65087372        10000          32236             12329.36286    59   \n",
       "1450153          3609          11940             12191.99692    59   \n",
       "1969101         28276           9311             21603.22455    59   \n",
       "6651430         11170           6954             17877.15585    59   \n",
       "14354669        16890          13226             13539.92667    59   \n",
       "...               ...            ...                     ...   ...   \n",
       "16164945        13601           6848             13175.28583    59   \n",
       "35182714         8323          11046             15637.46301    59   \n",
       "16435904        15897          32921             12329.45775    59   \n",
       "5300325         16567           4975             21353.68465    59   \n",
       "65443173        15353          29875             14207.44860    59   \n",
       "\n",
       "         Batch Enrolled  Interest Rate Grade Sub Grade Home Ownership  \\\n",
       "ID                                                                      \n",
       "65087372     BAT2522922      11.135007     B        C4       MORTGAGE   \n",
       "1450153      BAT1586599      12.237563     C        D3           RENT   \n",
       "1969101      BAT2136391      12.545884     F        D4       MORTGAGE   \n",
       "6651430      BAT2428731      16.731201     C        C3       MORTGAGE   \n",
       "14354669     BAT5341619      15.008300     C        D4       MORTGAGE   \n",
       "...                 ...            ...   ...       ...            ...   \n",
       "16164945     BAT3193689       9.408858     C        A4       MORTGAGE   \n",
       "35182714     BAT1780517       9.972104     C        B3           RENT   \n",
       "16435904     BAT1761981      19.650943     A        F3       MORTGAGE   \n",
       "5300325      BAT2333412      13.169095     D        E3            OWN   \n",
       "65443173     BAT1930365      16.034631     B        D1       MORTGAGE   \n",
       "\n",
       "          Employment Duration  ...  \\\n",
       "ID                             ...   \n",
       "65087372            20.117115  ...   \n",
       "1450153              4.544139  ...   \n",
       "1969101             10.438819  ...   \n",
       "6651430             12.353020  ...   \n",
       "14354669             5.046181  ...   \n",
       "...                       ...  ...   \n",
       "16164945             9.578046  ...   \n",
       "35182714             7.471039  ...   \n",
       "16435904             3.971477  ...   \n",
       "5300325             11.058503  ...   \n",
       "65443173            11.992146  ...   \n",
       "\n",
       "         Eficacia pagos respecto financiación inicial  \\\n",
       "ID                                                      \n",
       "65087372                                     0.090884   \n",
       "1450153                                      0.064724   \n",
       "1969101                                      0.094738   \n",
       "6651430                                      0.041446   \n",
       "14354669                                     0.011231   \n",
       "...                                               ...   \n",
       "16164945                                     0.288985   \n",
       "35182714                                     0.280720   \n",
       "16435904                                     0.081772   \n",
       "5300325                                      0.735560   \n",
       "65443173                                     0.044327   \n",
       "\n",
       "         Proporción Morosidad según financiación  \\\n",
       "ID                                                 \n",
       "65087372                                0.081828   \n",
       "1450153                                 0.090536   \n",
       "1969101                                 0.081828   \n",
       "6651430                                 0.090536   \n",
       "14354669                                0.093986   \n",
       "...                                          ...   \n",
       "16164945                                0.093986   \n",
       "35182714                                0.093986   \n",
       "16435904                                0.153846   \n",
       "5300325                                 0.090536   \n",
       "65443173                                0.090536   \n",
       "\n",
       "          Proporción Morosidad según Batch Enrolled  Grado_interes  \\\n",
       "ID                                                                   \n",
       "65087372                                   0.095068  Interes medio   \n",
       "1450153                                    0.105029  Interes medio   \n",
       "1969101                                    0.092179  Interes medio   \n",
       "6651430                                    0.092275   Interes alto   \n",
       "14354669                                   0.087944   Interes alto   \n",
       "...                                             ...            ...   \n",
       "16164945                                   0.087446   Interes bajo   \n",
       "35182714                                   0.099459   Interes bajo   \n",
       "16435904                                   0.104027   Interes alto   \n",
       "5300325                                    0.085634   Interes alto   \n",
       "65443173                                   0.094902   Interes alto   \n",
       "\n",
       "          Grado_interes_ordered  Grade_ordered  SubGrade_ordered  \\\n",
       "ID                                                                 \n",
       "65087372               0.092253       0.087237          0.093538   \n",
       "1450153                0.092253       0.093896          0.089912   \n",
       "1969101                0.092253       0.103740          0.090244   \n",
       "6651430                0.093069       0.093896          0.094201   \n",
       "14354669               0.093069       0.093896          0.090244   \n",
       "...                         ...            ...               ...   \n",
       "16164945               0.092216       0.093896          0.091431   \n",
       "35182714               0.092216       0.093896          0.082521   \n",
       "16435904               0.093069       0.091248          0.098616   \n",
       "5300325                0.093069       0.096380          0.089326   \n",
       "65443173               0.093069       0.087237          0.093523   \n",
       "\n",
       "          verification_status_ordered  initial_list_status_ordered  \\\n",
       "ID                                                                   \n",
       "65087372                     0.088663                     0.088901   \n",
       "1450153                      0.095694                     0.096714   \n",
       "1969101                      0.088663                     0.088901   \n",
       "6651430                      0.088663                     0.088901   \n",
       "14354669                     0.088663                     0.088901   \n",
       "...                               ...                          ...   \n",
       "16164945                     0.088663                     0.088901   \n",
       "35182714                     0.095694                     0.088901   \n",
       "16435904                     0.088663                     0.088901   \n",
       "5300325                      0.101551                     0.096714   \n",
       "65443173                     0.088663                     0.096714   \n",
       "\n",
       "          application_type_ordered  \n",
       "ID                                  \n",
       "65087372                  0.092516  \n",
       "1450153                   0.092516  \n",
       "1969101                   0.092516  \n",
       "6651430                   0.092516  \n",
       "14354669                  0.092516  \n",
       "...                            ...  \n",
       "16164945                  0.092516  \n",
       "35182714                  0.092516  \n",
       "16435904                  0.092516  \n",
       "5300325                   0.092516  \n",
       "65443173                  0.092516  \n",
       "\n",
       "[67463 rows x 48 columns]"
      ]
     },
     "execution_count": 2,
     "metadata": {},
     "output_type": "execute_result"
    }
   ],
   "source": [
    "df = pd.read_csv(\"../1.Data/2.Processed/processed2.csv\",index_col=0)\n",
    "df"
   ]
  },
  {
   "cell_type": "code",
   "execution_count": 3,
   "metadata": {},
   "outputs": [
    {
     "name": "stdout",
     "output_type": "stream",
     "text": [
      "<class 'pandas.core.frame.DataFrame'>\n",
      "Int64Index: 67463 entries, 65087372 to 65443173\n",
      "Data columns (total 48 columns):\n",
      " #   Column                                            Non-Null Count  Dtype  \n",
      "---  ------                                            --------------  -----  \n",
      " 0   Loan Amount                                       67463 non-null  int64  \n",
      " 1   Funded Amount                                     67463 non-null  int64  \n",
      " 2   Funded Amount Investor                            67463 non-null  float64\n",
      " 3   Term                                              67463 non-null  int64  \n",
      " 4   Batch Enrolled                                    67463 non-null  object \n",
      " 5   Interest Rate                                     67463 non-null  float64\n",
      " 6   Grade                                             67463 non-null  object \n",
      " 7   Sub Grade                                         67463 non-null  object \n",
      " 8   Home Ownership                                    67463 non-null  object \n",
      " 9   Employment Duration                               67463 non-null  float64\n",
      " 10  Verification Status                               67463 non-null  object \n",
      " 11  Loan Title                                        67463 non-null  object \n",
      " 12  Debit to Income                                   67463 non-null  float64\n",
      " 13  Delinquency - two years                           67463 non-null  int64  \n",
      " 14  Inquires - six months                             67463 non-null  int64  \n",
      " 15  Open Account                                      67463 non-null  int64  \n",
      " 16  Public Record                                     67463 non-null  int64  \n",
      " 17  Revolving Balance                                 67463 non-null  int64  \n",
      " 18  Revolving Utilities                               67463 non-null  float64\n",
      " 19  Total Accounts                                    67463 non-null  int64  \n",
      " 20  Initial List Status                               67463 non-null  object \n",
      " 21  Total Received Interest                           67463 non-null  float64\n",
      " 22  Total Received Late Fee                           67463 non-null  float64\n",
      " 23  Recoveries                                        67463 non-null  float64\n",
      " 24  Collection Recovery Fee                           67463 non-null  float64\n",
      " 25  Collection 12 months Medical                      67463 non-null  int64  \n",
      " 26  Application Type                                  67463 non-null  object \n",
      " 27  Last week Pay                                     67463 non-null  int64  \n",
      " 28  Total Collection Amount                           67463 non-null  int64  \n",
      " 29  Total Current Balance                             67463 non-null  int64  \n",
      " 30  Total Revolving Credit Limit                      67463 non-null  int64  \n",
      " 31  Loan Status                                       67463 non-null  int64  \n",
      " 32  Funded Amount/Interest Rate                       67463 non-null  float64\n",
      " 33  Funded Amount / Debit to Income                   67463 non-null  float64\n",
      " 34  Inquires - six months / Open Account              67463 non-null  float64\n",
      " 35  Revolving Balance / Total Revolving Credit Limit  67463 non-null  float64\n",
      " 36  Delinquency - two years / Total Accounts          67463 non-null  float64\n",
      " 37  cuentas públicas prestatario                      67463 non-null  int64  \n",
      " 38  Eficacia pagos respecto financiación inicial      67463 non-null  float64\n",
      " 39  Proporción Morosidad según financiación           67463 non-null  float64\n",
      " 40  Proporción Morosidad según Batch Enrolled         67463 non-null  float64\n",
      " 41  Grado_interes                                     67463 non-null  object \n",
      " 42  Grado_interes_ordered                             67463 non-null  float64\n",
      " 43  Grade_ordered                                     67463 non-null  float64\n",
      " 44  SubGrade_ordered                                  67463 non-null  float64\n",
      " 45  verification_status_ordered                       67463 non-null  float64\n",
      " 46  initial_list_status_ordered                       67463 non-null  float64\n",
      " 47  application_type_ordered                          67463 non-null  float64\n",
      "dtypes: float64(23), int64(16), object(9)\n",
      "memory usage: 25.2+ MB\n"
     ]
    }
   ],
   "source": [
    "df.info()"
   ]
  },
  {
   "cell_type": "code",
   "execution_count": 4,
   "metadata": {},
   "outputs": [
    {
     "data": {
      "text/html": [
       "<div>\n",
       "<style scoped>\n",
       "    .dataframe tbody tr th:only-of-type {\n",
       "        vertical-align: middle;\n",
       "    }\n",
       "\n",
       "    .dataframe tbody tr th {\n",
       "        vertical-align: top;\n",
       "    }\n",
       "\n",
       "    .dataframe thead th {\n",
       "        text-align: right;\n",
       "    }\n",
       "</style>\n",
       "<table border=\"1\" class=\"dataframe\">\n",
       "  <thead>\n",
       "    <tr style=\"text-align: right;\">\n",
       "      <th></th>\n",
       "      <th>Loan Amount</th>\n",
       "      <th>Funded Amount</th>\n",
       "      <th>Funded Amount Investor</th>\n",
       "      <th>Term</th>\n",
       "      <th>Interest Rate</th>\n",
       "      <th>Employment Duration</th>\n",
       "      <th>Debit to Income</th>\n",
       "      <th>Delinquency - two years</th>\n",
       "      <th>Inquires - six months</th>\n",
       "      <th>Open Account</th>\n",
       "    </tr>\n",
       "  </thead>\n",
       "  <tbody>\n",
       "    <tr>\n",
       "      <th>count</th>\n",
       "      <td>67463.000000</td>\n",
       "      <td>67463.000000</td>\n",
       "      <td>67463.000000</td>\n",
       "      <td>67463.000000</td>\n",
       "      <td>67463.000000</td>\n",
       "      <td>67463.000000</td>\n",
       "      <td>67463.000000</td>\n",
       "      <td>67463.000000</td>\n",
       "      <td>67463.000000</td>\n",
       "      <td>67463.000000</td>\n",
       "    </tr>\n",
       "    <tr>\n",
       "      <th>mean</th>\n",
       "      <td>16848.902776</td>\n",
       "      <td>15770.599114</td>\n",
       "      <td>14621.799323</td>\n",
       "      <td>58.173814</td>\n",
       "      <td>11.846258</td>\n",
       "      <td>9.187942</td>\n",
       "      <td>23.299241</td>\n",
       "      <td>0.327127</td>\n",
       "      <td>0.145754</td>\n",
       "      <td>14.266561</td>\n",
       "    </tr>\n",
       "    <tr>\n",
       "      <th>std</th>\n",
       "      <td>8367.865726</td>\n",
       "      <td>8150.992662</td>\n",
       "      <td>6785.345170</td>\n",
       "      <td>3.327441</td>\n",
       "      <td>3.718629</td>\n",
       "      <td>5.136792</td>\n",
       "      <td>8.451824</td>\n",
       "      <td>0.800888</td>\n",
       "      <td>0.473291</td>\n",
       "      <td>6.225060</td>\n",
       "    </tr>\n",
       "    <tr>\n",
       "      <th>min</th>\n",
       "      <td>1014.000000</td>\n",
       "      <td>1014.000000</td>\n",
       "      <td>1114.590204</td>\n",
       "      <td>36.000000</td>\n",
       "      <td>5.320006</td>\n",
       "      <td>1.662507</td>\n",
       "      <td>0.675299</td>\n",
       "      <td>0.000000</td>\n",
       "      <td>0.000000</td>\n",
       "      <td>2.000000</td>\n",
       "    </tr>\n",
       "    <tr>\n",
       "      <th>25%</th>\n",
       "      <td>10012.000000</td>\n",
       "      <td>9266.500000</td>\n",
       "      <td>9831.684984</td>\n",
       "      <td>58.000000</td>\n",
       "      <td>9.297147</td>\n",
       "      <td>5.896628</td>\n",
       "      <td>16.756416</td>\n",
       "      <td>0.000000</td>\n",
       "      <td>0.000000</td>\n",
       "      <td>10.000000</td>\n",
       "    </tr>\n",
       "    <tr>\n",
       "      <th>50%</th>\n",
       "      <td>16073.000000</td>\n",
       "      <td>13042.000000</td>\n",
       "      <td>12793.682170</td>\n",
       "      <td>59.000000</td>\n",
       "      <td>11.377696</td>\n",
       "      <td>7.909632</td>\n",
       "      <td>22.656658</td>\n",
       "      <td>0.000000</td>\n",
       "      <td>0.000000</td>\n",
       "      <td>13.000000</td>\n",
       "    </tr>\n",
       "    <tr>\n",
       "      <th>75%</th>\n",
       "      <td>22106.000000</td>\n",
       "      <td>21793.000000</td>\n",
       "      <td>17807.594120</td>\n",
       "      <td>59.000000</td>\n",
       "      <td>14.193533</td>\n",
       "      <td>10.794356</td>\n",
       "      <td>30.048400</td>\n",
       "      <td>0.000000</td>\n",
       "      <td>0.000000</td>\n",
       "      <td>16.000000</td>\n",
       "    </tr>\n",
       "    <tr>\n",
       "      <th>max</th>\n",
       "      <td>35000.000000</td>\n",
       "      <td>34999.000000</td>\n",
       "      <td>34999.746430</td>\n",
       "      <td>59.000000</td>\n",
       "      <td>27.182348</td>\n",
       "      <td>46.379368</td>\n",
       "      <td>39.629862</td>\n",
       "      <td>8.000000</td>\n",
       "      <td>5.000000</td>\n",
       "      <td>37.000000</td>\n",
       "    </tr>\n",
       "  </tbody>\n",
       "</table>\n",
       "</div>"
      ],
      "text/plain": [
       "        Loan Amount  Funded Amount  Funded Amount Investor          Term  \\\n",
       "count  67463.000000   67463.000000            67463.000000  67463.000000   \n",
       "mean   16848.902776   15770.599114            14621.799323     58.173814   \n",
       "std     8367.865726    8150.992662             6785.345170      3.327441   \n",
       "min     1014.000000    1014.000000             1114.590204     36.000000   \n",
       "25%    10012.000000    9266.500000             9831.684984     58.000000   \n",
       "50%    16073.000000   13042.000000            12793.682170     59.000000   \n",
       "75%    22106.000000   21793.000000            17807.594120     59.000000   \n",
       "max    35000.000000   34999.000000            34999.746430     59.000000   \n",
       "\n",
       "       Interest Rate  Employment Duration  Debit to Income  \\\n",
       "count   67463.000000         67463.000000     67463.000000   \n",
       "mean       11.846258             9.187942        23.299241   \n",
       "std         3.718629             5.136792         8.451824   \n",
       "min         5.320006             1.662507         0.675299   \n",
       "25%         9.297147             5.896628        16.756416   \n",
       "50%        11.377696             7.909632        22.656658   \n",
       "75%        14.193533            10.794356        30.048400   \n",
       "max        27.182348            46.379368        39.629862   \n",
       "\n",
       "       Delinquency - two years  Inquires - six months  Open Account  \n",
       "count             67463.000000           67463.000000  67463.000000  \n",
       "mean                  0.327127               0.145754     14.266561  \n",
       "std                   0.800888               0.473291      6.225060  \n",
       "min                   0.000000               0.000000      2.000000  \n",
       "25%                   0.000000               0.000000     10.000000  \n",
       "50%                   0.000000               0.000000     13.000000  \n",
       "75%                   0.000000               0.000000     16.000000  \n",
       "max                   8.000000               5.000000     37.000000  "
      ]
     },
     "execution_count": 4,
     "metadata": {},
     "output_type": "execute_result"
    }
   ],
   "source": [
    "df.loc[:,:\"Open Account\"].describe()"
   ]
  },
  {
   "cell_type": "code",
   "execution_count": 5,
   "metadata": {},
   "outputs": [
    {
     "data": {
      "text/html": [
       "<div>\n",
       "<style scoped>\n",
       "    .dataframe tbody tr th:only-of-type {\n",
       "        vertical-align: middle;\n",
       "    }\n",
       "\n",
       "    .dataframe tbody tr th {\n",
       "        vertical-align: top;\n",
       "    }\n",
       "\n",
       "    .dataframe thead th {\n",
       "        text-align: right;\n",
       "    }\n",
       "</style>\n",
       "<table border=\"1\" class=\"dataframe\">\n",
       "  <thead>\n",
       "    <tr style=\"text-align: right;\">\n",
       "      <th></th>\n",
       "      <th>Public Record</th>\n",
       "      <th>Revolving Balance</th>\n",
       "      <th>Revolving Utilities</th>\n",
       "      <th>Total Accounts</th>\n",
       "      <th>Total Received Interest</th>\n",
       "      <th>Total Received Late Fee</th>\n",
       "      <th>Recoveries</th>\n",
       "      <th>Collection Recovery Fee</th>\n",
       "      <th>Collection 12 months Medical</th>\n",
       "      <th>Last week Pay</th>\n",
       "    </tr>\n",
       "  </thead>\n",
       "  <tbody>\n",
       "    <tr>\n",
       "      <th>count</th>\n",
       "      <td>67463.000000</td>\n",
       "      <td>67463.000000</td>\n",
       "      <td>67463.000000</td>\n",
       "      <td>67463.000000</td>\n",
       "      <td>67463.000000</td>\n",
       "      <td>67463.000000</td>\n",
       "      <td>67463.000000</td>\n",
       "      <td>67463.000000</td>\n",
       "      <td>67463.000000</td>\n",
       "      <td>67463.000000</td>\n",
       "    </tr>\n",
       "    <tr>\n",
       "      <th>mean</th>\n",
       "      <td>0.081437</td>\n",
       "      <td>7699.342425</td>\n",
       "      <td>52.889443</td>\n",
       "      <td>18.627929</td>\n",
       "      <td>2068.992542</td>\n",
       "      <td>1.143969</td>\n",
       "      <td>59.691578</td>\n",
       "      <td>1.125141</td>\n",
       "      <td>0.021301</td>\n",
       "      <td>71.163260</td>\n",
       "    </tr>\n",
       "    <tr>\n",
       "      <th>std</th>\n",
       "      <td>0.346606</td>\n",
       "      <td>7836.148190</td>\n",
       "      <td>22.539450</td>\n",
       "      <td>8.319246</td>\n",
       "      <td>2221.918745</td>\n",
       "      <td>5.244365</td>\n",
       "      <td>357.026346</td>\n",
       "      <td>3.489885</td>\n",
       "      <td>0.144385</td>\n",
       "      <td>43.315845</td>\n",
       "    </tr>\n",
       "    <tr>\n",
       "      <th>min</th>\n",
       "      <td>0.000000</td>\n",
       "      <td>0.000000</td>\n",
       "      <td>0.005172</td>\n",
       "      <td>4.000000</td>\n",
       "      <td>4.736746</td>\n",
       "      <td>0.000003</td>\n",
       "      <td>0.000036</td>\n",
       "      <td>0.000036</td>\n",
       "      <td>0.000000</td>\n",
       "      <td>0.000000</td>\n",
       "    </tr>\n",
       "    <tr>\n",
       "      <th>25%</th>\n",
       "      <td>0.000000</td>\n",
       "      <td>2557.000000</td>\n",
       "      <td>38.658825</td>\n",
       "      <td>13.000000</td>\n",
       "      <td>570.903814</td>\n",
       "      <td>0.021114</td>\n",
       "      <td>1.629818</td>\n",
       "      <td>0.476259</td>\n",
       "      <td>0.000000</td>\n",
       "      <td>35.000000</td>\n",
       "    </tr>\n",
       "    <tr>\n",
       "      <th>50%</th>\n",
       "      <td>0.000000</td>\n",
       "      <td>5516.000000</td>\n",
       "      <td>54.082334</td>\n",
       "      <td>18.000000</td>\n",
       "      <td>1330.842771</td>\n",
       "      <td>0.043398</td>\n",
       "      <td>3.344524</td>\n",
       "      <td>0.780141</td>\n",
       "      <td>0.000000</td>\n",
       "      <td>68.000000</td>\n",
       "    </tr>\n",
       "    <tr>\n",
       "      <th>75%</th>\n",
       "      <td>0.000000</td>\n",
       "      <td>10184.500000</td>\n",
       "      <td>69.177117</td>\n",
       "      <td>23.000000</td>\n",
       "      <td>2656.956837</td>\n",
       "      <td>0.071884</td>\n",
       "      <td>5.453727</td>\n",
       "      <td>1.070566</td>\n",
       "      <td>0.000000</td>\n",
       "      <td>105.000000</td>\n",
       "    </tr>\n",
       "    <tr>\n",
       "      <th>max</th>\n",
       "      <td>4.000000</td>\n",
       "      <td>116933.000000</td>\n",
       "      <td>100.880050</td>\n",
       "      <td>72.000000</td>\n",
       "      <td>14301.368310</td>\n",
       "      <td>42.618882</td>\n",
       "      <td>4354.467419</td>\n",
       "      <td>166.833000</td>\n",
       "      <td>1.000000</td>\n",
       "      <td>161.000000</td>\n",
       "    </tr>\n",
       "  </tbody>\n",
       "</table>\n",
       "</div>"
      ],
      "text/plain": [
       "       Public Record  Revolving Balance  Revolving Utilities  Total Accounts  \\\n",
       "count   67463.000000       67463.000000         67463.000000    67463.000000   \n",
       "mean        0.081437        7699.342425            52.889443       18.627929   \n",
       "std         0.346606        7836.148190            22.539450        8.319246   \n",
       "min         0.000000           0.000000             0.005172        4.000000   \n",
       "25%         0.000000        2557.000000            38.658825       13.000000   \n",
       "50%         0.000000        5516.000000            54.082334       18.000000   \n",
       "75%         0.000000       10184.500000            69.177117       23.000000   \n",
       "max         4.000000      116933.000000           100.880050       72.000000   \n",
       "\n",
       "       Total Received Interest  Total Received Late Fee    Recoveries  \\\n",
       "count             67463.000000             67463.000000  67463.000000   \n",
       "mean               2068.992542                 1.143969     59.691578   \n",
       "std                2221.918745                 5.244365    357.026346   \n",
       "min                   4.736746                 0.000003      0.000036   \n",
       "25%                 570.903814                 0.021114      1.629818   \n",
       "50%                1330.842771                 0.043398      3.344524   \n",
       "75%                2656.956837                 0.071884      5.453727   \n",
       "max               14301.368310                42.618882   4354.467419   \n",
       "\n",
       "       Collection Recovery Fee  Collection 12 months Medical  Last week Pay  \n",
       "count             67463.000000                  67463.000000   67463.000000  \n",
       "mean                  1.125141                      0.021301      71.163260  \n",
       "std                   3.489885                      0.144385      43.315845  \n",
       "min                   0.000036                      0.000000       0.000000  \n",
       "25%                   0.476259                      0.000000      35.000000  \n",
       "50%                   0.780141                      0.000000      68.000000  \n",
       "75%                   1.070566                      0.000000     105.000000  \n",
       "max                 166.833000                      1.000000     161.000000  "
      ]
     },
     "execution_count": 5,
     "metadata": {},
     "output_type": "execute_result"
    }
   ],
   "source": [
    "df.loc[:,\"Public Record\":\"Last week Pay\"].describe()"
   ]
  },
  {
   "cell_type": "code",
   "execution_count": 6,
   "metadata": {},
   "outputs": [
    {
     "data": {
      "text/html": [
       "<div>\n",
       "<style scoped>\n",
       "    .dataframe tbody tr th:only-of-type {\n",
       "        vertical-align: middle;\n",
       "    }\n",
       "\n",
       "    .dataframe tbody tr th {\n",
       "        vertical-align: top;\n",
       "    }\n",
       "\n",
       "    .dataframe thead th {\n",
       "        text-align: right;\n",
       "    }\n",
       "</style>\n",
       "<table border=\"1\" class=\"dataframe\">\n",
       "  <thead>\n",
       "    <tr style=\"text-align: right;\">\n",
       "      <th></th>\n",
       "      <th>Last week Pay</th>\n",
       "      <th>Total Collection Amount</th>\n",
       "      <th>Total Current Balance</th>\n",
       "      <th>Total Revolving Credit Limit</th>\n",
       "      <th>Loan Status</th>\n",
       "      <th>Funded Amount/Interest Rate</th>\n",
       "      <th>Funded Amount / Debit to Income</th>\n",
       "      <th>Inquires - six months / Open Account</th>\n",
       "      <th>Revolving Balance / Total Revolving Credit Limit</th>\n",
       "      <th>Delinquency - two years / Total Accounts</th>\n",
       "      <th>cuentas públicas prestatario</th>\n",
       "      <th>Eficacia pagos respecto financiación inicial</th>\n",
       "    </tr>\n",
       "  </thead>\n",
       "  <tbody>\n",
       "    <tr>\n",
       "      <th>count</th>\n",
       "      <td>67463.000000</td>\n",
       "      <td>67463.000000</td>\n",
       "      <td>6.746300e+04</td>\n",
       "      <td>67463.000000</td>\n",
       "      <td>67463.000000</td>\n",
       "      <td>67463.000000</td>\n",
       "      <td>67463.000000</td>\n",
       "      <td>67463.000000</td>\n",
       "      <td>67463.000000</td>\n",
       "      <td>67463.000000</td>\n",
       "      <td>67463.000000</td>\n",
       "      <td>67463.000000</td>\n",
       "    </tr>\n",
       "    <tr>\n",
       "      <th>mean</th>\n",
       "      <td>71.163260</td>\n",
       "      <td>146.467990</td>\n",
       "      <td>1.595739e+05</td>\n",
       "      <td>23123.005544</td>\n",
       "      <td>0.092510</td>\n",
       "      <td>1474.849009</td>\n",
       "      <td>807.193076</td>\n",
       "      <td>0.011914</td>\n",
       "      <td>0.795545</td>\n",
       "      <td>0.022713</td>\n",
       "      <td>0.102738</td>\n",
       "      <td>0.173749</td>\n",
       "    </tr>\n",
       "    <tr>\n",
       "      <th>std</th>\n",
       "      <td>43.315845</td>\n",
       "      <td>744.382233</td>\n",
       "      <td>1.390332e+05</td>\n",
       "      <td>20916.699999</td>\n",
       "      <td>0.289747</td>\n",
       "      <td>947.189719</td>\n",
       "      <td>663.834935</td>\n",
       "      <td>0.041687</td>\n",
       "      <td>1.582962</td>\n",
       "      <td>0.067641</td>\n",
       "      <td>0.376658</td>\n",
       "      <td>0.239998</td>\n",
       "    </tr>\n",
       "    <tr>\n",
       "      <th>min</th>\n",
       "      <td>0.000000</td>\n",
       "      <td>1.000000</td>\n",
       "      <td>6.170000e+02</td>\n",
       "      <td>1000.000000</td>\n",
       "      <td>0.000000</td>\n",
       "      <td>65.494750</td>\n",
       "      <td>29.076308</td>\n",
       "      <td>0.000000</td>\n",
       "      <td>0.000000</td>\n",
       "      <td>0.000000</td>\n",
       "      <td>0.000000</td>\n",
       "      <td>0.000164</td>\n",
       "    </tr>\n",
       "    <tr>\n",
       "      <th>25%</th>\n",
       "      <td>35.000000</td>\n",
       "      <td>24.000000</td>\n",
       "      <td>5.037900e+04</td>\n",
       "      <td>8155.500000</td>\n",
       "      <td>0.000000</td>\n",
       "      <td>774.270563</td>\n",
       "      <td>388.529612</td>\n",
       "      <td>0.000000</td>\n",
       "      <td>0.121485</td>\n",
       "      <td>0.000000</td>\n",
       "      <td>0.000000</td>\n",
       "      <td>0.038919</td>\n",
       "    </tr>\n",
       "    <tr>\n",
       "      <th>50%</th>\n",
       "      <td>68.000000</td>\n",
       "      <td>36.000000</td>\n",
       "      <td>1.183690e+05</td>\n",
       "      <td>16733.000000</td>\n",
       "      <td>0.000000</td>\n",
       "      <td>1213.625096</td>\n",
       "      <td>631.189539</td>\n",
       "      <td>0.000000</td>\n",
       "      <td>0.317982</td>\n",
       "      <td>0.000000</td>\n",
       "      <td>0.000000</td>\n",
       "      <td>0.094562</td>\n",
       "    </tr>\n",
       "    <tr>\n",
       "      <th>75%</th>\n",
       "      <td>105.000000</td>\n",
       "      <td>46.000000</td>\n",
       "      <td>2.283750e+05</td>\n",
       "      <td>32146.500000</td>\n",
       "      <td>0.000000</td>\n",
       "      <td>1938.685276</td>\n",
       "      <td>1014.249464</td>\n",
       "      <td>0.000000</td>\n",
       "      <td>0.809357</td>\n",
       "      <td>0.000000</td>\n",
       "      <td>0.000000</td>\n",
       "      <td>0.212829</td>\n",
       "    </tr>\n",
       "    <tr>\n",
       "      <th>max</th>\n",
       "      <td>161.000000</td>\n",
       "      <td>16421.000000</td>\n",
       "      <td>1.177412e+06</td>\n",
       "      <td>201169.000000</td>\n",
       "      <td>1.000000</td>\n",
       "      <td>6491.829342</td>\n",
       "      <td>27329.355315</td>\n",
       "      <td>1.000000</td>\n",
       "      <td>58.966197</td>\n",
       "      <td>2.000000</td>\n",
       "      <td>5.000000</td>\n",
       "      <td>8.898065</td>\n",
       "    </tr>\n",
       "  </tbody>\n",
       "</table>\n",
       "</div>"
      ],
      "text/plain": [
       "       Last week Pay  Total Collection Amount  Total Current Balance  \\\n",
       "count   67463.000000             67463.000000           6.746300e+04   \n",
       "mean       71.163260               146.467990           1.595739e+05   \n",
       "std        43.315845               744.382233           1.390332e+05   \n",
       "min         0.000000                 1.000000           6.170000e+02   \n",
       "25%        35.000000                24.000000           5.037900e+04   \n",
       "50%        68.000000                36.000000           1.183690e+05   \n",
       "75%       105.000000                46.000000           2.283750e+05   \n",
       "max       161.000000             16421.000000           1.177412e+06   \n",
       "\n",
       "       Total Revolving Credit Limit   Loan Status  \\\n",
       "count                  67463.000000  67463.000000   \n",
       "mean                   23123.005544      0.092510   \n",
       "std                    20916.699999      0.289747   \n",
       "min                     1000.000000      0.000000   \n",
       "25%                     8155.500000      0.000000   \n",
       "50%                    16733.000000      0.000000   \n",
       "75%                    32146.500000      0.000000   \n",
       "max                   201169.000000      1.000000   \n",
       "\n",
       "       Funded Amount/Interest Rate  Funded Amount / Debit to Income  \\\n",
       "count                 67463.000000                     67463.000000   \n",
       "mean                   1474.849009                       807.193076   \n",
       "std                     947.189719                       663.834935   \n",
       "min                      65.494750                        29.076308   \n",
       "25%                     774.270563                       388.529612   \n",
       "50%                    1213.625096                       631.189539   \n",
       "75%                    1938.685276                      1014.249464   \n",
       "max                    6491.829342                     27329.355315   \n",
       "\n",
       "       Inquires - six months / Open Account  \\\n",
       "count                          67463.000000   \n",
       "mean                               0.011914   \n",
       "std                                0.041687   \n",
       "min                                0.000000   \n",
       "25%                                0.000000   \n",
       "50%                                0.000000   \n",
       "75%                                0.000000   \n",
       "max                                1.000000   \n",
       "\n",
       "       Revolving Balance / Total Revolving Credit Limit  \\\n",
       "count                                      67463.000000   \n",
       "mean                                           0.795545   \n",
       "std                                            1.582962   \n",
       "min                                            0.000000   \n",
       "25%                                            0.121485   \n",
       "50%                                            0.317982   \n",
       "75%                                            0.809357   \n",
       "max                                           58.966197   \n",
       "\n",
       "       Delinquency - two years / Total Accounts  cuentas públicas prestatario  \\\n",
       "count                              67463.000000                  67463.000000   \n",
       "mean                                   0.022713                      0.102738   \n",
       "std                                    0.067641                      0.376658   \n",
       "min                                    0.000000                      0.000000   \n",
       "25%                                    0.000000                      0.000000   \n",
       "50%                                    0.000000                      0.000000   \n",
       "75%                                    0.000000                      0.000000   \n",
       "max                                    2.000000                      5.000000   \n",
       "\n",
       "       Eficacia pagos respecto financiación inicial  \n",
       "count                                  67463.000000  \n",
       "mean                                       0.173749  \n",
       "std                                        0.239998  \n",
       "min                                        0.000164  \n",
       "25%                                        0.038919  \n",
       "50%                                        0.094562  \n",
       "75%                                        0.212829  \n",
       "max                                        8.898065  "
      ]
     },
     "execution_count": 6,
     "metadata": {},
     "output_type": "execute_result"
    }
   ],
   "source": [
    "df.loc[:,\"Last week Pay\":\"Eficacia pagos respecto financiación inicial\"].describe()"
   ]
  },
  {
   "cell_type": "code",
   "execution_count": 7,
   "metadata": {},
   "outputs": [
    {
     "data": {
      "text/html": [
       "<div>\n",
       "<style scoped>\n",
       "    .dataframe tbody tr th:only-of-type {\n",
       "        vertical-align: middle;\n",
       "    }\n",
       "\n",
       "    .dataframe tbody tr th {\n",
       "        vertical-align: top;\n",
       "    }\n",
       "\n",
       "    .dataframe thead th {\n",
       "        text-align: right;\n",
       "    }\n",
       "</style>\n",
       "<table border=\"1\" class=\"dataframe\">\n",
       "  <thead>\n",
       "    <tr style=\"text-align: right;\">\n",
       "      <th></th>\n",
       "      <th>Proporción Morosidad según financiación</th>\n",
       "      <th>Proporción Morosidad según Batch Enrolled</th>\n",
       "      <th>Grado_interes_ordered</th>\n",
       "      <th>Grade_ordered</th>\n",
       "      <th>SubGrade_ordered</th>\n",
       "      <th>verification_status_ordered</th>\n",
       "      <th>initial_list_status_ordered</th>\n",
       "      <th>application_type_ordered</th>\n",
       "    </tr>\n",
       "  </thead>\n",
       "  <tbody>\n",
       "    <tr>\n",
       "      <th>count</th>\n",
       "      <td>67463.000000</td>\n",
       "      <td>67463.000000</td>\n",
       "      <td>67463.000000</td>\n",
       "      <td>67463.000000</td>\n",
       "      <td>67463.000000</td>\n",
       "      <td>67463.000000</td>\n",
       "      <td>67463.000000</td>\n",
       "      <td>67463.000000</td>\n",
       "    </tr>\n",
       "    <tr>\n",
       "      <th>mean</th>\n",
       "      <td>0.092510</td>\n",
       "      <td>0.092510</td>\n",
       "      <td>0.092510</td>\n",
       "      <td>0.092510</td>\n",
       "      <td>0.092510</td>\n",
       "      <td>0.092510</td>\n",
       "      <td>0.092510</td>\n",
       "      <td>0.092510</td>\n",
       "    </tr>\n",
       "    <tr>\n",
       "      <th>std</th>\n",
       "      <td>0.012567</td>\n",
       "      <td>0.007085</td>\n",
       "      <td>0.000393</td>\n",
       "      <td>0.004178</td>\n",
       "      <td>0.006430</td>\n",
       "      <td>0.004476</td>\n",
       "      <td>0.003896</td>\n",
       "      <td>0.000132</td>\n",
       "    </tr>\n",
       "    <tr>\n",
       "      <th>min</th>\n",
       "      <td>0.000000</td>\n",
       "      <td>0.078297</td>\n",
       "      <td>0.092216</td>\n",
       "      <td>0.087237</td>\n",
       "      <td>0.078558</td>\n",
       "      <td>0.088663</td>\n",
       "      <td>0.088901</td>\n",
       "      <td>0.089431</td>\n",
       "    </tr>\n",
       "    <tr>\n",
       "      <th>25%</th>\n",
       "      <td>0.090536</td>\n",
       "      <td>0.087446</td>\n",
       "      <td>0.092216</td>\n",
       "      <td>0.087237</td>\n",
       "      <td>0.089912</td>\n",
       "      <td>0.088663</td>\n",
       "      <td>0.088901</td>\n",
       "      <td>0.092516</td>\n",
       "    </tr>\n",
       "    <tr>\n",
       "      <th>50%</th>\n",
       "      <td>0.093986</td>\n",
       "      <td>0.093750</td>\n",
       "      <td>0.092253</td>\n",
       "      <td>0.093896</td>\n",
       "      <td>0.093538</td>\n",
       "      <td>0.088663</td>\n",
       "      <td>0.088901</td>\n",
       "      <td>0.092516</td>\n",
       "    </tr>\n",
       "    <tr>\n",
       "      <th>75%</th>\n",
       "      <td>0.093986</td>\n",
       "      <td>0.096085</td>\n",
       "      <td>0.093069</td>\n",
       "      <td>0.095873</td>\n",
       "      <td>0.095657</td>\n",
       "      <td>0.095694</td>\n",
       "      <td>0.096714</td>\n",
       "      <td>0.092516</td>\n",
       "    </tr>\n",
       "    <tr>\n",
       "      <th>max</th>\n",
       "      <td>0.500000</td>\n",
       "      <td>0.125000</td>\n",
       "      <td>0.093069</td>\n",
       "      <td>0.106349</td>\n",
       "      <td>0.130081</td>\n",
       "      <td>0.101551</td>\n",
       "      <td>0.096714</td>\n",
       "      <td>0.092516</td>\n",
       "    </tr>\n",
       "  </tbody>\n",
       "</table>\n",
       "</div>"
      ],
      "text/plain": [
       "       Proporción Morosidad según financiación  \\\n",
       "count                             67463.000000   \n",
       "mean                                  0.092510   \n",
       "std                                   0.012567   \n",
       "min                                   0.000000   \n",
       "25%                                   0.090536   \n",
       "50%                                   0.093986   \n",
       "75%                                   0.093986   \n",
       "max                                   0.500000   \n",
       "\n",
       "       Proporción Morosidad según Batch Enrolled  Grado_interes_ordered  \\\n",
       "count                               67463.000000           67463.000000   \n",
       "mean                                    0.092510               0.092510   \n",
       "std                                     0.007085               0.000393   \n",
       "min                                     0.078297               0.092216   \n",
       "25%                                     0.087446               0.092216   \n",
       "50%                                     0.093750               0.092253   \n",
       "75%                                     0.096085               0.093069   \n",
       "max                                     0.125000               0.093069   \n",
       "\n",
       "       Grade_ordered  SubGrade_ordered  verification_status_ordered  \\\n",
       "count   67463.000000      67463.000000                 67463.000000   \n",
       "mean        0.092510          0.092510                     0.092510   \n",
       "std         0.004178          0.006430                     0.004476   \n",
       "min         0.087237          0.078558                     0.088663   \n",
       "25%         0.087237          0.089912                     0.088663   \n",
       "50%         0.093896          0.093538                     0.088663   \n",
       "75%         0.095873          0.095657                     0.095694   \n",
       "max         0.106349          0.130081                     0.101551   \n",
       "\n",
       "       initial_list_status_ordered  application_type_ordered  \n",
       "count                 67463.000000              67463.000000  \n",
       "mean                      0.092510                  0.092510  \n",
       "std                       0.003896                  0.000132  \n",
       "min                       0.088901                  0.089431  \n",
       "25%                       0.088901                  0.092516  \n",
       "50%                       0.088901                  0.092516  \n",
       "75%                       0.096714                  0.092516  \n",
       "max                       0.096714                  0.092516  "
      ]
     },
     "execution_count": 7,
     "metadata": {},
     "output_type": "execute_result"
    }
   ],
   "source": [
    "df.loc[:,\"Proporción Morosidad según financiación\":].describe()"
   ]
  },
  {
   "cell_type": "code",
   "execution_count": 8,
   "metadata": {},
   "outputs": [],
   "source": [
    "X = df.drop([\n",
    "       'Batch Enrolled', \"Grade\",\"Sub Grade\",\"Home Ownership\",\"Verification Status\",\"Loan Title\",\"Initial List Status\",\"Application Type\",\n",
    "       \"Grado_interes\",\"Delinquency - two years / Total Accounts\",\"Inquires - six months / Open Account\",\"Loan Status\"],axis=1)\n",
    "y = df[\"Loan Status\"]"
   ]
  },
  {
   "cell_type": "code",
   "execution_count": 9,
   "metadata": {},
   "outputs": [
    {
     "name": "stdout",
     "output_type": "stream",
     "text": [
      "<class 'pandas.core.frame.DataFrame'>\n",
      "Int64Index: 67463 entries, 65087372 to 65443173\n",
      "Data columns (total 36 columns):\n",
      " #   Column                                            Non-Null Count  Dtype  \n",
      "---  ------                                            --------------  -----  \n",
      " 0   Loan Amount                                       67463 non-null  int64  \n",
      " 1   Funded Amount                                     67463 non-null  int64  \n",
      " 2   Funded Amount Investor                            67463 non-null  float64\n",
      " 3   Term                                              67463 non-null  int64  \n",
      " 4   Interest Rate                                     67463 non-null  float64\n",
      " 5   Employment Duration                               67463 non-null  float64\n",
      " 6   Debit to Income                                   67463 non-null  float64\n",
      " 7   Delinquency - two years                           67463 non-null  int64  \n",
      " 8   Inquires - six months                             67463 non-null  int64  \n",
      " 9   Open Account                                      67463 non-null  int64  \n",
      " 10  Public Record                                     67463 non-null  int64  \n",
      " 11  Revolving Balance                                 67463 non-null  int64  \n",
      " 12  Revolving Utilities                               67463 non-null  float64\n",
      " 13  Total Accounts                                    67463 non-null  int64  \n",
      " 14  Total Received Interest                           67463 non-null  float64\n",
      " 15  Total Received Late Fee                           67463 non-null  float64\n",
      " 16  Recoveries                                        67463 non-null  float64\n",
      " 17  Collection Recovery Fee                           67463 non-null  float64\n",
      " 18  Collection 12 months Medical                      67463 non-null  int64  \n",
      " 19  Last week Pay                                     67463 non-null  int64  \n",
      " 20  Total Collection Amount                           67463 non-null  int64  \n",
      " 21  Total Current Balance                             67463 non-null  int64  \n",
      " 22  Total Revolving Credit Limit                      67463 non-null  int64  \n",
      " 23  Funded Amount/Interest Rate                       67463 non-null  float64\n",
      " 24  Funded Amount / Debit to Income                   67463 non-null  float64\n",
      " 25  Revolving Balance / Total Revolving Credit Limit  67463 non-null  float64\n",
      " 26  cuentas públicas prestatario                      67463 non-null  int64  \n",
      " 27  Eficacia pagos respecto financiación inicial      67463 non-null  float64\n",
      " 28  Proporción Morosidad según financiación           67463 non-null  float64\n",
      " 29  Proporción Morosidad según Batch Enrolled         67463 non-null  float64\n",
      " 30  Grado_interes_ordered                             67463 non-null  float64\n",
      " 31  Grade_ordered                                     67463 non-null  float64\n",
      " 32  SubGrade_ordered                                  67463 non-null  float64\n",
      " 33  verification_status_ordered                       67463 non-null  float64\n",
      " 34  initial_list_status_ordered                       67463 non-null  float64\n",
      " 35  application_type_ordered                          67463 non-null  float64\n",
      "dtypes: float64(21), int64(15)\n",
      "memory usage: 19.0 MB\n"
     ]
    }
   ],
   "source": [
    "X.info()"
   ]
  },
  {
   "cell_type": "code",
   "execution_count": 10,
   "metadata": {},
   "outputs": [
    {
     "name": "stdout",
     "output_type": "stream",
     "text": [
      "(53970, 36)\n",
      "(53970,)\n",
      "(13493, 36)\n",
      "(13493,)\n"
     ]
    }
   ],
   "source": [
    "X_train, X_test, y_train, y_test = train_test_split(X,y,test_size=0.2,random_state=42,stratify=y)\n",
    "print(X_train.shape)\n",
    "print(y_train.shape)\n",
    "print(X_test.shape)\n",
    "print(y_test.shape)"
   ]
  },
  {
   "cell_type": "code",
   "execution_count": 11,
   "metadata": {},
   "outputs": [],
   "source": [
    "under_sampler = RandomUnderSampler(random_state=42)\n",
    "X_under, y_under = under_sampler.fit_resample(X_train,y_train)"
   ]
  },
  {
   "cell_type": "code",
   "execution_count": 12,
   "metadata": {},
   "outputs": [
    {
     "name": "stdout",
     "output_type": "stream",
     "text": [
      "(7988, 36)\n",
      "(7988,)\n",
      "(1998, 36)\n",
      "(1998,)\n"
     ]
    }
   ],
   "source": [
    "X_train_under, X_test_under, y_train_under, y_test_under = train_test_split(X_under,y_under,test_size=0.2,random_state=42)\n",
    "print(X_train_under.shape)\n",
    "print(y_train_under.shape)\n",
    "print(X_test_under.shape)\n",
    "print(y_test_under.shape)"
   ]
  },
  {
   "attachments": {},
   "cell_type": "markdown",
   "metadata": {},
   "source": [
    "Gradient Boosting"
   ]
  },
  {
   "cell_type": "code",
   "execution_count": 13,
   "metadata": {},
   "outputs": [],
   "source": [
    "pipegb = Pipeline(steps=[\n",
    "    (\"scaler\", StandardScaler()),\n",
    "    (\"selectkbest\", SelectKBest()),\n",
    "    (\"classifier\", GradientBoostingClassifier())\n",
    "])\n",
    "\n",
    "gb_params = {\n",
    "\"classifier__n_estimators\": [100,150],\n",
    "'scaler' : [StandardScaler(), None],\n",
    "'selectkbest__k' : np.arange(5,15),\n",
    "'classifier__max_features': [3,5,6,7],\n",
    "'classifier__max_depth': [5,6,7,8]} "
   ]
  },
  {
   "cell_type": "code",
   "execution_count": 14,
   "metadata": {},
   "outputs": [],
   "source": [
    "modelgb = GridSearchCV(estimator = pipegb, param_grid = gb_params, cv=5, scoring='neg_log_loss',n_jobs=-1)"
   ]
  },
  {
   "cell_type": "code",
   "execution_count": 15,
   "metadata": {},
   "outputs": [
    {
     "data": {
      "text/plain": [
       "['accuracy',\n",
       " 'adjusted_mutual_info_score',\n",
       " 'adjusted_rand_score',\n",
       " 'average_precision',\n",
       " 'balanced_accuracy',\n",
       " 'completeness_score',\n",
       " 'explained_variance',\n",
       " 'f1',\n",
       " 'f1_macro',\n",
       " 'f1_micro',\n",
       " 'f1_samples',\n",
       " 'f1_weighted',\n",
       " 'fowlkes_mallows_score',\n",
       " 'homogeneity_score',\n",
       " 'jaccard',\n",
       " 'jaccard_macro',\n",
       " 'jaccard_micro',\n",
       " 'jaccard_samples',\n",
       " 'jaccard_weighted',\n",
       " 'matthews_corrcoef',\n",
       " 'max_error',\n",
       " 'mutual_info_score',\n",
       " 'neg_brier_score',\n",
       " 'neg_log_loss',\n",
       " 'neg_mean_absolute_error',\n",
       " 'neg_mean_absolute_percentage_error',\n",
       " 'neg_mean_gamma_deviance',\n",
       " 'neg_mean_poisson_deviance',\n",
       " 'neg_mean_squared_error',\n",
       " 'neg_mean_squared_log_error',\n",
       " 'neg_median_absolute_error',\n",
       " 'neg_negative_likelihood_ratio',\n",
       " 'neg_root_mean_squared_error',\n",
       " 'normalized_mutual_info_score',\n",
       " 'positive_likelihood_ratio',\n",
       " 'precision',\n",
       " 'precision_macro',\n",
       " 'precision_micro',\n",
       " 'precision_samples',\n",
       " 'precision_weighted',\n",
       " 'r2',\n",
       " 'rand_score',\n",
       " 'recall',\n",
       " 'recall_macro',\n",
       " 'recall_micro',\n",
       " 'recall_samples',\n",
       " 'recall_weighted',\n",
       " 'roc_auc',\n",
       " 'roc_auc_ovo',\n",
       " 'roc_auc_ovo_weighted',\n",
       " 'roc_auc_ovr',\n",
       " 'roc_auc_ovr_weighted',\n",
       " 'top_k_accuracy',\n",
       " 'v_measure_score']"
      ]
     },
     "execution_count": 15,
     "metadata": {},
     "output_type": "execute_result"
    }
   ],
   "source": [
    "get_scorer_names()"
   ]
  },
  {
   "cell_type": "code",
   "execution_count": 16,
   "metadata": {},
   "outputs": [
    {
     "data": {
      "text/html": [
       "<style>#sk-container-id-1 {color: black;background-color: white;}#sk-container-id-1 pre{padding: 0;}#sk-container-id-1 div.sk-toggleable {background-color: white;}#sk-container-id-1 label.sk-toggleable__label {cursor: pointer;display: block;width: 100%;margin-bottom: 0;padding: 0.3em;box-sizing: border-box;text-align: center;}#sk-container-id-1 label.sk-toggleable__label-arrow:before {content: \"▸\";float: left;margin-right: 0.25em;color: #696969;}#sk-container-id-1 label.sk-toggleable__label-arrow:hover:before {color: black;}#sk-container-id-1 div.sk-estimator:hover label.sk-toggleable__label-arrow:before {color: black;}#sk-container-id-1 div.sk-toggleable__content {max-height: 0;max-width: 0;overflow: hidden;text-align: left;background-color: #f0f8ff;}#sk-container-id-1 div.sk-toggleable__content pre {margin: 0.2em;color: black;border-radius: 0.25em;background-color: #f0f8ff;}#sk-container-id-1 input.sk-toggleable__control:checked~div.sk-toggleable__content {max-height: 200px;max-width: 100%;overflow: auto;}#sk-container-id-1 input.sk-toggleable__control:checked~label.sk-toggleable__label-arrow:before {content: \"▾\";}#sk-container-id-1 div.sk-estimator input.sk-toggleable__control:checked~label.sk-toggleable__label {background-color: #d4ebff;}#sk-container-id-1 div.sk-label input.sk-toggleable__control:checked~label.sk-toggleable__label {background-color: #d4ebff;}#sk-container-id-1 input.sk-hidden--visually {border: 0;clip: rect(1px 1px 1px 1px);clip: rect(1px, 1px, 1px, 1px);height: 1px;margin: -1px;overflow: hidden;padding: 0;position: absolute;width: 1px;}#sk-container-id-1 div.sk-estimator {font-family: monospace;background-color: #f0f8ff;border: 1px dotted black;border-radius: 0.25em;box-sizing: border-box;margin-bottom: 0.5em;}#sk-container-id-1 div.sk-estimator:hover {background-color: #d4ebff;}#sk-container-id-1 div.sk-parallel-item::after {content: \"\";width: 100%;border-bottom: 1px solid gray;flex-grow: 1;}#sk-container-id-1 div.sk-label:hover label.sk-toggleable__label {background-color: #d4ebff;}#sk-container-id-1 div.sk-serial::before {content: \"\";position: absolute;border-left: 1px solid gray;box-sizing: border-box;top: 0;bottom: 0;left: 50%;z-index: 0;}#sk-container-id-1 div.sk-serial {display: flex;flex-direction: column;align-items: center;background-color: white;padding-right: 0.2em;padding-left: 0.2em;position: relative;}#sk-container-id-1 div.sk-item {position: relative;z-index: 1;}#sk-container-id-1 div.sk-parallel {display: flex;align-items: stretch;justify-content: center;background-color: white;position: relative;}#sk-container-id-1 div.sk-item::before, #sk-container-id-1 div.sk-parallel-item::before {content: \"\";position: absolute;border-left: 1px solid gray;box-sizing: border-box;top: 0;bottom: 0;left: 50%;z-index: -1;}#sk-container-id-1 div.sk-parallel-item {display: flex;flex-direction: column;z-index: 1;position: relative;background-color: white;}#sk-container-id-1 div.sk-parallel-item:first-child::after {align-self: flex-end;width: 50%;}#sk-container-id-1 div.sk-parallel-item:last-child::after {align-self: flex-start;width: 50%;}#sk-container-id-1 div.sk-parallel-item:only-child::after {width: 0;}#sk-container-id-1 div.sk-dashed-wrapped {border: 1px dashed gray;margin: 0 0.4em 0.5em 0.4em;box-sizing: border-box;padding-bottom: 0.4em;background-color: white;}#sk-container-id-1 div.sk-label label {font-family: monospace;font-weight: bold;display: inline-block;line-height: 1.2em;}#sk-container-id-1 div.sk-label-container {text-align: center;}#sk-container-id-1 div.sk-container {/* jupyter's `normalize.less` sets `[hidden] { display: none; }` but bootstrap.min.css set `[hidden] { display: none !important; }` so we also need the `!important` here to be able to override the default hidden behavior on the sphinx rendered scikit-learn.org. See: https://github.com/scikit-learn/scikit-learn/issues/21755 */display: inline-block !important;position: relative;}#sk-container-id-1 div.sk-text-repr-fallback {display: none;}</style><div id=\"sk-container-id-1\" class=\"sk-top-container\"><div class=\"sk-text-repr-fallback\"><pre>GridSearchCV(cv=5,\n",
       "             estimator=Pipeline(steps=[(&#x27;scaler&#x27;, StandardScaler()),\n",
       "                                       (&#x27;selectkbest&#x27;, SelectKBest()),\n",
       "                                       (&#x27;classifier&#x27;,\n",
       "                                        GradientBoostingClassifier())]),\n",
       "             n_jobs=-1,\n",
       "             param_grid={&#x27;classifier__max_depth&#x27;: [5, 6, 7, 8],\n",
       "                         &#x27;classifier__max_features&#x27;: [3, 5, 6, 7],\n",
       "                         &#x27;classifier__n_estimators&#x27;: [100, 150],\n",
       "                         &#x27;scaler&#x27;: [StandardScaler(), None],\n",
       "                         &#x27;selectkbest__k&#x27;: array([ 5,  6,  7,  8,  9, 10, 11, 12, 13, 14])},\n",
       "             scoring=&#x27;neg_log_loss&#x27;)</pre><b>In a Jupyter environment, please rerun this cell to show the HTML representation or trust the notebook. <br />On GitHub, the HTML representation is unable to render, please try loading this page with nbviewer.org.</b></div><div class=\"sk-container\" hidden><div class=\"sk-item sk-dashed-wrapped\"><div class=\"sk-label-container\"><div class=\"sk-label sk-toggleable\"><input class=\"sk-toggleable__control sk-hidden--visually\" id=\"sk-estimator-id-1\" type=\"checkbox\" ><label for=\"sk-estimator-id-1\" class=\"sk-toggleable__label sk-toggleable__label-arrow\">GridSearchCV</label><div class=\"sk-toggleable__content\"><pre>GridSearchCV(cv=5,\n",
       "             estimator=Pipeline(steps=[(&#x27;scaler&#x27;, StandardScaler()),\n",
       "                                       (&#x27;selectkbest&#x27;, SelectKBest()),\n",
       "                                       (&#x27;classifier&#x27;,\n",
       "                                        GradientBoostingClassifier())]),\n",
       "             n_jobs=-1,\n",
       "             param_grid={&#x27;classifier__max_depth&#x27;: [5, 6, 7, 8],\n",
       "                         &#x27;classifier__max_features&#x27;: [3, 5, 6, 7],\n",
       "                         &#x27;classifier__n_estimators&#x27;: [100, 150],\n",
       "                         &#x27;scaler&#x27;: [StandardScaler(), None],\n",
       "                         &#x27;selectkbest__k&#x27;: array([ 5,  6,  7,  8,  9, 10, 11, 12, 13, 14])},\n",
       "             scoring=&#x27;neg_log_loss&#x27;)</pre></div></div></div><div class=\"sk-parallel\"><div class=\"sk-parallel-item\"><div class=\"sk-item\"><div class=\"sk-label-container\"><div class=\"sk-label sk-toggleable\"><input class=\"sk-toggleable__control sk-hidden--visually\" id=\"sk-estimator-id-2\" type=\"checkbox\" ><label for=\"sk-estimator-id-2\" class=\"sk-toggleable__label sk-toggleable__label-arrow\">estimator: Pipeline</label><div class=\"sk-toggleable__content\"><pre>Pipeline(steps=[(&#x27;scaler&#x27;, StandardScaler()), (&#x27;selectkbest&#x27;, SelectKBest()),\n",
       "                (&#x27;classifier&#x27;, GradientBoostingClassifier())])</pre></div></div></div><div class=\"sk-serial\"><div class=\"sk-item\"><div class=\"sk-serial\"><div class=\"sk-item\"><div class=\"sk-estimator sk-toggleable\"><input class=\"sk-toggleable__control sk-hidden--visually\" id=\"sk-estimator-id-3\" type=\"checkbox\" ><label for=\"sk-estimator-id-3\" class=\"sk-toggleable__label sk-toggleable__label-arrow\">StandardScaler</label><div class=\"sk-toggleable__content\"><pre>StandardScaler()</pre></div></div></div><div class=\"sk-item\"><div class=\"sk-estimator sk-toggleable\"><input class=\"sk-toggleable__control sk-hidden--visually\" id=\"sk-estimator-id-4\" type=\"checkbox\" ><label for=\"sk-estimator-id-4\" class=\"sk-toggleable__label sk-toggleable__label-arrow\">SelectKBest</label><div class=\"sk-toggleable__content\"><pre>SelectKBest()</pre></div></div></div><div class=\"sk-item\"><div class=\"sk-estimator sk-toggleable\"><input class=\"sk-toggleable__control sk-hidden--visually\" id=\"sk-estimator-id-5\" type=\"checkbox\" ><label for=\"sk-estimator-id-5\" class=\"sk-toggleable__label sk-toggleable__label-arrow\">GradientBoostingClassifier</label><div class=\"sk-toggleable__content\"><pre>GradientBoostingClassifier()</pre></div></div></div></div></div></div></div></div></div></div></div></div>"
      ],
      "text/plain": [
       "GridSearchCV(cv=5,\n",
       "             estimator=Pipeline(steps=[('scaler', StandardScaler()),\n",
       "                                       ('selectkbest', SelectKBest()),\n",
       "                                       ('classifier',\n",
       "                                        GradientBoostingClassifier())]),\n",
       "             n_jobs=-1,\n",
       "             param_grid={'classifier__max_depth': [5, 6, 7, 8],\n",
       "                         'classifier__max_features': [3, 5, 6, 7],\n",
       "                         'classifier__n_estimators': [100, 150],\n",
       "                         'scaler': [StandardScaler(), None],\n",
       "                         'selectkbest__k': array([ 5,  6,  7,  8,  9, 10, 11, 12, 13, 14])},\n",
       "             scoring='neg_log_loss')"
      ]
     },
     "execution_count": 16,
     "metadata": {},
     "output_type": "execute_result"
    }
   ],
   "source": [
    "modelgb.fit(X_train_under, y_train_under)"
   ]
  },
  {
   "cell_type": "code",
   "execution_count": 17,
   "metadata": {},
   "outputs": [
    {
     "name": "stdout",
     "output_type": "stream",
     "text": [
      "modelgb best score: -0.7017252876019097\n",
      "modelgb best score: {'classifier__max_depth': 5, 'classifier__max_features': 3, 'classifier__n_estimators': 100, 'scaler': StandardScaler(), 'selectkbest__k': 14}\n",
      "modelgb best score: Pipeline(steps=[('scaler', StandardScaler()),\n",
      "                ('selectkbest', SelectKBest(k=14)),\n",
      "                ('classifier',\n",
      "                 GradientBoostingClassifier(max_depth=5, max_features=3))])\n"
     ]
    }
   ],
   "source": [
    "print(\"modelgb best score:\",modelgb.best_score_ )\n",
    "print(\"modelgb best score:\",modelgb.best_params_ )\n",
    "print(\"modelgb best score:\",modelgb.best_estimator_ )"
   ]
  },
  {
   "cell_type": "code",
   "execution_count": 18,
   "metadata": {},
   "outputs": [],
   "source": [
    "y_pred_under_gb = modelgb.best_estimator_.predict(X_test_under)"
   ]
  },
  {
   "cell_type": "code",
   "execution_count": 19,
   "metadata": {},
   "outputs": [
    {
     "name": "stdout",
     "output_type": "stream",
     "text": [
      "modelgb train recall score 0.4939516129032258\n",
      "modelgb train precision_score 0.5291576673866091\n",
      "modelgb train accuracy_score 0.5305305305305306\n",
      "modelgb train f1_score 0.5109489051094891\n",
      "modelgb train log_loss 16.921394834330275\n"
     ]
    }
   ],
   "source": [
    "print(\"modelgb train recall score\", recall_score(y_test_under, y_pred_under_gb))\n",
    "print(\"modelgb train precision_score\", precision_score(y_test_under, y_pred_under_gb))\n",
    "print(\"modelgb train accuracy_score\", accuracy_score(y_test_under, y_pred_under_gb))\n",
    "print(\"modelgb train f1_score\", f1_score(y_test_under, y_pred_under_gb))\n",
    "print(\"modelgb train log_loss\", log_loss(y_test_under, y_pred_under_gb))\n"
   ]
  },
  {
   "cell_type": "code",
   "execution_count": 20,
   "metadata": {},
   "outputs": [
    {
     "name": "stdout",
     "output_type": "stream",
     "text": [
      "modelgb train confusion matrix\n"
     ]
    },
    {
     "data": {
      "text/plain": [
       "array([[570, 436],\n",
       "       [502, 490]], dtype=int64)"
      ]
     },
     "execution_count": 20,
     "metadata": {},
     "output_type": "execute_result"
    }
   ],
   "source": [
    "print(\"modelgb train confusion matrix\")\n",
    "confusion_matrix(y_test_under, y_pred_under_gb)"
   ]
  },
  {
   "cell_type": "code",
   "execution_count": 21,
   "metadata": {},
   "outputs": [
    {
     "name": "stdout",
     "output_type": "stream",
     "text": [
      "modelgb train confusion matrix\n"
     ]
    },
    {
     "data": {
      "text/plain": [
       "array([[0.5666004 , 0.4333996 ],\n",
       "       [0.50604839, 0.49395161]])"
      ]
     },
     "execution_count": 21,
     "metadata": {},
     "output_type": "execute_result"
    }
   ],
   "source": [
    "print(\"modelgb train confusion matrix\")\n",
    "confusion_matrix(y_test_under, y_pred_under_gb,normalize=\"true\")"
   ]
  },
  {
   "cell_type": "code",
   "execution_count": 22,
   "metadata": {},
   "outputs": [],
   "source": [
    "y_pred_gb = modelgb.best_estimator_.predict(X_test)"
   ]
  },
  {
   "cell_type": "code",
   "execution_count": 23,
   "metadata": {},
   "outputs": [
    {
     "name": "stdout",
     "output_type": "stream",
     "text": [
      "modelgb test recall score 0.49439102564102566\n",
      "modelgb test precision_score 0.09848363926576217\n",
      "modelgb test accuracy_score 0.5346475950492848\n",
      "modelgb test f1_score 0.16424863569812326\n",
      "modelgb test log_loss 16.773000787835663\n"
     ]
    }
   ],
   "source": [
    "print(\"modelgb test recall score\", recall_score(y_test, y_pred_gb))\n",
    "print(\"modelgb test precision_score\", precision_score(y_test, y_pred_gb))\n",
    "print(\"modelgb test accuracy_score\", accuracy_score(y_test, y_pred_gb))\n",
    "print(\"modelgb test f1_score\", f1_score(y_test, y_pred_gb))\n",
    "print(\"modelgb test log_loss\", log_loss(y_test, y_pred_gb))\n"
   ]
  },
  {
   "cell_type": "code",
   "execution_count": 24,
   "metadata": {},
   "outputs": [
    {
     "name": "stdout",
     "output_type": "stream",
     "text": [
      "modelgb test confusion matrix\n"
     ]
    },
    {
     "data": {
      "text/plain": [
       "array([[6597, 5648],\n",
       "       [ 631,  617]], dtype=int64)"
      ]
     },
     "execution_count": 24,
     "metadata": {},
     "output_type": "execute_result"
    }
   ],
   "source": [
    "print(\"modelgb test confusion matrix\")\n",
    "confusion_matrix(y_test, y_pred_gb)"
   ]
  },
  {
   "cell_type": "code",
   "execution_count": 25,
   "metadata": {},
   "outputs": [
    {
     "name": "stdout",
     "output_type": "stream",
     "text": [
      "modelgb test confusion matrix\n"
     ]
    },
    {
     "data": {
      "text/plain": [
       "array([[0.53875051, 0.46124949],\n",
       "       [0.50560897, 0.49439103]])"
      ]
     },
     "execution_count": 25,
     "metadata": {},
     "output_type": "execute_result"
    }
   ],
   "source": [
    "print(\"modelgb test confusion matrix\")\n",
    "confusion_matrix(y_test, y_pred_gb,normalize=\"true\")"
   ]
  },
  {
   "cell_type": "code",
   "execution_count": 26,
   "metadata": {},
   "outputs": [],
   "source": [
    "with open(\"ModeloGB.pkl\", 'wb') as archivo_salida:\n",
    "    pickle.dump(modelgb.best_estimator_, archivo_salida)"
   ]
  },
  {
   "cell_type": "code",
   "execution_count": 27,
   "metadata": {},
   "outputs": [],
   "source": [
    "with open(\"ModeloGB.yaml\", \"w\") as f:\n",
    "    yaml.dump(modelgb.best_params_, f)"
   ]
  },
  {
   "attachments": {},
   "cell_type": "markdown",
   "metadata": {},
   "source": [
    "Random Forest"
   ]
  },
  {
   "cell_type": "code",
   "execution_count": 28,
   "metadata": {},
   "outputs": [],
   "source": [
    "piperf = Pipeline(steps=[\n",
    "    (\"scaler\", StandardScaler()),\n",
    "    (\"selectkbest\", SelectKBest()),\n",
    "    (\"classifier\", RandomForestClassifier())\n",
    "])\n",
    "rf_params = {\n",
    "'scaler' : [StandardScaler(), None],\n",
    "'selectkbest__k' : np.arange(5,15),\n",
    "'classifier__max_features': [3,5,6,7],\n",
    "'classifier__max_depth': [2,3,4,5,6]\n",
    "}"
   ]
  },
  {
   "cell_type": "code",
   "execution_count": 29,
   "metadata": {},
   "outputs": [],
   "source": [
    "modelrf = GridSearchCV(estimator = piperf, param_grid = rf_params, cv=5, scoring='neg_log_loss',n_jobs=-1)"
   ]
  },
  {
   "cell_type": "code",
   "execution_count": 30,
   "metadata": {},
   "outputs": [
    {
     "data": {
      "text/html": [
       "<style>#sk-container-id-2 {color: black;background-color: white;}#sk-container-id-2 pre{padding: 0;}#sk-container-id-2 div.sk-toggleable {background-color: white;}#sk-container-id-2 label.sk-toggleable__label {cursor: pointer;display: block;width: 100%;margin-bottom: 0;padding: 0.3em;box-sizing: border-box;text-align: center;}#sk-container-id-2 label.sk-toggleable__label-arrow:before {content: \"▸\";float: left;margin-right: 0.25em;color: #696969;}#sk-container-id-2 label.sk-toggleable__label-arrow:hover:before {color: black;}#sk-container-id-2 div.sk-estimator:hover label.sk-toggleable__label-arrow:before {color: black;}#sk-container-id-2 div.sk-toggleable__content {max-height: 0;max-width: 0;overflow: hidden;text-align: left;background-color: #f0f8ff;}#sk-container-id-2 div.sk-toggleable__content pre {margin: 0.2em;color: black;border-radius: 0.25em;background-color: #f0f8ff;}#sk-container-id-2 input.sk-toggleable__control:checked~div.sk-toggleable__content {max-height: 200px;max-width: 100%;overflow: auto;}#sk-container-id-2 input.sk-toggleable__control:checked~label.sk-toggleable__label-arrow:before {content: \"▾\";}#sk-container-id-2 div.sk-estimator input.sk-toggleable__control:checked~label.sk-toggleable__label {background-color: #d4ebff;}#sk-container-id-2 div.sk-label input.sk-toggleable__control:checked~label.sk-toggleable__label {background-color: #d4ebff;}#sk-container-id-2 input.sk-hidden--visually {border: 0;clip: rect(1px 1px 1px 1px);clip: rect(1px, 1px, 1px, 1px);height: 1px;margin: -1px;overflow: hidden;padding: 0;position: absolute;width: 1px;}#sk-container-id-2 div.sk-estimator {font-family: monospace;background-color: #f0f8ff;border: 1px dotted black;border-radius: 0.25em;box-sizing: border-box;margin-bottom: 0.5em;}#sk-container-id-2 div.sk-estimator:hover {background-color: #d4ebff;}#sk-container-id-2 div.sk-parallel-item::after {content: \"\";width: 100%;border-bottom: 1px solid gray;flex-grow: 1;}#sk-container-id-2 div.sk-label:hover label.sk-toggleable__label {background-color: #d4ebff;}#sk-container-id-2 div.sk-serial::before {content: \"\";position: absolute;border-left: 1px solid gray;box-sizing: border-box;top: 0;bottom: 0;left: 50%;z-index: 0;}#sk-container-id-2 div.sk-serial {display: flex;flex-direction: column;align-items: center;background-color: white;padding-right: 0.2em;padding-left: 0.2em;position: relative;}#sk-container-id-2 div.sk-item {position: relative;z-index: 1;}#sk-container-id-2 div.sk-parallel {display: flex;align-items: stretch;justify-content: center;background-color: white;position: relative;}#sk-container-id-2 div.sk-item::before, #sk-container-id-2 div.sk-parallel-item::before {content: \"\";position: absolute;border-left: 1px solid gray;box-sizing: border-box;top: 0;bottom: 0;left: 50%;z-index: -1;}#sk-container-id-2 div.sk-parallel-item {display: flex;flex-direction: column;z-index: 1;position: relative;background-color: white;}#sk-container-id-2 div.sk-parallel-item:first-child::after {align-self: flex-end;width: 50%;}#sk-container-id-2 div.sk-parallel-item:last-child::after {align-self: flex-start;width: 50%;}#sk-container-id-2 div.sk-parallel-item:only-child::after {width: 0;}#sk-container-id-2 div.sk-dashed-wrapped {border: 1px dashed gray;margin: 0 0.4em 0.5em 0.4em;box-sizing: border-box;padding-bottom: 0.4em;background-color: white;}#sk-container-id-2 div.sk-label label {font-family: monospace;font-weight: bold;display: inline-block;line-height: 1.2em;}#sk-container-id-2 div.sk-label-container {text-align: center;}#sk-container-id-2 div.sk-container {/* jupyter's `normalize.less` sets `[hidden] { display: none; }` but bootstrap.min.css set `[hidden] { display: none !important; }` so we also need the `!important` here to be able to override the default hidden behavior on the sphinx rendered scikit-learn.org. See: https://github.com/scikit-learn/scikit-learn/issues/21755 */display: inline-block !important;position: relative;}#sk-container-id-2 div.sk-text-repr-fallback {display: none;}</style><div id=\"sk-container-id-2\" class=\"sk-top-container\"><div class=\"sk-text-repr-fallback\"><pre>GridSearchCV(cv=5,\n",
       "             estimator=Pipeline(steps=[(&#x27;scaler&#x27;, StandardScaler()),\n",
       "                                       (&#x27;selectkbest&#x27;, SelectKBest()),\n",
       "                                       (&#x27;classifier&#x27;,\n",
       "                                        RandomForestClassifier())]),\n",
       "             n_jobs=-1,\n",
       "             param_grid={&#x27;classifier__max_depth&#x27;: [2, 3, 4, 5, 6],\n",
       "                         &#x27;classifier__max_features&#x27;: [3, 5, 6, 7],\n",
       "                         &#x27;scaler&#x27;: [StandardScaler(), None],\n",
       "                         &#x27;selectkbest__k&#x27;: array([ 5,  6,  7,  8,  9, 10, 11, 12, 13, 14])},\n",
       "             scoring=&#x27;neg_log_loss&#x27;)</pre><b>In a Jupyter environment, please rerun this cell to show the HTML representation or trust the notebook. <br />On GitHub, the HTML representation is unable to render, please try loading this page with nbviewer.org.</b></div><div class=\"sk-container\" hidden><div class=\"sk-item sk-dashed-wrapped\"><div class=\"sk-label-container\"><div class=\"sk-label sk-toggleable\"><input class=\"sk-toggleable__control sk-hidden--visually\" id=\"sk-estimator-id-6\" type=\"checkbox\" ><label for=\"sk-estimator-id-6\" class=\"sk-toggleable__label sk-toggleable__label-arrow\">GridSearchCV</label><div class=\"sk-toggleable__content\"><pre>GridSearchCV(cv=5,\n",
       "             estimator=Pipeline(steps=[(&#x27;scaler&#x27;, StandardScaler()),\n",
       "                                       (&#x27;selectkbest&#x27;, SelectKBest()),\n",
       "                                       (&#x27;classifier&#x27;,\n",
       "                                        RandomForestClassifier())]),\n",
       "             n_jobs=-1,\n",
       "             param_grid={&#x27;classifier__max_depth&#x27;: [2, 3, 4, 5, 6],\n",
       "                         &#x27;classifier__max_features&#x27;: [3, 5, 6, 7],\n",
       "                         &#x27;scaler&#x27;: [StandardScaler(), None],\n",
       "                         &#x27;selectkbest__k&#x27;: array([ 5,  6,  7,  8,  9, 10, 11, 12, 13, 14])},\n",
       "             scoring=&#x27;neg_log_loss&#x27;)</pre></div></div></div><div class=\"sk-parallel\"><div class=\"sk-parallel-item\"><div class=\"sk-item\"><div class=\"sk-label-container\"><div class=\"sk-label sk-toggleable\"><input class=\"sk-toggleable__control sk-hidden--visually\" id=\"sk-estimator-id-7\" type=\"checkbox\" ><label for=\"sk-estimator-id-7\" class=\"sk-toggleable__label sk-toggleable__label-arrow\">estimator: Pipeline</label><div class=\"sk-toggleable__content\"><pre>Pipeline(steps=[(&#x27;scaler&#x27;, StandardScaler()), (&#x27;selectkbest&#x27;, SelectKBest()),\n",
       "                (&#x27;classifier&#x27;, RandomForestClassifier())])</pre></div></div></div><div class=\"sk-serial\"><div class=\"sk-item\"><div class=\"sk-serial\"><div class=\"sk-item\"><div class=\"sk-estimator sk-toggleable\"><input class=\"sk-toggleable__control sk-hidden--visually\" id=\"sk-estimator-id-8\" type=\"checkbox\" ><label for=\"sk-estimator-id-8\" class=\"sk-toggleable__label sk-toggleable__label-arrow\">StandardScaler</label><div class=\"sk-toggleable__content\"><pre>StandardScaler()</pre></div></div></div><div class=\"sk-item\"><div class=\"sk-estimator sk-toggleable\"><input class=\"sk-toggleable__control sk-hidden--visually\" id=\"sk-estimator-id-9\" type=\"checkbox\" ><label for=\"sk-estimator-id-9\" class=\"sk-toggleable__label sk-toggleable__label-arrow\">SelectKBest</label><div class=\"sk-toggleable__content\"><pre>SelectKBest()</pre></div></div></div><div class=\"sk-item\"><div class=\"sk-estimator sk-toggleable\"><input class=\"sk-toggleable__control sk-hidden--visually\" id=\"sk-estimator-id-10\" type=\"checkbox\" ><label for=\"sk-estimator-id-10\" class=\"sk-toggleable__label sk-toggleable__label-arrow\">RandomForestClassifier</label><div class=\"sk-toggleable__content\"><pre>RandomForestClassifier()</pre></div></div></div></div></div></div></div></div></div></div></div></div>"
      ],
      "text/plain": [
       "GridSearchCV(cv=5,\n",
       "             estimator=Pipeline(steps=[('scaler', StandardScaler()),\n",
       "                                       ('selectkbest', SelectKBest()),\n",
       "                                       ('classifier',\n",
       "                                        RandomForestClassifier())]),\n",
       "             n_jobs=-1,\n",
       "             param_grid={'classifier__max_depth': [2, 3, 4, 5, 6],\n",
       "                         'classifier__max_features': [3, 5, 6, 7],\n",
       "                         'scaler': [StandardScaler(), None],\n",
       "                         'selectkbest__k': array([ 5,  6,  7,  8,  9, 10, 11, 12, 13, 14])},\n",
       "             scoring='neg_log_loss')"
      ]
     },
     "execution_count": 30,
     "metadata": {},
     "output_type": "execute_result"
    }
   ],
   "source": [
    "modelrf.fit(X_train_under, y_train_under)"
   ]
  },
  {
   "cell_type": "code",
   "execution_count": 31,
   "metadata": {},
   "outputs": [
    {
     "name": "stdout",
     "output_type": "stream",
     "text": [
      "modelrf best score: -0.6913330702565003\n",
      "modelrf best score: {'classifier__max_depth': 4, 'classifier__max_features': 3, 'scaler': StandardScaler(), 'selectkbest__k': 13}\n",
      "modelrf best score: Pipeline(steps=[('scaler', StandardScaler()),\n",
      "                ('selectkbest', SelectKBest(k=13)),\n",
      "                ('classifier',\n",
      "                 RandomForestClassifier(max_depth=4, max_features=3))])\n"
     ]
    }
   ],
   "source": [
    "print(\"modelrf best score:\",modelrf.best_score_ )\n",
    "print(\"modelrf best score:\",modelrf.best_params_ )\n",
    "print(\"modelrf best score:\",modelrf.best_estimator_ )"
   ]
  },
  {
   "cell_type": "code",
   "execution_count": 32,
   "metadata": {},
   "outputs": [],
   "source": [
    "y_pred_under_rf = modelrf.best_estimator_.predict(X_test_under)"
   ]
  },
  {
   "cell_type": "code",
   "execution_count": 33,
   "metadata": {},
   "outputs": [
    {
     "name": "stdout",
     "output_type": "stream",
     "text": [
      "modelrf train recall score 0.5272177419354839\n",
      "modelrf train precision_score 0.5256281407035176\n",
      "modelrf train accuracy_score 0.529029029029029\n",
      "modelrf train f1_score 0.5264217413185707\n",
      "modelrf train log_loss 16.97551443401363\n"
     ]
    }
   ],
   "source": [
    "print(\"modelrf train recall score\", recall_score(y_test_under, y_pred_under_rf))\n",
    "print(\"modelrf train precision_score\", precision_score(y_test_under, y_pred_under_rf))\n",
    "print(\"modelrf train accuracy_score\", accuracy_score(y_test_under, y_pred_under_rf))\n",
    "print(\"modelrf train f1_score\", f1_score(y_test_under, y_pred_under_rf))\n",
    "print(\"modelrf train log_loss\", log_loss(y_test_under, y_pred_under_rf))\n"
   ]
  },
  {
   "cell_type": "code",
   "execution_count": 34,
   "metadata": {},
   "outputs": [
    {
     "name": "stdout",
     "output_type": "stream",
     "text": [
      "modelrf train confusion matrix\n"
     ]
    },
    {
     "data": {
      "text/plain": [
       "array([[534, 472],\n",
       "       [469, 523]], dtype=int64)"
      ]
     },
     "execution_count": 34,
     "metadata": {},
     "output_type": "execute_result"
    }
   ],
   "source": [
    "print(\"modelrf train confusion matrix\")\n",
    "confusion_matrix(y_test_under, y_pred_under_rf)\n"
   ]
  },
  {
   "cell_type": "code",
   "execution_count": 35,
   "metadata": {},
   "outputs": [
    {
     "name": "stdout",
     "output_type": "stream",
     "text": [
      "modelrf train confusion matrix\n"
     ]
    },
    {
     "data": {
      "text/plain": [
       "array([[0.53081511, 0.46918489],\n",
       "       [0.47278226, 0.52721774]])"
      ]
     },
     "execution_count": 35,
     "metadata": {},
     "output_type": "execute_result"
    }
   ],
   "source": [
    "print(\"modelrf train confusion matrix\")\n",
    "confusion_matrix(y_test_under, y_pred_under_rf,normalize=\"true\")"
   ]
  },
  {
   "cell_type": "code",
   "execution_count": 36,
   "metadata": {},
   "outputs": [],
   "source": [
    "y_pred_rf = modelrf.best_estimator_.predict(X_test)"
   ]
  },
  {
   "cell_type": "code",
   "execution_count": 37,
   "metadata": {},
   "outputs": [
    {
     "name": "stdout",
     "output_type": "stream",
     "text": [
      "modelrf test recall score 0.5376602564102564\n",
      "modelrf test precision_score 0.1018363939899833\n",
      "modelrf test accuracy_score 0.5186392944489735\n",
      "modelrf test f1_score 0.17123899451320657\n",
      "modelrf test log_loss 17.34999842602208\n"
     ]
    }
   ],
   "source": [
    "print(\"modelrf test recall score\", recall_score(y_test, y_pred_rf))\n",
    "print(\"modelrf test precision_score\", precision_score(y_test, y_pred_rf))\n",
    "print(\"modelrf test accuracy_score\", accuracy_score(y_test, y_pred_rf))\n",
    "print(\"modelrf test f1_score\", f1_score(y_test, y_pred_rf))\n",
    "print(\"modelrf test log_loss\", log_loss(y_test, y_pred_rf))\n"
   ]
  },
  {
   "cell_type": "code",
   "execution_count": 38,
   "metadata": {},
   "outputs": [
    {
     "name": "stdout",
     "output_type": "stream",
     "text": [
      "modelrf test confusion matrix\n"
     ]
    },
    {
     "data": {
      "text/plain": [
       "array([[6327, 5918],\n",
       "       [ 577,  671]], dtype=int64)"
      ]
     },
     "execution_count": 38,
     "metadata": {},
     "output_type": "execute_result"
    }
   ],
   "source": [
    "print(\"modelrf test confusion matrix\")\n",
    "confusion_matrix(y_test, y_pred_rf)\n"
   ]
  },
  {
   "cell_type": "code",
   "execution_count": 39,
   "metadata": {},
   "outputs": [
    {
     "name": "stdout",
     "output_type": "stream",
     "text": [
      "modelrf test confusion matrix\n"
     ]
    },
    {
     "data": {
      "text/plain": [
       "array([[0.51670069, 0.48329931],\n",
       "       [0.46233974, 0.53766026]])"
      ]
     },
     "execution_count": 39,
     "metadata": {},
     "output_type": "execute_result"
    }
   ],
   "source": [
    "print(\"modelrf test confusion matrix\")\n",
    "confusion_matrix(y_test, y_pred_rf,normalize=\"true\")"
   ]
  },
  {
   "cell_type": "code",
   "execution_count": 40,
   "metadata": {},
   "outputs": [],
   "source": [
    "with open(\"ModeloRF.pkl\", 'wb') as archivo_salida:\n",
    "    pickle.dump(modelrf.best_estimator_, archivo_salida)\n",
    "with open(\"ModeloRF.yaml\", \"w\") as f:\n",
    "    yaml.dump(modelrf.best_params_, f)"
   ]
  },
  {
   "attachments": {},
   "cell_type": "markdown",
   "metadata": {},
   "source": [
    "BaggingClassifier"
   ]
  },
  {
   "cell_type": "code",
   "execution_count": 41,
   "metadata": {},
   "outputs": [],
   "source": [
    "pipebc = Pipeline(steps=[\n",
    "    (\"scaler\", StandardScaler()),\n",
    "    (\"selectkbest\", SelectKBest()),\n",
    "    (\"classifier\", BaggingClassifier())\n",
    "])\n",
    "bc_params = {\n",
    "'scaler' : [StandardScaler(), None],\n",
    "'selectkbest__k' : np.arange(5,15),\n",
    "'classifier__max_features': [3,4,5,6],\n",
    "'classifier__n_estimators': [100,125,150]}"
   ]
  },
  {
   "cell_type": "code",
   "execution_count": 42,
   "metadata": {},
   "outputs": [],
   "source": [
    "modelBC = GridSearchCV(estimator = pipebc, param_grid = bc_params, cv=5, scoring='neg_log_loss',n_jobs=-1)"
   ]
  },
  {
   "cell_type": "code",
   "execution_count": 43,
   "metadata": {},
   "outputs": [
    {
     "name": "stderr",
     "output_type": "stream",
     "text": [
      "c:\\Users\\User\\AppData\\Local\\Programs\\Python\\Python310\\lib\\site-packages\\sklearn\\model_selection\\_validation.py:378: FitFailedWarning: \n",
      "30 fits failed out of a total of 1200.\n",
      "The score on these train-test partitions for these parameters will be set to nan.\n",
      "If these failures are not expected, you can try to debug them by setting error_score='raise'.\n",
      "\n",
      "Below are more details about the failures:\n",
      "--------------------------------------------------------------------------------\n",
      "30 fits failed with the following error:\n",
      "Traceback (most recent call last):\n",
      "  File \"c:\\Users\\User\\AppData\\Local\\Programs\\Python\\Python310\\lib\\site-packages\\sklearn\\model_selection\\_validation.py\", line 686, in _fit_and_score\n",
      "    estimator.fit(X_train, y_train, **fit_params)\n",
      "  File \"c:\\Users\\User\\AppData\\Local\\Programs\\Python\\Python310\\lib\\site-packages\\sklearn\\pipeline.py\", line 405, in fit\n",
      "    self._final_estimator.fit(Xt, y, **fit_params_last_step)\n",
      "  File \"c:\\Users\\User\\AppData\\Local\\Programs\\Python\\Python310\\lib\\site-packages\\sklearn\\ensemble\\_bagging.py\", line 337, in fit\n",
      "    return self._fit(X, y, self.max_samples, sample_weight=sample_weight)\n",
      "  File \"c:\\Users\\User\\AppData\\Local\\Programs\\Python\\Python310\\lib\\site-packages\\sklearn\\ensemble\\_bagging.py\", line 420, in _fit\n",
      "    raise ValueError(\"max_features must be <= n_features\")\n",
      "ValueError: max_features must be <= n_features\n",
      "\n",
      "  warnings.warn(some_fits_failed_message, FitFailedWarning)\n",
      "c:\\Users\\User\\AppData\\Local\\Programs\\Python\\Python310\\lib\\site-packages\\sklearn\\model_selection\\_search.py:952: UserWarning: One or more of the test scores are non-finite: [-0.71855905 -0.71196215 -0.70722629 -0.70508941 -0.70252451 -0.70258303\n",
      " -0.70059349 -0.7014999  -0.69876929 -0.70214358 -0.71875707 -0.70978425\n",
      " -0.70723522 -0.7041318  -0.70210345 -0.70147595 -0.70002447 -0.70030177\n",
      " -0.7000258  -0.69821867 -0.71668792 -0.70898913 -0.70656472 -0.70378715\n",
      " -0.70164824 -0.70331728 -0.69976051 -0.69848811 -0.6993303  -0.69897009\n",
      " -0.71597627 -0.7084487  -0.70522451 -0.70234871 -0.70315988 -0.7002769\n",
      " -0.70045424 -0.69943417 -0.70047338 -0.69953109 -0.7162043  -0.70795485\n",
      " -0.7045319  -0.70434251 -0.70072718 -0.70124136 -0.69923721 -0.69883684\n",
      " -0.69995964 -0.6984443  -0.71589483 -0.71107652 -0.70319414 -0.70406993\n",
      " -0.70125253 -0.70246057 -0.70040089 -0.69903252 -0.6990272  -0.69853251\n",
      " -0.73538007 -0.71948936 -0.71266718 -0.70905345 -0.7047103  -0.70418018\n",
      " -0.70287688 -0.70053876 -0.70009803 -0.70096527 -0.73380293 -0.71758174\n",
      " -0.70999168 -0.70656825 -0.70426809 -0.70447537 -0.70156849 -0.70058644\n",
      " -0.69945402 -0.70126683 -0.73381652 -0.71651205 -0.7116657  -0.70630348\n",
      " -0.70487772 -0.70377939 -0.70040833 -0.70102108 -0.69726085 -0.69799794\n",
      " -0.73230766 -0.71660893 -0.71107812 -0.70775613 -0.70434194 -0.70385577\n",
      " -0.70219984 -0.70212678 -0.70060945 -0.6999459  -0.73197329 -0.71698511\n",
      " -0.70795631 -0.70696544 -0.70289092 -0.70339756 -0.70162727 -0.69937283\n",
      " -0.70020897 -0.69779298 -0.73311692 -0.71709368 -0.70955887 -0.70622441\n",
      " -0.70183017 -0.70231007 -0.70012682 -0.69909084 -0.69891423 -0.69979603\n",
      " -0.76121347 -0.72959154 -0.71607847 -0.70981069 -0.70819191 -0.70345901\n",
      " -0.70320454 -0.70258828 -0.70043793 -0.7026811  -0.76067731 -0.73145859\n",
      " -0.71852495 -0.70961328 -0.70778431 -0.70508491 -0.70511997 -0.70215578\n",
      " -0.70248908 -0.69973259 -0.75991493 -0.73209377 -0.71801976 -0.70998965\n",
      " -0.70706267 -0.70232331 -0.70302661 -0.70052736 -0.69959792 -0.69960074\n",
      " -0.76090719 -0.73103317 -0.71434788 -0.7118988  -0.70568822 -0.70581511\n",
      " -0.70258681 -0.70091733 -0.70094128 -0.69958155 -0.76225865 -0.72979945\n",
      " -0.71641732 -0.70933338 -0.70716995 -0.70285259 -0.70238387 -0.70267549\n",
      " -0.70009233 -0.69890373 -0.75875836 -0.72927918 -0.71425124 -0.70985611\n",
      " -0.70546972 -0.70309077 -0.70164906 -0.70038263 -0.69999468 -0.6984676\n",
      "         nan -0.75329439 -0.72365354 -0.71627522 -0.70831888 -0.7060844\n",
      " -0.70677671 -0.70285524 -0.70343259 -0.70198756         nan -0.75344847\n",
      " -0.72497489 -0.7168206  -0.71085354 -0.70345395 -0.70488454 -0.70538219\n",
      " -0.69937217 -0.70125849         nan -0.75495549 -0.72094705 -0.71608185\n",
      " -0.71146211 -0.70547073 -0.70387228 -0.70245638 -0.70345658 -0.70048468\n",
      "         nan -0.75229545 -0.7206174  -0.71266248 -0.7102667  -0.70543851\n",
      " -0.70296494 -0.70248919 -0.70103457 -0.69947592         nan -0.75117995\n",
      " -0.72164906 -0.71405326 -0.70992649 -0.70486046 -0.70280029 -0.70190288\n",
      " -0.70057355 -0.69844905         nan -0.75037335 -0.72157219 -0.71414134\n",
      " -0.70925145 -0.70430733 -0.70290142 -0.70249582 -0.70001493 -0.69810967]\n",
      "  warnings.warn(\n"
     ]
    },
    {
     "data": {
      "text/html": [
       "<style>#sk-container-id-3 {color: black;background-color: white;}#sk-container-id-3 pre{padding: 0;}#sk-container-id-3 div.sk-toggleable {background-color: white;}#sk-container-id-3 label.sk-toggleable__label {cursor: pointer;display: block;width: 100%;margin-bottom: 0;padding: 0.3em;box-sizing: border-box;text-align: center;}#sk-container-id-3 label.sk-toggleable__label-arrow:before {content: \"▸\";float: left;margin-right: 0.25em;color: #696969;}#sk-container-id-3 label.sk-toggleable__label-arrow:hover:before {color: black;}#sk-container-id-3 div.sk-estimator:hover label.sk-toggleable__label-arrow:before {color: black;}#sk-container-id-3 div.sk-toggleable__content {max-height: 0;max-width: 0;overflow: hidden;text-align: left;background-color: #f0f8ff;}#sk-container-id-3 div.sk-toggleable__content pre {margin: 0.2em;color: black;border-radius: 0.25em;background-color: #f0f8ff;}#sk-container-id-3 input.sk-toggleable__control:checked~div.sk-toggleable__content {max-height: 200px;max-width: 100%;overflow: auto;}#sk-container-id-3 input.sk-toggleable__control:checked~label.sk-toggleable__label-arrow:before {content: \"▾\";}#sk-container-id-3 div.sk-estimator input.sk-toggleable__control:checked~label.sk-toggleable__label {background-color: #d4ebff;}#sk-container-id-3 div.sk-label input.sk-toggleable__control:checked~label.sk-toggleable__label {background-color: #d4ebff;}#sk-container-id-3 input.sk-hidden--visually {border: 0;clip: rect(1px 1px 1px 1px);clip: rect(1px, 1px, 1px, 1px);height: 1px;margin: -1px;overflow: hidden;padding: 0;position: absolute;width: 1px;}#sk-container-id-3 div.sk-estimator {font-family: monospace;background-color: #f0f8ff;border: 1px dotted black;border-radius: 0.25em;box-sizing: border-box;margin-bottom: 0.5em;}#sk-container-id-3 div.sk-estimator:hover {background-color: #d4ebff;}#sk-container-id-3 div.sk-parallel-item::after {content: \"\";width: 100%;border-bottom: 1px solid gray;flex-grow: 1;}#sk-container-id-3 div.sk-label:hover label.sk-toggleable__label {background-color: #d4ebff;}#sk-container-id-3 div.sk-serial::before {content: \"\";position: absolute;border-left: 1px solid gray;box-sizing: border-box;top: 0;bottom: 0;left: 50%;z-index: 0;}#sk-container-id-3 div.sk-serial {display: flex;flex-direction: column;align-items: center;background-color: white;padding-right: 0.2em;padding-left: 0.2em;position: relative;}#sk-container-id-3 div.sk-item {position: relative;z-index: 1;}#sk-container-id-3 div.sk-parallel {display: flex;align-items: stretch;justify-content: center;background-color: white;position: relative;}#sk-container-id-3 div.sk-item::before, #sk-container-id-3 div.sk-parallel-item::before {content: \"\";position: absolute;border-left: 1px solid gray;box-sizing: border-box;top: 0;bottom: 0;left: 50%;z-index: -1;}#sk-container-id-3 div.sk-parallel-item {display: flex;flex-direction: column;z-index: 1;position: relative;background-color: white;}#sk-container-id-3 div.sk-parallel-item:first-child::after {align-self: flex-end;width: 50%;}#sk-container-id-3 div.sk-parallel-item:last-child::after {align-self: flex-start;width: 50%;}#sk-container-id-3 div.sk-parallel-item:only-child::after {width: 0;}#sk-container-id-3 div.sk-dashed-wrapped {border: 1px dashed gray;margin: 0 0.4em 0.5em 0.4em;box-sizing: border-box;padding-bottom: 0.4em;background-color: white;}#sk-container-id-3 div.sk-label label {font-family: monospace;font-weight: bold;display: inline-block;line-height: 1.2em;}#sk-container-id-3 div.sk-label-container {text-align: center;}#sk-container-id-3 div.sk-container {/* jupyter's `normalize.less` sets `[hidden] { display: none; }` but bootstrap.min.css set `[hidden] { display: none !important; }` so we also need the `!important` here to be able to override the default hidden behavior on the sphinx rendered scikit-learn.org. See: https://github.com/scikit-learn/scikit-learn/issues/21755 */display: inline-block !important;position: relative;}#sk-container-id-3 div.sk-text-repr-fallback {display: none;}</style><div id=\"sk-container-id-3\" class=\"sk-top-container\"><div class=\"sk-text-repr-fallback\"><pre>GridSearchCV(cv=5,\n",
       "             estimator=Pipeline(steps=[(&#x27;scaler&#x27;, StandardScaler()),\n",
       "                                       (&#x27;selectkbest&#x27;, SelectKBest()),\n",
       "                                       (&#x27;classifier&#x27;, BaggingClassifier())]),\n",
       "             n_jobs=-1,\n",
       "             param_grid={&#x27;classifier__max_features&#x27;: [3, 4, 5, 6],\n",
       "                         &#x27;classifier__n_estimators&#x27;: [100, 125, 150],\n",
       "                         &#x27;scaler&#x27;: [StandardScaler(), None],\n",
       "                         &#x27;selectkbest__k&#x27;: array([ 5,  6,  7,  8,  9, 10, 11, 12, 13, 14])},\n",
       "             scoring=&#x27;neg_log_loss&#x27;)</pre><b>In a Jupyter environment, please rerun this cell to show the HTML representation or trust the notebook. <br />On GitHub, the HTML representation is unable to render, please try loading this page with nbviewer.org.</b></div><div class=\"sk-container\" hidden><div class=\"sk-item sk-dashed-wrapped\"><div class=\"sk-label-container\"><div class=\"sk-label sk-toggleable\"><input class=\"sk-toggleable__control sk-hidden--visually\" id=\"sk-estimator-id-11\" type=\"checkbox\" ><label for=\"sk-estimator-id-11\" class=\"sk-toggleable__label sk-toggleable__label-arrow\">GridSearchCV</label><div class=\"sk-toggleable__content\"><pre>GridSearchCV(cv=5,\n",
       "             estimator=Pipeline(steps=[(&#x27;scaler&#x27;, StandardScaler()),\n",
       "                                       (&#x27;selectkbest&#x27;, SelectKBest()),\n",
       "                                       (&#x27;classifier&#x27;, BaggingClassifier())]),\n",
       "             n_jobs=-1,\n",
       "             param_grid={&#x27;classifier__max_features&#x27;: [3, 4, 5, 6],\n",
       "                         &#x27;classifier__n_estimators&#x27;: [100, 125, 150],\n",
       "                         &#x27;scaler&#x27;: [StandardScaler(), None],\n",
       "                         &#x27;selectkbest__k&#x27;: array([ 5,  6,  7,  8,  9, 10, 11, 12, 13, 14])},\n",
       "             scoring=&#x27;neg_log_loss&#x27;)</pre></div></div></div><div class=\"sk-parallel\"><div class=\"sk-parallel-item\"><div class=\"sk-item\"><div class=\"sk-label-container\"><div class=\"sk-label sk-toggleable\"><input class=\"sk-toggleable__control sk-hidden--visually\" id=\"sk-estimator-id-12\" type=\"checkbox\" ><label for=\"sk-estimator-id-12\" class=\"sk-toggleable__label sk-toggleable__label-arrow\">estimator: Pipeline</label><div class=\"sk-toggleable__content\"><pre>Pipeline(steps=[(&#x27;scaler&#x27;, StandardScaler()), (&#x27;selectkbest&#x27;, SelectKBest()),\n",
       "                (&#x27;classifier&#x27;, BaggingClassifier())])</pre></div></div></div><div class=\"sk-serial\"><div class=\"sk-item\"><div class=\"sk-serial\"><div class=\"sk-item\"><div class=\"sk-estimator sk-toggleable\"><input class=\"sk-toggleable__control sk-hidden--visually\" id=\"sk-estimator-id-13\" type=\"checkbox\" ><label for=\"sk-estimator-id-13\" class=\"sk-toggleable__label sk-toggleable__label-arrow\">StandardScaler</label><div class=\"sk-toggleable__content\"><pre>StandardScaler()</pre></div></div></div><div class=\"sk-item\"><div class=\"sk-estimator sk-toggleable\"><input class=\"sk-toggleable__control sk-hidden--visually\" id=\"sk-estimator-id-14\" type=\"checkbox\" ><label for=\"sk-estimator-id-14\" class=\"sk-toggleable__label sk-toggleable__label-arrow\">SelectKBest</label><div class=\"sk-toggleable__content\"><pre>SelectKBest()</pre></div></div></div><div class=\"sk-item\"><div class=\"sk-estimator sk-toggleable\"><input class=\"sk-toggleable__control sk-hidden--visually\" id=\"sk-estimator-id-15\" type=\"checkbox\" ><label for=\"sk-estimator-id-15\" class=\"sk-toggleable__label sk-toggleable__label-arrow\">BaggingClassifier</label><div class=\"sk-toggleable__content\"><pre>BaggingClassifier()</pre></div></div></div></div></div></div></div></div></div></div></div></div>"
      ],
      "text/plain": [
       "GridSearchCV(cv=5,\n",
       "             estimator=Pipeline(steps=[('scaler', StandardScaler()),\n",
       "                                       ('selectkbest', SelectKBest()),\n",
       "                                       ('classifier', BaggingClassifier())]),\n",
       "             n_jobs=-1,\n",
       "             param_grid={'classifier__max_features': [3, 4, 5, 6],\n",
       "                         'classifier__n_estimators': [100, 125, 150],\n",
       "                         'scaler': [StandardScaler(), None],\n",
       "                         'selectkbest__k': array([ 5,  6,  7,  8,  9, 10, 11, 12, 13, 14])},\n",
       "             scoring='neg_log_loss')"
      ]
     },
     "execution_count": 43,
     "metadata": {},
     "output_type": "execute_result"
    }
   ],
   "source": [
    "modelBC.fit(X_train_under, y_train_under)"
   ]
  },
  {
   "cell_type": "code",
   "execution_count": 44,
   "metadata": {},
   "outputs": [
    {
     "name": "stdout",
     "output_type": "stream",
     "text": [
      "modelBC best score: -0.6972608537530963\n",
      "modelBC best score: {'classifier__max_features': 4, 'classifier__n_estimators': 125, 'scaler': StandardScaler(), 'selectkbest__k': 13}\n",
      "modelBC best score: Pipeline(steps=[('scaler', StandardScaler()),\n",
      "                ('selectkbest', SelectKBest(k=13)),\n",
      "                ('classifier',\n",
      "                 BaggingClassifier(max_features=4, n_estimators=125))])\n"
     ]
    }
   ],
   "source": [
    "print(\"modelBC best score:\",modelBC.best_score_ )\n",
    "print(\"modelBC best score:\",modelBC.best_params_ )\n",
    "print(\"modelBC best score:\",modelBC.best_estimator_ )"
   ]
  },
  {
   "cell_type": "code",
   "execution_count": 45,
   "metadata": {},
   "outputs": [],
   "source": [
    "y_pred_under_bc = modelBC.best_estimator_.predict(X_test_under)"
   ]
  },
  {
   "cell_type": "code",
   "execution_count": 46,
   "metadata": {},
   "outputs": [
    {
     "name": "stdout",
     "output_type": "stream",
     "text": [
      "modelBC train recall score 0.5131048387096774\n",
      "modelBC train precision_score 0.5084915084915085\n",
      "modelBC train accuracy_score 0.512012012012012\n",
      "modelBC train f1_score 0.5107877571500251\n",
      "modelBC train log_loss 17.588869897091698\n"
     ]
    }
   ],
   "source": [
    "print(\"modelBC train recall score\", recall_score(y_test_under, y_pred_under_bc))\n",
    "print(\"modelBC train precision_score\", precision_score(y_test_under, y_pred_under_bc))\n",
    "print(\"modelBC train accuracy_score\", accuracy_score(y_test_under, y_pred_under_bc))\n",
    "print(\"modelBC train f1_score\", f1_score(y_test_under, y_pred_under_bc))\n",
    "print(\"modelBC train log_loss\", log_loss(y_test_under, y_pred_under_bc))"
   ]
  },
  {
   "cell_type": "code",
   "execution_count": 47,
   "metadata": {},
   "outputs": [
    {
     "name": "stdout",
     "output_type": "stream",
     "text": [
      "modelBC train confusion matrix\n"
     ]
    },
    {
     "data": {
      "text/plain": [
       "array([[514, 492],\n",
       "       [483, 509]], dtype=int64)"
      ]
     },
     "execution_count": 47,
     "metadata": {},
     "output_type": "execute_result"
    }
   ],
   "source": [
    "print(\"modelBC train confusion matrix\")\n",
    "confusion_matrix(y_test_under, y_pred_under_bc)\n"
   ]
  },
  {
   "cell_type": "code",
   "execution_count": 48,
   "metadata": {},
   "outputs": [
    {
     "name": "stdout",
     "output_type": "stream",
     "text": [
      "modelBC train confusion matrix\n"
     ]
    },
    {
     "data": {
      "text/plain": [
       "array([[0.51093439, 0.48906561],\n",
       "       [0.48689516, 0.51310484]])"
      ]
     },
     "execution_count": 48,
     "metadata": {},
     "output_type": "execute_result"
    }
   ],
   "source": [
    "print(\"modelBC train confusion matrix\")\n",
    "confusion_matrix(y_test_under, y_pred_under_bc,normalize=\"true\")"
   ]
  },
  {
   "cell_type": "code",
   "execution_count": 49,
   "metadata": {},
   "outputs": [],
   "source": [
    "y_pred_bc = modelBC.best_estimator_.predict(X_test)"
   ]
  },
  {
   "cell_type": "code",
   "execution_count": 50,
   "metadata": {},
   "outputs": [
    {
     "name": "stdout",
     "output_type": "stream",
     "text": [
      "modelBC test recall score 0.47115384615384615\n",
      "modelBC test precision_score 0.08956587966488956\n",
      "modelBC test accuracy_score 0.5081153190543245\n",
      "modelBC test f1_score 0.15051836682452321\n",
      "modelBC test log_loss 17.729320947422405\n"
     ]
    }
   ],
   "source": [
    "print(\"modelBC test recall score\", recall_score(y_test, y_pred_bc))\n",
    "print(\"modelBC test precision_score\", precision_score(y_test, y_pred_bc))\n",
    "print(\"modelBC test accuracy_score\", accuracy_score(y_test, y_pred_bc))\n",
    "print(\"modelBC test f1_score\", f1_score(y_test, y_pred_bc))\n",
    "print(\"modelBC test log_loss\", log_loss(y_test, y_pred_bc))\n"
   ]
  },
  {
   "cell_type": "code",
   "execution_count": 51,
   "metadata": {},
   "outputs": [
    {
     "name": "stdout",
     "output_type": "stream",
     "text": [
      "modelBC test confusion matrix\n"
     ]
    },
    {
     "data": {
      "text/plain": [
       "array([[6268, 5977],\n",
       "       [ 660,  588]], dtype=int64)"
      ]
     },
     "execution_count": 51,
     "metadata": {},
     "output_type": "execute_result"
    }
   ],
   "source": [
    "print(\"modelBC test confusion matrix\")\n",
    "confusion_matrix(y_test, y_pred_bc)\n"
   ]
  },
  {
   "cell_type": "code",
   "execution_count": 52,
   "metadata": {},
   "outputs": [
    {
     "name": "stdout",
     "output_type": "stream",
     "text": [
      "modelBC test confusion matrix\n"
     ]
    },
    {
     "data": {
      "text/plain": [
       "array([[0.5118824 , 0.4881176 ],\n",
       "       [0.52884615, 0.47115385]])"
      ]
     },
     "execution_count": 52,
     "metadata": {},
     "output_type": "execute_result"
    }
   ],
   "source": [
    "print(\"modelBC test confusion matrix\")\n",
    "confusion_matrix(y_test, y_pred_bc,normalize=\"true\")"
   ]
  },
  {
   "cell_type": "code",
   "execution_count": 53,
   "metadata": {},
   "outputs": [],
   "source": [
    "with open(\"modelBC.pkl\", 'wb') as archivo_salida:\n",
    "    pickle.dump(modelBC.best_estimator_, archivo_salida)\n",
    "with open(\"modelBC.yaml\", \"w\") as f:\n",
    "    yaml.dump(modelBC.best_params_, f)"
   ]
  },
  {
   "attachments": {},
   "cell_type": "markdown",
   "metadata": {},
   "source": [
    "AdaBoost"
   ]
  },
  {
   "cell_type": "code",
   "execution_count": 54,
   "metadata": {},
   "outputs": [],
   "source": [
    "pipeab = Pipeline(steps=[\n",
    "    (\"scaler\", StandardScaler()),\n",
    "    (\"selectkbest\", SelectKBest()),\n",
    "    (\"classifier\", AdaBoostClassifier())\n",
    "])\n",
    "ab_params = {\n",
    "'scaler' : [StandardScaler(), None],\n",
    "'selectkbest__k' : np.arange(5,15),\n",
    "'classifier__learning_rate': [0.1,0.3,0.5,1],\n",
    "'classifier__n_estimators': [100,125,150]}"
   ]
  },
  {
   "cell_type": "code",
   "execution_count": 55,
   "metadata": {},
   "outputs": [],
   "source": [
    "modelAB = GridSearchCV(estimator = pipeab, param_grid = ab_params, cv=5, scoring='neg_log_loss',n_jobs=-1)"
   ]
  },
  {
   "cell_type": "code",
   "execution_count": 56,
   "metadata": {},
   "outputs": [
    {
     "data": {
      "text/html": [
       "<style>#sk-container-id-4 {color: black;background-color: white;}#sk-container-id-4 pre{padding: 0;}#sk-container-id-4 div.sk-toggleable {background-color: white;}#sk-container-id-4 label.sk-toggleable__label {cursor: pointer;display: block;width: 100%;margin-bottom: 0;padding: 0.3em;box-sizing: border-box;text-align: center;}#sk-container-id-4 label.sk-toggleable__label-arrow:before {content: \"▸\";float: left;margin-right: 0.25em;color: #696969;}#sk-container-id-4 label.sk-toggleable__label-arrow:hover:before {color: black;}#sk-container-id-4 div.sk-estimator:hover label.sk-toggleable__label-arrow:before {color: black;}#sk-container-id-4 div.sk-toggleable__content {max-height: 0;max-width: 0;overflow: hidden;text-align: left;background-color: #f0f8ff;}#sk-container-id-4 div.sk-toggleable__content pre {margin: 0.2em;color: black;border-radius: 0.25em;background-color: #f0f8ff;}#sk-container-id-4 input.sk-toggleable__control:checked~div.sk-toggleable__content {max-height: 200px;max-width: 100%;overflow: auto;}#sk-container-id-4 input.sk-toggleable__control:checked~label.sk-toggleable__label-arrow:before {content: \"▾\";}#sk-container-id-4 div.sk-estimator input.sk-toggleable__control:checked~label.sk-toggleable__label {background-color: #d4ebff;}#sk-container-id-4 div.sk-label input.sk-toggleable__control:checked~label.sk-toggleable__label {background-color: #d4ebff;}#sk-container-id-4 input.sk-hidden--visually {border: 0;clip: rect(1px 1px 1px 1px);clip: rect(1px, 1px, 1px, 1px);height: 1px;margin: -1px;overflow: hidden;padding: 0;position: absolute;width: 1px;}#sk-container-id-4 div.sk-estimator {font-family: monospace;background-color: #f0f8ff;border: 1px dotted black;border-radius: 0.25em;box-sizing: border-box;margin-bottom: 0.5em;}#sk-container-id-4 div.sk-estimator:hover {background-color: #d4ebff;}#sk-container-id-4 div.sk-parallel-item::after {content: \"\";width: 100%;border-bottom: 1px solid gray;flex-grow: 1;}#sk-container-id-4 div.sk-label:hover label.sk-toggleable__label {background-color: #d4ebff;}#sk-container-id-4 div.sk-serial::before {content: \"\";position: absolute;border-left: 1px solid gray;box-sizing: border-box;top: 0;bottom: 0;left: 50%;z-index: 0;}#sk-container-id-4 div.sk-serial {display: flex;flex-direction: column;align-items: center;background-color: white;padding-right: 0.2em;padding-left: 0.2em;position: relative;}#sk-container-id-4 div.sk-item {position: relative;z-index: 1;}#sk-container-id-4 div.sk-parallel {display: flex;align-items: stretch;justify-content: center;background-color: white;position: relative;}#sk-container-id-4 div.sk-item::before, #sk-container-id-4 div.sk-parallel-item::before {content: \"\";position: absolute;border-left: 1px solid gray;box-sizing: border-box;top: 0;bottom: 0;left: 50%;z-index: -1;}#sk-container-id-4 div.sk-parallel-item {display: flex;flex-direction: column;z-index: 1;position: relative;background-color: white;}#sk-container-id-4 div.sk-parallel-item:first-child::after {align-self: flex-end;width: 50%;}#sk-container-id-4 div.sk-parallel-item:last-child::after {align-self: flex-start;width: 50%;}#sk-container-id-4 div.sk-parallel-item:only-child::after {width: 0;}#sk-container-id-4 div.sk-dashed-wrapped {border: 1px dashed gray;margin: 0 0.4em 0.5em 0.4em;box-sizing: border-box;padding-bottom: 0.4em;background-color: white;}#sk-container-id-4 div.sk-label label {font-family: monospace;font-weight: bold;display: inline-block;line-height: 1.2em;}#sk-container-id-4 div.sk-label-container {text-align: center;}#sk-container-id-4 div.sk-container {/* jupyter's `normalize.less` sets `[hidden] { display: none; }` but bootstrap.min.css set `[hidden] { display: none !important; }` so we also need the `!important` here to be able to override the default hidden behavior on the sphinx rendered scikit-learn.org. See: https://github.com/scikit-learn/scikit-learn/issues/21755 */display: inline-block !important;position: relative;}#sk-container-id-4 div.sk-text-repr-fallback {display: none;}</style><div id=\"sk-container-id-4\" class=\"sk-top-container\"><div class=\"sk-text-repr-fallback\"><pre>GridSearchCV(cv=5,\n",
       "             estimator=Pipeline(steps=[(&#x27;scaler&#x27;, StandardScaler()),\n",
       "                                       (&#x27;selectkbest&#x27;, SelectKBest()),\n",
       "                                       (&#x27;classifier&#x27;, AdaBoostClassifier())]),\n",
       "             n_jobs=-1,\n",
       "             param_grid={&#x27;classifier__learning_rate&#x27;: [0.1, 0.3, 0.5, 1],\n",
       "                         &#x27;classifier__n_estimators&#x27;: [100, 125, 150],\n",
       "                         &#x27;scaler&#x27;: [StandardScaler(), None],\n",
       "                         &#x27;selectkbest__k&#x27;: array([ 5,  6,  7,  8,  9, 10, 11, 12, 13, 14])},\n",
       "             scoring=&#x27;neg_log_loss&#x27;)</pre><b>In a Jupyter environment, please rerun this cell to show the HTML representation or trust the notebook. <br />On GitHub, the HTML representation is unable to render, please try loading this page with nbviewer.org.</b></div><div class=\"sk-container\" hidden><div class=\"sk-item sk-dashed-wrapped\"><div class=\"sk-label-container\"><div class=\"sk-label sk-toggleable\"><input class=\"sk-toggleable__control sk-hidden--visually\" id=\"sk-estimator-id-16\" type=\"checkbox\" ><label for=\"sk-estimator-id-16\" class=\"sk-toggleable__label sk-toggleable__label-arrow\">GridSearchCV</label><div class=\"sk-toggleable__content\"><pre>GridSearchCV(cv=5,\n",
       "             estimator=Pipeline(steps=[(&#x27;scaler&#x27;, StandardScaler()),\n",
       "                                       (&#x27;selectkbest&#x27;, SelectKBest()),\n",
       "                                       (&#x27;classifier&#x27;, AdaBoostClassifier())]),\n",
       "             n_jobs=-1,\n",
       "             param_grid={&#x27;classifier__learning_rate&#x27;: [0.1, 0.3, 0.5, 1],\n",
       "                         &#x27;classifier__n_estimators&#x27;: [100, 125, 150],\n",
       "                         &#x27;scaler&#x27;: [StandardScaler(), None],\n",
       "                         &#x27;selectkbest__k&#x27;: array([ 5,  6,  7,  8,  9, 10, 11, 12, 13, 14])},\n",
       "             scoring=&#x27;neg_log_loss&#x27;)</pre></div></div></div><div class=\"sk-parallel\"><div class=\"sk-parallel-item\"><div class=\"sk-item\"><div class=\"sk-label-container\"><div class=\"sk-label sk-toggleable\"><input class=\"sk-toggleable__control sk-hidden--visually\" id=\"sk-estimator-id-17\" type=\"checkbox\" ><label for=\"sk-estimator-id-17\" class=\"sk-toggleable__label sk-toggleable__label-arrow\">estimator: Pipeline</label><div class=\"sk-toggleable__content\"><pre>Pipeline(steps=[(&#x27;scaler&#x27;, StandardScaler()), (&#x27;selectkbest&#x27;, SelectKBest()),\n",
       "                (&#x27;classifier&#x27;, AdaBoostClassifier())])</pre></div></div></div><div class=\"sk-serial\"><div class=\"sk-item\"><div class=\"sk-serial\"><div class=\"sk-item\"><div class=\"sk-estimator sk-toggleable\"><input class=\"sk-toggleable__control sk-hidden--visually\" id=\"sk-estimator-id-18\" type=\"checkbox\" ><label for=\"sk-estimator-id-18\" class=\"sk-toggleable__label sk-toggleable__label-arrow\">StandardScaler</label><div class=\"sk-toggleable__content\"><pre>StandardScaler()</pre></div></div></div><div class=\"sk-item\"><div class=\"sk-estimator sk-toggleable\"><input class=\"sk-toggleable__control sk-hidden--visually\" id=\"sk-estimator-id-19\" type=\"checkbox\" ><label for=\"sk-estimator-id-19\" class=\"sk-toggleable__label sk-toggleable__label-arrow\">SelectKBest</label><div class=\"sk-toggleable__content\"><pre>SelectKBest()</pre></div></div></div><div class=\"sk-item\"><div class=\"sk-estimator sk-toggleable\"><input class=\"sk-toggleable__control sk-hidden--visually\" id=\"sk-estimator-id-20\" type=\"checkbox\" ><label for=\"sk-estimator-id-20\" class=\"sk-toggleable__label sk-toggleable__label-arrow\">AdaBoostClassifier</label><div class=\"sk-toggleable__content\"><pre>AdaBoostClassifier()</pre></div></div></div></div></div></div></div></div></div></div></div></div>"
      ],
      "text/plain": [
       "GridSearchCV(cv=5,\n",
       "             estimator=Pipeline(steps=[('scaler', StandardScaler()),\n",
       "                                       ('selectkbest', SelectKBest()),\n",
       "                                       ('classifier', AdaBoostClassifier())]),\n",
       "             n_jobs=-1,\n",
       "             param_grid={'classifier__learning_rate': [0.1, 0.3, 0.5, 1],\n",
       "                         'classifier__n_estimators': [100, 125, 150],\n",
       "                         'scaler': [StandardScaler(), None],\n",
       "                         'selectkbest__k': array([ 5,  6,  7,  8,  9, 10, 11, 12, 13, 14])},\n",
       "             scoring='neg_log_loss')"
      ]
     },
     "execution_count": 56,
     "metadata": {},
     "output_type": "execute_result"
    }
   ],
   "source": [
    "modelAB.fit(X_train_under, y_train_under)"
   ]
  },
  {
   "cell_type": "code",
   "execution_count": 57,
   "metadata": {},
   "outputs": [
    {
     "name": "stdout",
     "output_type": "stream",
     "text": [
      "modelAB best score: -0.692557421781244\n",
      "modelAB best score: {'classifier__learning_rate': 0.1, 'classifier__n_estimators': 100, 'scaler': StandardScaler(), 'selectkbest__k': 5}\n",
      "modelAB best score: Pipeline(steps=[('scaler', StandardScaler()), ('selectkbest', SelectKBest(k=5)),\n",
      "                ('classifier',\n",
      "                 AdaBoostClassifier(learning_rate=0.1, n_estimators=100))])\n"
     ]
    }
   ],
   "source": [
    "print(\"modelAB best score:\",modelAB.best_score_ )\n",
    "print(\"modelAB best score:\",modelAB.best_params_ )\n",
    "print(\"modelAB best score:\",modelAB.best_estimator_ )"
   ]
  },
  {
   "cell_type": "code",
   "execution_count": 58,
   "metadata": {},
   "outputs": [],
   "source": [
    "y_pred_under_ab = modelAB.best_estimator_.predict(X_test_under)"
   ]
  },
  {
   "cell_type": "code",
   "execution_count": 59,
   "metadata": {},
   "outputs": [
    {
     "name": "stdout",
     "output_type": "stream",
     "text": [
      "modelAB train recall score 0.5504032258064516\n",
      "modelAB train precision_score 0.5234899328859061\n",
      "modelAB train accuracy_score 0.5280280280280281\n",
      "modelAB train f1_score 0.5366093366093366\n",
      "modelAB train log_loss 17.011594167135872\n"
     ]
    }
   ],
   "source": [
    "print(\"modelAB train recall score\", recall_score(y_test_under, y_pred_under_ab))\n",
    "print(\"modelAB train precision_score\", precision_score(y_test_under, y_pred_under_ab))\n",
    "print(\"modelAB train accuracy_score\", accuracy_score(y_test_under, y_pred_under_ab))\n",
    "print(\"modelAB train f1_score\", f1_score(y_test_under, y_pred_under_ab))\n",
    "print(\"modelAB train log_loss\", log_loss(y_test_under, y_pred_under_ab))"
   ]
  },
  {
   "cell_type": "code",
   "execution_count": 60,
   "metadata": {},
   "outputs": [
    {
     "name": "stdout",
     "output_type": "stream",
     "text": [
      "modelAB train confusion matrix\n"
     ]
    },
    {
     "data": {
      "text/plain": [
       "array([[509, 497],\n",
       "       [446, 546]], dtype=int64)"
      ]
     },
     "execution_count": 60,
     "metadata": {},
     "output_type": "execute_result"
    }
   ],
   "source": [
    "print(\"modelAB train confusion matrix\")\n",
    "confusion_matrix(y_test_under, y_pred_under_ab)\n"
   ]
  },
  {
   "cell_type": "code",
   "execution_count": 61,
   "metadata": {},
   "outputs": [
    {
     "name": "stdout",
     "output_type": "stream",
     "text": [
      "modelAB train confusion matrix\n"
     ]
    },
    {
     "data": {
      "text/plain": [
       "array([[0.50596421, 0.49403579],\n",
       "       [0.44959677, 0.55040323]])"
      ]
     },
     "execution_count": 61,
     "metadata": {},
     "output_type": "execute_result"
    }
   ],
   "source": [
    "print(\"modelAB train confusion matrix\")\n",
    "confusion_matrix(y_test_under, y_pred_under_ab,normalize=\"true\")"
   ]
  },
  {
   "cell_type": "code",
   "execution_count": 62,
   "metadata": {},
   "outputs": [],
   "source": [
    "y_pred_ab = modelAB.best_estimator_.predict(X_test)"
   ]
  },
  {
   "cell_type": "code",
   "execution_count": 63,
   "metadata": {},
   "outputs": [
    {
     "name": "stdout",
     "output_type": "stream",
     "text": [
      "modelAB test recall score 0.5504807692307693\n",
      "modelAB test precision_score 0.09927745664739884\n",
      "modelAB test accuracy_score 0.4964796561179871\n",
      "modelAB test f1_score 0.16821743388834476\n",
      "modelAB test log_loss 18.148712749252347\n"
     ]
    }
   ],
   "source": [
    "print(\"modelAB test recall score\", recall_score(y_test, y_pred_ab))\n",
    "print(\"modelAB test precision_score\", precision_score(y_test, y_pred_ab))\n",
    "print(\"modelAB test accuracy_score\", accuracy_score(y_test, y_pred_ab))\n",
    "print(\"modelAB test f1_score\", f1_score(y_test, y_pred_ab))\n",
    "print(\"modelAB test log_loss\", log_loss(y_test, y_pred_ab))\n"
   ]
  },
  {
   "cell_type": "code",
   "execution_count": 82,
   "metadata": {},
   "outputs": [
    {
     "name": "stdout",
     "output_type": "stream",
     "text": [
      "modelAB test confusion matrix\n"
     ]
    },
    {
     "data": {
      "text/plain": [
       "array([[6012, 6233],\n",
       "       [ 561,  687]], dtype=int64)"
      ]
     },
     "execution_count": 82,
     "metadata": {},
     "output_type": "execute_result"
    }
   ],
   "source": [
    "print(\"modelAB test confusion matrix\")\n",
    "confusion_matrix(y_test, y_pred_ab)\n"
   ]
  },
  {
   "cell_type": "code",
   "execution_count": 65,
   "metadata": {},
   "outputs": [
    {
     "name": "stdout",
     "output_type": "stream",
     "text": [
      "modelAB test confusion matrix\n"
     ]
    },
    {
     "data": {
      "text/plain": [
       "array([[0.49097591, 0.50902409],\n",
       "       [0.44951923, 0.55048077]])"
      ]
     },
     "execution_count": 65,
     "metadata": {},
     "output_type": "execute_result"
    }
   ],
   "source": [
    "print(\"modelAB test confusion matrix\")\n",
    "confusion_matrix(y_test, y_pred_ab,normalize=\"true\")"
   ]
  },
  {
   "cell_type": "code",
   "execution_count": 66,
   "metadata": {},
   "outputs": [],
   "source": [
    "with open(\"modelAB.pkl\", 'wb') as archivo_salida:\n",
    "    pickle.dump(modelAB.best_estimator_, archivo_salida)\n",
    "with open(\"modelAB.yaml\", \"w\") as f:\n",
    "    yaml.dump(modelAB.best_params_, f)"
   ]
  },
  {
   "attachments": {},
   "cell_type": "markdown",
   "metadata": {},
   "source": [
    "KNeighborsClassifier"
   ]
  },
  {
   "cell_type": "code",
   "execution_count": 67,
   "metadata": {},
   "outputs": [],
   "source": [
    "pipeknn = Pipeline(steps=[\n",
    "    (\"scaler\", StandardScaler()),\n",
    "    (\"selectkbest\", SelectKBest()),\n",
    "    (\"classifier\", KNeighborsClassifier())\n",
    "])\n",
    "knn_params = {\n",
    "'scaler' : [StandardScaler(), None],\n",
    "'selectkbest__k' : np.arange(5,15),\n",
    "\"classifier__n_neighbors\": [3,5,7,9],\n",
    "'classifier__weights': ['uniform', 'distance'],\n",
    "'classifier__p': [1, 2]}"
   ]
  },
  {
   "cell_type": "code",
   "execution_count": 68,
   "metadata": {},
   "outputs": [],
   "source": [
    "modelknn = GridSearchCV(estimator = pipeknn, param_grid = knn_params, cv=5, scoring='neg_log_loss',n_jobs=-1)"
   ]
  },
  {
   "cell_type": "code",
   "execution_count": 69,
   "metadata": {},
   "outputs": [
    {
     "data": {
      "text/html": [
       "<style>#sk-container-id-5 {color: black;background-color: white;}#sk-container-id-5 pre{padding: 0;}#sk-container-id-5 div.sk-toggleable {background-color: white;}#sk-container-id-5 label.sk-toggleable__label {cursor: pointer;display: block;width: 100%;margin-bottom: 0;padding: 0.3em;box-sizing: border-box;text-align: center;}#sk-container-id-5 label.sk-toggleable__label-arrow:before {content: \"▸\";float: left;margin-right: 0.25em;color: #696969;}#sk-container-id-5 label.sk-toggleable__label-arrow:hover:before {color: black;}#sk-container-id-5 div.sk-estimator:hover label.sk-toggleable__label-arrow:before {color: black;}#sk-container-id-5 div.sk-toggleable__content {max-height: 0;max-width: 0;overflow: hidden;text-align: left;background-color: #f0f8ff;}#sk-container-id-5 div.sk-toggleable__content pre {margin: 0.2em;color: black;border-radius: 0.25em;background-color: #f0f8ff;}#sk-container-id-5 input.sk-toggleable__control:checked~div.sk-toggleable__content {max-height: 200px;max-width: 100%;overflow: auto;}#sk-container-id-5 input.sk-toggleable__control:checked~label.sk-toggleable__label-arrow:before {content: \"▾\";}#sk-container-id-5 div.sk-estimator input.sk-toggleable__control:checked~label.sk-toggleable__label {background-color: #d4ebff;}#sk-container-id-5 div.sk-label input.sk-toggleable__control:checked~label.sk-toggleable__label {background-color: #d4ebff;}#sk-container-id-5 input.sk-hidden--visually {border: 0;clip: rect(1px 1px 1px 1px);clip: rect(1px, 1px, 1px, 1px);height: 1px;margin: -1px;overflow: hidden;padding: 0;position: absolute;width: 1px;}#sk-container-id-5 div.sk-estimator {font-family: monospace;background-color: #f0f8ff;border: 1px dotted black;border-radius: 0.25em;box-sizing: border-box;margin-bottom: 0.5em;}#sk-container-id-5 div.sk-estimator:hover {background-color: #d4ebff;}#sk-container-id-5 div.sk-parallel-item::after {content: \"\";width: 100%;border-bottom: 1px solid gray;flex-grow: 1;}#sk-container-id-5 div.sk-label:hover label.sk-toggleable__label {background-color: #d4ebff;}#sk-container-id-5 div.sk-serial::before {content: \"\";position: absolute;border-left: 1px solid gray;box-sizing: border-box;top: 0;bottom: 0;left: 50%;z-index: 0;}#sk-container-id-5 div.sk-serial {display: flex;flex-direction: column;align-items: center;background-color: white;padding-right: 0.2em;padding-left: 0.2em;position: relative;}#sk-container-id-5 div.sk-item {position: relative;z-index: 1;}#sk-container-id-5 div.sk-parallel {display: flex;align-items: stretch;justify-content: center;background-color: white;position: relative;}#sk-container-id-5 div.sk-item::before, #sk-container-id-5 div.sk-parallel-item::before {content: \"\";position: absolute;border-left: 1px solid gray;box-sizing: border-box;top: 0;bottom: 0;left: 50%;z-index: -1;}#sk-container-id-5 div.sk-parallel-item {display: flex;flex-direction: column;z-index: 1;position: relative;background-color: white;}#sk-container-id-5 div.sk-parallel-item:first-child::after {align-self: flex-end;width: 50%;}#sk-container-id-5 div.sk-parallel-item:last-child::after {align-self: flex-start;width: 50%;}#sk-container-id-5 div.sk-parallel-item:only-child::after {width: 0;}#sk-container-id-5 div.sk-dashed-wrapped {border: 1px dashed gray;margin: 0 0.4em 0.5em 0.4em;box-sizing: border-box;padding-bottom: 0.4em;background-color: white;}#sk-container-id-5 div.sk-label label {font-family: monospace;font-weight: bold;display: inline-block;line-height: 1.2em;}#sk-container-id-5 div.sk-label-container {text-align: center;}#sk-container-id-5 div.sk-container {/* jupyter's `normalize.less` sets `[hidden] { display: none; }` but bootstrap.min.css set `[hidden] { display: none !important; }` so we also need the `!important` here to be able to override the default hidden behavior on the sphinx rendered scikit-learn.org. See: https://github.com/scikit-learn/scikit-learn/issues/21755 */display: inline-block !important;position: relative;}#sk-container-id-5 div.sk-text-repr-fallback {display: none;}</style><div id=\"sk-container-id-5\" class=\"sk-top-container\"><div class=\"sk-text-repr-fallback\"><pre>GridSearchCV(cv=5,\n",
       "             estimator=Pipeline(steps=[(&#x27;scaler&#x27;, StandardScaler()),\n",
       "                                       (&#x27;selectkbest&#x27;, SelectKBest()),\n",
       "                                       (&#x27;classifier&#x27;, KNeighborsClassifier())]),\n",
       "             n_jobs=-1,\n",
       "             param_grid={&#x27;classifier__n_neighbors&#x27;: [3, 5, 7, 9],\n",
       "                         &#x27;classifier__p&#x27;: [1, 2],\n",
       "                         &#x27;classifier__weights&#x27;: [&#x27;uniform&#x27;, &#x27;distance&#x27;],\n",
       "                         &#x27;scaler&#x27;: [StandardScaler(), None],\n",
       "                         &#x27;selectkbest__k&#x27;: array([ 5,  6,  7,  8,  9, 10, 11, 12, 13, 14])},\n",
       "             scoring=&#x27;neg_log_loss&#x27;)</pre><b>In a Jupyter environment, please rerun this cell to show the HTML representation or trust the notebook. <br />On GitHub, the HTML representation is unable to render, please try loading this page with nbviewer.org.</b></div><div class=\"sk-container\" hidden><div class=\"sk-item sk-dashed-wrapped\"><div class=\"sk-label-container\"><div class=\"sk-label sk-toggleable\"><input class=\"sk-toggleable__control sk-hidden--visually\" id=\"sk-estimator-id-21\" type=\"checkbox\" ><label for=\"sk-estimator-id-21\" class=\"sk-toggleable__label sk-toggleable__label-arrow\">GridSearchCV</label><div class=\"sk-toggleable__content\"><pre>GridSearchCV(cv=5,\n",
       "             estimator=Pipeline(steps=[(&#x27;scaler&#x27;, StandardScaler()),\n",
       "                                       (&#x27;selectkbest&#x27;, SelectKBest()),\n",
       "                                       (&#x27;classifier&#x27;, KNeighborsClassifier())]),\n",
       "             n_jobs=-1,\n",
       "             param_grid={&#x27;classifier__n_neighbors&#x27;: [3, 5, 7, 9],\n",
       "                         &#x27;classifier__p&#x27;: [1, 2],\n",
       "                         &#x27;classifier__weights&#x27;: [&#x27;uniform&#x27;, &#x27;distance&#x27;],\n",
       "                         &#x27;scaler&#x27;: [StandardScaler(), None],\n",
       "                         &#x27;selectkbest__k&#x27;: array([ 5,  6,  7,  8,  9, 10, 11, 12, 13, 14])},\n",
       "             scoring=&#x27;neg_log_loss&#x27;)</pre></div></div></div><div class=\"sk-parallel\"><div class=\"sk-parallel-item\"><div class=\"sk-item\"><div class=\"sk-label-container\"><div class=\"sk-label sk-toggleable\"><input class=\"sk-toggleable__control sk-hidden--visually\" id=\"sk-estimator-id-22\" type=\"checkbox\" ><label for=\"sk-estimator-id-22\" class=\"sk-toggleable__label sk-toggleable__label-arrow\">estimator: Pipeline</label><div class=\"sk-toggleable__content\"><pre>Pipeline(steps=[(&#x27;scaler&#x27;, StandardScaler()), (&#x27;selectkbest&#x27;, SelectKBest()),\n",
       "                (&#x27;classifier&#x27;, KNeighborsClassifier())])</pre></div></div></div><div class=\"sk-serial\"><div class=\"sk-item\"><div class=\"sk-serial\"><div class=\"sk-item\"><div class=\"sk-estimator sk-toggleable\"><input class=\"sk-toggleable__control sk-hidden--visually\" id=\"sk-estimator-id-23\" type=\"checkbox\" ><label for=\"sk-estimator-id-23\" class=\"sk-toggleable__label sk-toggleable__label-arrow\">StandardScaler</label><div class=\"sk-toggleable__content\"><pre>StandardScaler()</pre></div></div></div><div class=\"sk-item\"><div class=\"sk-estimator sk-toggleable\"><input class=\"sk-toggleable__control sk-hidden--visually\" id=\"sk-estimator-id-24\" type=\"checkbox\" ><label for=\"sk-estimator-id-24\" class=\"sk-toggleable__label sk-toggleable__label-arrow\">SelectKBest</label><div class=\"sk-toggleable__content\"><pre>SelectKBest()</pre></div></div></div><div class=\"sk-item\"><div class=\"sk-estimator sk-toggleable\"><input class=\"sk-toggleable__control sk-hidden--visually\" id=\"sk-estimator-id-25\" type=\"checkbox\" ><label for=\"sk-estimator-id-25\" class=\"sk-toggleable__label sk-toggleable__label-arrow\">KNeighborsClassifier</label><div class=\"sk-toggleable__content\"><pre>KNeighborsClassifier()</pre></div></div></div></div></div></div></div></div></div></div></div></div>"
      ],
      "text/plain": [
       "GridSearchCV(cv=5,\n",
       "             estimator=Pipeline(steps=[('scaler', StandardScaler()),\n",
       "                                       ('selectkbest', SelectKBest()),\n",
       "                                       ('classifier', KNeighborsClassifier())]),\n",
       "             n_jobs=-1,\n",
       "             param_grid={'classifier__n_neighbors': [3, 5, 7, 9],\n",
       "                         'classifier__p': [1, 2],\n",
       "                         'classifier__weights': ['uniform', 'distance'],\n",
       "                         'scaler': [StandardScaler(), None],\n",
       "                         'selectkbest__k': array([ 5,  6,  7,  8,  9, 10, 11, 12, 13, 14])},\n",
       "             scoring='neg_log_loss')"
      ]
     },
     "execution_count": 69,
     "metadata": {},
     "output_type": "execute_result"
    }
   ],
   "source": [
    "modelknn.fit(X_train_under, y_train_under)"
   ]
  },
  {
   "cell_type": "code",
   "execution_count": 70,
   "metadata": {},
   "outputs": [
    {
     "name": "stdout",
     "output_type": "stream",
     "text": [
      "modelknn best score: -0.7935023655192226\n",
      "modelknn best score: {'classifier__n_neighbors': 9, 'classifier__p': 2, 'classifier__weights': 'uniform', 'scaler': None, 'selectkbest__k': 13}\n",
      "modelknn best score: Pipeline(steps=[('scaler', None), ('selectkbest', SelectKBest(k=13)),\n",
      "                ('classifier', KNeighborsClassifier(n_neighbors=9))])\n"
     ]
    }
   ],
   "source": [
    "print(\"modelknn best score:\",modelknn.best_score_ )\n",
    "print(\"modelknn best score:\",modelknn.best_params_ )\n",
    "print(\"modelknn best score:\",modelknn.best_estimator_ )"
   ]
  },
  {
   "cell_type": "code",
   "execution_count": 71,
   "metadata": {},
   "outputs": [],
   "source": [
    "y_pred_under_knn = modelknn.best_estimator_.predict(X_test_under)"
   ]
  },
  {
   "cell_type": "code",
   "execution_count": 72,
   "metadata": {},
   "outputs": [
    {
     "name": "stdout",
     "output_type": "stream",
     "text": [
      "modelknn train recall score 0.501008064516129\n",
      "modelknn train precision_score 0.49354518371400197\n",
      "modelknn train accuracy_score 0.496996996996997\n",
      "modelknn train f1_score 0.49724862431215605\n",
      "modelknn train log_loss 18.130065893925295\n"
     ]
    }
   ],
   "source": [
    "print(\"modelknn train recall score\", recall_score(y_test_under, y_pred_under_knn))\n",
    "print(\"modelknn train precision_score\", precision_score(y_test_under, y_pred_under_knn))\n",
    "print(\"modelknn train accuracy_score\", accuracy_score(y_test_under, y_pred_under_knn))\n",
    "print(\"modelknn train f1_score\", f1_score(y_test_under, y_pred_under_knn))\n",
    "print(\"modelknn train log_loss\", log_loss(y_test_under, y_pred_under_knn))"
   ]
  },
  {
   "cell_type": "code",
   "execution_count": 73,
   "metadata": {},
   "outputs": [
    {
     "name": "stdout",
     "output_type": "stream",
     "text": [
      "modelknn train confusion matrix\n"
     ]
    },
    {
     "data": {
      "text/plain": [
       "array([[496, 510],\n",
       "       [495, 497]], dtype=int64)"
      ]
     },
     "execution_count": 73,
     "metadata": {},
     "output_type": "execute_result"
    }
   ],
   "source": [
    "print(\"modelknn train confusion matrix\")\n",
    "confusion_matrix(y_test_under, y_pred_under_knn)\n"
   ]
  },
  {
   "cell_type": "code",
   "execution_count": 74,
   "metadata": {},
   "outputs": [
    {
     "name": "stdout",
     "output_type": "stream",
     "text": [
      "modelknn train confusion matrix\n"
     ]
    },
    {
     "data": {
      "text/plain": [
       "array([[0.49304175, 0.50695825],\n",
       "       [0.49899194, 0.50100806]])"
      ]
     },
     "execution_count": 74,
     "metadata": {},
     "output_type": "execute_result"
    }
   ],
   "source": [
    "print(\"modelknn train confusion matrix\")\n",
    "confusion_matrix(y_test_under, y_pred_under_knn,normalize=\"true\")"
   ]
  },
  {
   "cell_type": "code",
   "execution_count": 75,
   "metadata": {},
   "outputs": [],
   "source": [
    "y_pred_knn = modelknn.best_estimator_.predict(X_test)"
   ]
  },
  {
   "cell_type": "code",
   "execution_count": 76,
   "metadata": {},
   "outputs": [
    {
     "name": "stdout",
     "output_type": "stream",
     "text": [
      "modelknn test recall score 0.4935897435897436\n",
      "modelknn test precision_score 0.0904950785955634\n",
      "modelknn test accuracy_score 0.4943303935373898\n",
      "modelknn test f1_score 0.15294847920546248\n",
      "modelknn test log_loss 18.2261800247496\n"
     ]
    }
   ],
   "source": [
    "print(\"modelknn test recall score\", recall_score(y_test, y_pred_knn))\n",
    "print(\"modelknn test precision_score\", precision_score(y_test, y_pred_knn))\n",
    "print(\"modelknn test accuracy_score\", accuracy_score(y_test, y_pred_knn))\n",
    "print(\"modelknn test f1_score\", f1_score(y_test, y_pred_knn))\n",
    "print(\"modelknn test log_loss\", log_loss(y_test, y_pred_knn))\n"
   ]
  },
  {
   "cell_type": "code",
   "execution_count": 77,
   "metadata": {},
   "outputs": [
    {
     "name": "stdout",
     "output_type": "stream",
     "text": [
      "modelknn test confusion matrix\n"
     ]
    },
    {
     "data": {
      "text/plain": [
       "array([[6054, 6191],\n",
       "       [ 632,  616]], dtype=int64)"
      ]
     },
     "execution_count": 77,
     "metadata": {},
     "output_type": "execute_result"
    }
   ],
   "source": [
    "print(\"modelknn test confusion matrix\")\n",
    "confusion_matrix(y_test, y_pred_knn)\n"
   ]
  },
  {
   "cell_type": "code",
   "execution_count": 78,
   "metadata": {},
   "outputs": [
    {
     "name": "stdout",
     "output_type": "stream",
     "text": [
      "modelknn test confusion matrix\n"
     ]
    },
    {
     "data": {
      "text/plain": [
       "array([[0.49440588, 0.50559412],\n",
       "       [0.50641026, 0.49358974]])"
      ]
     },
     "execution_count": 78,
     "metadata": {},
     "output_type": "execute_result"
    }
   ],
   "source": [
    "print(\"modelknn test confusion matrix\")\n",
    "confusion_matrix(y_test, y_pred_knn,normalize=\"true\")"
   ]
  },
  {
   "cell_type": "code",
   "execution_count": 79,
   "metadata": {},
   "outputs": [],
   "source": [
    "with open(\"modelknn.pkl\", 'wb') as archivo_salida:\n",
    "    pickle.dump(modelknn.best_estimator_, archivo_salida)\n",
    "with open(\"modelknn.yaml\", \"w\") as f:\n",
    "    yaml.dump(modelknn.best_params_, f)"
   ]
  }
 ],
 "metadata": {
  "kernelspec": {
   "display_name": "Python 3",
   "language": "python",
   "name": "python3"
  },
  "language_info": {
   "codemirror_mode": {
    "name": "ipython",
    "version": 3
   },
   "file_extension": ".py",
   "mimetype": "text/x-python",
   "name": "python",
   "nbconvert_exporter": "python",
   "pygments_lexer": "ipython3",
   "version": "3.10.11"
  },
  "orig_nbformat": 4
 },
 "nbformat": 4,
 "nbformat_minor": 2
}
